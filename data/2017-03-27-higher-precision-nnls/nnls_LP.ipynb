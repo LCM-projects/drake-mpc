{
 "cells": [
  {
   "cell_type": "code",
   "execution_count": 9,
   "metadata": {
    "collapsed": false
   },
   "outputs": [
    {
     "name": "stderr",
     "output_type": "stream",
     "text": [
      "WARNING: replacing module LP\n"
     ]
    },
    {
     "data": {
      "text/plain": [
       "LP"
      ]
     },
     "execution_count": 9,
     "metadata": {},
     "output_type": "execute_result"
    }
   ],
   "source": [
    "module LP\n",
    "\n",
    "using NNLS\n",
    "import Base: convert\n",
    "\n",
    "type PNNLSProblem{T}\n",
    "    A::Matrix{T}\n",
    "    B::Matrix{T}\n",
    "    c::Vector{T}\n",
    "end\n",
    "\n",
    "type LinearProgram{T}\n",
    "    f::Vector{T}\n",
    "    G::Matrix{T}\n",
    "    W::Vector{T}\n",
    "end\n",
    "\n",
    "type NNLSProblem{T}\n",
    "    A::Matrix{T}\n",
    "    b::Vector{T}\n",
    "end\n",
    "\n",
    "\n",
    "function convert{T1, T2}(::Type{NNLSProblem{T1}}, p::PNNLSProblem{T2})\n",
    "    A = convert(Matrix{T1}, p.A)\n",
    "    B = convert(Matrix{T1}, p.B)\n",
    "    c = convert(Vector{T1}, p.c)\n",
    "    Abar = A - B * (B \\ A)\n",
    "    bbar = c - B * (B \\ c)\n",
    "    \n",
    "#     Abar = (I - B * pinv(B)) * A\n",
    "#     bbar = (I - B * pinv(B)) * c\n",
    "    NNLSProblem{T1}(Abar, bbar)\n",
    "end\n",
    "\n",
    "convert{T}(::Type{NNLSProblem}, p::PNNLSProblem{T}) = convert(NNLSProblem{T}, p)\n",
    "\n",
    "function convert{T1, T2}(::Type{PNNLSProblem{T1}}, lp::LinearProgram{T2})\n",
    "    q, n = size(lp.G)\n",
    "    A = [lp.W'       zeros(1, q)\n",
    "         zeros(q, q) eye(q)\n",
    "         lp.G'       zeros(n, q)]\n",
    "    B = [lp.f'\n",
    "         lp.G\n",
    "         zeros(n, n)]\n",
    "    c = vcat(0, lp.W, -lp.f)\n",
    "    PNNLSProblem{T1}(A, B, c)\n",
    "end\n",
    "\n",
    "convert{T}(::Type{PNNLSProblem}, lp::LinearProgram{T}) = convert(PNNLSProblem{T}, lp)\n",
    "\n",
    "convert{T1, T2}(::Type{LinearProgram{T1}}, lp::LinearProgram{T2}) = LinearProgram{T1}(lp.f, lp.G, lp.W)\n",
    "\n",
    "function solve(p::NNLSProblem)\n",
    "    work = NNLSWorkspace(p.A, p.b)\n",
    "    nnls!(work)\n",
    "    work.x, work.rnorm\n",
    "end\n",
    "\n",
    "function solve(p::PNNLSProblem)\n",
    "    v, residual = solve(convert(NNLSProblem, p))\n",
    "    u = -p.B \\ (p.A * v - p.c)\n",
    "#     u = -pinv(p.B) * (p.A * v - p.c)\n",
    "    v, u, residual\n",
    "end\n",
    "\n",
    "function solve(p::LinearProgram)\n",
    "    v, u, residual = solve(convert(PNNLSProblem, p))\n",
    "    y = v[1:length(p.W)]\n",
    "    s = v[(length(p.W) + 1):end]\n",
    "    y, s, u, residual\n",
    "end\n",
    "\n",
    "function _solve_iterative(p::LinearProgram{BigFloat}, tolerance=1e-12)\n",
    "    lastresidual = BigFloat(Inf)\n",
    "    precision = 100\n",
    "    while true\n",
    "        y, s, u, residual = setprecision(BigFloat, precision) do\n",
    "            solve(p)\n",
    "        end\n",
    "        @show residual\n",
    "        is_feasible = residual < tolerance\n",
    "        insufficient_progress = residual >= (3 / 4) * lastresidual\n",
    "        at_iteration_limit = precision > 1000\n",
    "        if is_feasible || insufficient_progress || at_iteration_limit\n",
    "            return y, s, u, residual\n",
    "        else\n",
    "            precision += 100\n",
    "            lastresidual = residual\n",
    "        end\n",
    "    end\n",
    "end\n",
    "                \n",
    "\n",
    "function solve_iterative{T}(p::LinearProgram{T}, tolerance=1e-12)\n",
    "    y, s, u, residual = solve(p)\n",
    "    @show residual\n",
    "    if residual < tolerance\n",
    "        return y, s, u, residual, true\n",
    "    else\n",
    "        ybig, sbig, ubig, rbig = _solve_iterative(LinearProgram{BigFloat}(p), tolerance)\n",
    "        return T.(ybig), T.(sbig), T.(ubig), T(rbig), rbig < tolerance\n",
    "    end\n",
    "end\n",
    "\n",
    "end"
   ]
  },
  {
   "cell_type": "code",
   "execution_count": 10,
   "metadata": {
    "collapsed": false
   },
   "outputs": [
    {
     "data": {
      "text/plain": [
       "6.76238891255152873857181222036491570845801538217709647956340490140239445574487033475495579063507280410578642494803697286104758007481139852374636124350910917949146047378117333203822523110969941658557982415405524756253654566620926280079841931591323635388407938532860686740203958433928339404158572957419791e-301"
      ]
     },
     "execution_count": 10,
     "metadata": {},
     "output_type": "execute_result"
    }
   ],
   "source": [
    "f = ones(2)\n",
    "G = [1. 0\n",
    "0 1\n",
    "-1 0\n",
    "0 -1]\n",
    "W = [1., 1, 1, 1]\n",
    "setprecision(BigFloat, 1000)\n",
    "lp = LP.LinearProgram{BigFloat}(f, G, W)\n",
    "LP.solve(lp)[4]"
   ]
  },
  {
   "cell_type": "code",
   "execution_count": 11,
   "metadata": {
    "collapsed": false
   },
   "outputs": [
    {
     "name": "stdout",
     "output_type": "stream",
     "text": [
      "residual = 2.2443315815740113e-16\n"
     ]
    },
    {
     "data": {
      "text/plain": [
       "2.2443315815740113e-16"
      ]
     },
     "execution_count": 11,
     "metadata": {},
     "output_type": "execute_result"
    }
   ],
   "source": [
    "LP.solve_iterative(LP.LinearProgram(f, G, W))[4]"
   ]
  },
  {
   "cell_type": "code",
   "execution_count": 12,
   "metadata": {
    "collapsed": false
   },
   "outputs": [
    {
     "name": "stdout",
     "output_type": "stream",
     "text": [
      "residual = 1.0\n",
      "residual = 1.0000000000000000000000000000000\n",
      "residual = 1.0000000000000000000000000000000000000000000000000000000000000\n"
     ]
    },
    {
     "data": {
      "text/plain": [
       "([0.0,0.0,1.0],[2.0,1.0,0.0],[-1.0,1.55129e-60],1.0,false)"
      ]
     },
     "execution_count": 12,
     "metadata": {},
     "output_type": "execute_result"
    }
   ],
   "source": [
    "f = ones(2)\n",
    "G = [1. 0\n",
    "0 1\n",
    "-1 0]\n",
    "W = [1., 1, 1]\n",
    "lp = LP.LinearProgram(f, G, W)\n",
    "LP.solve_iterative(lp)"
   ]
  },
  {
   "cell_type": "code",
   "execution_count": 17,
   "metadata": {
    "collapsed": false
   },
   "outputs": [
    {
     "name": "stdout",
     "output_type": "stream",
     "text": [
      "W = [1.0,1.0,-1.0,-1.0]\n",
      "residual = 1.1102229668586038e-16\n",
      "residual = 3.1554436208832528180195328169479e-30\n"
     ]
    },
    {
     "data": {
      "text/plain": [
       "([0.0,0.0,6.40163e-43,6.40163e-43],[9.99978e-13,9.99978e-13,0.0,0.0],[1.0,1.0],3.1554436208832527e-30,true)"
      ]
     },
     "execution_count": 17,
     "metadata": {},
     "output_type": "execute_result"
    }
   ],
   "source": [
    "f = zeros(2)\n",
    "G = [1. 0\n",
    "0 1\n",
    "-1 0\n",
    "0 -1]\n",
    "eps = 1e-12\n",
    "W = [1., 1, -1 + eps, -1 + eps]\n",
    "@show W\n",
    "lp = LP.LinearProgram(f, G, W)\n",
    "LP.solve_iterative(lp, 1e-16)"
   ]
  },
  {
   "cell_type": "code",
   "execution_count": 36,
   "metadata": {
    "collapsed": false
   },
   "outputs": [
    {
     "name": "stdout",
     "output_type": "stream",
     "text": [
      "work.rnorm = 0.00011180228089137442\n"
     ]
    },
    {
     "data": {
      "text/plain": [
       "([0.0,0.0,0.999975,0.999975],[0.0,0.0,0.0,0.0],[1.00006,1.00006])"
      ]
     },
     "execution_count": 36,
     "metadata": {},
     "output_type": "execute_result"
    }
   ],
   "source": [
    "f = ones(2)\n",
    "G = [1. 0\n",
    "0 1\n",
    "-1 0\n",
    "0 -1]\n",
    "W = [1., 1, -1.0001, -1.0001]\n",
    "lp = LP.LinearProgram(f, G, W)\n",
    "LP.solve(lp)"
   ]
  },
  {
   "cell_type": "code",
   "execution_count": 37,
   "metadata": {
    "collapsed": true
   },
   "outputs": [],
   "source": [
    "using NPZ"
   ]
  },
  {
   "cell_type": "code",
   "execution_count": 38,
   "metadata": {
    "collapsed": false
   },
   "outputs": [
    {
     "data": {
      "text/plain": [
       "Dict{String,Any} with 3 entries:\n",
       "  \"f\" => [0.0; 0.0; … ; 0.0; 1.0]\n",
       "  \"A\" => [0.0 0.0 … 0.0 -1.0; 0.0 0.0 … 0.0 -1.0; … ; 0.0 0.0 … 0.0 -1.0; 0.0 0…\n",
       "  \"b\" => [0.497533; 0.497533; … ; 1.69995; 2.19993]"
      ]
     },
     "execution_count": 38,
     "metadata": {},
     "output_type": "execute_result"
    }
   ],
   "source": [
    "data = npzread(\"near-infeasible-LP.npz\")"
   ]
  },
  {
   "cell_type": "code",
   "execution_count": 39,
   "metadata": {
    "collapsed": false
   },
   "outputs": [
    {
     "data": {
      "text/plain": [
       "11-element Array{Float64,1}:\n",
       " 0.0\n",
       " 0.0\n",
       " 0.0\n",
       " 0.0\n",
       " 0.0\n",
       " 0.0\n",
       " 0.0\n",
       " 0.0\n",
       " 0.0\n",
       " 0.0\n",
       " 1.0"
      ]
     },
     "execution_count": 39,
     "metadata": {},
     "output_type": "execute_result"
    }
   ],
   "source": [
    "A = data[\"A\"]\n",
    "b = vec(data[\"b\"])\n",
    "f = vec(data[\"f\"])"
   ]
  },
  {
   "cell_type": "code",
   "execution_count": 40,
   "metadata": {
    "collapsed": false
   },
   "outputs": [
    {
     "name": "stdout",
     "output_type": "stream",
     "text": [
      "work.rnorm = 1.1868996206615984949165038426898774074846298227233919333951698e-50\n"
     ]
    },
    {
     "data": {
      "text/plain": [
       "(BigFloat[0.0000000000000000000000000000000000000000000000000000000000000,7.602000264210110672303619451645605803575126593089169913849916e-55,2.894915951086954154096234395521754431895309306576327270637971e-54,0.0000000000000000000000000000000000000000000000000000000000000,0.0000000000000000000000000000000000000000000000000000000000000,0.0000000000000000000000000000000000000000000000000000000000000,0.0000000000000000000000000000000000000000000000000000000000000,0.0000000000000000000000000000000000000000000000000000000000000,0.0000000000000000000000000000000000000000000000000000000000000,0.0000000000000000000000000000000000000000000000000000000000000  …  0.0000000000000000000000000000000000000000000000000000000000000,0.0000000000000000000000000000000000000000000000000000000000000,0.0000000000000000000000000000000000000000000000000000000000000,0.0000000000000000000000000000000000000000000000000000000000000,0.0000000000000000000000000000000000000000000000000000000000000,0.0000000000000000000000000000000000000000000000000000000000000,0.0000000000000000000000000000000000000000000000000000000000000,0.0000000000000000000000000000000000000000000000000000000000000,0.0000000000000000000000000000000000000000000000000000000000000,0.0000000000000000000000000000000000000000000000000000000000000],BigFloat[9.9490392488343431833515370933461423955148681187704429733591621e-01,0.0000000000000000000000000000000000000000000000000000000000000,0.0000000000000000000000000000000000000000000000000000000000000,9.9490392488343426282400247807678721836990340733602021512987112e-01,3.6653329111915537577004370922360014943835170211598467216216969e-01,6.3139838347946575302715212400268198379270708184817234061503898e-12,8.0068264425511749934852659031600199274512062886051460391884837e-02,9.3721124916737221429512546156351961333385226498832756118496165e-01,2.9960235553114168377250062811429924328254220994346883289361554e-01,2.855406775517302476437238058140616440661808854053859281417353e-01  …  2.1918617055095972089118692830983531491398209913065636340297652,2.2631451421805279016542057208051138764263579603385065246280021,4.6845554981660253489088354644141520700368412313652724317371416e-01,5.1035255411408296620933199151505423963234682670952340889758809e-01,1.9203576069550754811194754293635596265727348498548329364796616,3.0395002677936555825764589509122312689972530812282603128581114,1.248307555040181640595331402523330778717542352616353398730342,1.591723084118959327153045454351641156028617644035469889395908e+02,7.0018284956034249545739526105119101278292955890660446598571722e-01,3.0395002678071267558928587683910956330049360368588176172859494],BigFloat[-2.8015158275990405828413181211782553738499321215495579405029356e-01,6.4967860782904786062656486712744089043170455400964953464266852e-01,7.2040158578278478736729254618945641450147579607481074607755384,-1.4239798332516079201476779900660807713548278452462224237763585e+01,-2.2049001433065304132553342282147324887362680463408771773671227e-01,8.3964767424371624467546865294818385199341175964032819383128656e-01,-9.1014927039933529745178601556479814786267135380539649539746474e-01,-1.1094351100601451192305939425549333281120533600969364757341319e-01,-9.9968474307072440709432338235402271572336842772039105134276784e-01,8.3964767424493632895973479303478152527004613128651064246104249e-01,-8.1410434482177653013847123626843135624010443317779436453708962e-05])"
      ]
     },
     "execution_count": 40,
     "metadata": {},
     "output_type": "execute_result"
    }
   ],
   "source": [
    "setprecision(BigFloat, 200)\n",
    "lp = LP.LinearProgram{BigFloat}(f, A, b)\n",
    "LP.solve(lp)"
   ]
  },
  {
   "cell_type": "code",
   "execution_count": null,
   "metadata": {
    "collapsed": true
   },
   "outputs": [],
   "source": []
  }
 ],
 "metadata": {
  "kernelspec": {
   "display_name": "Julia 0.5.1",
   "language": "julia",
   "name": "julia-0.5"
  },
  "language_info": {
   "file_extension": ".jl",
   "mimetype": "application/julia",
   "name": "julia",
   "version": "0.5.1"
  }
 },
 "nbformat": 4,
 "nbformat_minor": 2
}
