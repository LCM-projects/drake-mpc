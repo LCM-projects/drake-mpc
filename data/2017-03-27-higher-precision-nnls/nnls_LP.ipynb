{
 "cells": [
  {
   "cell_type": "code",
   "execution_count": 24,
   "metadata": {
    "collapsed": false
   },
   "outputs": [
    {
     "name": "stderr",
     "output_type": "stream",
     "text": [
      "WARNING: replacing module LP\n"
     ]
    },
    {
     "data": {
      "text/plain": [
       "LP"
      ]
     },
     "execution_count": 24,
     "metadata": {},
     "output_type": "execute_result"
    }
   ],
   "source": [
    "module LP\n",
    "\n",
    "using NNLS\n",
    "import Base: convert\n",
    "\n",
    "type PNNLSProblem{T}\n",
    "    A::Matrix{T}\n",
    "    B::Matrix{T}\n",
    "    c::Vector{T}\n",
    "end\n",
    "\n",
    "type LinearProgram{T}\n",
    "    f::Vector{T}\n",
    "    G::Matrix{T}\n",
    "    W::Vector{T}\n",
    "end\n",
    "\n",
    "type NNLSProblem{T}\n",
    "    A::Matrix{T}\n",
    "    b::Vector{T}\n",
    "end\n",
    "\n",
    "\n",
    "function convert{T1, T2}(::Type{NNLSProblem{T1}}, p::PNNLSProblem{T2})\n",
    "    A = convert(Matrix{T1}, p.A)\n",
    "    B = convert(Matrix{T1}, p.B)\n",
    "    c = convert(Vector{T1}, p.c)\n",
    "    Abar = A - B * (B \\ A)\n",
    "    bbar = c - B * (B \\ c)\n",
    "#     @assert Abar ≈ (I - p.B * pinv(p.B)) * p.A\n",
    "#     @assert bbar ≈ (I - p.B * pinv(p.B)) * p.c\n",
    "    NNLSProblem{T1}(Abar, bbar)\n",
    "end\n",
    "\n",
    "convert{T}(::Type{NNLSProblem}, p::PNNLSProblem{T}) = convert(NNLSProblem{T}, p)\n",
    "\n",
    "function convert{T1, T2}(::Type{PNNLSProblem{T1}}, lp::LinearProgram{T2})\n",
    "    q, n = size(lp.G)\n",
    "    A = [lp.W'       zeros(1, q)\n",
    "         zeros(q, q) eye(q)\n",
    "         lp.G'       zeros(n, q)]\n",
    "    B = [lp.f'\n",
    "         lp.G\n",
    "         zeros(n, n)]\n",
    "    c = vcat(0, lp.W, -lp.f)\n",
    "    PNNLSProblem{T1}(A, B, c)\n",
    "end\n",
    "\n",
    "convert{T}(::Type{PNNLSProblem}, lp::LinearProgram{T}) = convert(PNNLSProblem{T}, lp)\n",
    "\n",
    "function solve(p::NNLSProblem)\n",
    "    work = NNLSWorkspace(p.A, p.b)\n",
    "    nnls!(work)\n",
    "    @show work.rnorm\n",
    "    @show work.zz\n",
    "    @show work.w\n",
    "    @show work.nsetp\n",
    "    @show size(work.QA)\n",
    "    @show work.Qb\n",
    "    work.x\n",
    "end\n",
    "\n",
    "function solve(p::PNNLSProblem)\n",
    "    v = solve(convert(NNLSProblem, p))\n",
    "    u = -p.B \\ (p.A * v - p.c)\n",
    "#     u = -pinv(p.B) * (p.A * v - p.c)\n",
    "    v, u\n",
    "end\n",
    "\n",
    "function solve(p::LinearProgram)\n",
    "    v, u = solve(convert(PNNLSProblem, p))\n",
    "    y = v[1:length(p.W)]\n",
    "    s = v[(length(p.W) + 1):end]\n",
    "    y, s, u\n",
    "end\n",
    "\n",
    "end"
   ]
  },
  {
   "cell_type": "code",
   "execution_count": 25,
   "metadata": {
    "collapsed": false
   },
   "outputs": [
    {
     "name": "stdout",
     "output_type": "stream",
     "text": [
      "work.rnorm = 2.2443315815740113e-16\n",
      "work.zz = [1.0,2.0,1.0,2.0,2.57517e-16,-2.20447e-16,-4.21091e-17]\n",
      "work.w = [0.0,0.0,0.0,0.0,0.0,0.0,0.0,0.0]\n",
      "work.nsetp = 5\n",
      "size(work.QA) = (7,8)\n",
      "work.Qb = [-0.816497,-1.52753,0.881917,-1.49071,-2.30331e-16,-2.20447e-16,-4.21091e-17]\n"
     ]
    },
    {
     "data": {
      "text/plain": [
       "([0.0,2.57517e-16,1.0,1.0],[2.0,2.0,0.0,0.0],[-1.0,-1.0])"
      ]
     },
     "execution_count": 25,
     "metadata": {},
     "output_type": "execute_result"
    }
   ],
   "source": [
    "f = ones(2)\n",
    "G = [1. 0\n",
    "0 1\n",
    "-1 0\n",
    "0 -1]\n",
    "W = [1., 1, 1, 1]\n",
    "lp = LP.LinearProgram(f, G, W)\n",
    "LP.solve(lp)"
   ]
  },
  {
   "cell_type": "code",
   "execution_count": 26,
   "metadata": {
    "collapsed": false
   },
   "outputs": [
    {
     "name": "stdout",
     "output_type": "stream",
     "text": [
      "work.rnorm = 1.0\n",
      "work.zz = [2.0,1.0,1.0,2.77556e-16,5.55112e-17,-1.0]\n",
      "work.w = [-3.08149e-32,-1.0,0.0,0.0,0.0,-4.62223e-32]\n",
      "work.nsetp = 3\n",
      "size(work.QA) = (6,6)\n",
      "work.Qb = [1.54919,-0.866025,-0.5,2.77556e-16,5.55112e-17,-1.0]\n"
     ]
    },
    {
     "data": {
      "text/plain": [
       "([0.0,0.0,1.0],[2.0,1.0,0.0],[-1.0,-3.9968e-16])"
      ]
     },
     "execution_count": 26,
     "metadata": {},
     "output_type": "execute_result"
    }
   ],
   "source": [
    "f = ones(2)\n",
    "G = [1. 0\n",
    "0 1\n",
    "-1 0]\n",
    "W = [1., 1, 1]\n",
    "lp = LP.LinearProgram(f, G, W)\n",
    "LP.solve(lp)"
   ]
  },
  {
   "cell_type": "code",
   "execution_count": 27,
   "metadata": {
    "collapsed": false
   },
   "outputs": [
    {
     "name": "stdout",
     "output_type": "stream",
     "text": [
      "work.rnorm = 0.00011180228089137442\n",
      "work.zz = [0.999975,0.999975,-5.34018e-5,-4.65982e-5,-4.65982e-5,-1.51374e-5,-7.12466e-5]\n",
      "work.w = [-2.49975e-9,-2.49975e-9,0.0,0.0,-6.24988e-5,-6.24988e-5,-3.75012e-5,-3.75012e-5]\n",
      "work.nsetp = 2\n",
      "size(work.QA) = (7,8)\n",
      "work.Qb = [1.63306,-1.15469,-5.34018e-5,-4.65982e-5,-4.65982e-5,-1.51374e-5,-7.12466e-5]\n"
     ]
    },
    {
     "data": {
      "text/plain": [
       "([0.0,0.0,0.999975,0.999975],[0.0,0.0,0.0,0.0],[1.00006,1.00006])"
      ]
     },
     "execution_count": 27,
     "metadata": {},
     "output_type": "execute_result"
    }
   ],
   "source": [
    "f = ones(2)\n",
    "G = [1. 0\n",
    "0 1\n",
    "-1 0\n",
    "0 -1]\n",
    "W = [1., 1, -1.0001, -1.0001]\n",
    "lp = LP.LinearProgram(f, G, W)\n",
    "LP.solve(lp)"
   ]
  },
  {
   "cell_type": "code",
   "execution_count": null,
   "metadata": {
    "collapsed": true
   },
   "outputs": [],
   "source": []
  },
  {
   "cell_type": "code",
   "execution_count": null,
   "metadata": {
    "collapsed": true
   },
   "outputs": [],
   "source": []
  }
 ],
 "metadata": {
  "kernelspec": {
   "display_name": "Julia 0.5.1",
   "language": "julia",
   "name": "julia-0.5"
  },
  "language_info": {
   "file_extension": ".jl",
   "mimetype": "application/julia",
   "name": "julia",
   "version": "0.5.1"
  }
 },
 "nbformat": 4,
 "nbformat_minor": 2
}
