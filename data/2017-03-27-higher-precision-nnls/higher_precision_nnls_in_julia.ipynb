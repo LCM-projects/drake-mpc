{
 "cells": [
  {
   "cell_type": "markdown",
   "metadata": {},
   "source": [
    "To install the NNLS package, you can do:\n",
    "\n",
    "    Pkg.clone(\"https://github.com/rdeits/NNLS.jl\")\n"
   ]
  },
  {
   "cell_type": "code",
   "execution_count": 49,
   "metadata": {
    "collapsed": false
   },
   "outputs": [],
   "source": [
    "using NNLS\n",
    "using NPZ\n",
    "using PyCall"
   ]
  },
  {
   "cell_type": "code",
   "execution_count": 50,
   "metadata": {
    "collapsed": false
   },
   "outputs": [
    {
     "name": "stderr",
     "output_type": "stream",
     "text": [
      "WARNING: redefining constant pyopt\n"
     ]
    },
    {
     "data": {
      "text/plain": [
       "PyObject <module 'scipy.optimize' from '/usr/local/lib/python2.7/dist-packages/scipy/optimize/__init__.pyc'>"
      ]
     },
     "execution_count": 50,
     "metadata": {},
     "output_type": "execute_result"
    }
   ],
   "source": [
    "const pyopt = pyimport_conda(\"scipy.optimize\", \"scipy\")"
   ]
  },
  {
   "cell_type": "code",
   "execution_count": 51,
   "metadata": {
    "collapsed": false
   },
   "outputs": [],
   "source": [
    "data = npzread(\"nnls_args.npz\")\n",
    "A = data[\"A_bar\"]\n",
    "b = data[\"b_bar\"];"
   ]
  },
  {
   "cell_type": "code",
   "execution_count": 55,
   "metadata": {
    "collapsed": false
   },
   "outputs": [
    {
     "data": {
      "text/plain": [
       "([0.0,5.46166e-12,2.07983e-11,0.0,0.0,0.0,0.0,0.0,0.0,0.0  …  2.19186,2.26315,0.468456,0.510353,1.92036,3.0395,1.24831,159.172,0.700183,3.0395],2.614151166182219e-7)"
      ]
     },
     "execution_count": 55,
     "metadata": {},
     "output_type": "execute_result"
    }
   ],
   "source": [
    "x_py, residual_py = pyopt[:nnls](A, b)"
   ]
  },
  {
   "cell_type": "code",
   "execution_count": 56,
   "metadata": {
    "collapsed": false
   },
   "outputs": [
    {
     "data": {
      "text/plain": [
       "([0.0,5.46166e-12,2.07983e-11,0.0,0.0,0.0,0.0,0.0,0.0,0.0  …  2.19186,2.26315,0.468456,0.510353,1.92036,3.0395,1.24831,159.172,0.700183,3.0395],2.614151166182219e-7)"
      ]
     },
     "execution_count": 56,
     "metadata": {},
     "output_type": "execute_result"
    }
   ],
   "source": [
    "work = NNLSWorkspace(A, b)\n",
    "nnls!(work)\n",
    "(work.x, work.rnorm)"
   ]
  },
  {
   "cell_type": "code",
   "execution_count": 57,
   "metadata": {
    "collapsed": true
   },
   "outputs": [],
   "source": [
    "@assert work.x == x_py\n",
    "@assert work.rnorm == residual_py"
   ]
  },
  {
   "cell_type": "code",
   "execution_count": 58,
   "metadata": {
    "collapsed": false
   },
   "outputs": [
    {
     "data": {
      "text/plain": [
       "200"
      ]
     },
     "execution_count": 58,
     "metadata": {},
     "output_type": "execute_result"
    }
   ],
   "source": [
    "setprecision(BigFloat, 200)"
   ]
  },
  {
   "cell_type": "code",
   "execution_count": 59,
   "metadata": {
    "collapsed": false
   },
   "outputs": [
    {
     "data": {
      "text/plain": [
       "2.9459133661824127538832235134297402801608392773214037248053606e-07"
      ]
     },
     "execution_count": 59,
     "metadata": {},
     "output_type": "execute_result"
    }
   ],
   "source": [
    "work2 = NNLSWorkspace(BigFloat.(A), BigFloat.(b));\n",
    "nnls!(work2)\n",
    "work2.rnorm"
   ]
  },
  {
   "cell_type": "code",
   "execution_count": null,
   "metadata": {
    "collapsed": true
   },
   "outputs": [],
   "source": []
  }
 ],
 "metadata": {
  "kernelspec": {
   "display_name": "Julia 0.5.1",
   "language": "julia",
   "name": "julia-0.5"
  },
  "language_info": {
   "file_extension": ".jl",
   "mimetype": "application/julia",
   "name": "julia",
   "version": "0.5.1"
  }
 },
 "nbformat": 4,
 "nbformat_minor": 1
}
