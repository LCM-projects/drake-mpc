{
 "cells": [
  {
   "cell_type": "code",
   "execution_count": 1,
   "metadata": {
    "collapsed": true
   },
   "outputs": [],
   "source": [
    "import numpy as np\n",
    "data = np.load(\"unbounded_polyhedron.npz\")\n",
    "\n",
    "A = data[\"A\"]\n",
    "b = data[\"b\"]"
   ]
  },
  {
   "cell_type": "code",
   "execution_count": 2,
   "metadata": {
    "collapsed": true
   },
   "outputs": [],
   "source": [
    "import mpc_tools.geometry as geo\n",
    "from scipy.optimize import nnls"
   ]
  },
  {
   "cell_type": "code",
   "execution_count": 3,
   "metadata": {
    "collapsed": true
   },
   "outputs": [],
   "source": [
    "p = geo.Polytope(A, b)"
   ]
  },
  {
   "cell_type": "code",
   "execution_count": 4,
   "metadata": {
    "collapsed": false
   },
   "outputs": [
    {
     "name": "stdout",
     "output_type": "stream",
     "text": [
      "Infinite Chebyshev center or radius!\n"
     ]
    },
    {
     "ename": "ValueError",
     "evalue": "Unbounded polyhedron: only polytopes allowed",
     "output_type": "error",
     "traceback": [
      "\u001b[0;31m---------------------------------------------------------------------------\u001b[0m",
      "\u001b[0;31mValueError\u001b[0m                                Traceback (most recent call last)",
      "\u001b[0;32m<ipython-input-4-41d652812a6a>\u001b[0m in \u001b[0;36m<module>\u001b[0;34m()\u001b[0m\n\u001b[0;32m----> 1\u001b[0;31m \u001b[0mp\u001b[0m\u001b[0;34m.\u001b[0m\u001b[0massemble\u001b[0m\u001b[0;34m(\u001b[0m\u001b[0;34m)\u001b[0m\u001b[0;34m\u001b[0m\u001b[0m\n\u001b[0m",
      "\u001b[0;32m/home/rdeits/locomotion/explorations/drake-mpc/src/mpc_tools/geometry.pyc\u001b[0m in \u001b[0;36massemble\u001b[0;34m(self)\u001b[0m\n\u001b[1;32m     64\u001b[0m         \u001b[0;32mif\u001b[0m \u001b[0;32mnot\u001b[0m\u001b[0;34m(\u001b[0m\u001b[0mself\u001b[0m\u001b[0;34m.\u001b[0m\u001b[0mbounded\u001b[0m\u001b[0;34m)\u001b[0m\u001b[0;34m:\u001b[0m\u001b[0;34m\u001b[0m\u001b[0m\n\u001b[1;32m     65\u001b[0m             \u001b[0mnp\u001b[0m\u001b[0;34m.\u001b[0m\u001b[0msavez\u001b[0m\u001b[0;34m(\u001b[0m\u001b[0;34m\"unbounded_polyhedron\"\u001b[0m\u001b[0;34m,\u001b[0m \u001b[0mA\u001b[0m\u001b[0;34m=\u001b[0m\u001b[0mself\u001b[0m\u001b[0;34m.\u001b[0m\u001b[0mA\u001b[0m\u001b[0;34m,\u001b[0m \u001b[0mb\u001b[0m\u001b[0;34m=\u001b[0m\u001b[0mself\u001b[0m\u001b[0;34m.\u001b[0m\u001b[0mb\u001b[0m\u001b[0;34m)\u001b[0m\u001b[0;34m\u001b[0m\u001b[0m\n\u001b[0;32m---> 66\u001b[0;31m             \u001b[0;32mraise\u001b[0m \u001b[0mValueError\u001b[0m\u001b[0;34m(\u001b[0m\u001b[0;34m'Unbounded polyhedron: only polytopes allowed'\u001b[0m\u001b[0;34m)\u001b[0m\u001b[0;34m\u001b[0m\u001b[0m\n\u001b[0m\u001b[1;32m     67\u001b[0m         \u001b[0mself\u001b[0m\u001b[0;34m.\u001b[0m\u001b[0mfind_coincident_facets\u001b[0m\u001b[0;34m(\u001b[0m\u001b[0;34m)\u001b[0m\u001b[0;34m\u001b[0m\u001b[0m\n\u001b[1;32m     68\u001b[0m         \u001b[0mself\u001b[0m\u001b[0;34m.\u001b[0m\u001b[0mfind_minimal_facets\u001b[0m\u001b[0;34m(\u001b[0m\u001b[0;34m)\u001b[0m\u001b[0;34m\u001b[0m\u001b[0m\n",
      "\u001b[0;31mValueError\u001b[0m: Unbounded polyhedron: only polytopes allowed"
     ]
    }
   ],
   "source": [
    "p.assemble()"
   ]
  },
  {
   "cell_type": "code",
   "execution_count": 6,
   "metadata": {
    "collapsed": false
   },
   "outputs": [
    {
     "data": {
      "text/plain": [
       "False"
      ]
     },
     "execution_count": 6,
     "metadata": {},
     "output_type": "execute_result"
    }
   ],
   "source": [
    "p.empty"
   ]
  },
  {
   "cell_type": "code",
   "execution_count": 7,
   "metadata": {
    "collapsed": false
   },
   "outputs": [
    {
     "data": {
      "text/plain": [
       "inf"
      ]
     },
     "execution_count": 7,
     "metadata": {},
     "output_type": "execute_result"
    }
   ],
   "source": [
    "p.radius"
   ]
  },
  {
   "cell_type": "code",
   "execution_count": 8,
   "metadata": {
    "collapsed": true
   },
   "outputs": [],
   "source": [
    "data = np.load(\"nnls_args.npz\")\n",
    "A_bar = data[\"A_bar\"]\n",
    "b_bar = data[\"b_bar\"]"
   ]
  },
  {
   "cell_type": "code",
   "execution_count": 9,
   "metadata": {
    "collapsed": false
   },
   "outputs": [
    {
     "data": {
      "text/plain": [
       "(array([  0.00000000e+00,   5.46165584e-12,   2.07983444e-11,\n",
       "          0.00000000e+00,   0.00000000e+00,   0.00000000e+00,\n",
       "          0.00000000e+00,   0.00000000e+00,   0.00000000e+00,\n",
       "          0.00000000e+00,   0.00000000e+00,   0.00000000e+00,\n",
       "          0.00000000e+00,   0.00000000e+00,   0.00000000e+00,\n",
       "          0.00000000e+00,   0.00000000e+00,   0.00000000e+00,\n",
       "          0.00000000e+00,   4.99865214e-01,   0.00000000e+00,\n",
       "          4.99230514e-01,   5.96498459e-04,   0.00000000e+00,\n",
       "          0.00000000e+00,   0.00000000e+00,   0.00000000e+00,\n",
       "          2.73788640e-12,   0.00000000e+00,   0.00000000e+00,\n",
       "          0.00000000e+00,   7.95105149e-05,   0.00000000e+00,\n",
       "          0.00000000e+00,   0.00000000e+00,   0.00000000e+00,\n",
       "          0.00000000e+00,   0.00000000e+00,   5.55000311e-05,\n",
       "          0.00000000e+00,   0.00000000e+00,   1.17824683e-04,\n",
       "          3.62881980e-09,   0.00000000e+00,   5.49340436e-05,\n",
       "          0.00000000e+00,   0.00000000e+00,   0.00000000e+00,\n",
       "          0.00000000e+00,   0.00000000e+00,   0.00000000e+00,\n",
       "          0.00000000e+00,   0.00000000e+00,   0.00000000e+00,\n",
       "          0.00000000e+00,   0.00000000e+00,   0.00000000e+00,\n",
       "          0.00000000e+00,   0.00000000e+00,   0.00000000e+00,\n",
       "          0.00000000e+00,   0.00000000e+00,   9.94904116e-01,\n",
       "          0.00000000e+00,   0.00000000e+00,   9.94903841e-01,\n",
       "          3.66533260e-01,   2.10571579e-08,   8.00682801e-02,\n",
       "          9.37211150e-01,   2.99602386e-01,   2.85540593e-01,\n",
       "          1.99610878e-01,   8.45087040e-01,   2.57372839e-04,\n",
       "          2.54581922e-01,   6.32364359e-02,   6.33816627e-02,\n",
       "          1.62821544e-04,   6.00356473e+09,   2.11867035e-01,\n",
       "          0.00000000e+00,   2.11468929e-01,   0.00000000e+00,\n",
       "          0.00000000e+00,   2.54324490e-01,   6.28632214e-02,\n",
       "          6.30084854e-02,   5.02201958e-01,   0.00000000e+00,\n",
       "          1.00504290e-01,   6.57750041e-01,   1.98953068e-01,\n",
       "          0.00000000e+00,   1.00504300e-01,   5.11727251e-01,\n",
       "          1.98953116e-01,   1.89200022e-01,   2.19576561e-01,\n",
       "          7.75327317e-01,   0.00000000e+00,   9.94903826e-01,\n",
       "          4.46601518e-01,   0.00000000e+00,   0.00000000e+00,\n",
       "          9.37211172e-01,   0.00000000e+00,   2.85540593e-01,\n",
       "          4.99213264e-01,   8.45087040e-01,   2.83344050e+04,\n",
       "          3.66686079e+04,   2.83331849e+04,   3.66686079e+04,\n",
       "          2.19186215e+00,   2.26314563e+00,   4.68455999e-01,\n",
       "          5.10353060e-01,   1.92035745e+00,   3.03950001e+00,\n",
       "          1.24830755e+00,   1.59172308e+02,   7.00182846e-01,\n",
       "          3.03950002e+00]), 2.614151166182219e-07)"
      ]
     },
     "execution_count": 9,
     "metadata": {},
     "output_type": "execute_result"
    }
   ],
   "source": [
    "nnls(A_bar, b_bar)"
   ]
  },
  {
   "cell_type": "code",
   "execution_count": null,
   "metadata": {
    "collapsed": true
   },
   "outputs": [],
   "source": []
  },
  {
   "cell_type": "code",
   "execution_count": 6,
   "metadata": {
    "collapsed": true
   },
   "outputs": [],
   "source": [
    "import cdd\n",
    "def cdd_vertices(A, b, number_type=\"float\"):\n",
    "    b = b.reshape((-1, 1))\n",
    "    inequality_list = np.hstack((b, -A)).tolist()\n",
    "    inequality_matrix = cdd.Matrix(inequality_list, number_type=number_type)\n",
    "    inequality_matrix.rep_type = cdd.RepType.INEQUALITY\n",
    "    polyhedron = cdd.Polyhedron(inequality_matrix)\n",
    "    generator_matrix = polyhedron.get_generators()\n",
    "    generator_list = generator_matrix.__getitem__(slice(0, generator_matrix.row_size))\n",
    "    vertices = np.vstack([np.array(map(float, generator_list[i][1:])) for i in range(0, len(generator_list)) if generator_list[i][0] == 1])\n",
    "    return vertices\n"
   ]
  },
  {
   "cell_type": "code",
   "execution_count": 7,
   "metadata": {
    "collapsed": false
   },
   "outputs": [
    {
     "data": {
      "text/plain": [
       "array([[ -5.93631886e-15,   1.00403923e-01,  -1.86848069e-14, ...,\n",
       "         -2.51500000e-01,   1.99994000e-01,   4.04244465e-01],\n",
       "       [ -7.14926275e-15,   1.00403923e-01,  -1.39972600e-14, ...,\n",
       "          2.51500000e-01,   1.99994000e-01,   4.04244465e-01],\n",
       "       [ -4.49633945e-15,   1.00403923e-01,  -2.42638827e-14, ...,\n",
       "         -2.51500000e-01,   1.99994000e-01,   4.04244465e-01],\n",
       "       ..., \n",
       "       [ -1.23507464e-01,   1.35777871e-01,   4.71716196e-01, ...,\n",
       "         -2.75227325e-01,  -5.47188035e-01,  -5.48656546e-01],\n",
       "       [ -1.23507464e-01,   1.35777871e-01,   4.71716196e-01, ...,\n",
       "          2.27772675e-01,  -5.47188035e-01,  -5.48656546e-01],\n",
       "       [ -1.23507464e-01,   1.35777871e-01,   4.71716196e-01, ...,\n",
       "          2.27772675e-01,  -5.47188035e-01,  -5.48656546e-01]])"
      ]
     },
     "execution_count": 7,
     "metadata": {},
     "output_type": "execute_result"
    }
   ],
   "source": [
    "cdd_vertices(A, b, \"float\")"
   ]
  },
  {
   "cell_type": "code",
   "execution_count": 8,
   "metadata": {
    "collapsed": false
   },
   "outputs": [
    {
     "data": {
      "text/plain": [
       "array([[ -4.97934979e-02,   1.48794444e-01,  -1.21682799e+00, ...,\n",
       "          3.12706448e-01,  -3.78328550e-01,   5.25979984e-01],\n",
       "       [ -4.97934979e-02,   2.25880565e-01,  -1.21682799e+00, ...,\n",
       "          3.12706448e-01,  -3.78328550e-01,   8.34333719e-01],\n",
       "       [ -5.46218905e-02,   1.45843549e-01,  -1.16317365e+00, ...,\n",
       "          3.10007635e-01,  -3.83694146e-01,   5.20615327e-01],\n",
       "       ..., \n",
       "       [ -8.55184015e-02,   1.36852057e-01,  -5.12623085e-01, ...,\n",
       "         -2.25715059e-01,   3.30747463e-03,  -5.20900658e-01],\n",
       "       [  1.21922913e-01,   1.35627077e-01,  -4.65664265e-01, ...,\n",
       "         -2.28077087e-01,   3.97267481e-01,  -5.48958144e-01],\n",
       "       [ -8.69564764e-02,   1.37067769e-01,  -5.21243339e-01, ...,\n",
       "         -2.25281460e-01,   6.50950172e-13,  -5.20038606e-01]])"
      ]
     },
     "execution_count": 8,
     "metadata": {},
     "output_type": "execute_result"
    }
   ],
   "source": [
    "cdd_vertices(A, b, \"fraction\")"
   ]
  },
  {
   "cell_type": "code",
   "execution_count": null,
   "metadata": {
    "collapsed": true
   },
   "outputs": [],
   "source": []
  }
 ],
 "metadata": {
  "kernelspec": {
   "display_name": "Python 2",
   "language": "python",
   "name": "python2"
  },
  "language_info": {
   "codemirror_mode": {
    "name": "ipython",
    "version": 2
   },
   "file_extension": ".py",
   "mimetype": "text/x-python",
   "name": "python",
   "nbconvert_exporter": "python",
   "pygments_lexer": "ipython2",
   "version": "2.7.6"
  }
 },
 "nbformat": 4,
 "nbformat_minor": 1
}
