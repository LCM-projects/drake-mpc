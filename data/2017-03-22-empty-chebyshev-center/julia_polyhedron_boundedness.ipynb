{
 "cells": [
  {
   "cell_type": "code",
   "execution_count": 1,
   "metadata": {
    "collapsed": false
   },
   "outputs": [],
   "source": [
    "using NPZ"
   ]
  },
  {
   "cell_type": "code",
   "execution_count": 2,
   "metadata": {
    "collapsed": true
   },
   "outputs": [],
   "source": [
    "using Polyhedra\n",
    "using CDDLib"
   ]
  },
  {
   "cell_type": "code",
   "execution_count": 9,
   "metadata": {
    "collapsed": false
   },
   "outputs": [
    {
     "data": {
      "text/plain": [
       "Dict{String,Any} with 2 entries:\n",
       "  \"A\" => [0.0 0.0 … 0.0 0.0; 0.0 0.0 … 0.0 0.0; … ; 0.0 0.0 … -1.0 0.0; 0.0 0.0…\n",
       "  \"b\" => [0.497533; 0.497533; … ; 1.69995; 2.19993]"
      ]
     },
     "execution_count": 9,
     "metadata": {},
     "output_type": "execute_result"
    }
   ],
   "source": [
    "vars = npzread(\"unbounded_polyhedron.npz\")"
   ]
  },
  {
   "cell_type": "code",
   "execution_count": 10,
   "metadata": {
    "collapsed": false
   },
   "outputs": [
    {
     "data": {
      "text/plain": [
       "62×1 Array{Float64,2}:\n",
       "     0.497533 \n",
       "     0.497533 \n",
       "     7.25704e7\n",
       "    -0.50413  \n",
       "     0.37495  \n",
       "    -0.50413  \n",
       "     0.0937374\n",
       "     1.44635e8\n",
       "     0.452316 \n",
       "  6991.89     \n",
       "     0.113079 \n",
       "  9654.98     \n",
       "    -0.359971 \n",
       "     ⋮        \n",
       " 28334.2      \n",
       " 36667.8      \n",
       "     0.581268 \n",
       "    -0.368732 \n",
       "     0.507869 \n",
       "    -0.397319 \n",
       "     1.69995  \n",
       "     0.891106 \n",
       "   159.283    \n",
       "   159.283    \n",
       "     1.69995  \n",
       "     2.19993  "
      ]
     },
     "execution_count": 10,
     "metadata": {},
     "output_type": "execute_result"
    }
   ],
   "source": [
    "A = vars[\"A\"]\n",
    "b = vars[\"b\"]"
   ]
  },
  {
   "cell_type": "code",
   "execution_count": 11,
   "metadata": {
    "collapsed": false
   },
   "outputs": [
    {
     "data": {
      "text/plain": [
       "62×10 Array{Float64,2}:\n",
       "  0.0         0.0         -0.0995067  …   0.0       0.0   0.0   0.0   0.0\n",
       "  0.0         0.0          0.0995067      0.0       0.0   0.0   0.0   0.0\n",
       "  0.0        -0.814116     0.0           -0.579919  0.0   0.0   0.0   0.0\n",
       "  0.0         0.447812     0.0           -0.893501  0.0   0.0   0.0   0.0\n",
       " -0.882756    0.0         -0.0325683      0.0       0.0   0.0   0.0   0.0\n",
       "  0.0         0.447812     0.0        …  -0.893501  0.0   0.0   0.0   0.0\n",
       "  0.882756    0.0          0.0325683      0.0       0.0   0.0   0.0   0.0\n",
       "  0.0         0.801844     0.0            0.596742  0.0   0.0   0.0   0.0\n",
       " -0.998733    0.0         -0.0503273      0.0       0.0   0.0   0.0   0.0\n",
       "  0.0        -9.61788e-9   0.0            0.998752  0.0   0.0   0.0   0.0\n",
       "  0.998733    0.0          0.0503273  …   0.0       0.0   0.0   0.0   0.0\n",
       "  0.0         9.61788e-9   0.0           -0.998752  0.0   0.0   0.0   0.0\n",
       "  0.0411636   0.706466     0.0107777     -0.706466  0.0   0.0   0.0   0.0\n",
       "  ⋮                                   ⋱   ⋮                              \n",
       "  0.0         0.0          0.0        …   0.0       0.0   0.0  -1.0   0.0\n",
       "  0.0         0.0          0.0            0.0       0.0   0.0   0.0  -1.0\n",
       "  0.0        -0.707107     0.0            0.707107  0.0   0.0   0.0   0.0\n",
       "  0.0         0.554487     0.0           -0.83173   0.0   0.0   0.0   0.0\n",
       "  0.0        -0.707107     0.0            0.707107  0.0   0.0   0.0   0.0\n",
       "  0.0         0.554487     0.0        …  -0.83173   0.0   0.0   0.0   0.0\n",
       "  0.0         0.0          0.0            0.0       0.0   0.0   0.0   0.0\n",
       "  0.0         5.60215e-9   0.0           -0.998752  0.0   0.0   0.0   0.0\n",
       "  0.0         0.0          0.0            0.0       1.0   0.0   0.0   0.0\n",
       "  0.0         0.0          0.0            0.0       0.0  -1.0   0.0   0.0\n",
       "  0.0         0.0          0.0        …   0.0       0.0   0.0  -1.0   0.0\n",
       "  0.0         0.0          0.0            0.0       0.0   0.0   0.0  -1.0"
      ]
     },
     "execution_count": 11,
     "metadata": {},
     "output_type": "execute_result"
    }
   ],
   "source": [
    "A"
   ]
  },
  {
   "cell_type": "code",
   "execution_count": 12,
   "metadata": {
    "collapsed": false
   },
   "outputs": [
    {
     "data": {
      "text/plain": [
       "62×1 Array{Float64,2}:\n",
       "     0.497533 \n",
       "     0.497533 \n",
       "     7.25704e7\n",
       "    -0.50413  \n",
       "     0.37495  \n",
       "    -0.50413  \n",
       "     0.0937374\n",
       "     1.44635e8\n",
       "     0.452316 \n",
       "  6991.89     \n",
       "     0.113079 \n",
       "  9654.98     \n",
       "    -0.359971 \n",
       "     ⋮        \n",
       " 28334.2      \n",
       " 36667.8      \n",
       "     0.581268 \n",
       "    -0.368732 \n",
       "     0.507869 \n",
       "    -0.397319 \n",
       "     1.69995  \n",
       "     0.891106 \n",
       "   159.283    \n",
       "   159.283    \n",
       "     1.69995  \n",
       "     2.19993  "
      ]
     },
     "execution_count": 12,
     "metadata": {},
     "output_type": "execute_result"
    }
   ],
   "source": [
    "b"
   ]
  },
  {
   "cell_type": "code",
   "execution_count": null,
   "metadata": {
    "collapsed": false
   },
   "outputs": [],
   "source": [
    "h = SimpleHRepresentation(A, vec(b));\n",
    "p = polyhedron(h, CDDLibrary(:exact))\n",
    "v = SimpleVRepresentation(vrep(p))\n",
    "@show v.V\n",
    "@show v.R"
   ]
  },
  {
   "cell_type": "code",
   "execution_count": null,
   "metadata": {
    "collapsed": true
   },
   "outputs": [],
   "source": []
  }
 ],
 "metadata": {
  "kernelspec": {
   "display_name": "Julia 0.5.1",
   "language": "julia",
   "name": "julia-0.5"
  },
  "language_info": {
   "file_extension": ".jl",
   "mimetype": "application/julia",
   "name": "julia",
   "version": "0.5.1"
  }
 },
 "nbformat": 4,
 "nbformat_minor": 1
}
