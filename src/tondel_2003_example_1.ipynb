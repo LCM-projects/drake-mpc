{
 "cells": [
  {
   "cell_type": "code",
   "execution_count": 19,
   "metadata": {
    "collapsed": false
   },
   "outputs": [],
   "source": [
    "using Polyhedra\n",
    "using Plots\n",
    "using CDDLib"
   ]
  },
  {
   "cell_type": "code",
   "execution_count": 54,
   "metadata": {
    "collapsed": false
   },
   "outputs": [
    {
     "name": "stderr",
     "output_type": "stream",
     "text": [
      "WARNING: replacing module act\n"
     ]
    },
    {
     "data": {
      "text/plain": [
       "act"
      ]
     },
     "execution_count": 54,
     "metadata": {},
     "output_type": "execute_result"
    }
   ],
   "source": [
    "include(\"active_sets.jl\")"
   ]
  },
  {
   "cell_type": "code",
   "execution_count": 55,
   "metadata": {
    "collapsed": false
   },
   "outputs": [
    {
     "name": "stdout",
     "output_type": "stream",
     "text": [
      "x0 = [0.0,0.0]\n"
     ]
    },
    {
     "data": {
      "text/latex": [
       "$$ \\begin{alignat*}{1}\\min\\quad & 1.079 z_{1}^2 + 0.152 z_{1}\\times z_{2} + 1.073 z_{2}^2\\\\\n",
       "\\text{Subject to} \\quad & z_{1} - x_{1} - 1.4 x_{2} \\leq 1\\\\\n",
       " & z_{2} - 0.9 x_{1} - 1.3 x_{2} \\leq 1\\\\\n",
       " & -z_{1} + x_{1} + 1.4 x_{2} \\leq 1\\\\\n",
       " & -z_{2} + 0.9 x_{1} + 1.3 x_{2} \\leq 1\\\\\n",
       " & 0.05 z_{1} - 0.1 x_{1} + 0.9 x_{2} \\leq 0.5\\\\\n",
       " & 0.05 z_{1} + 0.05 z_{2} - 0.1 x_{1} + 0.9 x_{2} \\leq 0.5\\\\\n",
       " & -0.05 z_{1} + 0.1 x_{1} - 0.9 x_{2} \\leq 0.5\\\\\n",
       " & -0.05 z_{1} - 0.05 z_{2} + 0.1 x_{1} - 0.9 x_{2} \\leq 0.5\\\\\n",
       " & z_{i} free \\quad\\forall i \\in \\{1,2\\}\\\\\n",
       " & x_{i} = 0 \\quad\\forall i \\in \\{1,2\\}\\\\\n",
       "\\end{alignat*}\n",
       " $$"
      ],
      "text/plain": [
       "Minimization problem with:\n",
       " * 8 linear constraints\n",
       " * 4 variables\n",
       "Solver is Gurobi"
      ]
     },
     "execution_count": 55,
     "metadata": {},
     "output_type": "execute_result"
    }
   ],
   "source": [
    "T = [1 0; 0 1; -1 0; 0 -1]\n",
    "Z = [2, 2, 2, 2]\n",
    "model, z, x = act.mpc_model(SimpleHRepresentation(T, Z))\n",
    "solve(model)\n",
    "model"
   ]
  },
  {
   "cell_type": "code",
   "execution_count": 56,
   "metadata": {
    "collapsed": false
   },
   "outputs": [
    {
     "name": "stdout",
     "output_type": "stream",
     "text": [
      "GA = \n"
     ]
    },
    {
     "data": {
      "text/latex": [
       "$$ \\begin{alignat*}{1}\\min\\quad & 0\\\\\n",
       "\\text{Subject to} \\quad & -x_{1} - 1.4 x_{2} \\leq 1\\\\\n",
       " & -0.9 x_{1} - 1.3 x_{2} \\leq 1\\\\\n",
       " & x_{1} + 1.4 x_{2} \\leq 1\\\\\n",
       " & 0.9 x_{1} + 1.3 x_{2} \\leq 1\\\\\n",
       " & -0.1 x_{1} + 0.9 x_{2} \\leq 0.5\\\\\n",
       " & -0.1 x_{1} + 0.9 x_{2} \\leq 0.5\\\\\n",
       " & 0.1 x_{1} - 0.9 x_{2} \\leq 0.5\\\\\n",
       " & 0.1 x_{1} - 0.9 x_{2} \\leq 0.5\\\\\n",
       " & x_{i} free \\quad\\forall i \\in \\{1,2\\}\\\\\n",
       "\\end{alignat*}\n",
       " $$"
      ],
      "text/plain": [
       "Feasibility problem with:\n",
       " * 8 linear constraints\n",
       " * 2 variables\n",
       "Solver is default solver"
      ]
     },
     "execution_count": 56,
     "metadata": {},
     "output_type": "execute_result"
    }
   ],
   "source": [
    "crmodel = act.critical_region(model, z, x)"
   ]
  },
  {
   "cell_type": "code",
   "execution_count": 57,
   "metadata": {
    "collapsed": false
   },
   "outputs": [
    {
     "data": {
      "text/html": [
       "<img src=\"data:image/png;base64,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\" />"
      ]
     },
     "execution_count": 57,
     "metadata": {},
     "output_type": "execute_result"
    }
   ],
   "source": [
    "crpoly = SimpleHRepresentation(act.simplify(polyhedron(crmodel, CDDLibrary())))\n",
    "vr = SimpleVRepresentation(polyhedron(crmodel, CDDLibrary()))\n",
    "plot(vr.V[[1:end; 1],1], vr.V[[1:end; 1],2], fill=(0,:orange))"
   ]
  },
  {
   "cell_type": "code",
   "execution_count": 58,
   "metadata": {
    "collapsed": false
   },
   "outputs": [
    {
     "name": "stdout",
     "output_type": "stream",
     "text": [
      "x0 = [-1.87747,0.470234]\n"
     ]
    },
    {
     "data": {
      "text/latex": [
       "$$ \\begin{alignat*}{1}\\min\\quad & 1.079 z_{1}^2 + 0.152 z_{1}\\times z_{2} + 1.073 z_{2}^2\\\\\n",
       "\\text{Subject to} \\quad & z_{1} - x_{1} - 1.4 x_{2} \\leq 1\\\\\n",
       " & z_{2} - 0.9 x_{1} - 1.3 x_{2} \\leq 1\\\\\n",
       " & -z_{1} + x_{1} + 1.4 x_{2} \\leq 1\\\\\n",
       " & -z_{2} + 0.9 x_{1} + 1.3 x_{2} \\leq 1\\\\\n",
       " & 0.05 z_{1} - 0.1 x_{1} + 0.9 x_{2} \\leq 0.5\\\\\n",
       " & 0.05 z_{1} + 0.05 z_{2} - 0.1 x_{1} + 0.9 x_{2} \\leq 0.5\\\\\n",
       " & -0.05 z_{1} + 0.1 x_{1} - 0.9 x_{2} \\leq 0.5\\\\\n",
       " & -0.05 z_{1} - 0.05 z_{2} + 0.1 x_{1} - 0.9 x_{2} \\leq 0.5\\\\\n",
       " & z_{i} free \\quad\\forall i \\in \\{1,2\\}\\\\\n",
       " & x_{1} = -1.877468414693518\\\\\n",
       " & x_{2} = 0.4702335868714682\\\\\n",
       "\\end{alignat*}\n",
       " $$"
      ],
      "text/plain": [
       "Minimization problem with:\n",
       " * 8 linear constraints\n",
       " * 4 variables\n",
       "Solver is Gurobi"
      ]
     },
     "execution_count": 58,
     "metadata": {},
     "output_type": "execute_result"
    }
   ],
   "source": [
    "model, z, x = mpc_model(SimpleHRepresentation(vcat(T, [0.1 -0.9]), vcat(Z, [-0.5])))\n",
    "# constraint_to_cross = 4\n",
    "# @constraint model crpoly.A[constraint_to_cross, :]' * x .<= crpoly.b[constraint_to_cross]\n",
    "# @constraint model [-1, -1.4]' * x .>= 1\n",
    "solve(model)\n",
    "model"
   ]
  },
  {
   "cell_type": "code",
   "execution_count": 59,
   "metadata": {
    "collapsed": false
   },
   "outputs": [
    {
     "name": "stdout",
     "output_type": "stream",
     "text": [
      "GA = [0.0 1.0; -1.0 0.0]\n"
     ]
    },
    {
     "data": {
      "text/latex": [
       "$$ \\begin{alignat*}{1}\\min\\quad & 0\\\\\n",
       "\\text{Subject to} \\quad & 0 \\leq 2\\\\\n",
       " & 0 \\leq 1.1102230246251565e-16\\\\\n",
       " & 0 \\leq 0\\\\\n",
       " & 0 \\leq 2\\\\\n",
       " & -0.049999999999999996 x_{1} + 0.97 x_{2} \\leq 0.55\\\\\n",
       " & -0.0049999999999999906 x_{1} + 1.0350000000000001 x_{2} \\leq 0.5\\\\\n",
       " & 0.049999999999999996 x_{1} - 0.97 x_{2} \\leq 0.45\\\\\n",
       " & 0.0049999999999999906 x_{1} - 1.0350000000000001 x_{2} \\leq 0.5\\\\\n",
       " & -1.0417 x_{1} - 1.5013 x_{2} \\geq 0.997\\\\\n",
       " & 1.1474 x_{1} + 1.6094 x_{2} \\geq 1.003\\\\\n",
       " & x_{i} free \\quad\\forall i \\in \\{1,2\\}\\\\\n",
       "\\end{alignat*}\n",
       " $$"
      ],
      "text/plain": [
       "Feasibility problem with:\n",
       " * 10 linear constraints\n",
       " * 2 variables\n",
       "Solver is default solver"
      ]
     },
     "execution_count": 59,
     "metadata": {},
     "output_type": "execute_result"
    }
   ],
   "source": [
    "crmodel = act.critical_region(model, z, x)\n",
    "crmodel"
   ]
  },
  {
   "cell_type": "code",
   "execution_count": 64,
   "metadata": {
    "collapsed": false
   },
   "outputs": [
    {
     "data": {
      "text/plain": [
       "CDDLib.CDDPolyhedron{2,Float64}(Nullable{CDDLib.CDDInequalityMatrix{2,Float64,S<:Union{CDDLib.GMPRational,Float64}}}(H-representation\n",
       "begin\n",
       " 10 3 real\n",
       " 2.0 -0.0 -0.0\n",
       " 1.1102230246251565e-16 1.1102230246251565e-16 2.220446049250313e-16\n",
       " -0.0 -0.0 -0.0\n",
       " 2.0 -1.1102230246251565e-16 -2.220446049250313e-16\n",
       " 0.55 0.049999999999999996 -0.97\n",
       " 0.5 0.0049999999999999906 -1.0350000000000001\n",
       " 0.45 -0.049999999999999996 0.97\n",
       " 0.5 -0.0049999999999999906 1.0350000000000001\n",
       " -0.997 -1.0417 -1.5013\n",
       " -1.003 1.1474 1.6094\n",
       "end),Nullable{CDDLib.CDDGeneratorMatrix{2,Float64,S<:Union{CDDLib.GMPRational,Float64}}}(),Nullable{CDDLib.CDDPolyhedra{2,Float64,S}}(),false,false,false,false)"
      ]
     },
     "execution_count": 64,
     "metadata": {},
     "output_type": "execute_result"
    }
   ],
   "source": [
    "polyhedron(crmodel, CDDLibrary())"
   ]
  },
  {
   "cell_type": "code",
   "execution_count": 63,
   "metadata": {
    "collapsed": false
   },
   "outputs": [
    {
     "data": {
      "text/plain": [
       "ConvexHull.ConvexHullPolyhedron{2,Float64}(Nullable{Polyhedra.HRepresentation{2,Float64}}(),Nullable{Polyhedra.LiftedHRepresentation{2,Float64}}(),Nullable{Polyhedra.VRepresentation{2,Float64}}(V-representation\n",
       "begin\n",
       " 0 3 real\n",
       "end),Nullable{Polyhedra.LiftedVRepresentation{2,Float64}}(),false,false,false,false)"
      ]
     },
     "execution_count": 63,
     "metadata": {},
     "output_type": "execute_result"
    }
   ],
   "source": [
    "\n",
    "crpoly = SimpleHRepresentation(act.simplify(polyhedron(crmodel, CDDLibrary())))\n",
    "# vr = SimpleVRepresentation(polyhedron(crmodel, CDDLibrary()))\n",
    "# plot(vr.V[[1:end; 1],1], vr.V[[1:end; 1],2], fill=(0,:orange))"
   ]
  },
  {
   "cell_type": "code",
   "execution_count": null,
   "metadata": {
    "collapsed": true
   },
   "outputs": [],
   "source": []
  }
 ],
 "metadata": {
  "kernelspec": {
   "display_name": "Julia 0.5.0",
   "language": "julia",
   "name": "julia-0.5"
  },
  "language_info": {
   "file_extension": ".jl",
   "mimetype": "application/julia",
   "name": "julia",
   "version": "0.5.0"
  }
 },
 "nbformat": 4,
 "nbformat_minor": 1
}
