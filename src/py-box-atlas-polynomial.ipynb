{
 "cells": [
  {
   "cell_type": "code",
   "execution_count": 1,
   "metadata": {
    "collapsed": true
   },
   "outputs": [],
   "source": [
    "from __future__ import division, print_function"
   ]
  },
  {
   "cell_type": "code",
   "execution_count": 2,
   "metadata": {
    "collapsed": false
   },
   "outputs": [
    {
     "name": "stdout",
     "output_type": "stream",
     "text": [
      "Populating the interactive namespace from numpy and matplotlib\n"
     ]
    }
   ],
   "source": [
    "%load_ext autoreload\n",
    "%autoreload 2\n",
    "%pylab inline\n",
    "%load_ext wurlitzer\n"
   ]
  },
  {
   "cell_type": "code",
   "execution_count": 9,
   "metadata": {
    "collapsed": false
   },
   "outputs": [],
   "source": [
    "import time\n",
    "import numpy as np\n",
    "\n",
    "from director import viewerclient as vc\n",
    "from irispy import Polyhedron\n",
    "import boxatlas as box\n",
    "from contactstabilization import BoxAtlasContactStabilization"
   ]
  },
  {
   "cell_type": "code",
   "execution_count": 10,
   "metadata": {
    "collapsed": false
   },
   "outputs": [],
   "source": [
    "vis = vc.Visualizer()"
   ]
  },
  {
   "cell_type": "code",
   "execution_count": 21,
   "metadata": {
    "collapsed": false
   },
   "outputs": [
    {
     "name": "stdout",
     "output_type": "stream",
     "text": [
      "SolutionResult.kSolutionFound\n",
      "Optimize a model with 2036 rows, 680 columns and 5274 nonzeros\n",
      "Model has 228 quadratic objective terms\n",
      "Coefficient statistics:\n",
      "  Matrix range    [2e-03, 1e+03]\n",
      "  Objective range [1e+00, 6e+02]\n",
      "  Bounds range    [1e+00, 2e+00]\n",
      "  RHS range       [2e-01, 1e+03]\n",
      "Presolve removed 599 rows and 223 columns\n",
      "Presolve time: 0.01s\n",
      "Presolved: 1437 rows, 457 columns, 3665 nonzeros\n",
      "Presolved model has 218 quadratic objective terms\n",
      "Variable types: 381 continuous, 76 integer (76 binary)\n",
      "\n",
      "Root relaxation: objective -2.001766e+03, 1416 iterations, 0.04 seconds\n",
      "\n",
      "    Nodes    |    Current Node    |     Objective Bounds      |     Work\n",
      " Expl Unexpl |  Obj  Depth IntInf | Incumbent    BestBd   Gap | It/Node Time\n",
      "\n",
      "     0     0 -2001.7664    0   76          - -2001.7664      -     -    0s\n",
      "     0     0 -2001.7664    0   76          - -2001.7664      -     -    0s\n",
      "H    0     0                    -1900.427604 -2001.7664  5.33%     -    0s\n",
      "     0     2 -1978.4548    0   68 -1900.4276 -1978.4548  4.11%     -    0s\n",
      "*  251    73              68    -1942.206884 -1966.6263  1.26%  10.1    0s\n",
      "*  253    65              68    -1947.537112 -1966.6263  0.98%  10.2    0s\n",
      "*  621   115              68    -1950.872727 -1959.3433  0.43%   9.1    0s\n",
      "*  947   236              68    -1950.937017 -1956.5842  0.29%   8.7    0s\n",
      "* 1122   271              68    -1951.654024 -1956.0619  0.23%   8.5    0s\n",
      "* 1244   266              68    -1952.293974 -1955.6909  0.17%   8.6    0s\n",
      "H 1379   175                    -1952.841271 -1955.4358  0.13%   8.5    0s\n",
      "H 1866    52                    -1953.159705 -1954.1244  0.05%   8.2    0s\n",
      "\n",
      "Cutting planes:\n",
      "  Cover: 15\n",
      "  Implied bound: 12\n",
      "  Clique: 1\n",
      "\n",
      "Explored 2086 nodes (18177 simplex iterations) in 0.58 seconds\n",
      "Thread count was 6 (of 12 available processors)\n",
      "\n",
      "Optimal solution found (tolerance 1.00e-04)\n",
      "Best objective -1.953159704846e+03, best bound -1.953328931634e+03, gap 0.0087%\n"
     ]
    }
   ],
   "source": [
    "surfaces = [\n",
    "    box.Surface(Polyhedron.fromBounds([1.2, 0], [1.2, 2]),\n",
    "            Polyhedron(np.array([[1, -1], [1, 1]]), np.array([0, 0]))),\n",
    "    box.Surface(Polyhedron.fromBounds([-2, 0], [2, 0]), \n",
    "            Polyhedron(np.array([[-2, -1], [2, -1]]), np.array([0, 0]))),\n",
    "    box.Surface(Polyhedron.fromBounds([-2, 0], [2, 0]), \n",
    "            Polyhedron(np.array([[-2, -1], [2, -1]]), np.array([0, 0]))),\n",
    "    box.Surface(Polyhedron.fromBounds([-1.2, 0], [-1.2, 2]),\n",
    "            Polyhedron(np.array([[-1, -1], [-1, 1]]), np.array([0, 0]))),\n",
    "]\n",
    "\n",
    "env = box.Environment(surfaces, Polyhedron.fromBounds([-1.2, 0], [1.2, 2]))\n",
    "atlas = box.BoxAtlas()\n",
    "initial_state = box.BoxAtlasState(atlas)\n",
    "initial_state.qcom = np.array([0, 1])\n",
    "initial_state.vcom = np.array([-4, 0.])\n",
    "initial_state.qlimb = map(np.array, [[0.75, 1], [0.25, 0], [-0.25, 0], [-0.75, 1]])\n",
    "\n",
    "opt = BoxAtlasContactStabilization(initial_state, env)\n",
    "states, inputs, contact_indicator = opt.solve()\n",
    "ts = states.components[0].breaks"
   ]
  },
  {
   "cell_type": "code",
   "execution_count": 22,
   "metadata": {
    "collapsed": false
   },
   "outputs": [],
   "source": [
    "for t in np.linspace(0, ts[-1] - 0.001, ts[-1] / 0.01):\n",
    "    box.draw(vis, states(t), inputs(t), env)\n",
    "    time.sleep(0.05)"
   ]
  },
  {
   "cell_type": "code",
   "execution_count": 46,
   "metadata": {
    "collapsed": false
   },
   "outputs": [
    {
     "data": {
      "text/plain": [
       "[array([  6.82121026e-13,   6.82121026e-13]),\n",
       " array([ 264.92602059,  -12.73515902]),\n",
       " array([ 190.71461294,   -4.78480153]),\n",
       " array([ 126.33757119,    3.82157343]),\n",
       " array([ 73.86979338,  12.97534496]),\n",
       " array([ 33.39079319,  22.47011835]),\n",
       " array([ 17.75708126,  17.75708126]),\n",
       " array([ 11.45692333,  11.45692333]),\n",
       " array([ 6.74091093,  6.74091093]),\n",
       " array([ 3.9003769,  3.9003769]),\n",
       " array([ 4.15530249,  4.15530249]),\n",
       " array([ 7.19252844,  7.19252844]),\n",
       " array([ 12.82836644,  12.82836644]),\n",
       " array([ 16.60829706,  16.60829706]),\n",
       " array([ 16.47674383,  16.47674383]),\n",
       " array([ 16.42398245,  16.42398245]),\n",
       " array([ 16.31952099,  16.31952099]),\n",
       " array([ 16.29263568,  16.29263568]),\n",
       " array([ 16.18995646,  16.18995646]),\n",
       " array([ 16.27477265,  16.27477265])]"
      ]
     },
     "execution_count": 46,
     "metadata": {},
     "output_type": "execute_result"
    }
   ],
   "source": [
    "[inputs(t).flimb[3] for t in ts[:-1]]"
   ]
  },
  {
   "cell_type": "code",
   "execution_count": 47,
   "metadata": {
    "collapsed": false
   },
   "outputs": [
    {
     "data": {
      "text/plain": [
       "[array([ 0.]),\n",
       " array([ 1.]),\n",
       " array([ 1.]),\n",
       " array([ 1.]),\n",
       " array([ 1.]),\n",
       " array([ 1.]),\n",
       " array([ 1.]),\n",
       " array([ 1.]),\n",
       " array([ 1.]),\n",
       " array([ 1.]),\n",
       " array([ 1.]),\n",
       " array([ 1.]),\n",
       " array([ 1.]),\n",
       " array([ 1.]),\n",
       " array([ 1.]),\n",
       " array([ 1.]),\n",
       " array([ 1.]),\n",
       " array([ 1.]),\n",
       " array([ 1.]),\n",
       " array([ 1.])]"
      ]
     },
     "execution_count": 47,
     "metadata": {},
     "output_type": "execute_result"
    }
   ],
   "source": [
    "[f.coeffs[0] for f in contact_indicator[3].functions]"
   ]
  },
  {
   "cell_type": "code",
   "execution_count": 8,
   "metadata": {
    "collapsed": true
   },
   "outputs": [],
   "source": [
    "i = 0\n"
   ]
  },
  {
   "cell_type": "code",
   "execution_count": 145,
   "metadata": {
    "collapsed": false
   },
   "outputs": [],
   "source": [
    "box.draw(vis, states(min(ts[i], ts[-1]-0.001)), inputs(min(ts[i], ts[-1]-0.001)), env)\n",
    "if i < len(ts) - 1:\n",
    "    i += 1\n",
    "else:\n",
    "    i = 0"
   ]
  },
  {
   "cell_type": "code",
   "execution_count": null,
   "metadata": {
    "collapsed": true
   },
   "outputs": [],
   "source": []
  }
 ],
 "metadata": {
  "kernelspec": {
   "display_name": "Python 2",
   "language": "python",
   "name": "python2"
  },
  "language_info": {
   "codemirror_mode": {
    "name": "ipython",
    "version": 2
   },
   "file_extension": ".py",
   "mimetype": "text/x-python",
   "name": "python",
   "nbconvert_exporter": "python",
   "pygments_lexer": "ipython2",
   "version": "2.7.6"
  }
 },
 "nbformat": 4,
 "nbformat_minor": 1
}
