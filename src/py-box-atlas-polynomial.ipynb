{
 "cells": [
  {
   "cell_type": "code",
   "execution_count": 1,
   "metadata": {
    "collapsed": false
   },
   "outputs": [],
   "source": [
    "import pydrake.solvers.mathematicalprogram as mp\n",
    "import numpy as np"
   ]
  },
  {
   "cell_type": "code",
   "execution_count": 2,
   "metadata": {
    "collapsed": false
   },
   "outputs": [],
   "source": [
    "from polynomial import Polynomial\n",
    "from piecewise import Piecewise"
   ]
  },
  {
   "cell_type": "code",
   "execution_count": 5,
   "metadata": {
    "collapsed": true
   },
   "outputs": [],
   "source": [
    "def piecewise_polynomial_variable(prog, domain, dimension, degree):\n",
    "    C = [prog.NewContinuousVariables(degree + 1, len(domain) - 1) for _ in range(dimension)]\n",
    "    C = np.stack(C, axis=2)\n",
    "    assert C.shape == (degree + 1, len(domain) - 1, dimension)\n",
    "    return Piecewise(domain,\n",
    "                     [Polynomial([C[i, j, :] for i in range(degree + 1)]) \n",
    "                          for j in range(len(domain) - 1)])"
   ]
  },
  {
   "cell_type": "code",
   "execution_count": 13,
   "metadata": {
    "collapsed": false
   },
   "outputs": [
    {
     "name": "stdout",
     "output_type": "stream",
     "text": [
      "\n"
     ]
    }
   ],
   "source": [
    "def require_continuity(prog, piecewise):\n",
    "    for t in piecewise.breaks[1:-1]:\n",
    "        frombelow = piecewise.from_below(t)\n",
    "        fromabove = piecewise.from_above(t)\n",
    "        for i in range(frombelow.size):\n",
    "            print \"continuity:\", frombelow.flat[i].Expand(), fromabove.flat[i].Expand()\n",
    "            prog.AddLinearConstraint(frombelow.flat[i].Expand() == fromabove.flat[i].Expand())\n",
    "    "
   ]
  },
  {
   "cell_type": "code",
   "execution_count": 14,
   "metadata": {
    "collapsed": false
   },
   "outputs": [
    {
     "name": "stdout",
     "output_type": "stream",
     "text": [
      "continuity: (x(0,0) + 0.1 * x(1,0) + 0.01 * x(2,0)) x(0,1)\n",
      "continuity: (x(0,1) + 0.1 * x(1,1) + 0.01 * x(2,1)) x(0,2)\n",
      "continuity: (x(0,2) + 0.1 * x(1,2) + 0.01 * x(2,2)) x(0,3)\n",
      "continuity: (x(0,3) + 0.1 * x(1,3) + 0.01 * x(2,3)) x(0,4)\n",
      "continuity: (x(0,4) + 0.1 * x(1,4) + 0.01 * x(2,4)) x(0,5)\n",
      "continuity: (x(0,5) + 0.1 * x(1,5) + 0.01 * x(2,5)) x(0,6)\n",
      "continuity: (x(0,6) + 0.1 * x(1,6) + 0.01 * x(2,6)) x(0,7)\n",
      "continuity: (x(0,7) + 0.1 * x(1,7) + 0.01 * x(2,7)) x(0,8)\n",
      "continuity: (x(0,8) + 0.1 * x(1,8) + 0.01 * x(2,8)) x(0,9)\n",
      "continuity: (x(1,0) + 0.2 * x(2,0)) x(1,1)\n",
      "continuity: (x(1,1) + 0.2 * x(2,1)) x(1,2)\n",
      "continuity: (x(1,2) + 0.2 * x(2,2)) x(1,3)\n",
      "continuity: (x(1,3) + 0.2 * x(2,3)) x(1,4)\n",
      "continuity: (x(1,4) + 0.2 * x(2,4)) x(1,5)\n",
      "continuity: (x(1,5) + 0.2 * x(2,5)) x(1,6)\n",
      "continuity: (x(1,6) + 0.2 * x(2,6)) x(1,7)\n",
      "continuity: (x(1,7) + 0.2 * x(2,7)) x(1,8)\n",
      "continuity: (x(1,8) + 0.2 * x(2,8)) x(1,9)\n"
     ]
    }
   ],
   "source": [
    "prog = mp.MathematicalProgram()\n",
    "position = piecewise_polynomial_variable(prog, np.linspace(0, 1, 11), 1, 2)\n",
    "require_continuity(prog, position)\n",
    "velocity = position.map(Polynomial.derivative)\n",
    "require_continuity(prog, velocity)"
   ]
  },
  {
   "cell_type": "code",
   "execution_count": null,
   "metadata": {
    "collapsed": true
   },
   "outputs": [],
   "source": []
  }
 ],
 "metadata": {
  "kernelspec": {
   "display_name": "Python 2",
   "language": "python",
   "name": "python2"
  },
  "language_info": {
   "codemirror_mode": {
    "name": "ipython",
    "version": 2
   },
   "file_extension": ".py",
   "mimetype": "text/x-python",
   "name": "python",
   "nbconvert_exporter": "python",
   "pygments_lexer": "ipython2",
   "version": "2.7.11"
  }
 },
 "nbformat": 4,
 "nbformat_minor": 1
}
