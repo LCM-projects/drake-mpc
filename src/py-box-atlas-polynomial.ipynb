{
 "cells": [
  {
   "cell_type": "code",
   "execution_count": 2,
   "metadata": {
    "collapsed": true
   },
   "outputs": [],
   "source": [
    "from __future__ import division, print_function"
   ]
  },
  {
   "cell_type": "code",
   "execution_count": 3,
   "metadata": {
    "collapsed": false
   },
   "outputs": [
    {
     "name": "stdout",
     "output_type": "stream",
     "text": [
      "Populating the interactive namespace from numpy and matplotlib\n"
     ]
    }
   ],
   "source": [
    "%pylab inline"
   ]
  },
  {
   "cell_type": "code",
   "execution_count": 58,
   "metadata": {
    "collapsed": true
   },
   "outputs": [],
   "source": [
    "import time\n",
    "from collections import namedtuple\n",
    "\n",
    "import pydrake.solvers.mathematicalprogram as mp\n",
    "import numpy as np\n",
    "from irispy import Polyhedron\n",
    "from director import viewerclient as vc\n",
    "\n",
    "from polynomial import Polynomial\n",
    "from piecewise import Piecewise"
   ]
  },
  {
   "cell_type": "code",
   "execution_count": 69,
   "metadata": {
    "collapsed": true
   },
   "outputs": [],
   "source": [
    "vis = vc.Visualizer()"
   ]
  },
  {
   "cell_type": "code",
   "execution_count": 5,
   "metadata": {
    "collapsed": true
   },
   "outputs": [],
   "source": [
    "def piecewise_polynomial_variable(prog, domain, dimension, degree, kind=\"continuous\"):\n",
    "    if kind == \"continuous\":\n",
    "        C = [prog.NewContinuousVariables(degree + 1, len(domain) - 1) for _ in range(dimension)]\n",
    "    elif kind == \"binary\":\n",
    "        C = [prog.NewBinaryVariables(degree + 1, len(domain) - 1) for _ in range(dimension)]\n",
    "    else:\n",
    "        raise ValueError(\"Expected kind to be 'continuous' or 'binary', but got {:s}\".format(kind))    \n",
    "    C = np.stack(C, axis=2)\n",
    "    assert C.shape == (degree + 1, len(domain) - 1, dimension)\n",
    "    return Piecewise(domain,\n",
    "                     [Polynomial([C[i, j, :] for i in range(degree + 1)]) \n",
    "                          for j in range(len(domain) - 1)])"
   ]
  },
  {
   "cell_type": "code",
   "execution_count": 6,
   "metadata": {
    "collapsed": false
   },
   "outputs": [],
   "source": [
    "def require_continuity(prog, piecewise):\n",
    "    for t in piecewise.breaks[1:-1]:\n",
    "        frombelow = piecewise.from_below(t)\n",
    "        fromabove = piecewise.from_above(t)\n",
    "        for i in range(frombelow.size):\n",
    "            prog.AddLinearConstraint(frombelow.flat[i].Expand() == fromabove.flat[i].Expand())\n",
    "    "
   ]
  },
  {
   "cell_type": "code",
   "execution_count": 48,
   "metadata": {
    "collapsed": false
   },
   "outputs": [],
   "source": [
    "class BoxAtlas(object):\n",
    "    dim = 2\n",
    "    g = 9.81\n",
    "    mass = 10\n",
    "    limb_velocity_limits = [\n",
    "        10,\n",
    "        10,\n",
    "        10,\n",
    "        10\n",
    "    ]\n",
    "    \n",
    "    limb_bounds = [\n",
    "        Polyhedron.fromBounds([0.5, -0.5], [1.0, 0.5]),    # right arm\n",
    "        Polyhedron.fromBounds([0.0, -1.0], [0.5, -0.5]),   # right leg\n",
    "        Polyhedron.fromBounds([-0.5, -1.0], [0.0, -0.5]),  # left leg\n",
    "        Polyhedron.fromBounds([-1.0, -0.5], [-0.5, 0.5])  # left arm\n",
    "    ]\n",
    "    \n",
    "    def __init__(self):\n",
    "        pass\n",
    "\n",
    "    \n",
    "class BoxAtlasState(object):\n",
    "    def __init__(self, robot, qcom=None, vcom=None, qlimb=None):\n",
    "        self.robot = robot\n",
    "        if qcom is None:\n",
    "            qcom = np.zeros(robot.dim)\n",
    "        if vcom is None:\n",
    "            vcom = np.zeros(robot.dim)\n",
    "        if qlimb is None:\n",
    "            qlimb = [np.zeros(robot.dim) for _ in robot.limb_bounds]\n",
    "        \n",
    "        self.qcom = qcom\n",
    "        self.vcom = vcom\n",
    "        self.qlimb = qlimb\n",
    "            \n",
    "    def draw(self, vis, atlasinput=None):\n",
    "        vis[\"body\"].setgeometry(vc.Box(lengths=[0.1, 0.1, 0.1]))\n",
    "        vis[\"body\"].settransform(vc.transformations.translation_matrix([self.qcom[0], 0, self.qcom[1]]))\n",
    "        for (i, q) in enumerate(self.qlimb):\n",
    "            v = vis[\"limb_{:d}\".format(i)]\n",
    "            v.setgeometry(vc.Sphere(radius=0.05))\n",
    "            v.settransform(vc.transformations.translation_matrix([q[0], 0, q[1]]))\n",
    "            \n",
    "        \n",
    "class BoxAtlasInput(object):\n",
    "    def __init__(self, robot, flimb=None):\n",
    "        self.robot = robot\n",
    "        if flimb is None:\n",
    "            flimb = [np.zeros(robot.dim) for _ in robot.limb_bounds]\n",
    "        self.flimb = flimb\n",
    "        \n",
    "Surface = namedtuple(\"Surface\", [\"pose_constraints\", \"force_constraints\"])\n",
    "        \n",
    "class Environment(object):\n",
    "    def __init__(self, surfaces):\n",
    "        self.surfaces = surfaces\n",
    "        \n",
    "class Trajectory(object):\n",
    "    def __init__(self, components, constructor):\n",
    "        self.components = components\n",
    "        self.constructor = constructor\n",
    "    \n",
    "    def __call__(self, t):\n",
    "        return self.constructor(*[c(t) for c in self.components])"
   ]
  },
  {
   "cell_type": "code",
   "execution_count": 49,
   "metadata": {
    "collapsed": true
   },
   "outputs": [],
   "source": [
    "def get_piecewise_solution(prog, piecewise):\n",
    "    return piecewise.map(lambda p: p.map(lambda x: prog.GetSolution(x)))\n"
   ]
  },
  {
   "cell_type": "code",
   "execution_count": 109,
   "metadata": {
    "collapsed": false
   },
   "outputs": [],
   "source": [
    "def contact_stabilize(initial_state, env):\n",
    "    robot = initial_state.robot\n",
    "    dt = 0.01\n",
    "    time_horizon = 20 * dt\n",
    "    ts = np.linspace(0, time_horizon, time_horizon / dt + 1)\n",
    "    dim = robot.dim\n",
    "    num_limbs = len(robot.limb_bounds)\n",
    "    gravity_force = np.zeros(dim)\n",
    "    gravity_force[-1] = -robot.mass * robot.g\n",
    "    vlimb_max = 5\n",
    "    \n",
    "    Mq = 10\n",
    "    Mv = 100\n",
    "    Mf = 1000\n",
    "\n",
    "    prog = mp.MathematicalProgram()\n",
    "    qcom = piecewise_polynomial_variable(prog, ts, dim, 2)\n",
    "    require_continuity(prog, qcom)\n",
    "    vcom = qcom.map(Polynomial.derivative)\n",
    "    require_continuity(prog, vcom)\n",
    "    acom = vcom.map(Polynomial.derivative)\n",
    "    \n",
    "    qlimb = [piecewise_polynomial_variable(prog, ts, dim, 0) for k in range(num_limbs)]\n",
    "    contact_force = [piecewise_polynomial_variable(prog, ts, dim, 0) for k in range(num_limbs)]\n",
    "    contact = [piecewise_polynomial_variable(prog, ts, dim, 0, kind=\"binary\") for k in range(num_limbs)]\n",
    "\n",
    "    for k in range(num_limbs):\n",
    "        for j in range(len(ts) - 1):\n",
    "            t = ts[j]\n",
    "            indicator = contact[k](t)[0]\n",
    "            A = env.surfaces[k].pose_constraints.getA()\n",
    "            b = env.surfaces[k].pose_constraints.getB()\n",
    "            qlimb_after_dt = qlimb[k].from_below(ts[j + 1])\n",
    "            for i in range(A.shape[0]):\n",
    "                prog.AddLinearConstraint((A[i, :].dot(qlimb_after_dt) - (b[i] + Mq * (1 - indicator))).Expand() <= 0)\n",
    "            \n",
    "            Af = env.surfaces[k].force_constraints.getA()\n",
    "            bf = env.surfaces[k].force_constraints.getB()\n",
    "            for i in range(Af.shape[0]):\n",
    "                prog.AddLinearConstraint((Af[i, :].dot(contact_force[k](t)) - (b[i] + Mf * (1 - indicator))).Expand() <= 0)\n",
    "            \n",
    "            for i in range(dim):\n",
    "                prog.AddLinearConstraint((contact_force[k](t)[i] - (Mf * indicator)).Expand() <= 0)\n",
    "            \n",
    "            if j < len(ts) - 3:\n",
    "                for i in range(dim):\n",
    "                    prog.AddLinearConstraint(((qlimb[k](ts[j + 1])[i] - qlimb[k](ts[j + 2])[i]) - (Mv * (1 - indicator))).Expand() <= 0)\n",
    "                    prog.AddLinearConstraint((-1 * (qlimb[k](ts[j + 1])[i] - qlimb[k](ts[j + 2])[i]) - (Mv * (1 - indicator))).Expand() <= 0)\n",
    "            \n",
    "    for k in range(num_limbs):\n",
    "        for j in range(len(ts) - 2):\n",
    "            t = ts[j]\n",
    "            for i in range(dim):\n",
    "                prog.AddLinearConstraint(((qlimb[k](ts[j + 1])[i] - qlimb[k](t)[i]) - vlimb_max).Expand() <= 0)\n",
    "                prog.AddLinearConstraint((-1 * (qlimb[k](ts[j + 1])[i] - qlimb[k](t)[i]) - vlimb_max).Expand() <= 0)\n",
    "        \n",
    "    # TODO: hard-coded free space\n",
    "    for t in ts[:-1]:\n",
    "        for i in range(dim):\n",
    "            prog.AddLinearConstraint(qcom(t)[i] <= 1)\n",
    "            prog.AddLinearConstraint(qcom(t)[i] >= -1)\n",
    "            \n",
    "            for k in range(num_limbs):\n",
    "                prog.AddLinearConstraint(qlimb[k](t)[i] <= 1)\n",
    "                prog.AddLinearConstraint(qlimb[k](t)[i] >= -1)\n",
    "\n",
    "    for t in ts[:-1]:\n",
    "        for i in range(dim):\n",
    "            total_contact_force = sum([contact_force[k](t)[i] for k in range(num_limbs)])\n",
    "            prog.AddLinearConstraint(total_contact_force + gravity_force[i] == robot.mass * acom(t)[i])\n",
    "\n",
    "    for i in range(dim):\n",
    "        prog.AddLinearConstraint(qcom(ts[0])[i] == initial_state.qcom[i])\n",
    "        prog.AddLinearConstraint(vcom(ts[0])[i].Expand() == initial_state.vcom[i])\n",
    "        for k in range(num_limbs):\n",
    "            prog.AddLinearConstraint(qlimb[k](ts[0])[i] == initial_state.qlimb[k][i])\n",
    "            \n",
    "    for t in ts[1:]:\n",
    "        for (k, polytope) in enumerate(robot.limb_bounds):\n",
    "            A = polytope.getA()\n",
    "            b = polytope.getB()\n",
    "            offset = qlimb[k].from_below(t) - qcom.from_below(t)\n",
    "            for i in range(A.shape[0]):\n",
    "                prog.AddLinearConstraint((A[i, :].dot(offset) - b[i]).Expand() <= 0)\n",
    "\n",
    "    all_force_vars = np.hstack([contact_force[k](t) for t in ts[:-1] for k in range(num_limbs)])\n",
    "    print(all_force_vars.shape)\n",
    "    prog.AddQuadraticCost(0.01 * np.eye(len(all_force_vars)),\n",
    "                          np.zeros(len(all_force_vars)),\n",
    "                          all_force_vars)\n",
    "    all_qcom_vars = np.hstack([p[0] for p in qcom.functions])\n",
    "    print(all_qcom_vars.shape)\n",
    "    prog.AddQuadraticCost(0.01 * np.eye(len(all_qcom_vars)),\n",
    "                          np.zeros(len(all_qcom_vars)),\n",
    "                          all_qcom_vars)\n",
    "\n",
    "\n",
    "    result = prog.Solve()\n",
    "    print(result)\n",
    "    assert result == mp.SolutionResult.kSolutionFound\n",
    "\n",
    "    qcom = get_piecewise_solution(prog, qcom)\n",
    "    vcom = qcom.map(Polynomial.derivative)\n",
    "    qlimb = [get_piecewise_solution(prog, qlimb[k]) for k in range(num_limbs)]\n",
    "    flimb = [get_piecewise_solution(prog, contact_force[k]) for k in range(num_limbs)]\n",
    "    contact = [get_piecewise_solution(prog, contact[k]) for k in range(num_limbs)]\n",
    "    return (Trajectory(\n",
    "        [qcom, vcom] + qlimb,\n",
    "        lambda qcom, vcom, *qlimb: BoxAtlasState(robot, qcom=qcom, vcom=vcom, qlimb=qlimb)\n",
    "    ), Trajectory(\n",
    "        flimb,\n",
    "        lambda *flimb: BoxAtlasInput(robot, flimb=flimb)\n",
    "    ), contact)"
   ]
  },
  {
   "cell_type": "code",
   "execution_count": 110,
   "metadata": {
    "collapsed": false
   },
   "outputs": [
    {
     "name": "stdout",
     "output_type": "stream",
     "text": [
      "(160,)\n",
      "(40,)\n",
      "SolutionResult.kSolutionFound\n"
     ]
    }
   ],
   "source": [
    "surfaces = [\n",
    "    Surface(Polyhedron.fromBounds([1, -1], [1, 1]),\n",
    "            Polyhedron(np.array([[1, -1], [1, 1]]), np.array([0, 0]))),\n",
    "    Surface(Polyhedron.fromBounds([-1, -1], [1, -1]), \n",
    "            Polyhedron(np.array([[-1, -1], [1, -1]]), np.array([0, 0]))),\n",
    "    Surface(Polyhedron.fromBounds([-1, -1], [1, -1]), \n",
    "            Polyhedron(np.array([[-1, -1], [1, -1]]), np.array([0, 0]))),\n",
    "    Surface(Polyhedron.fromBounds([-1, -1], [-1, 1]),\n",
    "            Polyhedron(np.array([[-1, -1], [-1, 1]]), np.array([0, 0]))),\n",
    "]\n",
    "\n",
    "env = Environment(surfaces)\n",
    "atlas = BoxAtlas()\n",
    "initial_state = BoxAtlasState(atlas)\n",
    "initial_state.qcom = np.array([0, 0])\n",
    "initial_state.vcom = np.array([10.0, 0])\n",
    "initial_state.qlimb = map(np.array, [[0.75, 0], [0.25, -0.75], [-0.25, -0.75], [-0.75, 0]])\n",
    "\n",
    "states, inputs, zlimb = contact_stabilize(initial_state, env)"
   ]
  },
  {
   "cell_type": "code",
   "execution_count": 113,
   "metadata": {
    "collapsed": true
   },
   "outputs": [],
   "source": [
    "for t in linspace(0, 0.19, 100):\n",
    "    states(t).draw(vis)\n",
    "    time.sleep(0.01)"
   ]
  },
  {
   "cell_type": "code",
   "execution_count": 55,
   "metadata": {
    "collapsed": false
   },
   "outputs": [],
   "source": [
    "states(0).draw(vis)"
   ]
  },
  {
   "cell_type": "code",
   "execution_count": null,
   "metadata": {
    "collapsed": true
   },
   "outputs": [],
   "source": []
  }
 ],
 "metadata": {
  "kernelspec": {
   "display_name": "Python 2",
   "language": "python",
   "name": "python2"
  },
  "language_info": {
   "codemirror_mode": {
    "name": "ipython",
    "version": 2
   },
   "file_extension": ".py",
   "mimetype": "text/x-python",
   "name": "python",
   "nbconvert_exporter": "python",
   "pygments_lexer": "ipython2",
   "version": "2.7.11"
  }
 },
 "nbformat": 4,
 "nbformat_minor": 1
}
