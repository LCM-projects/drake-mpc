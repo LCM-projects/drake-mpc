{
 "cells": [
  {
   "cell_type": "code",
   "execution_count": 1,
   "metadata": {
    "collapsed": false
   },
   "outputs": [],
   "source": [
    "import pydrake.solvers.mathematicalprogram as mp\n",
    "import numpy as np"
   ]
  },
  {
   "cell_type": "code",
   "execution_count": 10,
   "metadata": {
    "collapsed": false
   },
   "outputs": [
    {
     "name": "stdout",
     "output_type": "stream",
     "text": [
      "Populating the interactive namespace from numpy and matplotlib\n"
     ]
    }
   ],
   "source": [
    "%pylab inline"
   ]
  },
  {
   "cell_type": "code",
   "execution_count": 2,
   "metadata": {
    "collapsed": false
   },
   "outputs": [],
   "source": [
    "from polynomial import Polynomial\n",
    "from piecewise import Piecewise"
   ]
  },
  {
   "cell_type": "code",
   "execution_count": 3,
   "metadata": {
    "collapsed": true
   },
   "outputs": [],
   "source": [
    "def piecewise_polynomial_variable(prog, domain, dimension, degree, kind=\"continuous\"):\n",
    "    if kind == \"continuous\":\n",
    "        C = [prog.NewContinuousVariables(degree + 1, len(domain) - 1) for _ in range(dimension)]\n",
    "    elif kind == \"binary\":\n",
    "        C = [prog.NewBinaryVariables(degree + 1, len(domain) - 1) for _ in range(dimension)]\n",
    "    else:\n",
    "        raise ValueError(\"Expected kind to be 'continuous' or 'binary', but got {:s}\".format(kind))    \n",
    "    C = np.stack(C, axis=2)\n",
    "    assert C.shape == (degree + 1, len(domain) - 1, dimension)\n",
    "    return Piecewise(domain,\n",
    "                     [Polynomial([C[i, j, :] for i in range(degree + 1)]) \n",
    "                          for j in range(len(domain) - 1)])"
   ]
  },
  {
   "cell_type": "code",
   "execution_count": 4,
   "metadata": {
    "collapsed": false
   },
   "outputs": [],
   "source": [
    "def require_continuity(prog, piecewise):\n",
    "    for t in piecewise.breaks[1:-1]:\n",
    "        frombelow = piecewise.from_below(t)\n",
    "        fromabove = piecewise.from_above(t)\n",
    "        for i in range(frombelow.size):\n",
    "            prog.AddLinearConstraint(frombelow.flat[i].Expand() == fromabove.flat[i].Expand())\n",
    "    "
   ]
  },
  {
   "cell_type": "code",
   "execution_count": 29,
   "metadata": {
    "collapsed": false
   },
   "outputs": [
    {
     "name": "stdout",
     "output_type": "stream",
     "text": [
      "SolutionResult.kSolutionFound\n"
     ]
    }
   ],
   "source": [
    "dt = 0.1\n",
    "time_horizon = 1\n",
    "ts = np.linspace(0, time_horizon, time_horizon / dt + 1)\n",
    "dim = 1\n",
    "mass = 1\n",
    "g = 9.81\n",
    "gravity_force = np.zeros(dim)\n",
    "gravity_force[-1] = -mass * g\n",
    "\n",
    "prog = mp.MathematicalProgram()\n",
    "position = piecewise_polynomial_variable(prog, ts, dim, 2)\n",
    "require_continuity(prog, position)\n",
    "velocity = position.map(Polynomial.derivative)\n",
    "require_continuity(prog, velocity)\n",
    "acceleration = velocity.map(Polynomial.derivative)\n",
    "\n",
    "contact_force = piecewise_polynomial_variable(prog, ts, dim, 0)\n",
    "contact = piecewise_polynomial_variable(prog, ts, dim, 0, kind=\"binary\")\n",
    "\n",
    "# TODO: just one dimension handled here\n",
    "for t in ts[:-1]:\n",
    "    prog.AddLinearConstraint(contact_force(t)[0] <= 1000 * contact(t)[0])\n",
    "    prog.AddLinearConstraint((position.from_below(t + dt)[0] - 10 * (1 - contact(t)[0])).Expand() <= 0)\n",
    "    prog.AddLinearConstraint(position(t)[0] >= 0)\n",
    "\n",
    "for t in ts[:-1]:\n",
    "    for i in range(dim):\n",
    "        prog.AddLinearConstraint(contact_force(t)[i] + gravity_force[i] == mass * acceleration(t)[i])\n",
    "\n",
    "prog.AddLinearConstraint(position(0)[0] == 1.0)\n",
    "prog.AddLinearConstraint(velocity(0)[0].Expand() == 0.0)\n",
    "\n",
    "prog.AddQuadraticCost(np.eye(len(ts) - 1), np.zeros(len(ts) - 1), \n",
    "                      np.hstack([contact_force(t) for t in ts[:-1]]))\n",
    "\n",
    "result = prog.Solve()\n",
    "print(result)\n",
    "assert result == mp.SolutionResult.kSolutionFound\n",
    "\n",
    "q = position.map(lambda p: p.map(lambda x: prog.GetSolution(x)))"
   ]
  },
  {
   "cell_type": "code",
   "execution_count": 30,
   "metadata": {
    "collapsed": false
   },
   "outputs": [
    {
     "data": {
      "text/plain": [
       "[<matplotlib.lines.Line2D at 0x106a23250>]"
      ]
     },
     "execution_count": 30,
     "metadata": {},
     "output_type": "execute_result"
    },
    {
     "data": {
      "image/png": "[encoded data removed]",
      "text/plain": [
       "<matplotlib.figure.Figure at 0x1062d41d0>"
      ]
     },
     "metadata": {},
     "output_type": "display_data"
    }
   ],
   "source": [
    "tt = np.linspace(ts[0], ts[-1] - 0.01, 100)\n",
    "plot(tt, [q(t) for t in tt])"
   ]
  },
  {
   "cell_type": "code",
   "execution_count": null,
   "metadata": {
    "collapsed": true
   },
   "outputs": [],
   "source": []
  }
 ],
 "metadata": {
  "kernelspec": {
   "display_name": "Python 2",
   "language": "python",
   "name": "python2"
  },
  "language_info": {
   "codemirror_mode": {
    "name": "ipython",
    "version": 2
   },
   "file_extension": ".py",
   "mimetype": "text/x-python",
   "name": "python",
   "nbconvert_exporter": "python",
   "pygments_lexer": "ipython2",
   "version": "2.7.11"
  }
 },
 "nbformat": 4,
 "nbformat_minor": 1
}
