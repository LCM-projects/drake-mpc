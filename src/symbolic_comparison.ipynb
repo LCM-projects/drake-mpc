{
 "cells": [
  {
   "cell_type": "code",
   "execution_count": 1,
   "metadata": {
    "collapsed": false
   },
   "outputs": [
    {
     "name": "stdout",
     "output_type": "stream",
     "text": [
      "Populating the interactive namespace from numpy and matplotlib\n"
     ]
    }
   ],
   "source": [
    "%load_ext autoreload\n",
    "%autoreload 2\n",
    "%pylab inline"
   ]
  },
  {
   "cell_type": "code",
   "execution_count": 2,
   "metadata": {
    "collapsed": false
   },
   "outputs": [],
   "source": [
    "import pydrake.solvers.mathematicalprogram as mp"
   ]
  },
  {
   "cell_type": "code",
   "execution_count": 3,
   "metadata": {
    "collapsed": true
   },
   "outputs": [],
   "source": [
    "import numpy as np\n",
    "import mpc_tools as mpc\n",
    "import mpc_tools.mpcqp as mqp"
   ]
  },
  {
   "cell_type": "code",
   "execution_count": 14,
   "metadata": {
    "collapsed": true
   },
   "outputs": [],
   "source": [
    "m = 1.\n",
    "l = 1.\n",
    "g = 10.\n",
    "A = np.array([\n",
    "    [0., 1.],\n",
    "    [g/l, 0.]\n",
    "])\n",
    "B = np.array([\n",
    "    [0.],\n",
    "    [1/(m*l**2.)]\n",
    "])\n",
    "t_s = .1\n",
    "sys = mpc.DTLinearSystem.from_continuous(t_s, A, B)\n",
    "N = 1\n",
    "Q = np.eye(A.shape[0])/100.\n",
    "R = np.eye(B.shape[1])\n",
    "x_max = np.array([[np.pi/6.], [np.pi/20./(N*t_s)]])\n",
    "x_min = -x_max\n",
    "u_max = np.array([[m*g*l*np.pi/8.]])\n",
    "u_min = -u_max"
   ]
  },
  {
   "cell_type": "code",
   "execution_count": 76,
   "metadata": {
    "collapsed": false
   },
   "outputs": [],
   "source": [
    "factory = mqp.MPCQPFactory(sys, N, Q, R)\n",
    "factory.add_state_bound(x_max, x_min)\n",
    "factory.add_input_bound(u_max, u_min)\n",
    "\n",
    "mpc_qp = factory.assemble()"
   ]
  },
  {
   "cell_type": "code",
   "execution_count": 77,
   "metadata": {
    "collapsed": false
   },
   "outputs": [],
   "source": [
    "prog = mp.MathematicalProgram()\n",
    "x = prog.NewContinuousVariables(2, N, \"x\")\n",
    "u = prog.NewContinuousVariables(1, N, \"u\")\n",
    "for j in range(N):\n",
    "    x_next = sys.A.dot(x[:, j]) + sys.B.dot(u[:, j])\n",
    "    for i in range(x.shape[0]):\n",
    "        prog.AddLinearConstraint(x_next[i] <= x_max[i])\n",
    "        prog.AddLinearConstraint(x_next[i] >= x_min[i])\n",
    "        \n",
    "    for i in range(u.shape[0]):\n",
    "        prog.AddLinearConstraint(u[i, j] <= u_max[i])\n",
    "        prog.AddLinearConstraint(u[i, j] >= u_min[i])\n",
    "    \n",
    "    if j < N - 1:\n",
    "        for i in range(x.shape[0]):\n",
    "            prog.AddLinearConstraint(x[i, j + 1] == x_next[i])\n",
    "\n",
    "    prog.AddQuadraticCost(x_next.dot(Q).dot(x_next))\n",
    "    prog.AddQuadraticCost(u[:, j].dot(R).dot(u[:, j]))\n",
    "sym_qp = mqp.CanonicalMPCQP.from_mathematicalprogram(prog, u, x)"
   ]
  },
  {
   "cell_type": "code",
   "execution_count": 92,
   "metadata": {
    "collapsed": false
   },
   "outputs": [
    {
     "data": {
      "text/plain": [
       "[(0.0, 0.0),\n",
       " (0.0, 0.0),\n",
       " (-0.99533668671849473, -0.096343428812791745),\n",
       " (-0.69382188718187754, -0.71679655464856407),\n",
       " (0.99533668671849473, 0.096343428812791745),\n",
       " (0.69382188718187754, 0.71679655464856407)]"
      ]
     },
     "execution_count": 92,
     "metadata": {},
     "output_type": "execute_result"
    }
   ],
   "source": [
    "[tuple(x) for x in mpc_qp.E]"
   ]
  },
  {
   "cell_type": "code",
   "execution_count": 93,
   "metadata": {
    "collapsed": false
   },
   "outputs": [
    {
     "data": {
      "text/plain": [
       "[2, 3, 0, 1, 5, 4]"
      ]
     },
     "execution_count": 93,
     "metadata": {},
     "output_type": "execute_result"
    }
   ],
   "source": [
    "sorted(range(mpc_qp.E.shape[0]), key=lambda i: tuple(mpc_qp.E[i,:]))"
   ]
  },
  {
   "cell_type": "code",
   "execution_count": 91,
   "metadata": {
    "collapsed": false
   },
   "outputs": [
    {
     "data": {
      "text/plain": [
       "array([[0, 1],\n",
       "       [0, 1],\n",
       "       [0, 1],\n",
       "       [1, 0],\n",
       "       [1, 0],\n",
       "       [0, 1]])"
      ]
     },
     "execution_count": 91,
     "metadata": {},
     "output_type": "execute_result"
    }
   ],
   "source": [
    "np.argsort([tuple(x) for x in mpc_qp.E])"
   ]
  },
  {
   "cell_type": "code",
   "execution_count": 78,
   "metadata": {
    "collapsed": false
   },
   "outputs": [
    {
     "data": {
      "text/plain": [
       "array([[ 1.        ],\n",
       "       [-1.        ],\n",
       "       [ 0.00477743],\n",
       "       [ 0.06938219],\n",
       "       [-0.00477743],\n",
       "       [-0.06938219]])"
      ]
     },
     "execution_count": 78,
     "metadata": {},
     "output_type": "execute_result"
    }
   ],
   "source": [
    "mpc_qp.G"
   ]
  },
  {
   "cell_type": "code",
   "execution_count": 79,
   "metadata": {
    "collapsed": false
   },
   "outputs": [
    {
     "data": {
      "text/plain": [
       "array([[ 3.92699082],\n",
       "       [ 3.92699082],\n",
       "       [ 0.49614253],\n",
       "       [ 1.07189836],\n",
       "       [ 0.49614253],\n",
       "       [ 1.07189836]])"
      ]
     },
     "execution_count": 79,
     "metadata": {},
     "output_type": "execute_result"
    }
   ],
   "source": [
    "mpc_qp.W"
   ]
  },
  {
   "cell_type": "code",
   "execution_count": 80,
   "metadata": {
    "collapsed": false
   },
   "outputs": [
    {
     "data": {
      "text/plain": [
       "array([[ 0.        ,  0.        ],\n",
       "       [ 0.        ,  0.        ],\n",
       "       [-0.99533669, -0.09634343],\n",
       "       [-0.69382189, -0.71679655],\n",
       "       [ 0.99533669,  0.09634343],\n",
       "       [ 0.69382189,  0.71679655]])"
      ]
     },
     "execution_count": 80,
     "metadata": {},
     "output_type": "execute_result"
    }
   ],
   "source": [
    "mpc_qp.E"
   ]
  },
  {
   "cell_type": "code",
   "execution_count": 81,
   "metadata": {
    "collapsed": false
   },
   "outputs": [
    {
     "data": {
      "text/plain": [
       "0.99999999999999989"
      ]
     },
     "execution_count": 81,
     "metadata": {},
     "output_type": "execute_result"
    }
   ],
   "source": [
    "np.linalg.norm(np.hstack((mpc_qp.E[-2,:], mpc_qp.G[-2])))"
   ]
  },
  {
   "cell_type": "code",
   "execution_count": 82,
   "metadata": {
    "collapsed": false
   },
   "outputs": [
    {
     "data": {
      "text/plain": [
       "array([[ 0.00477743],\n",
       "       [-0.00477743],\n",
       "       [ 0.06938219],\n",
       "       [-0.06938219],\n",
       "       [ 1.        ],\n",
       "       [-1.        ]])"
      ]
     },
     "execution_count": 82,
     "metadata": {},
     "output_type": "execute_result"
    }
   ],
   "source": [
    "sym_qp.G"
   ]
  },
  {
   "cell_type": "code",
   "execution_count": 83,
   "metadata": {
    "collapsed": false
   },
   "outputs": [
    {
     "data": {
      "text/plain": [
       "array([[ 0.49614253],\n",
       "       [ 0.49614253],\n",
       "       [ 1.07189836],\n",
       "       [ 1.07189836],\n",
       "       [ 3.92699082],\n",
       "       [ 3.92699082]])"
      ]
     },
     "execution_count": 83,
     "metadata": {},
     "output_type": "execute_result"
    }
   ],
   "source": [
    "sym_qp.W"
   ]
  },
  {
   "cell_type": "code",
   "execution_count": 84,
   "metadata": {
    "collapsed": false
   },
   "outputs": [
    {
     "data": {
      "text/plain": [
       "array([[-0.99533669, -0.09634343],\n",
       "       [ 0.99533669,  0.09634343],\n",
       "       [-0.69382189, -0.71679655],\n",
       "       [ 0.69382189,  0.71679655],\n",
       "       [-0.        , -0.        ],\n",
       "       [-0.        , -0.        ]])"
      ]
     },
     "execution_count": 84,
     "metadata": {},
     "output_type": "execute_result"
    }
   ],
   "source": [
    "sym_qp.E"
   ]
  },
  {
   "cell_type": "code",
   "execution_count": 85,
   "metadata": {
    "collapsed": false
   },
   "outputs": [
    {
     "data": {
      "text/plain": [
       "array([[ 2.00020726]])"
      ]
     },
     "execution_count": 85,
     "metadata": {},
     "output_type": "execute_result"
    }
   ],
   "source": [
    "mpc_qp.H"
   ]
  },
  {
   "cell_type": "code",
   "execution_count": 86,
   "metadata": {
    "collapsed": false
   },
   "outputs": [
    {
     "data": {
      "text/plain": [
       "array([[ 2.00020726]])"
      ]
     },
     "execution_count": 86,
     "metadata": {},
     "output_type": "execute_result"
    }
   ],
   "source": [
    "sym_qp.H"
   ]
  },
  {
   "cell_type": "code",
   "execution_count": 87,
   "metadata": {
    "collapsed": true
   },
   "outputs": [],
   "source": [
    "controller = mpc.MPCController(sym_qp, u.shape[0])"
   ]
  },
  {
   "cell_type": "code",
   "execution_count": 88,
   "metadata": {
    "collapsed": false
   },
   "outputs": [
    {
     "name": "stdout",
     "output_type": "stream",
     "text": [
      "Computing critical region for the active set []\n",
      "(1, 1) (6, 1) (6, 1) (6, 2)\n",
      "Computing critical region for the active set [0]\n",
      "(1, 1) (6, 1) (6, 1) (6, 2)\n",
      "Computing critical region for the active set [1]\n",
      "(1, 1) (6, 1) (6, 1) (6, 2)\n",
      "Computing critical region for the active set [2]\n",
      "(1, 1) (6, 1) (6, 1) (6, 2)\n",
      "Computing critical region for the active set [3]\n",
      "(1, 1) (6, 1) (6, 1) (6, 2)\n",
      "LICQ does not hold for the active set [0, 2]\n",
      "    corrected active set [2]\n",
      "Computing critical region for the active set [2]\n",
      "(1, 1) (6, 1) (6, 1) (6, 2)\n",
      "LICQ does not hold for the active set [0, 3]\n",
      "    unfeasible critical region detected\n",
      "LICQ does not hold for the active set [0, 5]\n",
      "    unfeasible critical region detected\n",
      "LICQ does not hold for the active set [1, 2]\n",
      "    unfeasible critical region detected\n",
      "LICQ does not hold for the active set [1, 3]\n",
      "    corrected active set [3]\n",
      "Computing critical region for the active set [3]\n",
      "(1, 1) (6, 1) (6, 1) (6, 2)\n",
      "LICQ does not hold for the active set [1, 4]\n",
      "    unfeasible critical region detected\n",
      "LICQ does not hold for the active set [2, 5]\n",
      "    unfeasible critical region detected\n",
      "LICQ does not hold for the active set [3, 4]\n",
      "    unfeasible critical region detected\n",
      "\n",
      "Explicit solution successfully computed in 0.027946 s:\n",
      "parameter space partitioned in 7 critical regions.\n"
     ]
    }
   ],
   "source": [
    "controller.compute_explicit_solution()"
   ]
  },
  {
   "cell_type": "code",
   "execution_count": null,
   "metadata": {
    "collapsed": true
   },
   "outputs": [],
   "source": []
  }
 ],
 "metadata": {
  "kernelspec": {
   "display_name": "Python 2",
   "language": "python",
   "name": "python2"
  },
  "language_info": {
   "codemirror_mode": {
    "name": "ipython",
    "version": 2
   },
   "file_extension": ".py",
   "mimetype": "text/x-python",
   "name": "python",
   "nbconvert_exporter": "python",
   "pygments_lexer": "ipython2",
   "version": "2.7.6"
  }
 },
 "nbformat": 4,
 "nbformat_minor": 1
}
