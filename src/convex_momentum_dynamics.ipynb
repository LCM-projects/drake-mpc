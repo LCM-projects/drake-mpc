{
 "cells": [
  {
   "cell_type": "code",
   "execution_count": 1,
   "metadata": {
    "collapsed": false
   },
   "outputs": [],
   "source": [
    "using JuMP\n",
    "using Gurobi"
   ]
  },
  {
   "cell_type": "code",
   "execution_count": 35,
   "metadata": {
    "collapsed": false
   },
   "outputs": [
    {
     "name": "stderr",
     "output_type": "stream",
     "text": [
      "WARNING: Method definition (::Type{Main.ContactPoint})(String, Array{Float64, 2}) in module Main at In[2]:3 overwritten at In[35]:3.\n",
      "WARNING: Method definition (::Type{Main.ContactPoint})(Any, Any) in module Main at In[2]:3 overwritten at In[35]:3.\n",
      "WARNING: Method definition l2_norm(Any) in module Main at In[2]:9 overwritten at In[35]:9.\n"
     ]
    },
    {
     "data": {
      "text/plain": [
       "difference_convex_functions_decomposition (generic function with 1 method)"
      ]
     },
     "execution_count": 35,
     "metadata": {},
     "output_type": "execute_result"
    }
   ],
   "source": [
    "# type to store the info about a ContactPoint\n",
    "type ContactPoint\n",
    "    name::String\n",
    "    rot_matrix::Array{Float64,2} # maybe should be some sort of RotationMatrix type\n",
    "end\n",
    "\n",
    "# returns the square of the L2 norm of a vector\n",
    "function l2_norm(x)\n",
    "    return sum(x.^2)\n",
    "end\n",
    "\n",
    "function difference_convex_functions_decomposition(l, force)\n",
    "    # l = p - r, ray from com to contact location\n",
    "    \n",
    "    # the commas are important here to have size (2,) rather\n",
    "    # than (1,2)\n",
    "    a = [-l[3],l[2]]\n",
    "    b = [l[3],-l[1]]\n",
    "    c = [-l[2],-l[1]]\n",
    "    d = force[2:3]\n",
    "    e = force[[1,3]]\n",
    "    f = force[1:2]\n",
    "\n",
    "    # this is the decomposition of the cross product into difference\n",
    "    # of convex functions\n",
    "    # these are 3-vectors\n",
    "    p = 1/4 * [l2_norm(a+d),l2_norm(b+e),l2_norm(c+f)]\n",
    "    q = 1/4 * [l2_norm(a-d),l2_norm(b-e),l2_norm(c-f)]\n",
    "    \n",
    "    return p,q\n",
    "end"
   ]
  },
  {
   "cell_type": "code",
   "execution_count": 28,
   "metadata": {
    "collapsed": false
   },
   "outputs": [
    {
     "data": {
      "text/latex": [
       "$$ \\begin{alignat*}{1}\\min\\quad & 0\\\\\n",
       "\\text{Subject to} \\quad\\end{alignat*}\n",
       " $$"
      ],
      "text/plain": [
       "Feasibility problem with:\n",
       " * 0 linear constraints\n",
       " * 0 variables\n",
       "Solver is default solver"
      ]
     },
     "execution_count": 28,
     "metadata": {},
     "output_type": "execute_result"
    }
   ],
   "source": [
    "contact_list = [\"left_foot\", \"right_foot\"]    \n",
    "\n",
    "# initialize constants\n",
    "num_timesteps = 20\n",
    "num_knot_points = num_timesteps + 1\n",
    "robot_mass = 1\n",
    "dt = 0.1\n",
    "gravity = [0,0,-9.8]\n",
    "dimension = 3\n",
    "\n",
    "#setup foot positions in world\n",
    "contact_location = Dict()\n",
    "contact_location[\"left_foot\"] = [-0.5,0,0]\n",
    "contact_location[\"right_foot\"] = [0.5,0,0]\n",
    "mu = 0.5\n",
    "\n",
    "\n",
    "# com_data\n",
    "com_data = Dict();\n",
    "com_data[\"initial_position\"] = [0,0,1]\n",
    "com_data[\"final_position\"] = [0,0,1]\n",
    "\n",
    "\n",
    "# weights\n",
    "weights = Dict()\n",
    "weights[\"com_final_position\"] = 100\n",
    "weights[\"lin_momentum\"] = 0.1\n",
    "weights[\"forces\"] = 0.01\n",
    "weights[\"convex_bounds\"] = 1e-4 3 # if this is too large forces will just be zero\n",
    "\n",
    "# initialize the model\n",
    "model = Model()\n"
   ]
  },
  {
   "cell_type": "code",
   "execution_count": 29,
   "metadata": {
    "collapsed": false
   },
   "outputs": [
    {
     "data": {
      "text/latex": [
       "$$ l_cross_f_minus_{i,j,k} \\geq 0 \\quad\\forall i \\in \\{1,2,3\\}, j \\in \\{1,2,\\dots,19,20\\}, k \\in \\{left_foot,right_foot\\} $$"
      ],
      "text/plain": [
       "l_cross_f_minus[i,j,k] ≥ 0 ∀ i ∈ {1,2,3}, j ∈ {1,2,…,19,20}, k ∈ {left_foot,right_foot}"
      ]
     },
     "execution_count": 29,
     "metadata": {},
     "output_type": "execute_result"
    }
   ],
   "source": [
    "# add variables to model\n",
    "\n",
    "# com position\n",
    "@variable(model, com_position[1:3, 1:num_knot_points])\n",
    "\n",
    "# linear momentum\n",
    "@variable(model, lin_momentum[1:3, 1:num_knot_points])\n",
    "\n",
    "# angular momentum\n",
    "@variable(model, ang_momentum[1:3, 1:num_knot_points])\n",
    "\n",
    "# linear momentum dot\n",
    "@variable(model, lin_momentum_dot[1:3, 1:num_knot_points])\n",
    "\n",
    "# angular momentum dot\n",
    "@variable(model, ang_momentum_dot[1:3,1:num_knot_points])\n",
    "\n",
    "# forces\n",
    "contact_list = [\"left_foot\", \"right_foot\"]\n",
    "@variable(model, forces[1:3, 1:num_timesteps, contact_list] >= 0)\n",
    "\n",
    "# will eventually need something like frames attached to those bodies so we can figure\n",
    "# the friction cone and stuff\n",
    "# contact_frames would be an array of rotation matrices basically that\n",
    "# transform body to world\n",
    "\n",
    "\n",
    "# torques\n",
    "# bound them at zero for now\n",
    "@variable(model, 0 <= torques[1:3, 1:num_timesteps, contact_list] <= 0)\n",
    "\n",
    "# bounding variables for l x f terms\n",
    "@variable(model, l_cross_f_plus[1:dimension, 1:num_timesteps, contact_list] >= 0)\n",
    "@variable(model, l_cross_f_minus[1:dimension, 1:num_timesteps, contact_list] >= 0)"
   ]
  },
  {
   "cell_type": "code",
   "execution_count": 30,
   "metadata": {
    "collapsed": false
   },
   "outputs": [
    {
     "data": {
      "text/plain": [
       "3-element Array{JuMP.ConstraintRef{JuMP.Model,JuMP.GenericRangeConstraint{JuMP.GenericAffExpr{Float64,JuMP.Variable}}},1}:\n",
       " lin_momentum_dot[1,1] = 0\n",
       " lin_momentum_dot[2,1] = 0\n",
       " lin_momentum_dot[3,1] = 0"
      ]
     },
     "execution_count": 30,
     "metadata": {},
     "output_type": "execute_result"
    }
   ],
   "source": [
    "# add constraints to model\n",
    "for i=1:num_timesteps\n",
    "    \n",
    "    # com position integration constraint\n",
    "    @constraint(model, com_position[:,i+1] .- (com_position[:,i] .+\n",
    "        dt/robot_mass.*lin_momentum[:,i]) .== 0)\n",
    "    \n",
    "    # linear momentum integration constraint\n",
    "    @constraint(model, lin_momentum[:,i+1] .- (lin_momentum[:,i] \n",
    "            + lin_momentum_dot[:,i]*dt) .== 0)       \n",
    "    \n",
    "    # angular momentum integration constraint\n",
    "    @constraint(model, ang_momentum[:, i+1] .- (ang_momentum[:,i]\n",
    "            .+ ang_momentum_dot[:,i] * dt) .== 0)\n",
    "    \n",
    "    \n",
    "    total_force = zero(AffExpr) # total force\n",
    "    total_torque = zero(AffExpr) # total torque\n",
    "    \n",
    "    for contact_name in contact_list\n",
    "        total_force += forces[:,i,contact_name]\n",
    "        total_torque += torques[:,i,contact_name]\n",
    "    end \n",
    "        \n",
    "    # F = ma\n",
    "    @constraint(model, lin_momentum_dot[:,i] - (robot_mass*gravity .+ total_force) .== 0)\n",
    "    \n",
    "    # the total l x f term\n",
    "    l_cross_f = zero(AffExpr)\n",
    "    for contact_name in contact_list\n",
    "        # vector from com --> contact location\n",
    "        l = contact_location[contact_name] .- com_position[:,i]\n",
    "        force_local = forces[:,i,contact_name]\n",
    "        \n",
    "        # decompose into difference of convex functions\n",
    "        p,q = difference_convex_functions_decomposition(l, force_local)\n",
    "        \n",
    "        # add constraint for convex relaxation\n",
    "        @constraint(model, p .<= l_cross_f_plus[:,i,contact_name])\n",
    "        @constraint(model, q .<= l_cross_f_minus[:,i,contact_name])\n",
    "        \n",
    "        # add the contribution of this contact to the overally l x f term.\n",
    "        l_cross_f += l_cross_f_plus[:,i,contact_name] - l_cross_f_minus[:,i,contact_name]\n",
    "    end\n",
    "    \n",
    "    # angular momentum dot constraint\n",
    "    @constraint(model, ang_momentum_dot[:,i] .- (l_cross_f .+ total_torque) .== 0)\n",
    "end\n",
    "\n",
    "# initial condition constraints\n",
    "@constraint(model, com_position[:,1] .== com_data[\"initial_position\"])\n",
    "@constraint(model, lin_momentum[:,1] .== zeros(3))\n",
    "@constraint(model, lin_momentum_dot[:,1] .== zeros(3))"
   ]
  },
  {
   "cell_type": "code",
   "execution_count": 31,
   "metadata": {
    "collapsed": false
   },
   "outputs": [
    {
     "data": {
      "text/plain": [
       ":Min"
      ]
     },
     "execution_count": 31,
     "metadata": {},
     "output_type": "execute_result"
    }
   ],
   "source": [
    "# add objective\n",
    "com_final_position_cost = weights[\"com_final_position\"]*\n",
    "l2_norm(com_position[:,end] - com_data[\"final_position\"])\n",
    "\n",
    "lin_momentum_cost = weights[\"lin_momentum\"]*l2_norm(lin_momentum[:,:,:])    \n",
    "\n",
    "force_cost = zero(QuadExpr)\n",
    "convex_bound_cost = zero(QuadExpr)\n",
    "for contact_name in contact_list\n",
    "    force_cost += weights[\"forces\"]*l2_norm(forces[:,:,contact_name])\n",
    "    convex_bound_cost += weights[\"convex_bounds\"]*l2_norm(l_cross_f_plus[:,:,contact_name])\n",
    "    convex_bound_cost += weights[\"convex_bounds\"]*l2_norm(l_cross_f_minus[:,:,contact_name])\n",
    "end\n",
    "\n",
    "total_objective = com_final_position_cost + lin_momentum_cost\n",
    "+ force_cost\n",
    "\n",
    "total_objective += convex_bound_cost\n",
    "\n",
    "@objective(model, Min, total_objective)"
   ]
  },
  {
   "cell_type": "code",
   "execution_count": 32,
   "metadata": {
    "collapsed": false
   },
   "outputs": [
    {
     "name": "stdout",
     "output_type": "stream",
     "text": [
      "Optimize a model with 309 rows, 795 columns and 1149 nonzeros\n",
      "Model has 306 quadratic objective terms\n",
      "Model has 240 quadratic constraints\n",
      "Presolve removed 197 rows and 328 columns\n",
      "Presolve time: 0.02s\n",
      "Presolved: 1353 rows, 1391 columns, 3266 nonzeros\n",
      "Presolved model has 237 second-order cone constraints\n",
      "Ordering time: 0.00s\n",
      "\n",
      "Barrier statistics:\n",
      " Dense cols : 1\n",
      " Free vars  : 51\n",
      " AA' NZ     : 8.431e+03\n",
      " Factor NZ  : 2.629e+04 (roughly 1 MByte of memory)\n",
      " Factor Ops : 6.144e+05 (less than 1 second per iteration)\n",
      " Threads    : 1\n",
      "\n",
      "                  Objective                Residual\n",
      "Iter       Primal          Dual         Primal    Dual     Compl     Time\n",
      "   0   5.12472556e+01  5.12472556e+01  6.42e+01 3.77e+02  4.02e+01     0s\n",
      "   1  -2.17363677e+03 -1.61205117e+02  5.08e+01 1.33e+02  2.84e+01     0s\n",
      "   2  -2.18205130e+03 -2.30738687e+02  2.87e+01 8.92e+01  1.63e+01     0s\n",
      "   3  -2.17111874e+03 -2.35900316e+02  2.69e+01 8.61e+01  1.53e+01     0s\n",
      "   4  -1.81344816e+03 -2.74765859e+02  2.12e+01 6.70e+01  1.21e+01     0s\n",
      "   5  -1.51614296e+03 -3.02979704e+02  1.74e+01 5.26e+01  9.86e+00     0s\n",
      "   6  -1.46109097e+03 -3.10108366e+02  1.66e+01 4.65e+01  9.31e+00     0s\n",
      "   7  -1.24754268e+03 -3.17683185e+02  1.39e+01 4.25e+01  7.91e+00     0s\n",
      "   8  -1.15518534e+03 -3.27006502e+02  1.26e+01 3.73e+01  7.13e+00     0s\n",
      "   9  -1.01715591e+03 -3.36369928e+02  1.12e+01 3.12e+01  6.29e+00     0s\n",
      "  10  -9.00373184e+02 -3.49044606e+02  9.43e+00 2.01e+01  5.06e+00     0s\n",
      "  11  -8.09148691e+02 -3.49910329e+02  8.40e+00 1.83e+01  4.53e+00     0s\n",
      "  12  -7.73358300e+02 -3.50013682e+02  8.00e+00 1.65e+01  4.27e+00     0s\n",
      "  13  -7.31677064e+02 -3.49994526e+02  7.55e+00 1.53e+01  4.02e+00     0s\n",
      "  14  -7.15084252e+02 -3.49941265e+02  7.37e+00 1.50e+01  3.93e+00     0s\n",
      "  15  -7.00272928e+02 -3.49846515e+02  7.21e+00 1.47e+01  3.84e+00     0s\n",
      "  16  -6.74930281e+02 -3.48975549e+02  6.94e+00 1.41e+01  3.68e+00     0s\n",
      "  17  -6.20650362e+02 -3.48884742e+02  6.34e+00 1.37e+01  3.41e+00     0s\n",
      "  18  -5.88724703e+02 -3.48328235e+02  5.97e+00 1.32e+01  3.23e+00     0s\n",
      "  19  -5.72477968e+02 -3.44997827e+02  5.86e+00 1.12e+01  3.07e+00     0s\n",
      "  20  -5.20972437e+02 -3.09671416e+02  5.31e+00 3.89e+00  2.35e+00     0s\n",
      "  21  -2.20086528e+02 -3.08058204e+02  1.67e+00 3.63e+00  8.51e-01     0s\n",
      "  22  -1.75931698e+02 -2.78562560e+02  1.31e+00 2.33e+00  6.38e-01     0s\n",
      "  23  -1.60207426e+02 -2.72244064e+02  1.16e+00 2.11e+00  5.67e-01     0s\n",
      "  24  -1.60701585e+02 -2.60105826e+02  1.07e+00 1.76e+00  4.99e-01     0s\n",
      "  25  -1.33536619e+02 -2.16911292e+02  8.35e-01 7.74e-01  3.42e-01     0s\n",
      "  26  -8.21335711e+01 -1.96323785e+02  2.82e-02 5.08e-01  8.31e-02     0s\n",
      "  27  -8.24156161e+01 -1.83402214e+02  2.79e-02 4.26e-01  7.38e-02     0s\n",
      "  28  -8.28638613e+01 -1.79037553e+02  2.64e-02 4.04e-01  7.00e-02     0s\n",
      "  29  -8.32293139e+01 -1.75444871e+02  2.54e-02 3.86e-01  6.70e-02     0s\n",
      "  30  -8.41195385e+01 -1.73364862e+02  2.13e-02 3.76e-01  6.37e-02     0s\n",
      "  31  -8.48084390e+01 -1.69422835e+02  2.04e-02 3.54e-01  6.02e-02     0s\n",
      "  32  -8.59404007e+01 -1.61937332e+02  1.94e-02 3.08e-01  5.41e-02     0s\n",
      "  33  -8.76857015e+01 -1.50062546e+02  1.63e-02 2.46e-01  4.39e-02     0s\n",
      "  34  -8.90981010e+01 -1.46592620e+02  1.55e-02 2.19e-01  4.06e-02     0s\n",
      "  35  -8.82014325e+01 -1.40614867e+02  1.41e-02 1.97e-01  3.64e-02     0s\n",
      "  36  -9.38746701e+01 -1.31605754e+02  9.82e-03 1.42e-01  2.58e-02     0s\n",
      "  37  -9.69653006e+01 -1.14407291e+02  7.72e-03 2.86e-02  1.23e-02     0s\n",
      "  38  -9.69010806e+01 -1.05160117e+02  1.50e-03 1.24e-02  5.27e-03     0s\n",
      "  39  -9.80379557e+01 -1.01313411e+02  7.22e-04 1.53e-03  2.06e-03     0s\n",
      "  40  -9.86472919e+01 -9.98001888e+01  4.37e-04 1.47e-04  7.32e-04     0s\n",
      "  41  -9.91159199e+01 -9.95208818e+01  1.65e-04 3.80e-05  2.57e-04     0s\n",
      "  42  -9.93595445e+01 -9.94783705e+01  2.19e-05 2.36e-05  7.33e-05     0s\n",
      "  43  -9.93642346e+01 -9.93823291e+01  3.21e-06 4.82e-07  1.11e-05     0s\n",
      "  44  -9.93745693e+01 -9.93795868e+01  8.54e-07 1.50e-07  3.08e-06     0s\n",
      "  45  -9.93747000e+01 -9.93775635e+01  2.44e-07 6.16e-08  1.74e-06     0s\n",
      "  46  -9.93751030e+01 -9.93760746e+01  9.24e-08 1.50e-08  5.91e-07     0s\n",
      "  47  -9.93755092e+01 -9.93758809e+01  9.71e-09 9.06e-09  2.25e-07     0s\n",
      "  48  -9.93755140e+01 -9.93755614e+01  6.52e-09 1.21e-08  2.89e-08     0s\n",
      "\n",
      "Barrier solved model in 48 iterations and 0.12 seconds\n",
      "Optimal objective -9.93755140e+01\n",
      "\n"
     ]
    },
    {
     "data": {
      "text/plain": [
       ":Optimal"
      ]
     },
     "execution_count": 32,
     "metadata": {},
     "output_type": "execute_result"
    }
   ],
   "source": [
    "# solve the model\n",
    "status = solve(model)"
   ]
  },
  {
   "cell_type": "code",
   "execution_count": 39,
   "metadata": {
    "collapsed": false
   },
   "outputs": [
    {
     "data": {
      "text/plain": [
       "3×21 Array{Float64,2}:\n",
       " 0.0  0.0  0.0  0.0  0.0  0.0  0.0  0.0  …  0.0  0.0  0.0  0.0  0.0  0.0  0.0\n",
       " 0.0  0.0  0.0  0.0  0.0  0.0  0.0  0.0     0.0  0.0  0.0  0.0  0.0  0.0  0.0\n",
       " 0.0  0.0  0.0  0.0  0.0  0.0  0.0  0.0     0.0  0.0  0.0  0.0  0.0  0.0  0.0"
      ]
     },
     "execution_count": 39,
     "metadata": {},
     "output_type": "execute_result"
    }
   ],
   "source": [
    "# parse solution data\n",
    "# trailing underscore indicates value of those elements\n",
    "com_position_ = getvalue(com_position)\n",
    "lin_momentum_ = getvalue(lin_momentum)\n",
    "ang_momentum_ = getvalue(ang_momentum)\n",
    "lin_momentum_dot_ = getvalue(lin_momentum_dot)\n",
    "ang_momentum_dot_ = getvalue(ang_momentum_dot)\n",
    "l_cross_f_plus_ = getvalue(l_cross_f_plus)\n",
    "l_cross_f_minus_ = getvalue(l_cross_f_minus)\n",
    "\n",
    "\n",
    "# should be same size as lin_momentum_dot_\n",
    "p_ = zeros(ang_momentum_dot_)\n",
    "q_ = zeros(ang_momentum_dot_)\n",
    "\n",
    "# populate q_, v_ check tightness with l_cross_f_plus"
   ]
  },
  {
   "cell_type": "code",
   "execution_count": 9,
   "metadata": {
    "collapsed": false
   },
   "outputs": [
    {
     "data": {
      "text/plain": [
       "3×21 Array{Float64,2}:\n",
       " 0.0  0.0  0.0  0.0  0.0  0.0  0.0  0.0  …  0.0  0.0  0.0  0.0  0.0  0.0  0.0\n",
       " 0.0  0.0  0.0  0.0  0.0  0.0  0.0  0.0     0.0  0.0  0.0  0.0  0.0  0.0  0.0\n",
       " 0.0  0.0  0.0  0.0  0.0  0.0  0.0  0.0     0.0  0.0  0.0  0.0  0.0  0.0  0.0"
      ]
     },
     "execution_count": 9,
     "metadata": {},
     "output_type": "execute_result"
    }
   ],
   "source": [
    "getvalue(lin_momentum)"
   ]
  },
  {
   "cell_type": "code",
   "execution_count": 34,
   "metadata": {
    "collapsed": false
   },
   "outputs": [
    {
     "data": {
      "text/plain": [
       "3×21 Array{Float64,2}:\n",
       " -0.0  -0.0  -0.0  2.01796e-7  6.31566e-7  …  0.0001499    0.00020549\n",
       " -0.0  -0.0  -0.0  2.01075e-7  6.29107e-7     0.000151902  0.00020929\n",
       "  1.0   1.0   1.0  0.999854    0.999775       1.01194      0.999636  "
      ]
     },
     "execution_count": 34,
     "metadata": {},
     "output_type": "execute_result"
    }
   ],
   "source": [
    "x"
   ]
  },
  {
   "cell_type": "code",
   "execution_count": null,
   "metadata": {
    "collapsed": true
   },
   "outputs": [],
   "source": [
    "\n",
    "\n",
    "\n",
    "\n",
    "\n",
    "\n",
    "\n",
    "\n",
    "\n",
    "\n",
    "\n",
    "\n",
    "\n",
    "\n",
    "\n",
    "\n",
    "\n",
    "\n",
    "\n",
    "\n",
    "\n",
    "\n",
    "\n",
    "\n",
    "\n",
    "\n",
    "\n",
    "\n",
    "\n",
    "\n",
    "\n",
    "\n",
    "\n",
    "\n",
    "\n",
    "\n",
    "\n",
    "\n",
    "\n",
    "\n",
    "\n",
    "\n",
    "\n",
    "\n",
    "\n",
    "\n",
    "\n",
    "\n",
    "\n",
    "\n",
    "\n"
   ]
  }
 ],
 "metadata": {
  "kernelspec": {
   "display_name": "Julia 0.5.0",
   "language": "julia",
   "name": "julia-0.5"
  },
  "language_info": {
   "file_extension": ".jl",
   "mimetype": "application/julia",
   "name": "julia",
   "version": "0.5.0"
  }
 },
 "nbformat": 4,
 "nbformat_minor": 2
}
