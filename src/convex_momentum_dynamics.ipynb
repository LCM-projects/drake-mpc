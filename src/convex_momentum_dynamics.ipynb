{
 "cells": [
  {
   "cell_type": "code",
   "execution_count": 7,
   "metadata": {
    "collapsed": false
   },
   "outputs": [
    {
     "name": "stderr",
     "output_type": "stream",
     "text": [
      "\u001b[1m\u001b[34mINFO: Recompiling stale cache file /home/manuelli/.julia/lib/v0.5/AxisArrays.ji for module AxisArrays.\n",
      "\u001b[0m"
     ]
    }
   ],
   "source": [
    "using JuMP\n",
    "using Gurobi\n",
    "using AxisArrays"
   ]
  },
  {
   "cell_type": "code",
   "execution_count": 8,
   "metadata": {
    "collapsed": false
   },
   "outputs": [
    {
     "name": "stderr",
     "output_type": "stream",
     "text": [
      "WARNING: Method definition (::Type{Main.ContactPoint})(String, Array{Float64, 2}) in module Main at In[2]:3 overwritten at In[8]:3.\n",
      "WARNING: Method definition (::Type{Main.ContactPoint})(Any, Any) in module Main at In[2]:3 overwritten at In[8]:3.\n",
      "WARNING: Method definition l2_norm(Any) in module Main at In[2]:9 overwritten at In[8]:9.\n",
      "WARNING: Method definition difference_convex_functions_decomposition(Any, Any) in module Main at In[2]:17 overwritten at In[8]:17.\n",
      "WARNING: Method definition @axis_variables(ANY<:Any, ANY<:Any, Any...) in module Main at In[2]:35 overwritten at In[8]:35.\n"
     ]
    },
    {
     "data": {
      "text/plain": [
       "@axis_variables (macro with 1 method)"
      ]
     },
     "execution_count": 8,
     "metadata": {},
     "output_type": "execute_result"
    }
   ],
   "source": [
    "# type to store the info about a ContactPoint\n",
    "type ContactPoint\n",
    "    name::String\n",
    "    rot_matrix::Array{Float64,2} # maybe should be some sort of RotationMatrix type\n",
    "end\n",
    "\n",
    "# returns the square of the L2 norm of a vector\n",
    "function l2_norm(x)\n",
    "    return sum(x.^2)\n",
    "end\n",
    "\n",
    "function difference_convex_functions_decomposition(l, force)\n",
    "    # l = p - r, ray from com to contact location\n",
    "    \n",
    "    # the commas are important here to have size (2,) rather\n",
    "    # than (1,2)\n",
    "    a = [-l[3],l[2]]\n",
    "    b = [l[3],-l[1]]\n",
    "    c = [-l[2],-l[1]]\n",
    "    d = force[2:3]\n",
    "    e = force[[1,3]]\n",
    "    f = force[1:2]\n",
    "\n",
    "    # this is the decomposition of the cross product into difference\n",
    "    # of convex functions\n",
    "    # these are 3-vectors\n",
    "    p = 1/4 * [l2_norm(a+d),l2_norm(b+e),l2_norm(c+f)]\n",
    "    q = 1/4 * [l2_norm(a-d),l2_norm(b-e),l2_norm(c-f)]\n",
    "    \n",
    "    return p,q\n",
    "end\n",
    "\n",
    "# a more convenient method of using JuMP Variables than JuMP Arrays\n",
    "macro axis_variables(m, var, axes...)\n",
    "    for arg in axes\n",
    "        @assert arg.head == :kw \"Axis arguments must be of the form `name=domain`\"\n",
    "    end\n",
    "    names = [arg.args[1] for arg in axes]\n",
    "    domains = [arg.args[2] for arg in axes]\n",
    "    ranges = [:(1:length($domain)) for domain in domains]\n",
    "    axis_args = [Expr(:call, Expr(:curly, :Axis, Expr(:quote, names[i])), domains[i]) for i in eachindex(axes)]\n",
    "    quote\n",
    "        vars = @variable $m $var[$(ranges...)]\n",
    "        $(esc(var)) = $(Expr(:call, :AxisArray, :vars, axis_args...))\n",
    "    end\n",
    "end"
   ]
  },
  {
   "cell_type": "code",
   "execution_count": 9,
   "metadata": {
    "collapsed": false
   },
   "outputs": [
    {
     "data": {
      "text/latex": [
       "$$ \\begin{alignat*}{1}\\min\\quad & 0\\\\\n",
       "\\text{Subject to} \\quad\\end{alignat*}\n",
       " $$"
      ],
      "text/plain": [
       "Feasibility problem with:\n",
       " * 0 linear constraints\n",
       " * 0 variables\n",
       "Solver is default solver"
      ]
     },
     "execution_count": 9,
     "metadata": {},
     "output_type": "execute_result"
    }
   ],
   "source": [
    "contact_names = [\"left_foot\", \"right_foot\"]\n",
    "num_contacts = length(contact_names)\n",
    "\n",
    "\n",
    "contact_name_to_idx = Dict()\n",
    "for (idx, name) in enumerate(contact_names)\n",
    "    contact_name_to_idx[name] = idx\n",
    "end\n",
    "\n",
    "# initialize constants\n",
    "num_timesteps = 5\n",
    "num_knot_points = num_timesteps + 1\n",
    "robot_mass = 1\n",
    "dt = 0.1\n",
    "gravity = [0,0,-9.8]\n",
    "dimension = 3\n",
    "\n",
    "#setup foot positions in world\n",
    "contact_location = Dict()\n",
    "contact_location[\"left_foot\"] = [-0.5,0,0]\n",
    "contact_location[\"right_foot\"] = [0.5,0,0]\n",
    "mu = 0.5\n",
    "\n",
    "\n",
    "# com_data\n",
    "com_data = Dict();\n",
    "com_data[\"initial_position\"] = [0,0,1]\n",
    "com_data[\"final_position\"] = [0,0,1]\n",
    "\n",
    "\n",
    "# weights\n",
    "weights = Dict()\n",
    "weights[\"com_final_position\"] = 100\n",
    "weights[\"lin_momentum\"] = 0.1\n",
    "weights[\"forces\"] = 0.01\n",
    "weights[\"convex_bounds\"] = 1e-4 # if this is too large forces will just be zero\n",
    "\n",
    "# initialize the model\n",
    "model = Model()\n"
   ]
  },
  {
   "cell_type": "code",
   "execution_count": 10,
   "metadata": {
    "collapsed": false
   },
   "outputs": [
    {
     "data": {
      "text/latex": [
       "$$ l_cross_f_minus_{i,j,k} \\geq 0 \\quad\\forall i \\in \\{1,2,3\\}, j \\in \\{1,2,3,4,5\\}, k \\in \\{1,2\\} $$"
      ],
      "text/plain": [
       "3×5×2 Array{JuMP.Variable,3}:\n",
       "[:, :, 1] =\n",
       " l_cross_f_minus[1,1,1]  l_cross_f_minus[1,2,1]  …  l_cross_f_minus[1,5,1]\n",
       " l_cross_f_minus[2,1,1]  l_cross_f_minus[2,2,1]     l_cross_f_minus[2,5,1]\n",
       " l_cross_f_minus[3,1,1]  l_cross_f_minus[3,2,1]     l_cross_f_minus[3,5,1]\n",
       "\n",
       "[:, :, 2] =\n",
       " l_cross_f_minus[1,1,2]  l_cross_f_minus[1,2,2]  …  l_cross_f_minus[1,5,2]\n",
       " l_cross_f_minus[2,1,2]  l_cross_f_minus[2,2,2]     l_cross_f_minus[2,5,2]\n",
       " l_cross_f_minus[3,1,2]  l_cross_f_minus[3,2,2]     l_cross_f_minus[3,5,2]"
      ]
     },
     "execution_count": 10,
     "metadata": {},
     "output_type": "execute_result"
    }
   ],
   "source": [
    "# add variables to model\n",
    "\n",
    "# com position\n",
    "@variable(model, com_position[1:3, 1:num_knot_points])\n",
    "# @axis_variables(model, com_position, dim=1:3, time=1:num_knot_points)\n",
    "\n",
    "# linear momentum\n",
    "@variable(model, lin_momentum[1:3, 1:num_knot_points])\n",
    "\n",
    "# angular momentum\n",
    "@variable(model, ang_momentum[1:3, 1:num_knot_points])\n",
    "\n",
    "# linear momentum dot\n",
    "@variable(model, lin_momentum_dot[1:3, 1:num_knot_points])\n",
    "\n",
    "# angular momentum dot\n",
    "@variable(model, ang_momentum_dot[1:3,1:num_knot_points])\n",
    "\n",
    "# forces\n",
    "contact_list = [\"left_foot\", \"right_foot\"]\n",
    "@variable(model, forces[1:3, 1:num_timesteps, 1:num_contacts] >= 0)\n",
    "\n",
    "# will eventually need something like frames attached to those bodies so we can figure\n",
    "# the friction cone and stuff\n",
    "# contact_frames would be an array of rotation matrices basically that\n",
    "# transform body to world\n",
    "\n",
    "\n",
    "# torques\n",
    "# bound them at zero for now\n",
    "@variable(model, 0 <= torques[1:3, 1:num_timesteps, 1:num_contacts] <= 0)\n",
    "\n",
    "# bounding variables for l x f terms\n",
    "@variable(model, l_cross_f_plus[1:dimension, 1:num_timesteps, 1:num_contacts] >= 0)\n",
    "@variable(model, l_cross_f_minus[1:dimension, 1:num_timesteps, 1:num_contacts] >= 0)"
   ]
  },
  {
   "cell_type": "code",
   "execution_count": 12,
   "metadata": {
    "collapsed": false
   },
   "outputs": [
    {
     "ename": "LoadError",
     "evalue": "MethodError: no method matching +(::JuMP.GenericAffExpr{Float64,JuMP.Variable}, ::AxisArrays.AxisArray{JuMP.GenericAffExpr{Float64,JuMP.Variable},1,Array{JuMP.GenericAffExpr{Float64,JuMP.Variable},1},Tuple{AxisArrays.Axis{:dim,UnitRange{Int64}}}})\u001b[0m\nClosest candidates are:\n  +(::Any, ::Any, \u001b[1m\u001b[31m::Any\u001b[0m, \u001b[1m\u001b[31m::Any...\u001b[0m) at operators.jl:138\n  +(::JuMP.GenericAffExpr{Float64,JuMP.Variable}, \u001b[1m\u001b[31m::JuMP.GenericQuadExpr{Float64,JuMP.Variable}\u001b[0m) at /home/manuelli/.julia/v0.5/JuMP/src/operators.jl:194\n  +{R,S}(\u001b[1m\u001b[31m::AbstractArray{R,N}\u001b[0m, ::AbstractArray{S,N}) at arraymath.jl:49\n  ...\u001b[0m",
     "output_type": "error",
     "traceback": [
      "MethodError: no method matching +(::JuMP.GenericAffExpr{Float64,JuMP.Variable}, ::AxisArrays.AxisArray{JuMP.GenericAffExpr{Float64,JuMP.Variable},1,Array{JuMP.GenericAffExpr{Float64,JuMP.Variable},1},Tuple{AxisArrays.Axis{:dim,UnitRange{Int64}}}})\u001b[0m\nClosest candidates are:\n  +(::Any, ::Any, \u001b[1m\u001b[31m::Any\u001b[0m, \u001b[1m\u001b[31m::Any...\u001b[0m) at operators.jl:138\n  +(::JuMP.GenericAffExpr{Float64,JuMP.Variable}, \u001b[1m\u001b[31m::JuMP.GenericQuadExpr{Float64,JuMP.Variable}\u001b[0m) at /home/manuelli/.julia/v0.5/JuMP/src/operators.jl:194\n  +{R,S}(\u001b[1m\u001b[31m::AbstractArray{R,N}\u001b[0m, ::AbstractArray{S,N}) at arraymath.jl:49\n  ...\u001b[0m",
      "",
      " in addtoexpr_reorder(::JuMP.GenericAffExpr{Float64,JuMP.Variable}, ::AxisArrays.AxisArray{JuMP.Variable,1,Array{JuMP.Variable,1},Tuple{AxisArrays.Axis{:dim,UnitRange{Int64}}}}) at /home/manuelli/.julia/v0.5/JuMP/src/parseExpr_staged.jl:277"
     ]
    }
   ],
   "source": [
    "# add constraints to model\n",
    "for i=1:num_timesteps\n",
    "    \n",
    "    # com position integration constraint\n",
    "    @constraint(model, com_position[:,i+1] .- (com_position[:,i] .+\n",
    "        dt/robot_mass.*lin_momentum[:,i]) .== 0)\n",
    "    \n",
    "    # linear momentum integration constraint\n",
    "    @constraint(model, lin_momentum[:,i+1] .- (lin_momentum[:,i] \n",
    "            + lin_momentum_dot[:,i]*dt) .== 0)       \n",
    "    \n",
    "    # angular momentum integration constraint\n",
    "    @constraint(model, ang_momentum[:, i+1] .- (ang_momentum[:,i]\n",
    "            .+ ang_momentum_dot[:,i] * dt) .== 0)\n",
    "    \n",
    "    \n",
    "    total_force = zero(AffExpr) # total force\n",
    "    total_torque = zero(AffExpr) # total torque\n",
    "    \n",
    "    for contact_idx =1:num_contacts\n",
    "        total_force += forces[:,i,contact_idx]\n",
    "        total_torque += torques[:,i,contact_idx]\n",
    "    end\n",
    "        \n",
    "    # F = ma\n",
    "    @constraint(model, lin_momentum_dot[:,i] - (robot_mass*gravity .+ total_force) .== 0)\n",
    "    \n",
    "    # the total l x f term\n",
    "    l_cross_f = zero(AffExpr)\n",
    "    for contact_idx =1:num_contacts\n",
    "        \n",
    "        # lookup string name of contact\n",
    "        contact_name = contact_names[contact_idx]\n",
    "        \n",
    "        # vector from com --> contact location\n",
    "        l = contact_location[contact_name] .- com_position[:,i]\n",
    "        force_local = forces[:,i,contact_idx]\n",
    "        \n",
    "        # decompose into difference of convex functions\n",
    "        p,q = difference_convex_functions_decomposition(l, force_local)\n",
    "        \n",
    "        # add constraint for convex relaxation\n",
    "        @constraint(model, p .<= l_cross_f_plus[:,i,contact_idx])\n",
    "        @constraint(model, q .<= l_cross_f_minus[:,i,contact_idx])\n",
    "        \n",
    "        # add the contribution of this contact to the overally l x f term.\n",
    "        l_cross_f += l_cross_f_plus[:,i,contact_idx] - l_cross_f_minus[:,i,contact_idx]\n",
    "    end\n",
    "    \n",
    "    # angular momentum dot constraint\n",
    "    @constraint(model, ang_momentum_dot[:,i] .- (l_cross_f .+ total_torque) .== 0)\n",
    "end\n",
    "\n",
    "# initial condition constraints\n",
    "@constraint(model, com_position[:,1] .== com_data[\"initial_position\"])\n",
    "@constraint(model, lin_momentum[:,1] .== zeros(3))\n",
    "@constraint(model, lin_momentum_dot[:,1] .== zeros(3))"
   ]
  },
  {
   "cell_type": "code",
   "execution_count": 50,
   "metadata": {
    "collapsed": false
   },
   "outputs": [
    {
     "data": {
      "text/plain": [
       ":Min"
      ]
     },
     "execution_count": 50,
     "metadata": {},
     "output_type": "execute_result"
    }
   ],
   "source": [
    "# add objective\n",
    "com_final_position_cost = weights[\"com_final_position\"]*\n",
    "l2_norm(com_position[:,end] - com_data[\"final_position\"])\n",
    "\n",
    "lin_momentum_cost = weights[\"lin_momentum\"]*l2_norm(lin_momentum[:,:,:])    \n",
    "\n",
    "force_cost = zero(QuadExpr)\n",
    "convex_bound_cost = zero(QuadExpr)\n",
    "for contact_idx=1:num_contacts\n",
    "    force_cost += weights[\"forces\"]*l2_norm(forces[:,:,contact_idx])\n",
    "    convex_bound_cost += weights[\"convex_bounds\"]*l2_norm(l_cross_f_plus[:,:,contact_idx])\n",
    "    convex_bound_cost += weights[\"convex_bounds\"]*l2_norm(l_cross_f_minus[:,:,contact_idx])\n",
    "end\n",
    "\n",
    "total_objective = com_final_position_cost + lin_momentum_cost\n",
    "+ force_cost\n",
    "\n",
    "total_objective += convex_bound_cost\n",
    "\n",
    "@objective(model, Min, total_objective)"
   ]
  },
  {
   "cell_type": "code",
   "execution_count": 51,
   "metadata": {
    "collapsed": false
   },
   "outputs": [
    {
     "name": "stdout",
     "output_type": "stream",
     "text": [
      "Optimize a model with 84 rows, 210 columns and 294 nonzeros\n",
      "Model has 81 quadratic objective terms\n",
      "Model has 60 quadratic constraints\n",
      "Presolve removed 62 rows and 103 columns\n",
      "Presolve time: 0.00s\n",
      "Presolved: 318 rows, 311 columns, 686 nonzeros\n",
      "Presolved model has 57 second-order cone constraints\n",
      "Ordering time: 0.00s\n",
      "\n",
      "Barrier statistics:\n",
      " Dense cols : 1\n",
      " Free vars  : 6\n",
      " AA' NZ     : 1.863e+03\n",
      " Factor NZ  : 4.676e+03\n",
      " Factor Ops : 8.779e+04 (less than 1 second per iteration)\n",
      " Threads    : 1\n",
      "\n",
      "                  Objective                Residual\n",
      "Iter       Primal          Dual         Primal    Dual     Compl     Time\n",
      "   0   2.39338246e+01  2.39338246e+01  6.32e+01 3.77e+02  4.00e+01     0s\n",
      "   1  -1.11400433e+03 -7.39676188e+01  3.31e+01 1.44e+02  1.94e+01     0s\n",
      "   2  -4.86918065e+01 -7.95131962e+01  5.67e+00 1.07e+02  5.70e+00     0s\n",
      "   3  -2.65567713e+02 -8.30040663e+01  3.11e+00 9.93e+01  4.34e+00     0s\n",
      "   4  -1.75891716e+02 -1.11548211e+02  3.00e+00 4.51e+01  2.76e+00     0s\n",
      "   5  -1.57379599e+02 -1.68413419e+02  1.10e+00 7.72e+00  9.63e-01     0s\n",
      "   6  -8.20226925e+01 -1.19815444e+02  4.05e-05 5.06e-01  1.02e-01     0s\n",
      "   7  -9.53901980e+01 -1.09485522e+02  2.64e-05 3.43e-02  3.57e-02     0s\n",
      "   8  -9.54043022e+01 -1.01934570e+02  2.22e-05 1.46e-02  1.65e-02     0s\n",
      "   9  -9.95862284e+01 -1.01397490e+02  6.58e-06 2.31e-03  4.56e-03     0s\n",
      "  10  -9.84690127e+01 -1.00064899e+02  5.70e-06 4.80e-04  4.01e-03     0s\n",
      "  11  -9.96692447e+01 -9.99874444e+01  1.24e-06 1.14e-08  7.99e-04     0s\n",
      "  12  -9.98473248e+01 -9.99139518e+01  3.57e-07 3.19e-09  1.67e-04     0s\n",
      "  13  -9.98453655e+01 -9.98605308e+01  1.11e-07 3.51e-10  3.81e-05     0s\n",
      "  14  -9.98510261e+01 -9.98590252e+01  6.42e-08 1.82e-09  2.01e-05     0s\n",
      "  15  -9.98558059e+01 -9.98587453e+01  1.15e-08 1.75e-09  7.38e-06     0s\n",
      "  16  -9.98559512e+01 -9.98568983e+01  8.85e-09 4.86e-09  2.38e-06     0s\n",
      "  17  -9.98561088e+01 -9.98568050e+01  6.87e-09 3.00e-09  1.75e-06     0s\n",
      "  18  -9.98561598e+01 -9.98567797e+01  6.13e-09 2.64e-09  1.56e-06     0s\n",
      "  19  -9.98562568e+01 -9.98567382e+01  4.62e-09 2.15e-09  1.21e-06     0s\n",
      "  20  -9.98562743e+01 -9.98567358e+01  4.35e-09 2.06e-09  1.16e-06     0s\n",
      "  21  -9.98563864e+01 -9.98567233e+01  2.34e-09 1.93e-09  8.46e-07     0s\n",
      "  22  -9.98564271e+01 -9.98566657e+01  1.68e-09 1.26e-09  5.99e-07     0s\n",
      "  23  -9.98564432e+01 -9.98566242e+01  1.27e-09 8.27e-10  4.55e-07     0s\n",
      "  24  -9.98564896e+01 -9.98565929e+01  6.45e-10 5.87e-10  2.59e-07     0s\n",
      "  25  -9.98564902e+01 -9.98565588e+01  4.29e-10 1.93e-10  1.72e-07     0s\n",
      "\n",
      "Barrier solved model in 25 iterations and 0.02 seconds\n",
      "Optimal objective -9.98564902e+01\n",
      "\n"
     ]
    },
    {
     "data": {
      "text/plain": [
       ":Optimal"
      ]
     },
     "execution_count": 51,
     "metadata": {},
     "output_type": "execute_result"
    }
   ],
   "source": [
    "# solve the model\n",
    "status = solve(model)"
   ]
  },
  {
   "cell_type": "code",
   "execution_count": 52,
   "metadata": {
    "collapsed": false
   },
   "outputs": [],
   "source": [
    "# parse solution data\n",
    "# trailing underscore indicates value of those elements\n",
    "com_position_ = getvalue(com_position)\n",
    "lin_momentum_ = getvalue(lin_momentum)\n",
    "ang_momentum_ = getvalue(ang_momentum)\n",
    "lin_momentum_dot_ = getvalue(lin_momentum_dot)\n",
    "ang_momentum_dot_ = getvalue(ang_momentum_dot)\n",
    "l_cross_f_plus_ = getvalue(l_cross_f_plus)\n",
    "l_cross_f_minus_ = getvalue(l_cross_f_minus)\n",
    "forces_ = getvalue(forces)\n",
    "\n",
    "p_ = zeros(l_cross_f_plus_)\n",
    "q_ = zeros(l_cross_f_plus_)\n",
    "\n",
    "# populate q_, v_ check tightness with l_cross_f_plus/minus\n",
    "for i=1:num_timesteps\n",
    "    for contact_idx = 1:num_contacts\n",
    "        contact_name = contact_names[contact_idx]\n",
    "        l = contact_location[contact_name] - com_position_[:,i]\n",
    "        force_local = forces_[:,i,contact_idx]\n",
    "        p_[:,i,contact_idx], q_[:,i,contact_idx] = \n",
    "        difference_convex_functions_decomposition(l,force_local)\n",
    "    end\n",
    "end"
   ]
  },
  {
   "cell_type": "code",
   "execution_count": 53,
   "metadata": {
    "collapsed": false
   },
   "outputs": [
    {
     "data": {
      "text/plain": [
       "3×5×2 Array{Float64,3}:\n",
       "[:, :, 1] =\n",
       " 1.44552e-5  1.96132e-5  8.36794e-6  1.18531e-5  1.23804e-7\n",
       " 9.87983e-6  1.28081e-5  9.00727e-5  9.33376e-6  0.00119872\n",
       " 0.0278221   0.0054672   0.00555865  0.00459316  0.00676697\n",
       "\n",
       "[:, :, 2] =\n",
       " 1.44552e-5  3.3243e-5   1.02678e-5  1.11501e-5  4.06503e-5\n",
       " 2.90524e-5  4.12641e-5  7.63412e-6  1.23212e-5  8.54307e-5\n",
       " 0.0278221   0.0054423   0.00554111  0.00450069  0.00810774"
      ]
     },
     "metadata": {},
     "output_type": "display_data"
    }
   ],
   "source": [
    "p_slack = l_cross_f_plus_ - p_\n",
    "display(p_slack)"
   ]
  },
  {
   "cell_type": "code",
   "execution_count": 45,
   "metadata": {
    "collapsed": false
   },
   "outputs": [
    {
     "data": {
      "text/plain": [
       "(3,5,2)"
      ]
     },
     "execution_count": 45,
     "metadata": {},
     "output_type": "execute_result"
    }
   ],
   "source": [
    "p = zeros(l_cross_f_minus_)\n",
    "size(p)"
   ]
  },
  {
   "cell_type": "code",
   "execution_count": null,
   "metadata": {
    "collapsed": true
   },
   "outputs": [],
   "source": [
    "\n",
    "\n",
    "\n",
    "\n",
    "\n",
    "\n",
    "\n",
    "\n",
    "\n",
    "\n",
    "\n",
    "\n",
    "\n",
    "\n",
    "\n",
    "\n",
    "\n",
    "\n",
    "\n",
    "\n",
    "\n",
    "\n",
    "\n",
    "\n",
    "\n",
    "\n",
    "\n",
    "\n",
    "\n",
    "\n",
    "\n",
    "\n",
    "\n",
    "\n",
    "\n",
    "\n",
    "\n",
    "\n",
    "\n",
    "\n",
    "\n",
    "\n",
    "\n",
    "\n",
    "\n",
    "\n",
    "\n",
    "\n",
    "\n",
    "\n",
    "\n"
   ]
  }
 ],
 "metadata": {
  "kernelspec": {
   "display_name": "Julia 0.5.0",
   "language": "julia",
   "name": "julia-0.5"
  },
  "language_info": {
   "file_extension": ".jl",
   "mimetype": "application/julia",
   "name": "julia",
   "version": "0.5.0"
  }
 },
 "nbformat": 4,
 "nbformat_minor": 2
}
