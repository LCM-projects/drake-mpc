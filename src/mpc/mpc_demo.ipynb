{
 "cells": [
  {
   "cell_type": "markdown",
   "metadata": {
    "deletable": true,
    "editable": true
   },
   "source": [
    "# Model Predictive Control Demo"
   ]
  },
  {
   "cell_type": "code",
   "execution_count": 1,
   "metadata": {
    "collapsed": false,
    "deletable": true,
    "editable": true
   },
   "outputs": [],
   "source": [
    "import numpy as np\n",
    "import matplotlib.pyplot as plt\n",
    "import mpc_tools as mpc"
   ]
  },
  {
   "cell_type": "markdown",
   "metadata": {},
   "source": [
    "## Setup"
   ]
  },
  {
   "cell_type": "markdown",
   "metadata": {
    "deletable": true,
    "editable": true
   },
   "source": [
    "In this demo Model Predictive Control (MPC) is applied to stibilize a linear inverted pendulum with mass $m$ and length $l$, subject to the gravity acceleration $g$."
   ]
  },
  {
   "cell_type": "code",
   "execution_count": 2,
   "metadata": {
    "collapsed": true,
    "deletable": true,
    "editable": true
   },
   "outputs": [],
   "source": [
    "m = 1.\n",
    "l = 1.\n",
    "g = 10."
   ]
  },
  {
   "cell_type": "markdown",
   "metadata": {
    "deletable": true,
    "editable": true
   },
   "source": [
    "The linearized continuous-time dynamics is \n",
    "\\begin{equation}\n",
    "\\dot x = A x + B u =\n",
    "\\begin{bmatrix}\n",
    "0 & 1 \\\\ g/l & 0\n",
    "\\end{bmatrix}\n",
    "x +\n",
    "\\begin{bmatrix}\n",
    "0 \\\\ 1/(ml^2)\n",
    "\\end{bmatrix}\n",
    "u.\n",
    "\\end{equation}"
   ]
  },
  {
   "cell_type": "code",
   "execution_count": 3,
   "metadata": {
    "collapsed": true,
    "deletable": true,
    "editable": true
   },
   "outputs": [],
   "source": [
    "A = np.array([[0., 1.], [g/l, 0.]])\n",
    "B = np.array([[0.], [1/(m*l**2.)]])"
   ]
  },
  {
   "cell_type": "markdown",
   "metadata": {
    "collapsed": true,
    "deletable": true,
    "editable": true
   },
   "source": [
    "At each sampling, time an optimal control problem with $N$ time steps and a sampling time $t_s$ is solved."
   ]
  },
  {
   "cell_type": "code",
   "execution_count": 4,
   "metadata": {
    "collapsed": true,
    "deletable": true,
    "editable": true
   },
   "outputs": [],
   "source": [
    "N = 5\n",
    "t_s = .1"
   ]
  },
  {
   "cell_type": "markdown",
   "metadata": {
    "collapsed": true,
    "deletable": true,
    "editable": true
   },
   "source": [
    "Constraints can be enforced on both the state\n",
    "$\n",
    "x_{max} \\geq x_k \\geq x_{min}\n",
    "\\ (k = 1,2,\\ldots,N)\n",
    "$\n",
    "and the input\n",
    "$\n",
    "u_{max} \\geq u_k \\geq u_{min}\n",
    "\\ (k = 0,1,\\ldots,N-1).\n",
    "$\n",
    "\n",
    "\n"
   ]
  },
  {
   "cell_type": "code",
   "execution_count": 5,
   "metadata": {
    "collapsed": false,
    "deletable": true,
    "editable": true
   },
   "outputs": [],
   "source": [
    "x_max = np.array([[np.pi/6.],[np.pi/22./(N*t_s)]])\n",
    "x_min = -x_max\n",
    "u_max = np.array([[m*g*l*np.pi/8.]])\n",
    "u_min = -u_max"
   ]
  },
  {
   "cell_type": "markdown",
   "metadata": {
    "deletable": true,
    "editable": true
   },
   "source": [
    "The cost function is the sum of a stage cost and a terminal cost\n",
    "\\begin{equation}\n",
    "\\sum_{k=0}^{N-1} (x_k^T Q x_k + u_k^T R u_k) + x_N^T P x_N.\n",
    "\\end{equation}\n",
    "By default $P=Q$ but, for staibility reasons, it's in general preferable to use the solution of the Discrete Algebraic Ricccati Equation (DARE)\n",
    "\\begin{equation}\n",
    "P = (A+BK)^T P (A+BK) + Q + K^T R K\n",
    "\\end{equation}\n",
    "with the optimal feedback $u_k = K x_k$, where\n",
    "\\begin{equation}\n",
    "K = -(B^T P B + R)^{-1} B^T P A.\n",
    "\\end{equation}\n",
    "This can be done setting $\\texttt{terminal_cost = 'dare'}$.\n"
   ]
  },
  {
   "cell_type": "code",
   "execution_count": 6,
   "metadata": {
    "collapsed": true,
    "deletable": true,
    "editable": true
   },
   "outputs": [],
   "source": [
    "Q = np.eye(A.shape[0])/100.\n",
    "R = np.eye(B.shape[1])\n",
    "terminal_cost = 'dare'"
   ]
  },
  {
   "cell_type": "markdown",
   "metadata": {
    "deletable": true,
    "editable": true
   },
   "source": [
    "To ensure stability of the closed loop system two terminal constraints are available:\n",
    "\n",
    "1) $\\texttt{terminal_constraint = 'origin'}$: this option imposes $x_N = 0$ which is sufficient to ensure stability (regardless the terminal cost) but in most cases it's excessive.\n",
    "\n",
    "2) $\\texttt{terminal_constraint = 'moas'}$: this option imposes $x_N \\in \\mathcal{X}_{\\infty}$ where $\\mathcal{X}_{\\infty}$ denotes the Maximum Output Admissible Set for the system closed loop system $x_{k+1} = (A + BK) x_k$, with $K$ derived from the DARE.\n",
    "Mathematically speaking, we have that $x_N \\in \\mathcal{X}_{\\infty} \\Leftrightarrow \\{ x_{max} \\geq x_k \\geq x_{min} \\wedge u_{max} \\geq K x_k \\geq u_{min} \\} \\ \\forall k \\geq N$.\n",
    "This constraint, if coupoled with the DARE terminal cost, is sufficient condition for the stability of the closed loop system."
   ]
  },
  {
   "cell_type": "code",
   "execution_count": 7,
   "metadata": {
    "collapsed": true,
    "deletable": true,
    "editable": true
   },
   "outputs": [],
   "source": [
    "terminal_constraint = 'moas'"
   ]
  },
  {
   "cell_type": "markdown",
   "metadata": {
    "deletable": true,
    "editable": true
   },
   "source": [
    "## Simulation"
   ]
  },
  {
   "cell_type": "markdown",
   "metadata": {},
   "source": [
    "Here we simulate the closed loop system for $N_{sim}$ steps starting from the initial condition $x_0$."
   ]
  },
  {
   "cell_type": "code",
   "execution_count": 8,
   "metadata": {
    "collapsed": true
   },
   "outputs": [],
   "source": [
    "N_sim = 50\n",
    "x_0 = np.array([[np.pi/10.],[0.]])"
   ]
  },
  {
   "cell_type": "markdown",
   "metadata": {
    "deletable": true,
    "editable": true
   },
   "source": [
    "The discrete-time linear system can be defined from its continuous-time representation (the exact zero-order-hold discretization is used) and bounds are added to the system evolution."
   ]
  },
  {
   "cell_type": "code",
   "execution_count": 9,
   "metadata": {
    "collapsed": false,
    "deletable": true,
    "editable": true
   },
   "outputs": [],
   "source": [
    "sys = mpc.DTLinearSystem.from_continuous(t_s, A, B)\n",
    "sys.add_state_bounds(x_max, x_min)\n",
    "sys.add_input_bounds(u_max, u_min)"
   ]
  },
  {
   "cell_type": "markdown",
   "metadata": {
    "deletable": true,
    "editable": true
   },
   "source": [
    "We define the MPC controller."
   ]
  },
  {
   "cell_type": "code",
   "execution_count": 10,
   "metadata": {
    "collapsed": false,
    "deletable": true,
    "editable": true
   },
   "outputs": [],
   "source": [
    "controller = mpc.MPCController(sys, Q, R, N, terminal_cost, terminal_constraint)"
   ]
  },
  {
   "cell_type": "markdown",
   "metadata": {
    "deletable": true,
    "editable": true
   },
   "source": [
    "We simulate the closed-loop system."
   ]
  },
  {
   "cell_type": "code",
   "execution_count": 11,
   "metadata": {
    "collapsed": false,
    "deletable": true,
    "editable": true
   },
   "outputs": [],
   "source": [
    "u = []\n",
    "x = []\n",
    "x.append(x_0)\n",
    "for k in range(0, N_sim):\n",
    "    u.append(controller.feedback(x[k]))\n",
    "    x.append(sys.A.dot(x[k]) + sys.B.dot(u[k]))"
   ]
  },
  {
   "cell_type": "markdown",
   "metadata": {
    "deletable": true,
    "editable": true
   },
   "source": [
    "Plot the solution using the functions $\\texttt{plot_input_sequence(.)}$ and $\\texttt{plot_state_trajectory(.)}$"
   ]
  },
  {
   "cell_type": "code",
   "execution_count": 12,
   "metadata": {
    "collapsed": false,
    "deletable": true,
    "editable": true
   },
   "outputs": [
    {
     "data": {
      "image/png": "[encoded data removed]",
      "text/plain": [
       "<matplotlib.figure.Figure at 0x116bfcdd0>"
      ]
     },
     "metadata": {},
     "output_type": "display_data"
    },
    {
     "data": {
      "image/png": "[encoded data removed]",
      "text/plain": [
       "<matplotlib.figure.Figure at 0x116e80bd0>"
      ]
     },
     "metadata": {},
     "output_type": "display_data"
    }
   ],
   "source": [
    "mpc.plot_input_sequence(u, t_s, N_sim, u_max, u_min)\n",
    "plt.show()\n",
    "mpc.plot_state_trajectory(x, t_s, N_sim, x_max, x_min)\n",
    "plt.show()"
   ]
  },
  {
   "cell_type": "markdown",
   "metadata": {
    "deletable": true,
    "editable": true
   },
   "source": [
    "Get the explict solution of the optimal control problem and plot the state partition."
   ]
  },
  {
   "cell_type": "code",
   "execution_count": 13,
   "metadata": {
    "collapsed": false,
    "deletable": true,
    "editable": true
   },
   "outputs": [
    {
     "name": "stdout",
     "output_type": "stream",
     "text": [
      "Computing critical region for the active set []\n",
      "Computing critical region for the active set [0]\n",
      "Computing critical region for the active set [1]\n",
      "Computing critical region for the active set [10]\n",
      "Computing critical region for the active set [11]\n",
      "Computing critical region for the active set [12]\n",
      "Computing critical region for the active set [13]\n",
      "Computing critical region for the active set [14]\n",
      "Computing critical region for the active set [15]\n",
      "Computing critical region for the active set [0, 2]\n",
      "LICQ does not hold for the active set [0, 11]\n",
      "    unfeasible region detected\n",
      "Computing critical region for the active set [0, 14]\n",
      "Computing critical region for the active set [0, 16]\n",
      "Computing critical region for the active set [1, 3]\n",
      "LICQ does not hold for the active set [1, 10]\n",
      "    unfeasible region detected\n",
      "Computing critical region for the active set [1, 15]\n",
      "Computing critical region for the active set [1, 17]\n",
      "Computing critical region for the active set [10, 12]\n",
      "Computing critical region for the active set [11, 13]\n",
      "Computing critical region for the active set [12, 14]\n",
      "Computing critical region for the active set [13, 15]\n",
      "Computing critical region for the active set [0, 2, 4]\n",
      "LICQ does not hold for the active set [0, 2, 11]\n",
      "    unfeasible region detected\n",
      "Computing critical region for the active set [0, 2, 16]\n",
      "Computing critical region for the active set [0, 2, 18]\n",
      "Computing critical region for the active set [0, 12, 14]\n",
      "Computing critical region for the active set [0, 14, 16]\n",
      "Computing critical region for the active set [1, 3, 5]\n",
      "LICQ does not hold for the active set [1, 3, 10]\n",
      "    unfeasible region detected\n",
      "Computing critical region for the active set [1, 3, 17]\n",
      "Computing critical region for the active set [1, 3, 19]\n",
      "Computing critical region for the active set [1, 13, 15]\n",
      "Computing critical region for the active set [1, 15, 17]\n",
      "LICQ does not hold for the active set [1, 10, 12]\n",
      "    unfeasible region detected\n",
      "Computing critical region for the active set [10, 12, 14]\n",
      "LICQ does not hold for the active set [0, 11, 13]\n",
      "    unfeasible region detected\n",
      "Computing critical region for the active set [11, 13, 15]\n",
      "Computing critical region for the active set [12, 14, 16]\n",
      "Computing critical region for the active set [13, 15, 17]\n",
      "Computing critical region for the active set [0, 2, 4, 6]\n",
      "LICQ does not hold for the active set [0, 2, 4, 11]\n",
      "    unfeasible region detected\n",
      "Computing critical region for the active set [0, 2, 4, 18]\n",
      "Computing critical region for the active set [0, 2, 4, 22]\n",
      "Computing critical region for the active set [0, 2, 14, 16]\n",
      "Computing critical region for the active set [0, 2, 16, 18]\n",
      "Computing critical region for the active set [0, 12, 14, 16]\n",
      "Computing critical region for the active set [0, 14, 16, 18]\n",
      "Computing critical region for the active set [1, 3, 5, 7]\n",
      "LICQ does not hold for the active set [1, 3, 5, 10]\n",
      "    unfeasible region detected\n",
      "Computing critical region for the active set [1, 3, 5, 19]\n",
      "Computing critical region for the active set [1, 3, 5, 23]\n",
      "Computing critical region for the active set [1, 3, 15, 17]\n",
      "Computing critical region for the active set [1, 3, 17, 19]\n",
      "Computing critical region for the active set [1, 13, 15, 17]\n",
      "Computing critical region for the active set [1, 15, 17, 19]\n",
      "LICQ does not hold for the active set [1, 10, 12, 14]\n",
      "    unfeasible region detected\n",
      "Computing critical region for the active set [10, 12, 14, 16]\n",
      "LICQ does not hold for the active set [0, 11, 13, 15]\n",
      "    unfeasible region detected\n",
      "Computing critical region for the active set [11, 13, 15, 17]\n",
      "LICQ does not hold for the active set [0, 2, 4, 6, 11]\n",
      "    unfeasible region detected\n",
      "Computing critical region for the active set [0, 2, 4, 6, 22]\n",
      "Computing critical region for the active set [0, 2, 4, 16, 18]\n",
      "Computing critical region for the active set [0, 2, 4, 18, 22]\n",
      "Computing critical region for the active set [0, 2, 4, 16, 22]\n",
      "Computing critical region for the active set [0, 2, 4, 22, 24]\n",
      "Computing critical region for the active set [0, 2, 14, 16, 18]\n",
      "Computing critical region for the active set [0, 2, 16, 18, 22]\n",
      "LICQ does not hold for the active set [0, 10, 12, 14, 16]\n",
      "    corrected active set [10, 12, 14, 16]\n",
      "Computing critical region for the active set [10, 12, 14, 16]\n",
      "Computing critical region for the active set [0, 12, 14, 16, 18]\n",
      "LICQ does not hold for the active set [1, 3, 5, 7, 10]\n",
      "    unfeasible region detected\n",
      "Computing critical region for the active set [1, 3, 5, 7, 23]\n",
      "Computing critical region for the active set [1, 3, 5, 17, 19]\n",
      "Computing critical region for the active set [1, 3, 5, 19, 23]\n",
      "Computing critical region for the active set [1, 3, 5, 17, 23]\n",
      "Computing critical region for the active set [1, 3, 5, 23, 25]\n",
      "Computing critical region for the active set [1, 3, 15, 17, 19]\n",
      "Computing critical region for the active set [1, 3, 17, 19, 23]\n",
      "LICQ does not hold for the active set [1, 11, 13, 15, 17]\n",
      "    corrected active set [11, 13, 15, 17]\n",
      "Computing critical region for the active set [11, 13, 15, 17]\n",
      "Computing critical region for the active set [1, 13, 15, 17, 19]\n",
      "LICQ does not hold for the active set [1, 10, 12, 14, 16]\n",
      "    unfeasible region detected\n",
      "Computing critical region for the active set [10, 12, 14, 16, 18]\n",
      "LICQ does not hold for the active set [0, 11, 13, 15, 17]\n",
      "    unfeasible region detected\n",
      "Computing critical region for the active set [11, 13, 15, 17, 19]\n",
      "LICQ does not hold for the active set [0, 2, 4, 6, 11, 22]\n",
      "    unfeasible region detected\n",
      "LICQ does not hold for the active set [0, 2, 4, 6, 22, 24]\n",
      "    corrected active set [0, 2, 4, 6, 24]\n",
      "Computing critical region for the active set [0, 2, 4, 6, 24]\n",
      "LICQ does not hold for the active set [0, 2, 4, 16, 18, 22]\n",
      "    corrected active set [0, 2, 4, 16, 22]\n",
      "Computing critical region for the active set [0, 2, 4, 16, 22]\n",
      "Computing critical region for the active set [0, 2, 16, 22]\n",
      "LICQ does not hold for the active set [0, 2, 4, 14, 16, 22]\n",
      "    corrected active set [0, 2, 14, 16, 22]\n",
      "Computing critical region for the active set [0, 2, 14, 16, 22]\n",
      "LICQ does not hold for the active set [0, 2, 4, 16, 22, 24]\n",
      "    corrected active set [0, 2, 4, 16, 24]\n",
      "Computing critical region for the active set [0, 2, 4, 16, 24]\n",
      "LICQ does not hold for the active set [0, 2, 12, 14, 16, 18]\n",
      "    corrected active set [0, 12, 14, 16, 18]\n",
      "Computing critical region for the active set [0, 12, 14, 16, 18]\n",
      "LICQ does not hold for the active set [0, 2, 14, 16, 18, 22]\n",
      "    corrected active set [0, 2, 14, 16, 22]\n",
      "Computing critical region for the active set [0, 2, 14, 16, 22]\n",
      "LICQ does not hold for the active set [0, 10, 12, 14, 16, 18]\n",
      "    corrected active set [10, 12, 14, 16, 18]\n",
      "Computing critical region for the active set [10, 12, 14, 16, 18]\n",
      "LICQ does not hold for the active set [0, 12, 14, 16, 18, 22]\n",
      "    corrected active set [0, 12, 14, 16, 22]\n",
      "Computing critical region for the active set [0, 12, 14, 16, 22]\n",
      "LICQ does not hold for the active set [1, 3, 5, 7, 10, 23]\n",
      "    unfeasible region detected\n",
      "LICQ does not hold for the active set [1, 3, 5, 7, 23, 25]\n",
      "    corrected active set [1, 3, 5, 7, 25]\n",
      "Computing critical region for the active set [1, 3, 5, 7, 25]\n",
      "LICQ does not hold for the active set [1, 3, 5, 17, 19, 23]\n",
      "    corrected active set [1, 3, 5, 17, 23]\n",
      "Computing critical region for the active set [1, 3, 5, 17, 23]\n",
      "Computing critical region for the active set [1, 3, 17, 23]\n",
      "LICQ does not hold for the active set [1, 3, 5, 15, 17, 23]\n",
      "    corrected active set [1, 3, 15, 17, 23]\n",
      "Computing critical region for the active set [1, 3, 15, 17, 23]\n",
      "LICQ does not hold for the active set [1, 3, 5, 17, 23, 25]\n",
      "    corrected active set [1, 3, 5, 17, 25]\n",
      "Computing critical region for the active set [1, 3, 5, 17, 25]\n",
      "LICQ does not hold for the active set [1, 3, 13, 15, 17, 19]\n",
      "    corrected active set [1, 13, 15, 17, 19]\n",
      "Computing critical region for the active set [1, 13, 15, 17, 19]\n",
      "LICQ does not hold for the active set [1, 3, 15, 17, 19, 23]\n",
      "    corrected active set [1, 3, 15, 17, 23]\n",
      "Computing critical region for the active set [1, 3, 15, 17, 23]\n",
      "LICQ does not hold for the active set [1, 11, 13, 15, 17, 19]\n",
      "    corrected active set [11, 13, 15, 17, 19]\n",
      "Computing critical region for the active set [11, 13, 15, 17, 19]\n",
      "LICQ does not hold for the active set [1, 13, 15, 17, 19, 23]\n",
      "    corrected active set [1, 13, 15, 17, 23]\n",
      "Computing critical region for the active set [1, 13, 15, 17, 23]\n",
      "LICQ does not hold for the active set [1, 10, 12, 14, 16, 18]\n",
      "    unfeasible region detected\n",
      "LICQ does not hold for the active set [10, 12, 14, 16, 18, 22]\n",
      "    corrected active set [10, 12, 14, 16, 22]\n",
      "Computing critical region for the active set [10, 12, 14, 16, 22]\n",
      "LICQ does not hold for the active set [0, 11, 13, 15, 17, 19]\n",
      "    unfeasible region detected\n",
      "LICQ does not hold for the active set [11, 13, 15, 17, 19, 23]\n",
      "    corrected active set [11, 13, 15, 17, 23]\n",
      "Computing critical region for the active set [11, 13, 15, 17, 23]\n",
      "LICQ does not hold for the active set [0, 2, 4, 6, 11, 24]\n",
      "    unfeasible region detected\n",
      "LICQ does not hold for the active set [0, 2, 4, 6, 16, 24]\n",
      "    corrected active set [0, 2, 4, 16, 24]\n",
      "Computing critical region for the active set [0, 2, 4, 16, 24]\n",
      "LICQ does not hold for the active set [0, 2, 4, 6, 24, 26]\n",
      "    unfeasible region detected\n",
      "Computing critical region for the active set [0, 2, 14, 16, 22]\n",
      "LICQ does not hold for the active set [0, 2, 12, 14, 16, 22]\n",
      "    corrected active set [0, 12, 14, 16, 22]\n",
      "Computing critical region for the active set [0, 12, 14, 16, 22]\n",
      "LICQ does not hold for the active set [0, 2, 14, 16, 22, 24]\n",
      "    corrected active set [0, 2, 14, 16, 24]\n",
      "Computing critical region for the active set [0, 2, 14, 16, 24]\n",
      "LICQ does not hold for the active set [0, 2, 4, 14, 16, 24]\n",
      "    corrected active set [0, 2, 14, 16, 24]\n",
      "Computing critical region for the active set [0, 2, 14, 16, 24]\n",
      "LICQ does not hold for the active set [0, 2, 4, 16, 24, 26]\n",
      "    unfeasible region detected\n",
      "LICQ does not hold for the active set [0, 10, 12, 14, 16, 22]\n",
      "    corrected active set [10, 12, 14, 16, 22]\n",
      "Computing critical region for the active set [10, 12, 14, 16, 22]\n",
      "LICQ does not hold for the active set [0, 12, 14, 16, 22, 24]\n",
      "    corrected active set [0, 12, 14, 16, 24]\n",
      "Computing critical region for the active set [0, 12, 14, 16, 24]\n",
      "LICQ does not hold for the active set [1, 3, 5, 7, 10, 25]\n",
      "    unfeasible region detected\n",
      "LICQ does not hold for the active set [1, 3, 5, 7, 17, 25]\n",
      "    corrected active set [1, 3, 5, 17, 25]\n",
      "Computing critical region for the active set [1, 3, 5, 17, 25]\n",
      "LICQ does not hold for the active set [1, 3, 5, 7, 25, 27]\n",
      "    unfeasible region detected\n",
      "Computing critical region for the active set [1, 3, 15, 17, 23]\n",
      "LICQ does not hold for the active set [1, 3, 13, 15, 17, 23]\n",
      "    corrected active set [1, 13, 15, 17, 23]\n",
      "Computing critical region for the active set [1, 13, 15, 17, 23]\n",
      "LICQ does not hold for the active set [1, 3, 15, 17, 23, 25]\n",
      "    corrected active set [1, 3, 15, 17, 25]\n",
      "Computing critical region for the active set [1, 3, 15, 17, 25]\n",
      "LICQ does not hold for the active set [1, 3, 5, 15, 17, 25]\n",
      "    corrected active set [1, 3, 15, 17, 25]\n",
      "Computing critical region for the active set [1, 3, 15, 17, 25]\n",
      "LICQ does not hold for the active set [1, 3, 5, 17, 25, 27]\n",
      "    unfeasible region detected\n",
      "LICQ does not hold for the active set [1, 11, 13, 15, 17, 23]\n",
      "    corrected active set [11, 13, 15, 17, 23]\n",
      "Computing critical region for the active set [11, 13, 15, 17, 23]\n",
      "LICQ does not hold for the active set [1, 13, 15, 17, 23, 25]\n",
      "    corrected active set [1, 13, 15, 17, 25]\n",
      "Computing critical region for the active set [1, 13, 15, 17, 25]\n",
      "LICQ does not hold for the active set [1, 10, 12, 14, 16, 22]\n",
      "    unfeasible region detected\n",
      "LICQ does not hold for the active set [10, 12, 14, 16, 22, 24]\n",
      "    corrected active set [10, 12, 14, 16, 24]\n",
      "Computing critical region for the active set [10, 12, 14, 16, 24]\n",
      "LICQ does not hold for the active set [0, 11, 13, 15, 17, 23]\n",
      "    unfeasible region detected\n",
      "LICQ does not hold for the active set [11, 13, 15, 17, 23, 25]\n",
      "    corrected active set [11, 13, 15, 17, 25]\n",
      "Computing critical region for the active set [11, 13, 15, 17, 25]\n",
      "LICQ does not hold for the active set [0, 2, 12, 14, 16, 24]\n",
      "    corrected active set [0, 12, 14, 16, 24]\n",
      "Computing critical region for the active set [0, 12, 14, 16, 24]\n",
      "LICQ does not hold for the active set [0, 2, 14, 16, 24, 26]\n",
      "    unfeasible region detected\n",
      "LICQ does not hold for the active set [0, 10, 12, 14, 16, 24]\n",
      "    corrected active set [10, 12, 14, 16, 24]\n",
      "Computing critical region for the active set [10, 12, 14, 16, 24]\n",
      "LICQ does not hold for the active set [0, 12, 14, 16, 24, 26]\n",
      "    unfeasible region detected\n",
      "LICQ does not hold for the active set [1, 3, 13, 15, 17, 25]\n",
      "    corrected active set [1, 13, 15, 17, 25]\n",
      "Computing critical region for the active set [1, 13, 15, 17, 25]\n",
      "LICQ does not hold for the active set [1, 3, 15, 17, 25, 27]\n",
      "    unfeasible region detected\n",
      "LICQ does not hold for the active set [1, 11, 13, 15, 17, 25]\n",
      "    corrected active set [11, 13, 15, 17, 25]\n",
      "Computing critical region for the active set [11, 13, 15, 17, 25]\n",
      "LICQ does not hold for the active set [1, 13, 15, 17, 25, 27]\n",
      "    unfeasible region detected\n",
      "LICQ does not hold for the active set [1, 10, 12, 14, 16, 24]\n",
      "    unfeasible region detected\n",
      "LICQ does not hold for the active set [10, 12, 14, 16, 24, 26]\n",
      "    unfeasible region detected\n",
      "LICQ does not hold for the active set [0, 11, 13, 15, 17, 25]\n",
      "    unfeasible region detected\n",
      "LICQ does not hold for the active set [11, 13, 15, 17, 25, 27]\n",
      "    unfeasible region detected\n",
      "\n",
      "Explicit solution successfully computed:\n",
      "parameter space partitioned in 109 critical regions.\n"
     ]
    },
    {
     "data": {
      "image/png": "[encoded data removed]",
      "text/plain": [
       "<matplotlib.figure.Figure at 0x11715b510>"
      ]
     },
     "metadata": {},
     "output_type": "display_data"
    }
   ],
   "source": [
    "controller.compute_explicit_solution()\n",
    "for cr in controller.critical_regions:\n",
    "    cr.polyhedron.plot()\n",
    "plt.show()"
   ]
  },
  {
   "cell_type": "markdown",
   "metadata": {
    "deletable": true,
    "editable": true
   },
   "source": [
    "Compare the explicit and the implicit solutions for the initial state $x_0$"
   ]
  },
  {
   "cell_type": "code",
   "execution_count": 14,
   "metadata": {
    "collapsed": false,
    "deletable": true,
    "editable": true
   },
   "outputs": [
    {
     "name": "stdout",
     "output_type": "stream",
     "text": [
      "Optimal control from the explicit solution: [-3.92699082 -3.92699082 -3.92699082 -2.75365566 -1.88596365]\n",
      "Optimal control from the implicit solution: [-3.92699082 -3.92699082 -3.92699082 -2.75365566 -1.88596365]\n"
     ]
    }
   ],
   "source": [
    "u_explicit = controller.evaluate_explicit_solution(x_0)[0]\n",
    "u_implicit = controller.feedforward(x_0)\n",
    "print('Optimal control from the explicit solution: ' + str(u_explicit.flatten()))\n",
    "print('Optimal control from the implicit solution: ' + str(u_implicit.flatten()))"
   ]
  }
 ],
 "metadata": {
  "celltoolbar": "Raw Cell Format",
  "kernelspec": {
   "display_name": "Python 2",
   "language": "python",
   "name": "python2"
  },
  "language_info": {
   "codemirror_mode": {
    "name": "ipython",
    "version": 2
   },
   "file_extension": ".py",
   "mimetype": "text/x-python",
   "name": "python",
   "nbconvert_exporter": "python",
   "pygments_lexer": "ipython2",
   "version": "2.7.13"
  }
 },
 "nbformat": 4,
 "nbformat_minor": 2
}
