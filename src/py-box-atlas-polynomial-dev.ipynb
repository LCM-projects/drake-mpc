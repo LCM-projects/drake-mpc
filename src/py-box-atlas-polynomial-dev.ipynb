{
 "cells": [
  {
   "cell_type": "code",
   "execution_count": 1,
   "metadata": {
    "collapsed": true
   },
   "outputs": [],
   "source": [
    "from __future__ import division, print_function"
   ]
  },
  {
   "cell_type": "code",
   "execution_count": 2,
   "metadata": {
    "collapsed": false
   },
   "outputs": [
    {
     "name": "stdout",
     "output_type": "stream",
     "text": [
      "Populating the interactive namespace from numpy and matplotlib\n"
     ]
    }
   ],
   "source": [
    "%load_ext autoreload\n",
    "%autoreload 2\n",
    "%pylab inline\n",
    "# %load_ext wurlitzer\n"
   ]
  },
  {
   "cell_type": "code",
   "execution_count": 3,
   "metadata": {
    "collapsed": false
   },
   "outputs": [],
   "source": [
    "import time\n",
    "import numpy as np\n",
    "from collections import namedtuple\n",
    "\n",
    "\n",
    "from director import viewerclient as vc\n",
    "from irispy import Polyhedron\n",
    "import boxatlas as box\n",
    "from contactstabilization import BoxAtlasContactStabilization\n",
    "\n",
    "from ipywidgets import interact, interactive, fixed, interact_manual\n",
    "import ipywidgets as widgets"
   ]
  },
  {
   "cell_type": "code",
   "execution_count": 4,
   "metadata": {
    "collapsed": false
   },
   "outputs": [],
   "source": [
    "vis = vc.Visualizer()"
   ]
  },
  {
   "cell_type": "code",
   "execution_count": 5,
   "metadata": {
    "collapsed": false
   },
   "outputs": [],
   "source": [
    "surfaces = [\n",
    "    box.Surface(Polyhedron.fromBounds([1.2, 0], [1.2, 2]),\n",
    "            Polyhedron(np.array([[1, -1], [1, 1]]), np.array([0, 0]))),\n",
    "    box.Surface(Polyhedron.fromBounds([-2, 0], [2, 0]), \n",
    "            Polyhedron(np.array([[-2, -1], [2, -1]]), np.array([0, 0]))),\n",
    "    box.Surface(Polyhedron.fromBounds([-2, 0], [2, 0]), \n",
    "            Polyhedron(np.array([[-2, -1], [2, -1]]), np.array([0, 0]))),\n",
    "    box.Surface(Polyhedron.fromBounds([-1.2, 0], [-1.2, 2]),\n",
    "            Polyhedron(np.array([[-1, -1], [-1, 1]]), np.array([0, 0]))),\n",
    "]\n",
    "\n",
    "limb_idx_map = dict()\n",
    "limb_idx_map[\"right_arm\"] = 0\n",
    "limb_idx_map[\"right_leg\"] = 1\n",
    "limb_idx_map[\"left_leg\"] = 2\n",
    "limb_idx_map[\"left_arm\"] = 3\n",
    "\n",
    "limb_velocity_limits = [\n",
    "        10,\n",
    "        10,\n",
    "        10,\n",
    "        10\n",
    "    ]\n",
    "\n",
    "env = box.Environment(surfaces, Polyhedron.fromBounds([-1.2, 0], [1.2, 2]))\n",
    "atlas = box.BoxAtlas()\n",
    "atlas.limb_velocity_limits = limb_velocity_limits\n",
    "\n",
    "def solveContactStabilization(initial_state):\n",
    "    opt = BoxAtlasContactStabilization(initial_state, env)\n",
    "    states, inputs, contact_indicator = opt.solve()\n",
    "    ts = states.components[0].breaks\n",
    "    \n",
    "    solnData = namedtuple(\"SolutionData\", [\"opt\" ,\"states\", \"inputs\", \"contact_indicator\", \"ts\"])\n",
    "    solnData.opt = opt\n",
    "    solnData.states = states\n",
    "    solnData.inputs = inputs\n",
    "    solnData.contact_indicator = contact_indicator\n",
    "    solnData.ts = ts\n",
    "    return solnData\n",
    "\n",
    "def drawSinglePlanFrame(solnData, t):\n",
    "    states = solnData.states\n",
    "    inputs = solnData.inputs\n",
    "    ts = solnData.ts\n",
    "    box.draw(vis, states(t), inputs(t), env)\n",
    "\n",
    "def visualizeContactStabilizationPlan(solnData):\n",
    "    # unpack solution\n",
    "    states = solnData.states\n",
    "    inputs = solnData.inputs\n",
    "    ts = solnData.ts\n",
    "    \n",
    "    # draw solution plan\n",
    "    for t in np.linspace(0, ts[-1] - 0.001, ts[-1] / 0.01):\n",
    "        drawSinglePlanFrame(solnData,t)\n",
    "        time.sleep(0.05)\n",
    "        \n",
    "def sliderPlayback(solnData):\n",
    "    ts = solnData.ts\n",
    "    slider = widgets.FloatSlider(min=ts[0],max=ts[-1]-0.001,step=0.01,value=0)\n",
    "    interact(drawSinglePlanFrame, t=slider, solnData=fixed(solnData))\n",
    "    \n",
    "        \n",
    "def makeDefaultInitialState():\n",
    "    initial_state = box.BoxAtlasState(atlas)\n",
    "    initial_state.qcom = np.array([0, 1])\n",
    "    initial_state.vcom = np.array([-0, 0.])\n",
    "    initial_state.qlimb = map(np.array, [[0.75, 1], [0.25, 0], [-0.25, 0], [-0.75, 1]])\n",
    "    return initial_state\n",
    "\n",
    "def testInitialVCOM(vcom_x_list):\n",
    "    solnDataList = []\n",
    "    \n",
    "    for vcom_x in vcom_x_list:\n",
    "        initial_state = makeDefaultInitialState()\n",
    "        initial_state.vcom = np.array([vcom_x, 0])\n",
    "        solnDataList.append(solveContactStabilization(initial_state))\n",
    "        \n",
    "    return solnDataList\n",
    "\n",
    "def getContactIndicatorVariable(solnData, contact_name=\"left_arm\"):\n",
    "    idx = limb_idx_map[contact_name]\n",
    "    ts = solnData.ts\n",
    "    return [solnData.contact_indicator[idx](t) for t in ts[:-1]]\n",
    "    "
   ]
  },
  {
   "cell_type": "code",
   "execution_count": 7,
   "metadata": {
    "collapsed": false,
    "scrolled": true
   },
   "outputs": [
    {
     "data": {
      "text/plain": [
       "None"
      ]
     },
     "metadata": {},
     "output_type": "display_data"
    }
   ],
   "source": [
    "# solve a single problem and visualize the solution\n",
    "initial_state = box.BoxAtlasState(atlas)\n",
    "initial_state.qcom = np.array([0, 1])\n",
    "initial_state.vcom = np.array([-4, 0.])\n",
    "initial_state.qlimb = map(np.array, [[0.75, 1], [0.25, 0], [-0.25, 0], [-0.75, 1]])\n",
    "\n",
    "solnData = solveContactStabilization(initial_state)\n",
    "# visualizeContactStabilizationPlan(solnData)\n",
    "sliderPlayback(solnData)"
   ]
  },
  {
   "cell_type": "code",
   "execution_count": null,
   "metadata": {
    "collapsed": false
   },
   "outputs": [],
   "source": [
    "# Solve a sequence of problems for different initial velocities\n",
    "vcom_x_list = np.arange(-1.0,-4, -0.25)\n",
    "solnDataList = testInitialVCOM(vcom_x_list)"
   ]
  },
  {
   "cell_type": "code",
   "execution_count": null,
   "metadata": {
    "collapsed": false
   },
   "outputs": [],
   "source": [
    "def plotContactIndicator(idx, solnDataList=solnDataList):\n",
    "    solnData = solnDataList[idx]\n",
    "    contact_indicator_left_arm = getContactIndicatorVariable(solnData, contact_name=\"left_arm\")\n",
    "    ts = solnData.ts\n",
    "    vcom_x = solnData.states(0).vcom[0]\n",
    "    label = str(vcom_x)\n",
    "    plt.plot(ts[:-1], contact_indicator_left_arm, label=label, alpha=1.0)\n",
    "    plt.legend(loc='best')\n",
    "    plt.show()\n",
    "    \n",
    "slider = widgets.IntSlider(min=0,max=len(solnDataList)-1,step=1,value=0)\n",
    "interact(plotContactIndicator, idx=slider, solnDataList=fixed(solnDataList))"
   ]
  },
  {
   "cell_type": "code",
   "execution_count": null,
   "metadata": {
    "collapsed": false
   },
   "outputs": [],
   "source": [
    "solnData = solnDataList[3]\n",
    "vcom_x = solnData.states(0).vcom[0]\n",
    "print(\"com initial x velocity = \", vcom_x)\n",
    "visualizeContactStabilizationPlan(solnData)"
   ]
  },
  {
   "cell_type": "code",
   "execution_count": null,
   "metadata": {
    "collapsed": false
   },
   "outputs": [],
   "source": [
    "contact = solnData.opt.vars.contact[0]\n",
    "t = 0.4\n",
    "contact(t)[0]"
   ]
  },
  {
   "cell_type": "code",
   "execution_count": null,
   "metadata": {
    "collapsed": false
   },
   "outputs": [],
   "source": [
    "a = {'a':1}\n",
    "type(a)"
   ]
  },
  {
   "cell_type": "code",
   "execution_count": null,
   "metadata": {
    "collapsed": true
   },
   "outputs": [],
   "source": []
  }
 ],
 "metadata": {
  "kernelspec": {
   "display_name": "Python 2",
   "language": "python",
   "name": "python2"
  },
  "language_info": {
   "codemirror_mode": {
    "name": "ipython",
    "version": 2
   },
   "file_extension": ".py",
   "mimetype": "text/x-python",
   "name": "python",
   "nbconvert_exporter": "python",
   "pygments_lexer": "ipython2",
   "version": "2.7.6"
  }
 },
 "nbformat": 4,
 "nbformat_minor": 1
}
