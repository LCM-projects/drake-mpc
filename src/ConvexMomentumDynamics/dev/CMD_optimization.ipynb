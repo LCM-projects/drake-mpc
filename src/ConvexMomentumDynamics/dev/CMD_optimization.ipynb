{
 "cells": [
  {
   "cell_type": "code",
   "execution_count": 1,
   "metadata": {
    "collapsed": false
   },
   "outputs": [
    {
     "data": {
      "text/html": [
       "<div id=\"interact-js-shim\">\n",
       "    <script charset=\"utf-8\">\n",
       "(function (IPython, $, _, MathJax) {\n",
       "    $.event.special.destroyed = {\n",
       "\tremove: function(o) {\n",
       "\t    if (o.handler) {\n",
       "\t\to.handler.apply(this, arguments)\n",
       "\t    }\n",
       "\t}\n",
       "    }\n",
       "\n",
       "    var OutputArea = IPython.version >= \"4.0.0\" ? require(\"notebook/js/outputarea\").OutputArea : IPython.OutputArea;\n",
       "\n",
       "    var redrawValue = function (container, type, val) {\n",
       "\tvar selector = $(\"<div/>\");\n",
       "\tvar oa = new OutputArea(_.extend(selector, {\n",
       "\t    selector: selector,\n",
       "\t    prompt_area: true,\n",
       "\t    events: IPython.events,\n",
       "\t    keyboard_manager: IPython.keyboard_manager\n",
       "\t})); // Hack to work with IPython 2.1.0\n",
       "\n",
       "\tswitch (type) {\n",
       "\tcase \"image/png\":\n",
       "            var _src = 'data:' + type + ';base64,' + val;\n",
       "\t    $(container).find(\"img\").attr('src', _src);\n",
       "\t    break;\n",
       "\tcase \"text/latex\":\n",
       "\t\tif (MathJax){\n",
       "\t\t\tvar math = MathJax.Hub.getAllJax(container)[0];\n",
       "\t\t\tMathJax.Hub.Queue([\"Text\", math, val.replace(/^\\${1,2}|\\${1,2}$/g, '')]);\n",
       "\t\t\tbreak;\n",
       "\t\t}\n",
       "\tdefault:\n",
       "\t    var toinsert = OutputArea.append_map[type].apply(\n",
       "\t\toa, [val, {}, selector]\n",
       "\t    );\n",
       "\t    $(container).empty().append(toinsert.contents());\n",
       "\t    selector.remove();\n",
       "\t}\n",
       "    }\n",
       "\n",
       "\n",
       "    $(document).ready(function() {\n",
       "\tfunction initComm(evt, data) {\n",
       "\t    var comm_manager = data.kernel.comm_manager;\n",
       "        //_.extend(comm_manager.targets, require(\"widgets/js/widget\"))\n",
       "\t    comm_manager.register_target(\"Signal\", function (comm) {\n",
       "            comm.on_msg(function (msg) {\n",
       "                var val = msg.content.data.value;\n",
       "                $(\".signal-\" + comm.comm_id).each(function() {\n",
       "                var type = $(this).data(\"type\");\n",
       "                if (typeof(val[type]) !== \"undefined\" && val[type] !== null) {\n",
       "                    redrawValue(this, type, val[type], type);\n",
       "                }\n",
       "                });\n",
       "                delete val;\n",
       "                delete msg.content.data.value;\n",
       "            });\n",
       "\t    });\n",
       "\n",
       "\t    // coordingate with Comm and redraw Signals\n",
       "\t    // XXX: Test using Reactive here to improve performance\n",
       "\t    $([IPython.events]).on(\n",
       "\t\t'output_appended.OutputArea', function (event, type, value, md, toinsert) {\n",
       "\t\t    if (md && md.reactive) {\n",
       "                // console.log(md.comm_id);\n",
       "                toinsert.addClass(\"signal-\" + md.comm_id);\n",
       "                toinsert.data(\"type\", type);\n",
       "                // Signal back indicating the mimetype required\n",
       "                var comm_manager = IPython.notebook.kernel.comm_manager;\n",
       "                var comm = comm_manager.comms[md.comm_id];\n",
       "                comm.then(function (c) {\n",
       "                    c.send({action: \"subscribe_mime\",\n",
       "                       mime: type});\n",
       "                    toinsert.bind(\"destroyed\", function() {\n",
       "                        c.send({action: \"unsubscribe_mime\",\n",
       "                               mime: type});\n",
       "                    });\n",
       "                })\n",
       "\t\t    }\n",
       "\t    });\n",
       "\t}\n",
       "\n",
       "\ttry {\n",
       "\t    // try to initialize right away. otherwise, wait on the status_started event.\n",
       "\t    initComm(undefined, IPython.notebook);\n",
       "\t} catch (e) {\n",
       "\t    $([IPython.events]).on('kernel_created.Kernel kernel_created.Session', initComm);\n",
       "\t}\n",
       "    });\n",
       "})(IPython, jQuery, _, MathJax);\n",
       "</script>\n",
       "    <script>\n",
       "        window.interactLoadedFlag = true\n",
       "       $(\"#interact-js-shim\").bind(\"destroyed\", function () {\n",
       "           if (window.interactLoadedFlag) {\n",
       "               console.warn(\"JavaScript required by Interact will be removed if you remove this cell or run using Interact more than once.\")\n",
       "           }\n",
       "       })\n",
       "       $([IPython.events]).on(\"kernel_starting.Kernel kernel_restarting.Kernel\", function () { window.interactLoadedFlag = false })\n",
       "   </script>\n",
       "</div>"
      ]
     },
     "metadata": {},
     "output_type": "display_data"
    },
    {
     "name": "stderr",
     "output_type": "stream",
     "text": [
      "WARNING: using Gurobi.model_name in module Main conflicts with an existing identifier.\n"
     ]
    }
   ],
   "source": [
    "push!(LOAD_PATH, \"../src/\")\n",
    "import ConvexMomentumDynamics\n",
    "using CoordinateTransformations\n",
    "import GeometryTypes: HyperRectangle, Vec, HomogenousMesh, Point\n",
    "import ColorTypes: RGBA\n",
    "\n",
    "\n",
    "using ConvexMomentumDynamics\n",
    "using JuMP\n",
    "using Gurobi\n",
    "using DrakeVisualizer"
   ]
  },
  {
   "cell_type": "code",
   "execution_count": 15,
   "metadata": {
    "collapsed": false
   },
   "outputs": [
    {
     "name": "stdout",
     "output_type": "stream",
     "text": [
      "starting CMD optimization test\n",
      "Optimize a model with 459 rows, 1185 columns and 1719 nonzeros\n",
      "Model has 549 quadratic objective terms\n",
      "Model has 360 quadratic constraints\n",
      "Presolve time: 0.05s\n",
      "Presolved: 2260 rows, 2627 columns, 6161 nonzeros\n",
      "Presolved model has 361 second-order cone constraints\n",
      "Ordering time: 0.00s\n",
      "\n",
      "Barrier statistics:\n",
      " Dense cols : 1\n",
      " Free vars  : 276\n",
      " AA' NZ     : 1.407e+04\n",
      " Factor NZ  : 4.706e+04 (roughly 2 MBytes of memory)\n",
      " Factor Ops : 1.256e+06 (less than 1 second per iteration)\n",
      " Threads    : 1\n",
      "\n",
      "                  Objective                Residual\n",
      "Iter       Primal          Dual         Primal    Dual     Compl     Time\n",
      "   0   7.04986942e+00  7.04986942e+00  8.12e+02 7.27e+02  8.72e+02     0s\n",
      "   1  -1.02381831e+04 -5.89031481e+02  6.77e+02 5.31e+02  7.12e+02     0s\n",
      "   2  -1.70213736e+04 -6.32221037e+02  6.49e+02 4.97e+02  6.72e+02     0s\n",
      "   3  -3.76187128e+03 -1.08110911e+03  1.54e+02 3.80e+02  1.63e+02     0s\n",
      "   4  -2.22589728e+02 -1.39950590e+03  1.03e+02 2.77e+02  1.03e+02     0s\n",
      "   5   2.55995404e+03 -2.30392845e+03  2.75e+00 3.31e-04  3.90e+00     0s\n",
      "   6   1.61014429e+02 -1.37550060e+03  4.69e-01 4.61e-05  8.65e-01     0s\n",
      "   7  -3.19563366e+02 -8.68442587e+02  8.57e-02 1.71e-05  2.45e-01     0s\n",
      "   8  -3.21719579e+02 -5.78797366e+02  3.57e-03 6.61e-06  9.10e-02     0s\n",
      "   9  -3.29167874e+02 -3.58165292e+02  6.71e-04 2.55e-07  1.04e-02     0s\n",
      "  10  -3.45919273e+02 -3.49406839e+02  2.10e-05 1.01e-07  1.22e-03     0s\n",
      "  11  -3.46467174e+02 -3.47846851e+02  1.09e-05 3.72e-08  4.83e-04     0s\n",
      "  12  -3.47324450e+02 -3.47749681e+02  1.30e-06 4.03e-08  1.48e-04     0s\n",
      "  13  -3.47417280e+02 -3.47570014e+02  2.44e-07 1.92e-08  5.29e-05     0s\n",
      "  14  -3.47466960e+02 -3.47523109e+02  2.81e-08 1.73e-08  1.94e-05     0s\n",
      "  15  -3.47468428e+02 -3.47485404e+02  4.20e-08 5.37e-09  5.88e-06     0s\n",
      "  16  -3.47470142e+02 -3.47473931e+02  6.05e-09 2.59e-09  1.31e-06     0s\n",
      "  17  -3.47470321e+02 -3.47470650e+02  3.53e-10 3.51e-09  1.14e-07     0s\n",
      "\n",
      "Barrier solved model in 17 iterations and 0.12 seconds\n",
      "Optimal objective -3.47470321e+02\n",
      "\n"
     ]
    }
   ],
   "source": [
    "println(\"starting CMD optimization test\")\n",
    "param = OptimizationParameters(num_timesteps = 30)\n",
    "model = Model(solver=GurobiSolver(Presolve=0))\n",
    "p = CentroidalDynamicsOptimizationProblem(model=model, param=param)\n",
    "weights = OptimizationWeights(com_final_position = [0.0,0.,2.])\n",
    "weights.com_final_position_weight = 100\n",
    "weights.lin_momentum = 1.\n",
    "weights.lin_momentum_final_weight = 10\n",
    "weights.forces = 0\n",
    "weights.convex_bounds = 1\n",
    "initial_conditions = OptimizationInitialConditions()\n",
    "\n",
    "com_nominal_position = initial_conditions.com_position\n",
    "\n",
    "# create vector of contact points\n",
    "contact_points = Vector{ContactPoint}()\n",
    "r_foot_location = [-0.5,0.,0.]\n",
    "l_foot_location = [0.5,0.,0.]\n",
    "\n",
    "nominal_distance_to_com = norm(com_nominal_position - l_foot_location)\n",
    "\n",
    "push!(contact_points, ContactPoint(\"r_foot\",r_foot_location,\n",
    "        nominal_distance_to_com))\n",
    "push!(contact_points, ContactPoint(\"l_foot\",l_foot_location,\n",
    "        nominal_distance_to_com))\n",
    "\n",
    "add_contact_points!(p, contact_points)\n",
    "add_variables!(p)\n",
    "add_dynamics_constraints!(p)\n",
    "add_initial_condition_constraints!(p, initial_conditions)\n",
    "add_costs!(p, weights)\n",
    "\n",
    "# solve the model\n",
    "status = solve(p.model);\n",
    "soln = get_variable_solution_values(p.vars)\n",
    "debug = compute_debug_info(p, soln);"
   ]
  },
  {
   "cell_type": "code",
   "execution_count": 16,
   "metadata": {
    "collapsed": false
   },
   "outputs": [
    {
     "data": {
      "text/html": [],
      "text/plain": [
       "Interact.Options{:SelectionSlider,Int64}(Signal{Int64}(15, nactions=1),\"knot_point\",15,\"15\",Interact.OptionDict(DataStructures.OrderedDict(\"1\"=>1,\"2\"=>2,\"3\"=>3,\"4\"=>4,\"5\"=>5,\"6\"=>6,\"7\"=>7,\"8\"=>8,\"9\"=>9,\"10\"=>10…),Dict(18=>\"18\",30=>\"30\",2=>\"2\",16=>\"16\",11=>\"11\",21=>\"21\",7=>\"7\",9=>\"9\",25=>\"25\",10=>\"10\"…)),Any[],Any[],true,\"horizontal\")"
      ]
     },
     "metadata": {},
     "output_type": "display_data"
    },
    {
     "name": "stdout",
     "output_type": "stream",
     "text": [
      "visualizing centroidal dynamics state\n"
     ]
    },
    {
     "data": {
      "text/plain": [
       "Set{Array{Symbol,1}}()"
      ]
     },
     "execution_count": 16,
     "metadata": {
      "comm_id": "77ec63e0-3e82-4f10-a601-a41879e890d3",
      "reactive": true
     },
     "output_type": "execute_result"
    }
   ],
   "source": [
    "## Visualize CentroidalDynamicsState\n",
    "println(\"visualizing centroidal dynamics state\")\n",
    "DrakeVisualizer.any_open_windows() || DrakeVisualizer.new_window();\n",
    "\n",
    "options = CentroidalDynamicsVisualizerOptions(p.param)\n",
    "cd_vis = CentroidalDynamicsVisualizer(p=p, soln=soln, debug=debug, options=options)\n",
    "delete!(cd_vis.vis)\n",
    "\n",
    "slider_playback(cd_vis)"
   ]
  },
  {
   "cell_type": "code",
   "execution_count": null,
   "metadata": {
    "collapsed": true
   },
   "outputs": [],
   "source": []
  },
  {
   "cell_type": "code",
   "execution_count": 70,
   "metadata": {
    "collapsed": false
   },
   "outputs": [
    {
     "data": {
      "text/plain": [
       "20×2 Array{Float64,2}:\n",
       " 4.83545  4.86696\n",
       " 4.86717  4.89848\n",
       " 4.88252  4.91373\n",
       " 4.88997  4.92115\n",
       " 4.8936   4.92477\n",
       " 4.89537  4.92653\n",
       " 4.89623  4.92737\n",
       " 4.89662  4.92777\n",
       " 4.89679  4.92793\n",
       " 4.89682  4.92795\n",
       " 4.89672  4.92784\n",
       " 4.89643  4.92755\n",
       " 4.89579  4.92692\n",
       " 4.89445  4.92559\n",
       " 4.89169  4.92285\n",
       " 4.88602  4.91722\n",
       " 4.87536  4.90555\n",
       " 4.8505   4.88262\n",
       " 4.80092  4.8327 \n",
       " 4.69578  4.72443"
      ]
     },
     "metadata": {},
     "output_type": "display_data"
    },
    {
     "data": {
      "text/plain": [
       "3-element Array{Float64,1}:\n",
       " 6.09541 \n",
       " 8.04931 \n",
       " 0.140717"
      ]
     },
     "metadata": {},
     "output_type": "display_data"
    },
    {
     "data": {
      "text/plain": [
       "3-element Array{Float64,1}:\n",
       " 6.17185  \n",
       " 5.01758  \n",
       " 0.0627021"
      ]
     },
     "metadata": {},
     "output_type": "display_data"
    },
    {
     "name": "stdout",
     "output_type": "stream",
     "text": [
      "norm r_foot plus = 10.097784163134177\n",
      "norm l_foot minus = 7.95435507324212\n",
      "\n",
      "norm r_foot plus = 7.532196525625464\n",
      "norm l_foot minus = 9.675415217249792\n"
     ]
    }
   ],
   "source": [
    "knot_point = 1\n",
    "display(soln.forces[3,:,:])\n",
    "# display(soln.lin_momentum[3,:])\n",
    "# display(debug.l_cross_f[2,:,:])\n",
    "# display(debug.l_cross_f[:,knot_point,1])\n",
    "display(soln.l_cross_f_plus[:,knot_point,1])\n",
    "display(soln.l_cross_f_plus[:,knot_point,2])\n",
    "\n",
    "\n",
    "println(\"norm r_foot plus = \", norm(soln.l_cross_f_plus[:,knot_point,1]))\n",
    "println(\"norm l_foot minus = \", norm(soln.l_cross_f_plus[:,knot_point,2]))\n",
    "println()\n",
    "println(\"norm r_foot plus = \", norm(soln.l_cross_f_minus[:,knot_point,1]))\n",
    "println(\"norm l_foot minus = \", norm(soln.l_cross_f_minus[:,knot_point,2]))\n",
    "# display(soln.forces[3,:,2])\n",
    "\n",
    "# display(soln.lin_momentum[:,end])\n",
    "# display(debug.orientation[:,end])"
   ]
  },
  {
   "cell_type": "code",
   "execution_count": 4,
   "metadata": {
    "collapsed": false
   },
   "outputs": [],
   "source": [
    "# using Plots\n",
    "# gr()\n",
    "# pl = plot()\n",
    "# plot!(pl, debug.ang_momentum[1,:], color=:blue, label=\"ang momentum\")\n",
    "# plot!(pl, debug.ang_momentum_dot[1,:], color=:red, label=\"ang momentum dot\")\n",
    "# plot!(title=\"angular momentum\")"
   ]
  },
  {
   "cell_type": "code",
   "execution_count": 16,
   "metadata": {
    "collapsed": false
   },
   "outputs": [
    {
     "data": {
      "text/plain": [
       "3-element Array{Float64,1}:\n",
       " 6.45698 \n",
       " 9.19838 \n",
       " 0.249997"
      ]
     },
     "metadata": {},
     "output_type": "display_data"
    },
    {
     "data": {
      "text/plain": [
       "3-element Array{Float64,1}:\n",
       " 6.45698 \n",
       " 9.19838 \n",
       " 0.249996"
      ]
     },
     "metadata": {},
     "output_type": "display_data"
    },
    {
     "data": {
      "text/plain": [
       "3-element Array{Float64,1}:\n",
       " -9.61212e-7\n",
       " -8.35616e-7\n",
       "  6.21396e-7"
      ]
     },
     "metadata": {},
     "output_type": "display_data"
    },
    {
     "data": {
      "text/plain": [
       "3-element Array{Float64,1}:\n",
       " -1.5358e-5 \n",
       "  2.45504   \n",
       "  4.17135e-6"
      ]
     },
     "metadata": {},
     "output_type": "display_data"
    },
    {
     "data": {
      "text/plain": [
       "3-element Array{Float64,1}:\n",
       " -1.64439e-5\n",
       "  2.45503   \n",
       " -2.99779e-6"
      ]
     },
     "metadata": {},
     "output_type": "display_data"
    }
   ],
   "source": [
    "knot_point = 1\n",
    "contact_idx = 1\n",
    "l_cross_f_plus = soln.l_cross_f_plus[:,knot_point,contact_idx]\n",
    "pos_convex = debug.pos_convex[:,knot_point,contact_idx]\n",
    "l_x_f = debug.l_cross_f[:,knot_point,contact_idx]\n",
    "display(l_cross_f_plus)\n",
    "display(pos_convex)\n",
    "display(l_cross_f_plus - pos_convex)\n",
    "display(debug.ang_momentum_dot[:,knot_point])\n",
    "display(soln.ang_momentum_dot[:,knot_point])"
   ]
  },
  {
   "cell_type": "code",
   "execution_count": 80,
   "metadata": {
    "collapsed": false
   },
   "outputs": [
    {
     "data": {
      "text/plain": [
       "3-element Array{Float64,1}:\n",
       "  0.0     \n",
       " -0.707107\n",
       "  0.0     "
      ]
     },
     "metadata": {},
     "output_type": "display_data"
    },
    {
     "data": {
      "text/plain": [
       "3-element Array{Float64,1}:\n",
       " 0.0\n",
       " 0.0\n",
       " 0.0"
      ]
     },
     "metadata": {},
     "output_type": "display_data"
    },
    {
     "name": "stdout",
     "output_type": "stream",
     "text": [
      "l = [0.707107,0.0,0.707107]\n",
      "vertical force 1.3621806401054506\n",
      "force towards com 1.224744871391589\n"
     ]
    }
   ],
   "source": [
    "r = [0.,0.,1.]\n",
    "contact_point = [-0.5,0.,0.]\n",
    "l = contact_point - r\n",
    "l = [0.5,0,0.5]\n",
    "l = l/norm(l)\n",
    "println(\"l = \", l)\n",
    "\n",
    "force_vertical = [0.,0.,1.]\n",
    "force_com = l\n",
    "\n",
    "pos_vert, neg_vert = difference_convex_functions_decomposition(l,force_vertical)\n",
    "pos, neg = difference_convex_functions_decomposition(l,force_com)\n",
    "display(pos_vert - neg_vert)\n",
    "display(pos - neg)\n",
    "println(\"vertical force \", norm(pos_vert) + norm(neg_vert))\n",
    "println(\"force towards com \", norm(pos) + norm(neg))"
   ]
  },
  {
   "cell_type": "code",
   "execution_count": 49,
   "metadata": {
    "collapsed": false
   },
   "outputs": [
    {
     "data": {
      "text/plain": [
       "3-element Array{Float64,1}:\n",
       " 0.0        \n",
       " 3.55271e-15\n",
       " 0.0        "
      ]
     },
     "metadata": {},
     "output_type": "display_data"
    },
    {
     "data": {
      "text/plain": [
       "([24.26,30.325,6.065],[24.26,30.325,6.065])"
      ]
     },
     "metadata": {},
     "output_type": "display_data"
    },
    {
     "data": {
      "text/plain": [
       "([24.26,21.8725,0.0625],[24.26,26.7725,0.0625])"
      ]
     },
     "metadata": {},
     "output_type": "display_data"
    },
    {
     "data": {
      "text/plain": [
       "3-element Array{Float64,1}:\n",
       "  0.0\n",
       " -4.9\n",
       " -0.0"
      ]
     },
     "metadata": {},
     "output_type": "display_data"
    }
   ],
   "source": [
    "display(pos - neg)\n",
    "display(difference_convex_functions_decomposition(l,force_towards_com))\n",
    "display(difference_convex_functions_decomposition(l,force_vertical))\n",
    "display(cross(l,force_vertical))"
   ]
  },
  {
   "cell_type": "code",
   "execution_count": 5,
   "metadata": {
    "collapsed": false
   },
   "outputs": [
    {
     "data": {
      "text/plain": [
       "Float64"
      ]
     },
     "execution_count": 5,
     "metadata": {},
     "output_type": "execute_result"
    }
   ],
   "source": [
    "l = [0,0,1]\n",
    "typeof(1.0/norm(l))"
   ]
  },
  {
   "cell_type": "code",
   "execution_count": null,
   "metadata": {
    "collapsed": true
   },
   "outputs": [],
   "source": []
  }
 ],
 "metadata": {
  "kernelspec": {
   "display_name": "Julia 0.5.0",
   "language": "julia",
   "name": "julia-0.5"
  },
  "language_info": {
   "file_extension": ".jl",
   "mimetype": "application/julia",
   "name": "julia",
   "version": "0.5.0"
  },
  "widgets": {
   "state": {
    "3e27e348-7c89-41bb-812f-4c965c8ece19": {
     "views": [
      {
       "cell_index": 2
      }
     ]
    }
   },
   "version": "1.2.0"
  }
 },
 "nbformat": 4,
 "nbformat_minor": 2
}
