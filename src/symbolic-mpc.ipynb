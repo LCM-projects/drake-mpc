{
 "cells": [
  {
   "cell_type": "code",
   "execution_count": 1,
   "metadata": {
    "collapsed": false
   },
   "outputs": [
    {
     "name": "stdout",
     "output_type": "stream",
     "text": [
      "Populating the interactive namespace from numpy and matplotlib\n"
     ]
    }
   ],
   "source": [
    "%load_ext autoreload\n",
    "%autoreload 2\n",
    "\n",
    "%pylab inline"
   ]
  },
  {
   "cell_type": "code",
   "execution_count": 5,
   "metadata": {
    "collapsed": false
   },
   "outputs": [],
   "source": [
    "import numpy as np\n",
    "import pydrake.solvers.mathematicalprogram as mp\n",
    "import mpc.mpc_tools as mpc\n",
    "import mpc.symbolic as sym"
   ]
  },
  {
   "cell_type": "code",
   "execution_count": 11,
   "metadata": {
    "collapsed": false
   },
   "outputs": [],
   "source": [
    "m = 1.\n",
    "l = 1.\n",
    "g = 10.\n",
    "A = np.array([\n",
    "    [0., 1.],\n",
    "    [g/l, 0.]\n",
    "])\n",
    "B = np.array([\n",
    "    [0.],\n",
    "    [1/(m*l**2.)]\n",
    "])\n",
    "N = 5\n",
    "t_s = .1\n",
    "sys = mpc.DTLinearSystem.from_continuous(t_s, A, B)\n",
    "\n",
    "x_max = np.array([[np.pi/6.],[np.pi/22./(N*t_s)]])\n",
    "x_min = -x_max\n",
    "u_max = np.array([[m*g*l*np.pi/8.]])\n",
    "u_min = -u_max\n",
    "\n",
    "Q = np.eye(A.shape[0])/100.\n",
    "R = np.eye(B.shape[1])"
   ]
  },
  {
   "cell_type": "code",
   "execution_count": 12,
   "metadata": {
    "collapsed": false
   },
   "outputs": [],
   "source": [
    "dim = 2\n",
    "\n",
    "prog = mp.MathematicalProgram()\n",
    "\n",
    "x = prog.NewContinuousVariables(2, N, \"x\")\n",
    "u = prog.NewContinuousVariables(1, N, \"u\")\n",
    "\n",
    "for j in range(N - 1):\n",
    "    x_next = sys.A.dot(x[:, j]) + sys.B.dot(u[:, j])\n",
    "    for i in range(dim):\n",
    "        prog.AddLinearConstraint(x[i, j + 1] == x_next[i])\n",
    "        \n",
    "for j in range(N):\n",
    "    for i in range(x.shape[0]):\n",
    "        prog.AddLinearConstraint(x[i, j] <= x_max[i])\n",
    "        prog.AddLinearConstraint(x[i, j] >= x_min[i])\n",
    "    for i in range(u.shape[0]):\n",
    "        prog.AddLinearConstraint(u[i, j] <= u_max[i])\n",
    "        prog.AddLinearConstraint(u[i, j] >= u_min[i])\n",
    "        \n",
    "for j in range(N):\n",
    "    prog.AddQuadraticCost(x[:, j].T.dot(Q).dot(x[:, j]))\n",
    "    prog.AddQuadraticCost(u[:, j].T.dot(R).dot(u[:, j]))"
   ]
  },
  {
   "cell_type": "code",
   "execution_count": 13,
   "metadata": {
    "collapsed": true
   },
   "outputs": [],
   "source": [
    "qp = sym.CanonicalMPCQP.from_mathematicalprogram(prog, u, x)"
   ]
  },
  {
   "cell_type": "code",
   "execution_count": 14,
   "metadata": {
    "collapsed": false
   },
   "outputs": [
    {
     "data": {
      "text/plain": [
       "array([[ 0.        ,  0.        ,  0.        ,  0.        ,  0.        ],\n",
       "       [ 0.        ,  0.        ,  0.        ,  0.        ,  0.        ],\n",
       "       [ 0.        ,  0.        ,  0.        ,  0.        ,  0.        ],\n",
       "       [ 0.        ,  0.        ,  0.        ,  0.        ,  0.        ],\n",
       "       [ 1.        ,  0.        ,  0.        ,  0.        ,  0.        ],\n",
       "       [-1.        ,  0.        ,  0.        ,  0.        ,  0.        ],\n",
       "       [ 0.00504181,  0.        ,  0.        ,  0.        ,  0.        ],\n",
       "       [-0.00504181,  0.        ,  0.        ,  0.        ,  0.        ],\n",
       "       [ 0.10167502,  0.        ,  0.        ,  0.        ,  0.        ],\n",
       "       [-0.10167502,  0.        ,  0.        ,  0.        ,  0.        ],\n",
       "       [ 0.        ,  1.        ,  0.        ,  0.        ,  0.        ],\n",
       "       [ 0.        , -1.        ,  0.        ,  0.        ,  0.        ],\n",
       "       [ 0.01563381,  0.00504181,  0.        ,  0.        ,  0.        ],\n",
       "       [-0.01563381, -0.00504181,  0.        ,  0.        ,  0.        ],\n",
       "       [ 0.11192753,  0.10167502,  0.        ,  0.        ,  0.        ],\n",
       "       [-0.11192753, -0.10167502,  0.        ,  0.        ,  0.        ],\n",
       "       [ 0.        ,  0.        ,  1.        ,  0.        ,  0.        ],\n",
       "       [ 0.        ,  0.        , -1.        ,  0.        ,  0.        ],\n",
       "       [ 0.02780227,  0.01563381,  0.00504181,  0.        ,  0.        ],\n",
       "       [-0.02780227, -0.01563381, -0.00504181,  0.        ,  0.        ],\n",
       "       [ 0.13346639,  0.11192753,  0.10167502,  0.        ,  0.        ],\n",
       "       [-0.13346639, -0.11192753, -0.10167502,  0.        ,  0.        ],\n",
       "       [ 0.        ,  0.        ,  0.        ,  1.        ,  0.        ],\n",
       "       [ 0.        ,  0.        ,  0.        , -1.        ,  0.        ],\n",
       "       [ 0.04277421,  0.02780227,  0.01563381,  0.00504181,  0.        ],\n",
       "       [-0.04277421, -0.02780227, -0.01563381, -0.00504181,  0.        ],\n",
       "       [ 0.16846347,  0.13346639,  0.11192753,  0.10167502,  0.        ],\n",
       "       [-0.16846347, -0.13346639, -0.11192753, -0.10167502,  0.        ],\n",
       "       [ 0.        ,  0.        ,  0.        ,  0.        ,  1.        ],\n",
       "       [ 0.        ,  0.        ,  0.        ,  0.        , -1.        ]])"
      ]
     },
     "execution_count": 14,
     "metadata": {},
     "output_type": "execute_result"
    }
   ],
   "source": [
    "qp.G"
   ]
  },
  {
   "cell_type": "code",
   "execution_count": 16,
   "metadata": {
    "collapsed": false
   },
   "outputs": [
    {
     "data": {
      "text/plain": [
       "array([[ 0.03642823,  0.02752356,  0.01934582,  0.0106762 ,  0.        ],\n",
       "       [ 0.01595563,  0.01129956,  0.00749677,  0.0039411 ,  0.        ]])"
      ]
     },
     "execution_count": 16,
     "metadata": {},
     "output_type": "execute_result"
    }
   ],
   "source": [
    "qp.F"
   ]
  },
  {
   "cell_type": "code",
   "execution_count": null,
   "metadata": {
    "collapsed": true
   },
   "outputs": [],
   "source": []
  }
 ],
 "metadata": {
  "kernelspec": {
   "display_name": "Python 2",
   "language": "python",
   "name": "python2"
  },
  "language_info": {
   "codemirror_mode": {
    "name": "ipython",
    "version": 2
   },
   "file_extension": ".py",
   "mimetype": "text/x-python",
   "name": "python",
   "nbconvert_exporter": "python",
   "pygments_lexer": "ipython2",
   "version": "2.7.6"
  }
 },
 "nbformat": 4,
 "nbformat_minor": 1
}
