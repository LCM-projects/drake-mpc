{
 "cells": [
  {
   "cell_type": "code",
   "execution_count": 7,
   "metadata": {
    "collapsed": false
   },
   "outputs": [],
   "source": [
    "using Polyhedra, CDDLib\n",
    "using DrakeVisualizer\n",
    "import ColorTypes: RGBA"
   ]
  },
  {
   "cell_type": "code",
   "execution_count": 83,
   "metadata": {
    "collapsed": false
   },
   "outputs": [
    {
     "name": "stderr",
     "output_type": "stream",
     "text": [
      "\n",
      "WARNING: deprecated syntax \"if with line break before condition\" at In[83]:36.\n",
      "WARNING: Method definition polyhedron_from_bounds(Any...) in module Main at In[81]:4 overwritten at In[83]:4.\n",
      "WARNING: Method definition convert_polyhedron_to_3d(Any) in module Main at In[81]:26 overwritten at In[83]:26.\n"
     ]
    },
    {
     "data": {
      "text/plain": [
       "Visualizer with path prefix Symbol[] using LCM LCMCore.LCM(Ptr{Void} @0x00000000050f07c0,\"\",RawFD(174),LCMCore.Subscription[LCMCore.Subscription{LCMCore.SubscriptionOptions{DrakeVisualizer.Comms.CommsT,DrakeVisualizer.#handle_msg#8{DrakeVisualizer.CoreVisualizer}}}(LCMCore.SubscriptionOptions{DrakeVisualizer.Comms.CommsT,DrakeVisualizer.#handle_msg#8{DrakeVisualizer.CoreVisualizer}}(DrakeVisualizer.Comms.CommsT,DrakeVisualizer.handle_msg),Ptr{Void} @0x0000000006799a10)])"
      ]
     },
     "execution_count": 83,
     "metadata": {},
     "output_type": "execute_result"
    }
   ],
   "source": [
    "# make a simple polyhedron\n",
    "\n",
    "function polyhedron_from_bounds(args...)\n",
    "    dim = length(args)\n",
    "    A = zeros(Float64, 2*dim, dim)\n",
    "    b = zeros(Float64, 2*dim)\n",
    "    \n",
    "    for i=1:dim\n",
    "        bounds = args[dim]\n",
    "        idx_lb = 2*(i-1)+1\n",
    "        idx_ub = 2*(i-1)+2\n",
    "        \n",
    "        A[idx_lb, i] = -1\n",
    "        b[idx_lb] = -bounds[1]\n",
    "        \n",
    "        A[idx_ub, i] = 1\n",
    "        b[idx_ub] = bounds[2]\n",
    "    end\n",
    "    \n",
    "    poly = polyhedron(SimpleHRepresentation(A,b))\n",
    "    return poly\n",
    "end\n",
    "\n",
    "# converts polynomial in H representation to 3d by introducing -1,1 bounds on y vars\n",
    "function convert_polyhedron_to_3d(poly)\n",
    "    hRep = SimpleHRepresentation(poly)\n",
    "    dim = size(hRep.A)[2]\n",
    "\n",
    "    \n",
    "    #if dimension already 3 we are done, just return poly\n",
    "    if !(dim in [2,3])\n",
    "        error(\"dimension must be 2 or 3\")\n",
    "    end\n",
    "    \n",
    "    if\n",
    "        dim == 3\n",
    "        return poly\n",
    "    end\n",
    "    \n",
    "    # assume it is specified in (x,z) space, lift it to x,y,z space\n",
    "    A = hRep.A\n",
    "    b = hRep.b\n",
    "    A_size = size(A)\n",
    "    ybounds = [-1,1]\n",
    "    \n",
    "    A_3d = zeros(Float64, A_size[1]+2, 3)\n",
    "    A_3d[1:A_size[1],1] = A[:,1] # x coordinate\n",
    "    A_3d[1:A_size[1],3] = A[:,2] # z coordinate\n",
    "    A_3d[end-1, 2] = -1\n",
    "    A_3d[end, 2] = 1\n",
    "    \n",
    "    b_3d = zeros(Float64, length(b) + 2)\n",
    "    b_3d[1:length(b)] = b\n",
    "    b_3d[end-1] = -ybounds[1]\n",
    "    b_3d[end] = ybounds[2]\n",
    "    \n",
    "    poly_3d = polyhedron(SimpleHRepresentation(A_3d, b_3d))\n",
    "    return poly_3d    \n",
    "end\n",
    "\n",
    "p = polyhedron_from_bounds([-1,1], [-1,1], [-1,1])\n",
    "\n",
    "# visualize that polyhedron in DrakeVisualizer\n",
    "DrakeVisualizer.any_open_windows() || DrakeVisualizer.new_window()\n",
    "red = RGBA(1.,0.,0.)\n",
    "geom_data = GeometryData(p, red)\n",
    "vis = Visualizer()"
   ]
  },
  {
   "cell_type": "code",
   "execution_count": 84,
   "metadata": {
    "collapsed": false
   },
   "outputs": [
    {
     "data": {
      "text/plain": [
       "Visualizer with path prefix Symbol[:poly] using LCM LCMCore.LCM(Ptr{Void} @0x00000000050f07c0,\"\",RawFD(174),LCMCore.Subscription[LCMCore.Subscription{LCMCore.SubscriptionOptions{DrakeVisualizer.Comms.CommsT,DrakeVisualizer.#handle_msg#8{DrakeVisualizer.CoreVisualizer}}}(LCMCore.SubscriptionOptions{DrakeVisualizer.Comms.CommsT,DrakeVisualizer.#handle_msg#8{DrakeVisualizer.CoreVisualizer}}(DrakeVisualizer.Comms.CommsT,DrakeVisualizer.handle_msg),Ptr{Void} @0x0000000006799a10)])"
      ]
     },
     "execution_count": 84,
     "metadata": {},
     "output_type": "execute_result"
    }
   ],
   "source": [
    "setgeometry!(vis[:poly], geom_data)"
   ]
  },
  {
   "cell_type": "code",
   "execution_count": 90,
   "metadata": {
    "collapsed": false
   },
   "outputs": [
    {
     "name": "stdout",
     "output_type": "stream",
     "text": [
      "[-1.0 0.0 0.0; 1.0 0.0 0.0; 0.0 0.0 -1.0; 0.0 0.0 1.0; 0.0 -1.0 0.0; 0.0 1.0 0.0]\n",
      "[2.0,2.0,2.0,2.0,1.0,1.0]\n"
     ]
    },
    {
     "data": {
      "text/plain": [
       "CDDLib.CDDPolyhedron{2,Float64}"
      ]
     },
     "execution_count": 90,
     "metadata": {},
     "output_type": "execute_result"
    }
   ],
   "source": [
    "p = polyhedron_from_bounds([-1,1], [-2,2],)\n",
    "p_3d = convert_polyhedron_to_3d(p)\n",
    "\n",
    "hRep = SimpleHRepresentation(p_3d)\n",
    "println(hRep.A)\n",
    "println(hRep.b)\n",
    "setgeometry!(vis[:poly], GeometryData(p_3d, red))\n",
    "typeof(p)"
   ]
  },
  {
   "cell_type": "code",
   "execution_count": 69,
   "metadata": {
    "collapsed": false
   },
   "outputs": [
    {
     "data": {
      "text/plain": [
       "10"
      ]
     },
     "execution_count": 69,
     "metadata": {},
     "output_type": "execute_result"
    }
   ],
   "source": [
    "a = zeros(3,3)\n",
    "a[end-1,2] = 1\n",
    "b = zeros(10)\n",
    "length(b)"
   ]
  },
  {
   "cell_type": "code",
   "execution_count": 92,
   "metadata": {
    "collapsed": false
   },
   "outputs": [],
   "source": [
    "import Polyhedra"
   ]
  },
  {
   "cell_type": "code",
   "execution_count": 93,
   "metadata": {
    "collapsed": false
   },
   "outputs": [
    {
     "data": {
      "text/plain": [
       "Polyhedra.Polyhedron{N,T}"
      ]
     },
     "execution_count": 93,
     "metadata": {},
     "output_type": "execute_result"
    }
   ],
   "source": [
    "Polyhedra.Polyhedron"
   ]
  },
  {
   "cell_type": "code",
   "execution_count": null,
   "metadata": {
    "collapsed": true
   },
   "outputs": [],
   "source": []
  }
 ],
 "metadata": {
  "kernelspec": {
   "display_name": "Julia 0.5.0",
   "language": "julia",
   "name": "julia-0.5"
  },
  "language_info": {
   "file_extension": ".jl",
   "mimetype": "application/julia",
   "name": "julia",
   "version": "0.5.0"
  }
 },
 "nbformat": 4,
 "nbformat_minor": 0
}
