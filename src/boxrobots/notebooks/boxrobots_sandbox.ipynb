{
 "cells": [
  {
   "cell_type": "code",
   "execution_count": null,
   "metadata": {},
   "outputs": [],
   "source": [
    "using Polyhedra, CDDLib\n",
    "using DrakeVisualizer\n",
    "import ColorTypes: RGBA\n",
    "using PyCall\n",
    "path_to_my_module = \"/home/manuelli/drake-mpc/src/boxrobots/src\"\n",
    "push!(LOAD_PATH, path_to_my_module)\n",
    "reload(\"BoxRobots\")\n",
    "import BoxRobots\n",
    "using DrakeVisualizer\n",
    "import ColorTypes: RGBA\n",
    "using Polyhedra: SimpleHRepresentation\n",
    "\n",
    "br = BoxRobots"
   ]
  },
  {
   "cell_type": "code",
   "execution_count": null,
   "metadata": {},
   "outputs": [],
   "source": [
    "# unshift!(PyVector(pyimport(\"sys\")[\"path\"]), \"../\")\n",
    "@pyimport boxatlas\n",
    "@pyimport boxatlas.boxatlascontroller as boxatlascontroller\n",
    "@pyimport boxatlas.contactstabilizationutils as csu\n",
    "CSU = csu.ContactStabilizationUtils"
   ]
  },
  {
   "cell_type": "code",
   "execution_count": null,
   "metadata": {},
   "outputs": [],
   "source": [
    "# attempt to visualize a state\n",
    "DrakeVisualizer.any_open_windows() || DrakeVisualizer.new_window();\n",
    "vis = Visualizer()\n",
    "delete!(vis)\n",
    "env, robot = br.make_robot_and_environment()\n",
    "robot_state = br.make_robot_state()\n",
    "robot_state.centroidal_dynamics_state.vel[1] = -1.75\n",
    "br.draw_environment(vis, env)\n",
    "mass = robot.mass\n",
    "gravity = robot.gravity\n",
    "vis_options = br.BoxRobotVisualizerOptions(force_arrow_normalizer=mass*abs(gravity[end]))"
   ]
  },
  {
   "cell_type": "markdown",
   "metadata": {},
   "source": [
    "# QPInnerLoopController"
   ]
  },
  {
   "cell_type": "code",
   "execution_count": null,
   "metadata": {
    "scrolled": true
   },
   "outputs": [],
   "source": [
    "# setup MIQP controller so we can get python controller out\n",
    "miqp_controller = br.MIQPController()\n",
    "robot_state = br.make_robot_state()\n",
    "robot_state.centroidal_dynamics_state.vel[1] = -1.75\n",
    "python_controller = miqp_controller.python_controller\n",
    "robot_python = python_controller[:robot]\n",
    "state_python = br.convert_box_robot_state_to_python(robot_python, robot_state)\n",
    "opt = python_controller[:construct_contact_stabilization_optimization](state_python)\n",
    "soln_data = pycall(opt[:solve], PyObject)"
   ]
  },
  {
   "cell_type": "markdown",
   "metadata": {},
   "source": [
    "# Simulate QPInnerLoopController"
   ]
  },
  {
   "cell_type": "code",
   "execution_count": null,
   "metadata": {},
   "outputs": [],
   "source": [
    "t_start = 0.0\n",
    "dt = 0.05\n",
    "duration = 1.5\n",
    "qp_controller = br.QPInnerLoopController(python_controller, t_start,\n",
    "    robot_state, soln_data)\n",
    "@time traj = br.simulate_tspan(robot, qp_controller, robot_state, dt, duration)\n",
    "br.playback_trajectory(vis, traj; options=vis_options)"
   ]
  },
  {
   "cell_type": "code",
   "execution_count": null,
   "metadata": {
    "collapsed": true
   },
   "outputs": [],
   "source": [
    "br.playback_trajectory(vis, traj, options=vis_options, playback_speed=1.0)"
   ]
  },
  {
   "cell_type": "markdown",
   "metadata": {},
   "source": [
    "# Simulate MIQP Controller"
   ]
  },
  {
   "cell_type": "code",
   "execution_count": null,
   "metadata": {},
   "outputs": [],
   "source": [
    "\n",
    "miqp_controller = br.MIQPController()\n",
    "robot_state = br.make_robot_state()\n",
    "robot_state.centroidal_dynamics_state.vel[1] = -1.75\n",
    "python_controller = miqp_controller.python_controller\n",
    "robot_python = python_controller[:robot]\n",
    "state_python = br.convert_box_robot_state_to_python(robot_python, robot_state)\n",
    "opt = python_controller[:construct_contact_stabilization_optimization](state_python)\n",
    "soln_data = pycall(opt[:solve], PyObject)\n",
    "\n",
    "# construct the SimpleInnerLoopController\n",
    "t_start = 0.\n",
    "inner_loop_controller = br.SimpleInnerLoopController(t_start, soln_data)\n",
    "\n",
    "t = 0.0\n",
    "dt = 0.025\n",
    "duration = 1.0\n",
    "@time traj = br.simulate_tspan(robot, inner_loop_controller, robot_state, dt, duration)\n",
    "br.playback_trajectory(vis, traj; options=vis_options)\n"
   ]
  },
  {
   "cell_type": "code",
   "execution_count": null,
   "metadata": {},
   "outputs": [],
   "source": [
    "# extract solve times from the trajectory of SimulationData\n",
    "function get_solve_time(data)\n",
    "    return data.controller_data.solve_time\n",
    "end\n",
    "\n",
    "function get_contact_array(data)\n",
    "    return data.state.limb_states[:left_hand].in_contact \n",
    "end\n",
    "\n",
    "solve_time_array = get_solve_time.(traj.data)\n",
    "contact_array = get_contact_array.(traj.data)"
   ]
  },
  {
   "cell_type": "code",
   "execution_count": null,
   "metadata": {},
   "outputs": [],
   "source": [
    "using Plots\n",
    "# Use the GR backend for Plots.jl, because it's fast\n",
    "gr()"
   ]
  },
  {
   "cell_type": "code",
   "execution_count": null,
   "metadata": {},
   "outputs": [],
   "source": [
    "plot(traj.time, solve_time_array, xlabel=\"time\", label=\"solve time\")\n",
    "# plot!(traj.time, contact_array, label=\"contact indicator\")"
   ]
  }
 ],
 "metadata": {
  "kernelspec": {
   "display_name": "Julia 0.5.0",
   "language": "julia",
   "name": "julia-0.5"
  },
  "language_info": {
   "file_extension": ".jl",
   "mimetype": "application/julia",
   "name": "julia",
   "version": "0.5.0"
  }
 },
 "nbformat": 4,
 "nbformat_minor": 1
}
