{
 "cells": [
  {
   "cell_type": "code",
   "execution_count": 1,
   "metadata": {
    "collapsed": false
   },
   "outputs": [],
   "source": [
    "from __future__ import division, print_function"
   ]
  },
  {
   "cell_type": "code",
   "execution_count": 2,
   "metadata": {
    "collapsed": false
   },
   "outputs": [
    {
     "name": "stdout",
     "output_type": "stream",
     "text": [
      "Populating the interactive namespace from numpy and matplotlib\n"
     ]
    }
   ],
   "source": [
    "%load_ext autoreload\n",
    "%autoreload 2\n",
    "%pylab inline\n",
    "# %load_ext wurlitzer\n"
   ]
  },
  {
   "cell_type": "code",
   "execution_count": 22,
   "metadata": {
    "collapsed": false
   },
   "outputs": [],
   "source": [
    "import time\n",
    "import numpy as np\n",
    "from collections import namedtuple\n",
    "\n",
    "\n",
    "from director import viewerclient as vc\n",
    "from irispy import Polyhedron\n",
    "import boxatlas.boxatlas as box\n",
    "from boxatlas.contactstabilization import BoxAtlasContactStabilization"
   ]
  },
  {
   "cell_type": "code",
   "execution_count": 24,
   "metadata": {
    "collapsed": false
   },
   "outputs": [],
   "source": [
    "vis = vc.Visualizer()"
   ]
  },
  {
   "cell_type": "code",
   "execution_count": 30,
   "metadata": {
    "collapsed": false
   },
   "outputs": [
    {
     "name": "stdout",
     "output_type": "stream",
     "text": [
      "SolutionResult.kSolutionFound\n"
     ]
    }
   ],
   "source": [
    "surfaces = [\n",
    "    box.Surface(Polyhedron.fromBounds([1.2, 0], [1.2, 2]),\n",
    "            Polyhedron(np.array([[1, -1], [1, 1]]), np.array([0, 0]))),\n",
    "    box.Surface(Polyhedron.fromBounds([-2, 0], [2, 0]), \n",
    "            Polyhedron(np.array([[-2, -1], [2, -1]]), np.array([0, 0]))),\n",
    "    box.Surface(Polyhedron.fromBounds([-2, 0], [2, 0]), \n",
    "            Polyhedron(np.array([[-2, -1], [2, -1]]), np.array([0, 0]))),\n",
    "    box.Surface(Polyhedron.fromBounds([-1.2, 0], [-1.2, 2]),\n",
    "            Polyhedron(np.array([[-1, -1], [-1, 1]]), np.array([0, 0]))),\n",
    "]\n",
    "\n",
    "env = box.Environment(surfaces, Polyhedron.fromBounds([-1.2, 0], [1.2, 2]))\n",
    "atlas = box.BoxAtlas()\n",
    "initial_state = box.BoxAtlasState(atlas)\n",
    "initial_state.qcom = np.array([0, 1])\n",
    "initial_state.vcom = np.array([-4, 0.])\n",
    "initial_state.qlimb = map(np.array, [[0.75, 1], [0.25, 0], [-0.25, 0], [-0.75, 1]])\n",
    "\n",
    "opt = BoxAtlasContactStabilization(initial_state, env)\n",
    "solnData = opt.solve()"
   ]
  },
  {
   "cell_type": "code",
   "execution_count": 31,
   "metadata": {
    "collapsed": false
   },
   "outputs": [],
   "source": [
    "box.planPlayback(vis, solnData)"
   ]
  },
  {
   "cell_type": "code",
   "execution_count": 33,
   "metadata": {
    "collapsed": false
   },
   "outputs": [
    {
     "name": "stdout",
     "output_type": "stream",
     "text": [
      "SolutionResult.kSolutionFound\n"
     ]
    }
   ],
   "source": [
    "# Now fix the contact sequence from the result of the previous optimization\n",
    "# and run a non-hybrid optimization problem\n",
    "opt = BoxAtlasContactStabilization(initial_state, env, contact_assignments=solnData.contact_indicator)\n",
    "solnData = opt.solve()\n",
    "box.planPlayback(vis, solnData)"
   ]
  },
  {
   "cell_type": "code",
   "execution_count": null,
   "metadata": {
    "collapsed": true
   },
   "outputs": [],
   "source": []
  }
 ],
 "metadata": {
  "kernelspec": {
   "display_name": "Python 2",
   "language": "python",
   "name": "python2"
  },
  "language_info": {
   "codemirror_mode": {
    "name": "ipython",
    "version": 2
   },
   "file_extension": ".py",
   "mimetype": "text/x-python",
   "name": "python",
   "nbconvert_exporter": "python",
   "pygments_lexer": "ipython2",
   "version": "2.7.6"
  }
 },
 "nbformat": 4,
 "nbformat_minor": 1
}
