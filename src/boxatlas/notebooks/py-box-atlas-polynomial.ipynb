{
 "cells": [
  {
   "cell_type": "code",
   "execution_count": 1,
   "metadata": {
    "collapsed": false
   },
   "outputs": [],
   "source": [
    "from __future__ import division, print_function"
   ]
  },
  {
   "cell_type": "code",
   "execution_count": 2,
   "metadata": {
    "collapsed": false
   },
   "outputs": [
    {
     "name": "stdout",
     "output_type": "stream",
     "text": [
      "Populating the interactive namespace from numpy and matplotlib\n"
     ]
    }
   ],
   "source": [
    "%load_ext autoreload\n",
    "%autoreload 2\n",
    "%pylab inline\n",
    "%load_ext wurlitzer\n"
   ]
  },
  {
   "cell_type": "code",
   "execution_count": 3,
   "metadata": {
    "collapsed": false
   },
   "outputs": [
    {
     "name": "stdout",
     "output_type": "stream",
     "text": [
      "Loading cdd global constants\n"
     ]
    }
   ],
   "source": [
    "import time\n",
    "import numpy as np\n",
    "from collections import namedtuple\n",
    "\n",
    "\n",
    "from director import viewerclient as vc\n",
    "from irispy import Polyhedron\n",
    "import boxatlas.boxatlas as box\n",
    "from boxatlas.contactstabilization import BoxAtlasContactStabilization"
   ]
  },
  {
   "cell_type": "code",
   "execution_count": 4,
   "metadata": {
    "collapsed": false
   },
   "outputs": [],
   "source": [
    "vis = vc.Visualizer()"
   ]
  },
  {
   "cell_type": "code",
   "execution_count": 5,
   "metadata": {
    "collapsed": false
   },
   "outputs": [
    {
     "name": "stdout",
     "output_type": "stream",
     "text": [
      "SolutionResult.kSolutionFound\n",
      "Optimize a model with 2036 rows, 680 columns and 5274 nonzeros\n",
      "Model has 246 quadratic objective terms\n",
      "Coefficient statistics:\n",
      "  Matrix range    [2e-03, 1e+03]\n",
      "  Objective range [1e+01, 6e+03]\n",
      "  Bounds range    [1e+00, 2e+00]\n",
      "  RHS range       [2e-01, 1e+03]\n",
      "Presolve removed 599 rows and 223 columns\n",
      "Presolve time: 0.01s\n",
      "Presolved: 1437 rows, 457 columns, 3665 nonzeros\n",
      "Presolved model has 236 quadratic objective terms\n",
      "Variable types: 381 continuous, 76 integer (76 binary)\n",
      "\n",
      "Root relaxation: objective -2.249574e+04, 1350 iterations, 0.04 seconds\n",
      "\n",
      "    Nodes    |    Current Node    |     Objective Bounds      |     Work\n",
      " Expl Unexpl |  Obj  Depth IntInf | Incumbent    BestBd   Gap | It/Node Time\n",
      "\n",
      "     0     0 -22495.741    0   76          - -22495.741      -     -    0s\n",
      "     0     0 -22495.741    0   76          - -22495.741      -     -    0s\n",
      "H    0     0                    -22091.47952 -22495.741  1.83%     -    0s\n",
      "     0     2 -22438.224    0   67 -22091.480 -22438.224  1.57%     -    0s\n",
      "*  297    41              67    -22373.59766 -22413.980  0.18%  10.7    0s\n",
      "*  540   101              64    -22379.21518 -22407.615  0.13%   9.6    0s\n",
      "*  586    90              59    -22382.76957 -22407.519  0.11%   9.5    0s\n",
      "*  596    43              62    -22390.65636 -22407.519  0.08%   9.6    0s\n",
      "*  680    57              62    -22390.93975 -22404.506  0.06%   9.6    0s\n",
      "*  809    50              59    -22395.30550 -22402.781  0.03%   9.3    0s\n",
      "*  957    22              59    -22397.81459 -22402.023  0.02%   9.0    0s\n",
      "* 1234    61              59    -22398.39325 -22401.989  0.02%   8.7    0s\n",
      "\n",
      "Cutting planes:\n",
      "  Cover: 15\n",
      "  Implied bound: 17\n",
      "  Clique: 1\n",
      "  MIR: 1\n",
      "\n",
      "Explored 1445 nodes (13631 simplex iterations) in 0.52 seconds\n",
      "Thread count was 6 (of 12 available processors)\n",
      "\n",
      "Optimal solution found (tolerance 1.00e-04)\n",
      "Best objective -2.239839324814e+04, best bound -2.240059596322e+04, gap 0.0098%\n"
     ]
    }
   ],
   "source": [
    "surfaces = [\n",
    "    box.Surface(Polyhedron.fromBounds([1.2, 0], [1.2, 2]),\n",
    "            Polyhedron(np.array([[1, -1], [1, 1]]), np.array([0, 0]))),\n",
    "    box.Surface(Polyhedron.fromBounds([-2, 0], [2, 0]), \n",
    "            Polyhedron(np.array([[-2, -1], [2, -1]]), np.array([0, 0]))),\n",
    "    box.Surface(Polyhedron.fromBounds([-2, 0], [2, 0]), \n",
    "            Polyhedron(np.array([[-2, -1], [2, -1]]), np.array([0, 0]))),\n",
    "    box.Surface(Polyhedron.fromBounds([-1.2, 0], [-1.2, 2]),\n",
    "            Polyhedron(np.array([[-1, -1], [-1, 1]]), np.array([0, 0]))),\n",
    "]\n",
    "\n",
    "env = box.Environment(surfaces, Polyhedron.fromBounds([-1.2, 0], [1.2, 2]))\n",
    "atlas = box.BoxAtlas()\n",
    "initial_state = box.BoxAtlasState(atlas)\n",
    "initial_state.qcom = np.array([0, 1])\n",
    "initial_state.vcom = np.array([-4, 0.])\n",
    "initial_state.qlimb = map(np.array, [[0.75, 1], [0.25, 0], [-0.25, 0], [-0.75, 1]])\n",
    "\n",
    "opt = BoxAtlasContactStabilization(initial_state, env)\n",
    "states, inputs, contact_indicator = opt.solve()\n",
    "ts = states.components[0].breaks"
   ]
  },
  {
   "cell_type": "code",
   "execution_count": 7,
   "metadata": {
    "collapsed": false
   },
   "outputs": [],
   "source": [
    "solnData = namedtuple(\"SolutionData\", [\"opt\" ,\"states\", \"inputs\", \"contact_indicator\", \"ts\"])\n",
    "solnData.opt = opt\n",
    "solnData.states = states\n",
    "solnData.inputs = inputs\n",
    "solnData.contact_indicator = contact_indicator\n",
    "solnData.ts = ts\n",
    "\n",
    "box.planPlayback(vis, solnData)"
   ]
  },
  {
   "cell_type": "code",
   "execution_count": null,
   "metadata": {
    "collapsed": false
   },
   "outputs": [],
   "source": [
    "[inputs(t).flimb[3] for t in ts[:-1]]"
   ]
  },
  {
   "cell_type": "code",
   "execution_count": null,
   "metadata": {
    "collapsed": false
   },
   "outputs": [],
   "source": [
    "[f.coeffs[0] for f in contact_indicator[3].functions]"
   ]
  },
  {
   "cell_type": "code",
   "execution_count": null,
   "metadata": {
    "collapsed": true
   },
   "outputs": [],
   "source": [
    "i = 0\n"
   ]
  },
  {
   "cell_type": "code",
   "execution_count": null,
   "metadata": {
    "collapsed": false
   },
   "outputs": [],
   "source": [
    "box.draw(vis, states(min(ts[i], ts[-1]-0.001)), inputs(min(ts[i], ts[-1]-0.001)), env)\n",
    "if i < len(ts) - 1:\n",
    "    i += 1\n",
    "else:\n",
    "    i = 0"
   ]
  },
  {
   "cell_type": "code",
   "execution_count": null,
   "metadata": {
    "collapsed": true
   },
   "outputs": [],
   "source": []
  }
 ],
 "metadata": {
  "kernelspec": {
   "display_name": "Python 2",
   "language": "python",
   "name": "python2"
  },
  "language_info": {
   "codemirror_mode": {
    "name": "ipython",
    "version": 2
   },
   "file_extension": ".py",
   "mimetype": "text/x-python",
   "name": "python",
   "nbconvert_exporter": "python",
   "pygments_lexer": "ipython2",
   "version": "2.7.6"
  }
 },
 "nbformat": 4,
 "nbformat_minor": 1
}
