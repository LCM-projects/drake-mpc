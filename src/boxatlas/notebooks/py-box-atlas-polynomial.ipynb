{
 "cells": [
  {
   "cell_type": "code",
   "execution_count": 1,
   "metadata": {
    "collapsed": false
   },
   "outputs": [],
   "source": [
    "from __future__ import division, print_function"
   ]
  },
  {
   "cell_type": "code",
   "execution_count": 2,
   "metadata": {
    "collapsed": false
   },
   "outputs": [
    {
     "name": "stdout",
     "output_type": "stream",
     "text": [
      "Populating the interactive namespace from numpy and matplotlib\n"
     ]
    }
   ],
   "source": [
    "%load_ext autoreload\n",
    "%autoreload 2\n",
    "%pylab inline\n",
    "# %load_ext wurlitzer\n"
   ]
  },
  {
   "cell_type": "code",
   "execution_count": 3,
   "metadata": {
    "collapsed": false
   },
   "outputs": [],
   "source": [
    "import time\n",
    "import numpy as np\n",
    "from collections import namedtuple\n",
    "\n",
    "import mpc_tools.mpcqp as mqp\n",
    "from director import viewerclient as vc\n",
    "from irispy import Polyhedron\n",
    "import boxatlas.boxatlas as box\n",
    "from boxatlas.contactstabilization import BoxAtlasContactStabilization"
   ]
  },
  {
   "cell_type": "code",
   "execution_count": 4,
   "metadata": {
    "collapsed": false
   },
   "outputs": [],
   "source": [
    "vis = vc.Visualizer()"
   ]
  },
  {
   "cell_type": "code",
   "execution_count": 5,
   "metadata": {
    "collapsed": false
   },
   "outputs": [
    {
     "name": "stdout",
     "output_type": "stream",
     "text": [
      "SolutionResult.kSolutionFound\n"
     ]
    }
   ],
   "source": [
    "surfaces = [\n",
    "    box.Surface(Polyhedron.fromBounds([1.2, 0], [1.2, 2]),\n",
    "            Polyhedron(np.array([[1, -1], [1, 1]]), np.array([0, 0]))),\n",
    "    box.Surface(Polyhedron.fromBounds([-2, 0], [2, 0]), \n",
    "            Polyhedron(np.array([[-2, -1], [2, -1]]), np.array([0, 0]))),\n",
    "    box.Surface(Polyhedron.fromBounds([-2, 0], [2, 0]), \n",
    "            Polyhedron(np.array([[-2, -1], [2, -1]]), np.array([0, 0]))),\n",
    "    box.Surface(Polyhedron.fromBounds([-1.2, 0], [-1.2, 2]),\n",
    "            Polyhedron(np.array([[-1, -1], [-1, 1]]), np.array([0, 0]))),\n",
    "]\n",
    "\n",
    "env = box.Environment(surfaces, Polyhedron.fromBounds([-1.2, 0], [1.2, 2]))\n",
    "atlas = box.BoxAtlas()\n",
    "initial_state = box.BoxAtlasState(atlas)\n",
    "initial_state.qcom = np.array([0, 1])\n",
    "initial_state.vcom = np.array([-4, 0.])\n",
    "initial_state.qlimb = map(np.array, [[0.75, 1], [0.25, 0], [-0.25, 0], [-0.75, 1]])\n",
    "\n",
    "opt = BoxAtlasContactStabilization(initial_state, env, num_time_steps=2)\n",
    "solnData = opt.solve()"
   ]
  },
  {
   "cell_type": "code",
   "execution_count": 6,
   "metadata": {
    "collapsed": false
   },
   "outputs": [],
   "source": [
    "box.planPlayback(vis, solnData)"
   ]
  },
  {
   "cell_type": "code",
   "execution_count": 7,
   "metadata": {
    "collapsed": false
   },
   "outputs": [],
   "source": [
    "# Now fix the contact sequence from the result of the previous optimization\n",
    "# and run a non-hybrid optimization problem\n",
    "opt = BoxAtlasContactStabilization(initial_state, env, \n",
    "                                   num_time_steps=2,\n",
    "                                   contact_assignments=solnData.contact_indicator)\n",
    "# solnData = opt.solve()\n",
    "# box.planPlayback(vis, solnData)"
   ]
  },
  {
   "cell_type": "code",
   "execution_count": null,
   "metadata": {
    "collapsed": false
   },
   "outputs": [
    {
     "name": "stdout",
     "output_type": "stream",
     "text": [
      "> /home/rdeits/locomotion/explorations/drake-mpc/src/mpc_tools/mpcqp.py(418)from_mathematicalprogram()\n",
      "-> qp = qp.eliminate_redundant_inequalities()\n",
      "(Pdb) h\n",
      "\n",
      "Documented commands (type help <topic>):\n",
      "========================================\n",
      "EOF    bt         cont      enable  jump  pp       run      unt   \n",
      "a      c          continue  exit    l     q        s        until \n",
      "alias  cl         d         h       list  quit     step     up    \n",
      "args   clear      debug     help    n     r        tbreak   w     \n",
      "b      commands   disable   ignore  next  restart  u        whatis\n",
      "break  condition  down      j       p     return   unalias  where \n",
      "\n",
      "Miscellaneous help topics:\n",
      "==========================\n",
      "exec  pdb\n",
      "\n",
      "Undocumented commands:\n",
      "======================\n",
      "retval  rv\n",
      "\n",
      "(Pdb) step\n",
      "--Call--\n",
      "> /home/rdeits/locomotion/explorations/drake-mpc/src/mpc_tools/mpcqp.py(325)eliminate_redundant_inequalities()\n",
      "-> def eliminate_redundant_inequalities(self):\n",
      "(Pdb) u\n",
      "> /home/rdeits/locomotion/explorations/drake-mpc/src/mpc_tools/mpcqp.py(418)from_mathematicalprogram()\n",
      "-> qp = qp.eliminate_redundant_inequalities()\n",
      "(Pdb) down\n",
      "> /home/rdeits/locomotion/explorations/drake-mpc/src/mpc_tools/mpcqp.py(325)eliminate_redundant_inequalities()\n",
      "-> def eliminate_redundant_inequalities(self):\n",
      "(Pdb) unt\n",
      "> /home/rdeits/locomotion/explorations/drake-mpc/src/mpc_tools/mpcqp.py(330)eliminate_redundant_inequalities()\n",
      "-> p = Polytope(self.A.copy(), self.b.copy().reshape((-1, 1)))\n",
      "(Pdb) unt\n",
      "> /home/rdeits/locomotion/explorations/drake-mpc/src/mpc_tools/mpcqp.py(332)eliminate_redundant_inequalities()\n",
      "-> def cdd_vertices(A, b, number_type=\"float\"):\n",
      "(Pdb) unt\n",
      "> /home/rdeits/locomotion/explorations/drake-mpc/src/mpc_tools/mpcqp.py(342)eliminate_redundant_inequalities()\n",
      "-> print \"float\"\n"
     ]
    }
   ],
   "source": [
    "qp = mqp.CanonicalMPCQP.from_mathematicalprogram(opt.prog, opt.vars.all_input_variables(), opt.vars.all_state_variables())"
   ]
  },
  {
   "cell_type": "code",
   "execution_count": null,
   "metadata": {
    "collapsed": true
   },
   "outputs": [],
   "source": []
  }
 ],
 "metadata": {
  "kernelspec": {
   "display_name": "Python 2",
   "language": "python",
   "name": "python2"
  },
  "language_info": {
   "codemirror_mode": {
    "name": "ipython",
    "version": 2
   },
   "file_extension": ".py",
   "mimetype": "text/x-python",
   "name": "python",
   "nbconvert_exporter": "python",
   "pygments_lexer": "ipython2",
   "version": "2.7.6"
  }
 },
 "nbformat": 4,
 "nbformat_minor": 1
}
