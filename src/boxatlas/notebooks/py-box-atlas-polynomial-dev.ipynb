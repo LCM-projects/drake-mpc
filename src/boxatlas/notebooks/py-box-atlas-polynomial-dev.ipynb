{
 "cells": [
  {
   "cell_type": "code",
   "execution_count": 1,
   "metadata": {
    "collapsed": false
   },
   "outputs": [],
   "source": [
    "from __future__ import division, print_function"
   ]
  },
  {
   "cell_type": "code",
   "execution_count": 2,
   "metadata": {
    "collapsed": false
   },
   "outputs": [
    {
     "name": "stdout",
     "output_type": "stream",
     "text": [
      "Populating the interactive namespace from numpy and matplotlib\n"
     ]
    }
   ],
   "source": [
    "%load_ext autoreload\n",
    "%autoreload 2\n",
    "%pylab inline\n",
    "# %pylab notebook\n",
    "# %load_ext wurlitzer\n"
   ]
  },
  {
   "cell_type": "code",
   "execution_count": 3,
   "metadata": {
    "collapsed": false
   },
   "outputs": [],
   "source": [
    "# standard imports\n",
    "import time\n",
    "import numpy as np\n",
    "from collections import namedtuple\n",
    "from ipywidgets import interact, interactive, fixed, interact_manual\n",
    "import ipywidgets as widgets\n",
    "\n",
    "# drake + externals imports\n",
    "from director import viewerclient as vc\n",
    "from irispy import Polyhedron\n",
    "import pydrake.solvers.mathematicalprogram as mathematicalprogram\n",
    "\n",
    "# boxatlas\n",
    "import boxatlas.boxatlas as box\n",
    "from boxatlas.contactstabilization import BoxAtlasContactStabilization\n",
    "from utils.polynomial import Polynomial\n",
    "from utils.piecewise import Piecewise"
   ]
  },
  {
   "cell_type": "code",
   "execution_count": 4,
   "metadata": {
    "collapsed": false
   },
   "outputs": [],
   "source": [
    "vis = vc.Visualizer()"
   ]
  },
  {
   "cell_type": "code",
   "execution_count": 5,
   "metadata": {
    "collapsed": false
   },
   "outputs": [],
   "source": [
    "def makeEnvironment(dist_to_wall=None, mu_wall=0.25, mu_floor = 0.5):\n",
    "    if dist_to_wall is None:\n",
    "        dist_to_wall = dict()\n",
    "        dist_to_wall['left'] = -0.5\n",
    "        dist_to_wall['right'] = 0.5\n",
    "\n",
    "    # construct the different wall surfaces, note that one needs to be careful with the \n",
    "    # friction cones, they are all in world frame at the moment, should probably fix this\n",
    "    right_wall_surface = box.Surface(Polyhedron.fromBounds([dist_to_wall['right'], 0], [dist_to_wall['right'], 2]),\n",
    "                Polyhedron(np.array([[mu_wall, -1], [mu_wall, 1]]), np.array([0, 0])))\n",
    "\n",
    "    left_wall_surface = box.Surface(Polyhedron.fromBounds([dist_to_wall['left'], 0], [dist_to_wall['left'], 2]),\n",
    "                Polyhedron(np.array([[-mu_wall, -1], [-mu_wall, 1]]), np.array([0, 0])))\n",
    "\n",
    "    floor_surface = box.Surface(Polyhedron.fromBounds([dist_to_wall[\"left\"], 0], [dist_to_wall[\"right\"], 0]), \n",
    "                Polyhedron(np.array([[-1, -mu_floor], [1, -mu_floor]]), np.array([0, 0])))\n",
    "\n",
    "    surfaces = [None]*4\n",
    "    surfaces[0] = right_wall_surface\n",
    "    surfaces[1] = floor_surface\n",
    "    surfaces[2] = floor_surface\n",
    "    surfaces[3] = left_wall_surface\n",
    "\n",
    "    env = box.Environment(surfaces, Polyhedron.fromBounds([dist_to_wall['left'], 0], [dist_to_wall['right'], 2]))\n",
    "    return env\n",
    "\n",
    "default_env = makeEnvironment()\n",
    "\n",
    "limb_idx_map = dict()\n",
    "limb_idx_map[\"right_arm\"] = 0\n",
    "limb_idx_map[\"right_leg\"] = 1\n",
    "limb_idx_map[\"left_leg\"] = 2\n",
    "limb_idx_map[\"left_arm\"] = 3\n",
    "\n",
    "\n",
    "atlas = box.BoxAtlas()\n",
    "# atlas.limb_velocity_limits = limb_velocity_limits\n",
    "\n",
    "# relax kinematic constraints on the legs\n",
    "large_leg_limb_bound = Polyhedron.fromBounds([-2.0, -1.0], [2.0, -0.5])\n",
    "leg_names = [\"left_leg\", \"right_leg\"]\n",
    "for limb in leg_names:\n",
    "    idx = limb_idx_map[limb]\n",
    "    atlas.limb_bounds[idx] = large_leg_limb_bound\n",
    "    \n",
    "\n",
    "params_nom = BoxAtlasContactStabilization.get_optimization_parameters()\n",
    "params_nom['costs']['contact_force'] = 1e-3\n",
    "params_nom['costs']['qcom_running'] = 1\n",
    "params_nom['costs']['vcom_running'] = 1\n",
    "params_nom['costs']['limb_running'] = 1\n",
    "params_nom['costs']['qcom_final'] = 1e3\n",
    "params_nom['costs']['vcom_final'] = 1e4\n",
    "params_nom['costs']['arm_final_position'] = 1e1\n",
    "params_nom['costs']['limb_velocity'] = 1e-1\n",
    "params_nom['costs']['leg_final_position'] = 1e2\n",
    "\n",
    "\n",
    "\n",
    "\n",
    "def add_persistent_contact_constraints(opt, contact_name):\n",
    "    \"\"\"\n",
    "    :param opt  BoxAtlasContactStabilization\n",
    "    \"\"\"\n",
    "    idx = opt.robot.limb_idx_map[contact_name]\n",
    "    contact = opt.vars.contact[idx]\n",
    "    \n",
    "    for var in contact.at_all_breaks():\n",
    "        opt.prog.AddLinearConstraint(var[0] == 1)\n",
    "        \n",
    "def make_contact_assignment(dt, num_time_steps, constrained_limbs=None):\n",
    "    \"\"\"\n",
    "    @inputs\n",
    "    constrained_limbs: should be a dict with limb_name and value to which it is constrained\n",
    "    \n",
    "    default:\n",
    "        both feet to always be in contact,\n",
    "        right hand never to be in contact.\n",
    "    \"\"\"\n",
    "    \n",
    "    if constrained_limbs is None:\n",
    "        constrained_limbs = dict()\n",
    "        constrained_limbs[\"right_leg\"] = 1 # persistent contact\n",
    "        constrained_limbs[\"left_leg\"] = 1 # persistent contact\n",
    "        constrained_limbs[\"right_arm\"] = 0 # not in contact\n",
    "    \n",
    "    \n",
    "    time_horizon = num_time_steps * dt\n",
    "    ts = np.linspace(0, time_horizon, time_horizon / dt + 1)\n",
    "    domain = ts\n",
    "    \n",
    "    contact_assignments = [None]*len(limb_idx_map)\n",
    "    \n",
    "    for limb_name, val in constrained_limbs.iteritems():\n",
    "        limb_idx = limb_idx_map[limb_name]\n",
    "        contact_assignments[limb_idx] = Piecewise(domain,\n",
    "                         [Polynomial(np.array([[val]]))\n",
    "                              for j in range(len(domain) - 1)]) \n",
    "    return contact_assignments\n",
    "        \n",
    "def add_feet_always_in_contact_constraints(opt):\n",
    "    contact_names = [\"left_leg\", \"right_leg\"]\n",
    "    for contact_name in contact_names:\n",
    "        add_persistent_contact_constraints(opt, contact_name)\n",
    "\n",
    "\n",
    "def solveContactStabilization(opt=None, initial_state=None, params=None, **kwargs):\n",
    "    start_time = time.time()\n",
    "    if opt is None:\n",
    "        if initial_state is None:\n",
    "            initial_state = makeDefaultInitialState()         \n",
    "        \n",
    "        desired_state = makeDefaultDesiredState()\n",
    "        opt = BoxAtlasContactStabilization(initial_state, default_env, desired_state,\n",
    "                                           params=params,\n",
    "                                          **kwargs)\n",
    "    \n",
    "    solve_start_time = time.time()\n",
    "    solnData = opt.solve()\n",
    "    elapsed_in_ms = 1e3*(time.time() - solve_start_time)\n",
    "    print(\"solution took \" + str(elapsed_in_ms) + \" ms\")\n",
    "    \n",
    "    elapsed_in_ms = 1e3*(time.time() - start_time)\n",
    "    print(\"solveContactStabilization took \" + str(elapsed_in_ms) + \" ms\")\n",
    "    return solnData\n",
    "\n",
    "        \n",
    "def makeDefaultInitialState():\n",
    "    \"\"\"\n",
    "    Makes a default initial state, has zero com velocity for now\n",
    "    \"\"\"\n",
    "    initial_state = box.BoxAtlasState(atlas)\n",
    "    initial_state = box.BoxAtlasState(atlas)\n",
    "    initial_state.qcom = np.array([0, 1])\n",
    "    initial_state.vcom = np.array([0, 0.])\n",
    "    initial_state.qlimb = map(np.array, [[0.35, 1], [0.25, 0], [-0.25, 0], [-0.35, 1]])\n",
    "    return initial_state\n",
    "\n",
    "\n",
    "def makeDefaultDesiredState():\n",
    "    \"\"\"\n",
    "    Same as default initial state, but with zero initial velocity\n",
    "    \"\"\"\n",
    "    desired_state = makeDefaultInitialState()\n",
    "    desired_state.vcom = np.zeros(2)\n",
    "    return desired_state\n",
    "\n",
    "\n",
    "def makeDefaultOptimizationProblem(initial_state=None):\n",
    "    if initial_state is None:\n",
    "        initial_state = makeDefaultInitialState()\n",
    "    \n",
    "    desired_state = makeDefaultDesiredState()\n",
    "    opt = BoxAtlasContactStabilization(initial_state, defualt_env, desired_state, params=params)\n",
    "    return opt\n",
    "    \n",
    "def testInitialVCOM(vcom_x_list):\n",
    "    solnDataList = []\n",
    "    \n",
    "    for vcom_x in vcom_x_list:\n",
    "        initial_state = makeDefaultInitialState()\n",
    "        initial_state.vcom = np.array([vcom_x, 0])\n",
    "        solnDataList.append(solveContactStabilization(initial_state))\n",
    "        \n",
    "    return solnDataList\n",
    "\n",
    "def getContactIndicatorVariable(solnData, contact_name=\"left_arm\"):\n",
    "    idx = limb_idx_map[contact_name]\n",
    "    ts = solnData.ts\n",
    "    return [solnData.contact_indicator[idx](t) for t in ts[:-1]]\n",
    "\n",
    "def plotContactIndicator(solnData):\n",
    "    contact_indicator_left_arm = getContactIndicatorVariable(solnData, contact_name=\"left_arm\")\n",
    "    ts = solnData.ts\n",
    "    vcom_x = solnData.states(0).vcom[0]\n",
    "    label = 'initial com vel = ' + str(vcom_x)\n",
    "    plt.plot(ts[:-1], contact_indicator_left_arm, label=label, alpha=1.0)\n",
    "    plt.legend(loc='best')\n",
    "    plt.xlabel('time')\n",
    "    plt.ylabel('contact indicator')\n",
    "    plt.show()\n",
    "    \n",
    "def arrayFromStateTrajectory(states, fieldname):\n",
    "    ts = states.components[0].breaks\n",
    "    val_list = []\n",
    "    for t in ts[:-1]:\n",
    "        boxAtlasState = states(t)\n",
    "        val_list.append(getattr(boxAtlasState, fieldname))\n",
    "        \n",
    "    val_array = np.array(val_list)\n",
    "    return val_array\n",
    "\n",
    "def plotContactIndicatorWidget(idx, solnDataList):\n",
    "    plotContactIndicator(solnDataList[idx])\n",
    "    \n",
    "\n",
    "def solveAlongTrajectory(solnData):\n",
    "    solnDataList = []\n",
    "    solnDataList.append(solnData)\n",
    "    \n",
    "    for t in solnData.ts[1:-1]:\n",
    "        boxAtlasState = solnData.states(t)\n",
    "        solnDataList.append(solveContactStabilization(initial_state=boxAtlasState))\n",
    "    \n",
    "    return solnDataList"
   ]
  },
  {
   "cell_type": "code",
   "execution_count": 16,
   "metadata": {
    "collapsed": false
   },
   "outputs": [
    {
     "data": {
      "text/plain": [
       "None"
      ]
     },
     "metadata": {},
     "output_type": "display_data"
    }
   ],
   "source": [
    "# Default Problem\n",
    "dist_to_wall = dict()\n",
    "dist_to_wall['left'] = -0.5\n",
    "dist_to_wall['right'] = 0.5\n",
    "\n",
    "env = makeEnvironment(dist_to_wall=dist_to_wall)\n",
    "initial_state = makeDefaultInitialState()\n",
    "desired_state = makeDefaultDesiredState()\n",
    "\n",
    "initial_state.vcom[0] = -1.75\n",
    "initial_state.contact_indicator = np.array([0,1,1,0], dtype=int)\n",
    "\n",
    "\n",
    "num_time_steps = 20\n",
    "dt = 0.05\n",
    "\n",
    "constrained_limbs = dict()\n",
    "constrained_limbs[\"right_leg\"] = 1 # persistent contact\n",
    "constrained_limbs[\"left_leg\"] = 1 # persistent contact\n",
    "# constrained_limbs[\"right_arm\"] = 0 # no contact\n",
    "\n",
    "contact_assignments = make_contact_assignment(dt, num_time_steps,\n",
    "                                              constrained_limbs=constrained_limbs)\n",
    "\n",
    "\n",
    "\n",
    "params= BoxAtlasContactStabilization.get_optimization_parameters()\n",
    "params['costs']['contact_force'] = 1e-3\n",
    "params['costs']['qcom_running'] = 1\n",
    "params['costs']['vcom_running'] = 1\n",
    "params['costs']['limb_running'] = 1e1\n",
    "params['costs']['qcom_final'] = 1e3\n",
    "params['costs']['vcom_final'] = 1e4\n",
    "params['costs']['arm_final_position'] = 1e3\n",
    "params['costs']['limb_velocity'] = 1e-1\n",
    "params['costs']['leg_final_position'] = 1e2\n",
    "\n",
    "\n",
    "# test out the lambda contact formulation\n",
    "# this enumerates all the potential contact mode sequences\n",
    "options = dict()\n",
    "options[\"use_lambda_contact_formulation\"] = True\n",
    "\n",
    "\n",
    "opt = BoxAtlasContactStabilization(initial_state, env, desired_state,\n",
    "                             num_time_steps=num_time_steps,\n",
    "                             dt=dt,\n",
    "                             params=params,\n",
    "                             contact_assignments=contact_assignments,\n",
    "                                  options=options)\n",
    "\n",
    "opt.add_limb_running_costs(desired_state)\n",
    "\n",
    "# set the MIPGap option for the Gurobi solver\n",
    "MIPGap = 1e-4 # gap between current incumbent and largest lower bound\n",
    "opt.prog.SetSolverOption(mathematicalprogram.SolverType.kGurobi, \"MIPGap\", MIPGap)\n",
    "\n",
    "\n",
    "\n",
    "\n",
    "solnData = opt.solve()\n",
    "box.planPlayback(vis, solnData, slider=True)\n",
    "print(\"solution took = \", solnData.solve_time)\n",
    "plotContactIndicator(solnData)"
   ]
  },
  {
   "cell_type": "code",
   "execution_count": null,
   "metadata": {
    "collapsed": false
   },
   "outputs": [],
   "source": [
    "# WARNING: This could take a while to run\n",
    "\n",
    "# Solve a sequence of problems for different initial velocities\n",
    "vcom_x_list = np.arange(-1.0,-4.01, -0.25)\n",
    "# vcom_x_list = [-2.0, -1.0]\n",
    "solnDataList = []\n",
    "for vcom_x in vcom_x_list:\n",
    "    initial_state = makeDefaultInitialState()\n",
    "    initial_state.vcom = np.array([vcom_x, 0])\n",
    "    \n",
    "    opt = BoxAtlasContactStabilization(initial_state, env, params=params)\n",
    "    add_feet_always_in_contact_constraints(opt)\n",
    "    solnDataList.append(solveContactStabilization(opt=opt))\n",
    "    \n",
    "\n",
    "    \n",
    "# for each of those solve along their resulting trajectories as well\n",
    "# solnDataAlongTrajectory = []\n",
    "# for solnData in solnDataList:\n",
    "#     solnDataAlongTrajectory.append(solveAlongTrajectory(solnData))\n"
   ]
  },
  {
   "cell_type": "code",
   "execution_count": null,
   "metadata": {
    "collapsed": false
   },
   "outputs": [],
   "source": [
    "# try some simple plotting\n",
    "\n",
    "\n",
    "qcom_x = []\n",
    "vcom_x = []\n",
    "num_timesteps_in_contact = []\n",
    "\n",
    "for solnDataList in solnDataAlongTrajectory:\n",
    "    for solnData in solnDataList:\n",
    "        qcom_x.append(solnData.states(0).qcom[0])\n",
    "        vcom_x.append(solnData.states(0).vcom[0])\n",
    "        contact_indicator = getContactIndicatorVariable(solnData, \"left_arm\")\n",
    "        num_timesteps_in_contact.append(sum(contact_indicator))\n",
    "        \n",
    "        \n",
    "qcom_x = np.array(qcom_x)\n",
    "vcom_x = np.array(vcom_x)\n",
    "num_timesteps_in_contact = np.array(num_timesteps_in_contact)\n",
    "\n",
    "fig = plt.figure()\n",
    "ax = fig.gca(projection='3d')\n",
    "surf = ax.scatter(qcom_x, vcom_x, num_timesteps_in_contact, c=num_timesteps_in_contact,\n",
    "                  cmap=cm.coolwarm, antialiased=False)\n",
    "\n",
    "# surf = ax.plot_wireframe(qcom_x, vcom_x, num_timesteps_in_contact,\n",
    "#                   cmap=cm.coolwarm, antialiased=False)\n",
    "ax.set_xlabel(\"com x position\")\n",
    "ax.set_ylabel(\"com x velocity\")"
   ]
  },
  {
   "cell_type": "code",
   "execution_count": null,
   "metadata": {
    "collapsed": false,
    "scrolled": false
   },
   "outputs": [],
   "source": [
    "slider = widgets.IntSlider(min=0,max=len(solnDataList)-1,step=1,value=0)\n",
    "interact(plotContactIndicatorWidget, idx=slider, solnDataList=fixed(solnDataList))\n",
    "\n",
    "# plot the trajectory of the com for each initial condition specified above\n",
    "for solnData in solnDataList:\n",
    "    states = solnData.states\n",
    "    qcom_array = arrayFromStateTrajectory(states,'qcom')\n",
    "    vcom_array = arrayFromStateTrajectory(states, 'vcom')\n",
    "    plt.plot(qcom_array[:,0], vcom_array[:,0])\n",
    "    \n",
    "plt.xlabel('com x position')\n",
    "plt.ylabel('com x velocity')\n",
    "plt.show()\n",
    "\n"
   ]
  },
  {
   "cell_type": "code",
   "execution_count": null,
   "metadata": {
    "collapsed": false
   },
   "outputs": [],
   "source": [
    "fig = plt.figure()\n",
    "ax = fig.add_subplot(111)\n",
    "\n",
    "for solnData in solnDataList:\n",
    "    contact_indicator_left_arm = getContactIndicatorVariable(solnData, contact_name=\"left_arm\")\n",
    "    ts = solnData.ts\n",
    "    vcom_x = solnData.states(0).vcom[0]\n",
    "    label = 'initial com vel = ' + str(vcom_x)\n",
    "    ax.plot(ts[:-1], contact_indicator_left_arm, label=label, alpha=1.0)\n",
    "#     ax.legend(loc='best')\n",
    "#     plt.xlabel('time')\n",
    "#     plt.ylabel('contact indicator')\n",
    "#     plt.show()\n",
    "    fig.show()\n",
    "    time.sleep(0.25)\n",
    "    fig.clf()"
   ]
  },
  {
   "cell_type": "code",
   "execution_count": null,
   "metadata": {
    "collapsed": false
   },
   "outputs": [],
   "source": [
    "solnData = solnDataList[6]\n",
    "vcom_x = solnData.states(0).vcom[0]\n",
    "box.planPlayback(vis, solnData, slider=True)\n",
    "print(\"com initial x velocity = \", vcom_x)"
   ]
  },
  {
   "cell_type": "code",
   "execution_count": null,
   "metadata": {
    "collapsed": false
   },
   "outputs": [],
   "source": [
    "a = [1,2,3]\n",
    "sum(a)"
   ]
  },
  {
   "cell_type": "code",
   "execution_count": null,
   "metadata": {
    "collapsed": false
   },
   "outputs": [],
   "source": [
    "# Solve an MIQP for each state along the initial solution\n",
    "initial_state = makeDefaultInitialState()\n",
    "initial_state.vcom = np.array([-4.0, 0.])\n",
    "opt = BoxAtlasContactStabilization(initial_state, env, params=params)\n",
    "solnData = solveContactStabilization(opt=opt)\n",
    "\n",
    "solnDataAlongTrajectory = []\n",
    "solnDataAlongTrajectory.append(solnData)\n",
    "\n",
    "box.planPlayback(vis, solnData, slider=True)\n",
    "\n",
    "\n",
    "for t in solnData.ts[:-1]:\n",
    "    print(\"solving program for t = \", t)\n",
    "    boxAtlasState = solnData.states(t)\n",
    "    solnDataAlongTrajectory.append(solveContactStabilization(initial_state=boxAtlasState))"
   ]
  },
  {
   "cell_type": "code",
   "execution_count": null,
   "metadata": {
    "collapsed": false
   },
   "outputs": [],
   "source": [
    "# plot switching sequence as we move along trajectory\n",
    "\n",
    "ts_orig = solnData.ts\n",
    "def customPlotting(idx):\n",
    "    solnData = solnDataAlongTrajectory[idx]\n",
    "    t = ts_orig[idx]\n",
    "    contact_indicator_left_arm = getContactIndicatorVariable(solnData, contact_name=\"left_arm\")\n",
    "    ts = solnData.ts\n",
    "    vcom_x = solnData.states(0).vcom[0]\n",
    "    label = 'start time  = ' + str(t)\n",
    "    plt.plot(t + ts[:-1], contact_indicator_left_arm, label=label, alpha=1.0)\n",
    "    plt.legend(loc='best')\n",
    "    plt.xlabel('time')\n",
    "    plt.ylabel('contact indicator')\n",
    "    plt.show()\n",
    "    \n",
    "slider = widgets.IntSlider(min=0,max=len(solnDataAlongTrajectory)-1,step=1,value=0)\n",
    "interact(customPlotting, idx=slider)"
   ]
  },
  {
   "cell_type": "code",
   "execution_count": null,
   "metadata": {
    "collapsed": false
   },
   "outputs": [],
   "source": [
    "idx = 5\n",
    "box.planPlayback(vis, solnDataAlongTrajectory[idx], slider=True)"
   ]
  },
  {
   "cell_type": "code",
   "execution_count": null,
   "metadata": {
    "collapsed": true
   },
   "outputs": [],
   "source": [
    "import utils.polynomial"
   ]
  },
  {
   "cell_type": "code",
   "execution_count": null,
   "metadata": {
    "collapsed": false
   },
   "outputs": [],
   "source": [
    "test = utils.polynomial.Polynomial([1])"
   ]
  },
  {
   "cell_type": "code",
   "execution_count": null,
   "metadata": {
    "collapsed": false
   },
   "outputs": [],
   "source": [
    "test.evaluate(10)"
   ]
  },
  {
   "cell_type": "code",
   "execution_count": null,
   "metadata": {
    "collapsed": true
   },
   "outputs": [],
   "source": []
  }
 ],
 "metadata": {
  "kernelspec": {
   "display_name": "Python 2",
   "language": "python",
   "name": "python2"
  },
  "language_info": {
   "codemirror_mode": {
    "name": "ipython",
    "version": 2
   },
   "file_extension": ".py",
   "mimetype": "text/x-python",
   "name": "python",
   "nbconvert_exporter": "python",
   "pygments_lexer": "ipython2",
   "version": "2.7.6"
  }
 },
 "nbformat": 4,
 "nbformat_minor": 1
}
