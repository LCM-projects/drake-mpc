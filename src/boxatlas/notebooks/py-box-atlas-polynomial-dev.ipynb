{
 "cells": [
  {
   "cell_type": "code",
   "execution_count": 1,
   "metadata": {
    "collapsed": false
   },
   "outputs": [],
   "source": [
    "from __future__ import division, print_function"
   ]
  },
  {
   "cell_type": "code",
   "execution_count": 2,
   "metadata": {
    "collapsed": false
   },
   "outputs": [
    {
     "name": "stdout",
     "output_type": "stream",
     "text": [
      "Populating the interactive namespace from numpy and matplotlib\n"
     ]
    }
   ],
   "source": [
    "%load_ext autoreload\n",
    "%autoreload 2\n",
    "%pylab inline\n",
    "# %pylab notebook\n",
    "# %load_ext wurlitzer\n"
   ]
  },
  {
   "cell_type": "code",
   "execution_count": 3,
   "metadata": {
    "collapsed": false
   },
   "outputs": [],
   "source": [
    "import time\n",
    "import numpy as np\n",
    "from collections import namedtuple\n",
    "\n",
    "\n",
    "from director import viewerclient as vc\n",
    "from irispy import Polyhedron\n",
    "import boxatlas.boxatlas as box\n",
    "from boxatlas.contactstabilization import BoxAtlasContactStabilization\n",
    "\n",
    "from ipywidgets import interact, interactive, fixed, interact_manual\n",
    "import ipywidgets as widgets"
   ]
  },
  {
   "cell_type": "code",
   "execution_count": 4,
   "metadata": {
    "collapsed": false
   },
   "outputs": [],
   "source": [
    "vis = vc.Visualizer()"
   ]
  },
  {
   "cell_type": "code",
   "execution_count": 12,
   "metadata": {
    "collapsed": false
   },
   "outputs": [],
   "source": [
    "surfaces = [\n",
    "    box.Surface(Polyhedron.fromBounds([1.2, 0], [1.2, 2]),\n",
    "            Polyhedron(np.array([[1, -1], [1, 1]]), np.array([0, 0]))),\n",
    "    box.Surface(Polyhedron.fromBounds([-2, 0], [2, 0]), \n",
    "            Polyhedron(np.array([[-2, -1], [2, -1]]), np.array([0, 0]))),\n",
    "    box.Surface(Polyhedron.fromBounds([-2, 0], [2, 0]), \n",
    "            Polyhedron(np.array([[-2, -1], [2, -1]]), np.array([0, 0]))),\n",
    "    box.Surface(Polyhedron.fromBounds([-1.2, 0], [-1.2, 2]),\n",
    "            Polyhedron(np.array([[-1, -1], [-1, 1]]), np.array([0, 0]))),\n",
    "]\n",
    "\n",
    "limb_idx_map = dict()\n",
    "limb_idx_map[\"right_arm\"] = 0\n",
    "limb_idx_map[\"right_leg\"] = 1\n",
    "limb_idx_map[\"left_leg\"] = 2\n",
    "limb_idx_map[\"left_arm\"] = 3\n",
    "\n",
    "limb_velocity_limits = [4]*4\n",
    "\n",
    "env = box.Environment(surfaces, Polyhedron.fromBounds([-1.2, 0], [1.2, 2]))\n",
    "atlas = box.BoxAtlas()\n",
    "atlas.limb_velocity_limits = limb_velocity_limits\n",
    "\n",
    "large_leg_limb_bound = Polyhedron.fromBounds([-2.0, -1.0], [2.0, -0.5])\n",
    "leg_names = [\"left_leg\", \"right_leg\"]\n",
    "for limb in leg_names:\n",
    "    idx = limb_idx_map[limb]\n",
    "    atlas.limb_bounds[idx] = large_leg_limb_bound\n",
    "    \n",
    "\n",
    "params = BoxAtlasContactStabilization.get_optimization_parameters()\n",
    "params['costs']['contact_force'] = 2e-2\n",
    "params['costs']['arm_final_position'] = 1e2\n",
    "params['costs']['leg_final_position'] = 1e2\n",
    "\n",
    "SolutionData = namedtuple(\"SolutionData\", [\"opt\" ,\"states\", \"inputs\", \"contact_indicator\", \"ts\"])\n",
    "\n",
    "\n",
    "def add_persistent_contact_constraints(opt, contact_name):\n",
    "    \"\"\"\n",
    "    :param opt  BoxAtlasContactStabilization\n",
    "    \"\"\"\n",
    "    idx = opt.robot.limb_idx_map[contact_name]\n",
    "    contact = opt.vars.contact[idx]\n",
    "    \n",
    "    for var in contact.at_all_breaks():\n",
    "        opt.prog.AddLinearConstraint(var[0] == 1)\n",
    "        \n",
    "def add_feet_always_in_contact_constraints(opt):\n",
    "    contact_names = [\"left_leg\", \"right_leg\"]\n",
    "    for contact_name in contact_names:\n",
    "        add_persistent_contact_constraints(opt, contact_name)\n",
    "\n",
    "\n",
    "def solveContactStabilization(opt=None, initial_state=None):\n",
    "    if opt is None:\n",
    "        if initial_state is None:\n",
    "            initial_state = makeDefaultInitialState()            \n",
    "        opt = BoxAtlasContactStabilization(initial_state, env, params=params)\n",
    "        \n",
    "    states, inputs, contact_indicator = opt.solve()\n",
    "    ts = states.components[0].breaks\n",
    "    \n",
    "#     solnData = namedtuple(\"SolutionData\", [\"opt\" ,\"states\", \"inputs\", \"contact_indicator\", \"ts\"])\n",
    "#     solnData.opt = opt\n",
    "#     solnData.states = states\n",
    "#     solnData.inputs = inputs\n",
    "#     solnData.contact_indicator = contact_indicator\n",
    "#     solnData.ts = ts\n",
    "    \n",
    "    solnData = SolutionData(opt=opt, states=states, inputs=inputs,\n",
    "                            contact_indicator=contact_indicator,\n",
    "                           ts = ts)\n",
    "    return solnData\n",
    "\n",
    "        \n",
    "def makeDefaultInitialState():\n",
    "    initial_state = box.BoxAtlasState(atlas)\n",
    "    initial_state.qcom = np.array([0, 1])\n",
    "    initial_state.vcom = np.array([-0, 0.])\n",
    "    initial_state.qlimb = map(np.array, [[0.75, 1], [0.25, 0], [-0.25, 0], [-0.75, 1]])\n",
    "    return initial_state\n",
    "\n",
    "\n",
    "def makeDefaultOptimizationProblem(initial_state=None):\n",
    "    if initial_state is None:\n",
    "        initial_state = makeDefaultInitialState()\n",
    "    opt = BoxAtlasContactStabilization(initial_state, env, params=params)\n",
    "    return opt\n",
    "    \n",
    "def testInitialVCOM(vcom_x_list):\n",
    "    solnDataList = []\n",
    "    \n",
    "    for vcom_x in vcom_x_list:\n",
    "        initial_state = makeDefaultInitialState()\n",
    "        initial_state.vcom = np.array([vcom_x, 0])\n",
    "        solnDataList.append(solveContactStabilization(initial_state))\n",
    "        \n",
    "    return solnDataList\n",
    "\n",
    "def getContactIndicatorVariable(solnData, contact_name=\"left_arm\"):\n",
    "    idx = limb_idx_map[contact_name]\n",
    "    ts = solnData.ts\n",
    "    return [solnData.contact_indicator[idx](t) for t in ts[:-1]]\n",
    "\n",
    "def plotContactIndicator(solnData):\n",
    "    contact_indicator_left_arm = getContactIndicatorVariable(solnData, contact_name=\"left_arm\")\n",
    "    ts = solnData.ts\n",
    "    vcom_x = solnData.states(0).vcom[0]\n",
    "    label = 'initial com vel = ' + str(vcom_x)\n",
    "    plt.plot(ts[:-1], contact_indicator_left_arm, label=label, alpha=1.0)\n",
    "    plt.legend(loc='best')\n",
    "    plt.xlabel('time')\n",
    "    plt.ylabel('contact indicator')\n",
    "    plt.show()\n",
    "    \n",
    "def arrayFromStateTrajectory(states, fieldname):\n",
    "    ts = states.components[0].breaks\n",
    "    val_list = []\n",
    "    for t in ts[:-1]:\n",
    "        boxAtlasState = states(t)\n",
    "        val_list.append(getattr(boxAtlasState, fieldname))\n",
    "        \n",
    "    val_array = np.array(val_list)\n",
    "    return val_array\n",
    "\n",
    "def plotContactIndicatorWidget(idx, solnDataList):\n",
    "    plotContactIndicator(solnDataList[idx])\n",
    "    \n",
    "\n",
    "def solveAlongTrajectory(solnData):\n",
    "    solnDataList = []\n",
    "    solnDataList.append(solnData)\n",
    "    \n",
    "    for t in solnData.ts[1:-1]:\n",
    "        boxAtlasState = solnData.states(t)\n",
    "        solnDataList.append(solveContactStabilization(initial_state=boxAtlasState))\n",
    "    \n",
    "    return solnDataList"
   ]
  },
  {
   "cell_type": "code",
   "execution_count": 6,
   "metadata": {
    "collapsed": false,
    "scrolled": true
   },
   "outputs": [
    {
     "data": {
      "text/plain": [
       "None"
      ]
     },
     "metadata": {},
     "output_type": "display_data"
    },
    {
     "data": {
      "image/png": "[encoded data removed]",
      "text/plain": [
       "<matplotlib.figure.Figure at 0x7f0d9e3d8dd0>"
      ]
     },
     "metadata": {},
     "output_type": "display_data"
    }
   ],
   "source": [
    "# solve a single problem and visualize the solution\n",
    "initial_state = box.BoxAtlasState(atlas)\n",
    "initial_state.qcom = np.array([0, 1])\n",
    "initial_state.vcom = np.array([-3, 0.])\n",
    "initial_state.qlimb = map(np.array, [[0.99, 1], [0.25, 0], [-0.25, 0], [-0.75, 1]])\n",
    "\n",
    "solnData = solveContactStabilization(initial_state=initial_state)\n",
    "# visualizeContactStabilizationPlan(solnData)\n",
    "box.planPlayback(vis, solnData, slider=True)\n",
    "plotContactIndicator(solnData)"
   ]
  },
  {
   "cell_type": "code",
   "execution_count": 9,
   "metadata": {
    "collapsed": false
   },
   "outputs": [
    {
     "name": "stdout",
     "output_type": "stream",
     "text": [
      "SolutionResult.kSolutionFound\n",
      "SolutionResult.kSolutionFound\n",
      "SolutionResult.kSolutionFound\n",
      "SolutionResult.kSolutionFound\n",
      "SolutionResult.kSolutionFound\n",
      "SolutionResult.kSolutionFound\n",
      "SolutionResult.kSolutionFound\n",
      "SolutionResult.kSolutionFound\n",
      "SolutionResult.kSolutionFound\n",
      "SolutionResult.kSolutionFound\n",
      "SolutionResult.kSolutionFound\n",
      "SolutionResult.kSolutionFound\n",
      "SolutionResult.kSolutionFound\n"
     ]
    }
   ],
   "source": [
    "# WARNING: This could take a while to run\n",
    "\n",
    "# Solve a sequence of problems for different initial velocities\n",
    "vcom_x_list = np.arange(-1.0,-4.01, -0.25)\n",
    "# vcom_x_list = [-2.0, -1.0]\n",
    "solnDataList = []\n",
    "for vcom_x in vcom_x_list:\n",
    "    initial_state = makeDefaultInitialState()\n",
    "    initial_state.vcom = np.array([vcom_x, 0])\n",
    "    \n",
    "    opt = BoxAtlasContactStabilization(initial_state, env, params=params)\n",
    "    add_feet_always_in_contact_constraints(opt)\n",
    "    solnDataList.append(solveContactStabilization(opt=opt))\n",
    "    \n",
    "\n",
    "    \n",
    "# for each of those solve along their resulting trajectories as well\n",
    "# solnDataAlongTrajectory = []\n",
    "# for solnData in solnDataList:\n",
    "#     solnDataAlongTrajectory.append(solveAlongTrajectory(solnData))\n"
   ]
  },
  {
   "cell_type": "code",
   "execution_count": null,
   "metadata": {
    "collapsed": false
   },
   "outputs": [],
   "source": [
    "# try some simple plotting\n",
    "\n",
    "\n",
    "qcom_x = []\n",
    "vcom_x = []\n",
    "num_timesteps_in_contact = []\n",
    "\n",
    "for solnDataList in solnDataAlongTrajectory:\n",
    "    for solnData in solnDataList:\n",
    "        qcom_x.append(solnData.states(0).qcom[0])\n",
    "        vcom_x.append(solnData.states(0).vcom[0])\n",
    "        contact_indicator = getContactIndicatorVariable(solnData, \"left_arm\")\n",
    "        num_timesteps_in_contact.append(sum(contact_indicator))\n",
    "        \n",
    "        \n",
    "qcom_x = np.array(qcom_x)\n",
    "vcom_x = np.array(vcom_x)\n",
    "num_timesteps_in_contact = np.array(num_timesteps_in_contact)\n",
    "\n",
    "fig = plt.figure()\n",
    "ax = fig.gca(projection='3d')\n",
    "surf = ax.scatter(qcom_x, vcom_x, num_timesteps_in_contact, c=num_timesteps_in_contact,\n",
    "                  cmap=cm.coolwarm, antialiased=False)\n",
    "\n",
    "# surf = ax.plot_wireframe(qcom_x, vcom_x, num_timesteps_in_contact,\n",
    "#                   cmap=cm.coolwarm, antialiased=False)\n",
    "ax.set_xlabel(\"com x position\")\n",
    "ax.set_ylabel(\"com x velocity\")"
   ]
  },
  {
   "cell_type": "code",
   "execution_count": 13,
   "metadata": {
    "collapsed": false,
    "scrolled": false
   },
   "outputs": [
    {
     "data": {
      "image/png": "[encoded data removed]",
      "text/plain": [
       "<matplotlib.figure.Figure at 0x7f0d9d6bad10>"
      ]
     },
     "metadata": {},
     "output_type": "display_data"
    },
    {
     "data": {
      "text/plain": [
       "None"
      ]
     },
     "metadata": {},
     "output_type": "display_data"
    }
   ],
   "source": [
    "slider = widgets.IntSlider(min=0,max=len(solnDataList)-1,step=1,value=0)\n",
    "interact(plotContactIndicatorWidget, idx=slider, solnDataList=fixed(solnDataList))\n",
    "\n",
    "# plot the trajectory of the com for each initial condition specified above\n",
    "for solnData in solnDataList:\n",
    "    states = solnData.states\n",
    "    qcom_array = arrayFromStateTrajectory(states,'qcom')\n",
    "    vcom_array = arrayFromStateTrajectory(states, 'vcom')\n",
    "    plt.plot(qcom_array[:,0], vcom_array[:,0])\n",
    "    \n",
    "plt.xlabel('com x position')\n",
    "plt.ylabel('com x velocity')\n",
    "plt.show()\n",
    "\n"
   ]
  },
  {
   "cell_type": "code",
   "execution_count": 21,
   "metadata": {
    "collapsed": false
   },
   "outputs": [
    {
     "name": "stderr",
     "output_type": "stream",
     "text": [
      "/usr/local/lib/python2.7/dist-packages/matplotlib/figure.py:402: UserWarning: matplotlib is currently using a non-GUI backend, so cannot show the figure\n",
      "  \"matplotlib is currently using a non-GUI backend, \"\n"
     ]
    },
    {
     "data": {
      "text/plain": [
       "<matplotlib.figure.Figure at 0x7f0d9c87fa90>"
      ]
     },
     "metadata": {},
     "output_type": "display_data"
    }
   ],
   "source": [
    "fig = plt.figure()\n",
    "ax = fig.add_subplot(111)\n",
    "\n",
    "for solnData in solnDataList:\n",
    "    contact_indicator_left_arm = getContactIndicatorVariable(solnData, contact_name=\"left_arm\")\n",
    "    ts = solnData.ts\n",
    "    vcom_x = solnData.states(0).vcom[0]\n",
    "    label = 'initial com vel = ' + str(vcom_x)\n",
    "    ax.plot(ts[:-1], contact_indicator_left_arm, label=label, alpha=1.0)\n",
    "#     ax.legend(loc='best')\n",
    "#     plt.xlabel('time')\n",
    "#     plt.ylabel('contact indicator')\n",
    "#     plt.show()\n",
    "    fig.show()\n",
    "    time.sleep(0.25)\n",
    "    fig.clf()"
   ]
  },
  {
   "cell_type": "code",
   "execution_count": null,
   "metadata": {
    "collapsed": false
   },
   "outputs": [],
   "source": [
    "solnData = solnDataList[6]\n",
    "vcom_x = solnData.states(0).vcom[0]\n",
    "box.planPlayback(vis, solnData, slider=True)\n",
    "print(\"com initial x velocity = \", vcom_x)"
   ]
  },
  {
   "cell_type": "code",
   "execution_count": null,
   "metadata": {
    "collapsed": false
   },
   "outputs": [],
   "source": [
    "a = [1,2,3]\n",
    "sum(a)"
   ]
  },
  {
   "cell_type": "code",
   "execution_count": 31,
   "metadata": {
    "collapsed": false
   },
   "outputs": [
    {
     "data": {
      "text/plain": [
       "None"
      ]
     },
     "metadata": {},
     "output_type": "display_data"
    },
    {
     "name": "stdout",
     "output_type": "stream",
     "text": [
      "solving program for t =  0.0\n",
      "SolutionResult.kSolutionFound\n",
      "solving program for t =  0.05\n",
      "SolutionResult.kSolutionFound\n",
      "solving program for t =  0.1\n",
      "SolutionResult.kSolutionFound\n",
      "solving program for t =  0.15\n",
      "SolutionResult.kSolutionFound\n",
      "solving program for t =  0.2\n",
      "SolutionResult.kSolutionFound\n",
      "solving program for t =  0.25\n",
      "SolutionResult.kSolutionFound\n",
      "solving program for t =  0.3\n",
      "SolutionResult.kSolutionFound\n",
      "solving program for t =  0.35\n",
      "SolutionResult.kSolutionFound\n",
      "solving program for t =  0.4\n",
      "SolutionResult.kSolutionFound\n",
      "solving program for t =  0.45\n",
      "SolutionResult.kSolutionFound\n",
      "solving program for t =  0.5\n",
      "SolutionResult.kSolutionFound\n",
      "solving program for t =  0.55\n",
      "SolutionResult.kSolutionFound\n",
      "solving program for t =  0.6\n",
      "SolutionResult.kSolutionFound\n",
      "solving program for t =  0.65\n",
      "SolutionResult.kSolutionFound\n",
      "solving program for t =  0.7\n",
      "SolutionResult.kSolutionFound\n",
      "solving program for t =  0.75\n",
      "SolutionResult.kSolutionFound\n",
      "solving program for t =  0.8\n",
      "SolutionResult.kSolutionFound\n",
      "solving program for t =  0.85\n",
      "SolutionResult.kSolutionFound\n",
      "solving program for t =  0.9\n",
      "SolutionResult.kSolutionFound\n",
      "solving program for t =  0.95\n",
      "SolutionResult.kSolutionFound\n"
     ]
    }
   ],
   "source": [
    "# Solve an MIQP for each state along the initial solution\n",
    "initial_state = makeDefaultInitialState()\n",
    "initial_state.vcom = np.array([-4.0, 0.])\n",
    "opt = BoxAtlasContactStabilization(initial_state, env, params=params)\n",
    "solnData = solveContactStabilization(opt=opt)\n",
    "\n",
    "solnDataAlongTrajectory = []\n",
    "solnDataAlongTrajectory.append(solnData)\n",
    "\n",
    "box.planPlayback(vis, solnData, slider=True)\n",
    "\n",
    "\n",
    "for t in solnData.ts[:-1]:\n",
    "    print(\"solving program for t = \", t)\n",
    "    boxAtlasState = solnData.states(t)\n",
    "    solnDataAlongTrajectory.append(solveContactStabilization(initial_state=boxAtlasState))"
   ]
  },
  {
   "cell_type": "code",
   "execution_count": 37,
   "metadata": {
    "collapsed": false
   },
   "outputs": [
    {
     "data": {
      "image/png": "[encoded data removed]",
      "text/plain": [
       "<matplotlib.figure.Figure at 0x7f0d9d8ad9d0>"
      ]
     },
     "metadata": {},
     "output_type": "display_data"
    },
    {
     "data": {
      "text/plain": [
       "None"
      ]
     },
     "metadata": {},
     "output_type": "display_data"
    }
   ],
   "source": [
    "# plot switching sequence as we move along trajectory\n",
    "\n",
    "ts_orig = solnData.ts\n",
    "def customPlotting(idx):\n",
    "    solnData = solnDataAlongTrajectory[idx]\n",
    "    t = ts_orig[idx]\n",
    "    contact_indicator_left_arm = getContactIndicatorVariable(solnData, contact_name=\"left_arm\")\n",
    "    ts = solnData.ts\n",
    "    vcom_x = solnData.states(0).vcom[0]\n",
    "    label = 'start time  = ' + str(t)\n",
    "    plt.plot(t + ts[:-1], contact_indicator_left_arm, label=label, alpha=1.0)\n",
    "    plt.legend(loc='best')\n",
    "    plt.xlabel('time')\n",
    "    plt.ylabel('contact indicator')\n",
    "    plt.show()\n",
    "    \n",
    "slider = widgets.IntSlider(min=0,max=len(solnDataAlongTrajectory)-1,step=1,value=0)\n",
    "interact(customPlotting, idx=slider)"
   ]
  },
  {
   "cell_type": "code",
   "execution_count": null,
   "metadata": {
    "collapsed": false
   },
   "outputs": [],
   "source": [
    "idx = 5\n",
    "box.planPlayback(vis, solnDataAlongTrajectory[idx], slider=True)\n"
   ]
  },
  {
   "cell_type": "code",
   "execution_count": 26,
   "metadata": {
    "collapsed": false
   },
   "outputs": [
    {
     "name": "stdout",
     "output_type": "stream",
     "text": [
      "1.22\n"
     ]
    }
   ],
   "source": [
    "t = 1.22222222\n",
    "test = str(round(t,2))\n",
    "print(test)"
   ]
  },
  {
   "cell_type": "code",
   "execution_count": null,
   "metadata": {
    "collapsed": true
   },
   "outputs": [],
   "source": []
  }
 ],
 "metadata": {
  "kernelspec": {
   "display_name": "Python 2",
   "language": "python",
   "name": "python2"
  },
  "language_info": {
   "codemirror_mode": {
    "name": "ipython",
    "version": 2
   },
   "file_extension": ".py",
   "mimetype": "text/x-python",
   "name": "python",
   "nbconvert_exporter": "python",
   "pygments_lexer": "ipython2",
   "version": "2.7.6"
  }
 },
 "nbformat": 4,
 "nbformat_minor": 1
}
