{
 "cells": [
  {
   "cell_type": "code",
   "execution_count": 7,
   "metadata": {
    "collapsed": true
   },
   "outputs": [],
   "source": [
    "from __future__ import division, print_function"
   ]
  },
  {
   "cell_type": "code",
   "execution_count": 8,
   "metadata": {
    "collapsed": false
   },
   "outputs": [
    {
     "name": "stdout",
     "output_type": "stream",
     "text": [
      "The autoreload extension is already loaded. To reload it, use:\n",
      "  %reload_ext autoreload\n",
      "Populating the interactive namespace from numpy and matplotlib\n"
     ]
    },
    {
     "name": "stderr",
     "output_type": "stream",
     "text": [
      "WARNING: pylab import has clobbered these variables: ['box', 'interactive']\n",
      "`%matplotlib` prevents importing * from pylab and numpy\n"
     ]
    }
   ],
   "source": [
    "%load_ext autoreload\n",
    "%autoreload 2\n",
    "%pylab inline\n",
    "# %load_ext wurlitzer\n"
   ]
  },
  {
   "cell_type": "code",
   "execution_count": 9,
   "metadata": {
    "collapsed": false
   },
   "outputs": [],
   "source": [
    "import time\n",
    "import numpy as np\n",
    "from collections import namedtuple\n",
    "\n",
    "\n",
    "from director import viewerclient as vc\n",
    "from irispy import Polyhedron\n",
    "import boxatlas.boxatlas as box\n",
    "from boxatlas.contactstabilization import BoxAtlasContactStabilization\n",
    "\n",
    "from ipywidgets import interact, interactive, fixed, interact_manual\n",
    "import ipywidgets as widgets"
   ]
  },
  {
   "cell_type": "code",
   "execution_count": 10,
   "metadata": {
    "collapsed": false
   },
   "outputs": [],
   "source": [
    "vis = vc.Visualizer()"
   ]
  },
  {
   "cell_type": "code",
   "execution_count": 65,
   "metadata": {
    "collapsed": false
   },
   "outputs": [],
   "source": [
    "surfaces = [\n",
    "    box.Surface(Polyhedron.fromBounds([1.2, 0], [1.2, 2]),\n",
    "            Polyhedron(np.array([[1, -1], [1, 1]]), np.array([0, 0]))),\n",
    "    box.Surface(Polyhedron.fromBounds([-2, 0], [2, 0]), \n",
    "            Polyhedron(np.array([[-2, -1], [2, -1]]), np.array([0, 0]))),\n",
    "    box.Surface(Polyhedron.fromBounds([-2, 0], [2, 0]), \n",
    "            Polyhedron(np.array([[-2, -1], [2, -1]]), np.array([0, 0]))),\n",
    "    box.Surface(Polyhedron.fromBounds([-1.2, 0], [-1.2, 2]),\n",
    "            Polyhedron(np.array([[-1, -1], [-1, 1]]), np.array([0, 0]))),\n",
    "]\n",
    "\n",
    "limb_idx_map = dict()\n",
    "limb_idx_map[\"right_arm\"] = 0\n",
    "limb_idx_map[\"right_leg\"] = 1\n",
    "limb_idx_map[\"left_leg\"] = 2\n",
    "limb_idx_map[\"left_arm\"] = 3\n",
    "\n",
    "limb_velocity_limits = [4]*4\n",
    "\n",
    "env = box.Environment(surfaces, Polyhedron.fromBounds([-1.2, 0], [1.2, 2]))\n",
    "atlas = box.BoxAtlas()\n",
    "atlas.limb_velocity_limits = limb_velocity_limits\n",
    "\n",
    "large_leg_limb_bound = Polyhedron.fromBounds([-2.0, -1.0], [2.0, -0.5])\n",
    "leg_names = [\"left_leg\", \"right_leg\"]\n",
    "for limb in leg_names:\n",
    "    idx = limb_idx_map[limb]\n",
    "    atlas.limb_bounds[idx] = large_leg_limb_bound\n",
    "    \n",
    "\n",
    "params = BoxAtlasContactStabilization.get_optimization_parameters()\n",
    "params['costs']['contact_force'] = 2e-2\n",
    "params['costs']['arm_final_position'] = 1e2\n",
    "params['costs']['leg_final_position'] = 1e2\n",
    "\n",
    "\n",
    "def add_persistent_contact_constraints(opt, contact_name):\n",
    "    \"\"\"\n",
    "    :param opt  BoxAtlasContactStabilization\n",
    "    \"\"\"\n",
    "    idx = opt.robot.limb_idx_map[contact_name]\n",
    "    contact = opt.vars.contact[idx]\n",
    "    \n",
    "    for var in contact.at_all_breaks():\n",
    "        opt.prog.AddLinearConstraint(var[0] == 1)\n",
    "        \n",
    "def add_feet_always_in_contact_constraints(opt):\n",
    "    contact_names = [\"left_leg\", \"right_leg\"]\n",
    "    for contact_name in contact_names:\n",
    "        add_persistent_contact_constraints(opt, contact_name)\n",
    "\n",
    "\n",
    "def solveContactStabilization(opt=None, initial_state=None):\n",
    "    if opt is None:\n",
    "        if initial_state is None:\n",
    "            initial_state = makeDefaultInitialState()            \n",
    "        opt = BoxAtlasContactStabilization(initial_state, env, params=params)\n",
    "        \n",
    "    states, inputs, contact_indicator = opt.solve()\n",
    "    ts = states.components[0].breaks\n",
    "    \n",
    "    solnData = namedtuple(\"SolutionData\", [\"opt\" ,\"states\", \"inputs\", \"contact_indicator\", \"ts\"])\n",
    "    solnData.opt = opt\n",
    "    solnData.states = states\n",
    "    solnData.inputs = inputs\n",
    "    solnData.contact_indicator = contact_indicator\n",
    "    solnData.ts = ts\n",
    "    return solnData\n",
    "\n",
    "        \n",
    "def makeDefaultInitialState():\n",
    "    initial_state = box.BoxAtlasState(atlas)\n",
    "    initial_state.qcom = np.array([0, 1])\n",
    "    initial_state.vcom = np.array([-0, 0.])\n",
    "    initial_state.qlimb = map(np.array, [[0.75, 1], [0.25, 0], [-0.25, 0], [-0.75, 1]])\n",
    "    return initial_state\n",
    "\n",
    "\n",
    "def makeDefaultOptimizationProblem(initial_state=None):\n",
    "    if initial_state is None:\n",
    "        initial_state = makeDefaultInitialState()\n",
    "    opt = BoxAtlasContactStabilization(initial_state, env, params=params)\n",
    "    return opt\n",
    "    \n",
    "def testInitialVCOM(vcom_x_list):\n",
    "    solnDataList = []\n",
    "    \n",
    "    for vcom_x in vcom_x_list:\n",
    "        initial_state = makeDefaultInitialState()\n",
    "        initial_state.vcom = np.array([vcom_x, 0])\n",
    "        solnDataList.append(solveContactStabilization(initial_state))\n",
    "        \n",
    "    return solnDataList\n",
    "\n",
    "def getContactIndicatorVariable(solnData, contact_name=\"left_arm\"):\n",
    "    idx = limb_idx_map[contact_name]\n",
    "    ts = solnData.ts\n",
    "    return [solnData.contact_indicator[idx](t) for t in ts[:-1]]\n",
    "\n",
    "def plotContactIndicator(solnData):\n",
    "    contact_indicator_left_arm = getContactIndicatorVariable(solnData, contact_name=\"left_arm\")\n",
    "    ts = solnData.ts\n",
    "    vcom_x = solnData.states(0).vcom[0]\n",
    "    label = str(vcom_x)\n",
    "    plt.plot(ts[:-1], contact_indicator_left_arm, label=label, alpha=1.0)\n",
    "    plt.legend(loc='best')\n",
    "    plt.show()\n",
    "    "
   ]
  },
  {
   "cell_type": "code",
   "execution_count": 67,
   "metadata": {
    "collapsed": false,
    "scrolled": true
   },
   "outputs": [
    {
     "data": {
      "text/plain": [
       "None"
      ]
     },
     "metadata": {},
     "output_type": "display_data"
    }
   ],
   "source": [
    "# solve a single problem and visualize the solution\n",
    "initial_state = box.BoxAtlasState(atlas)\n",
    "initial_state.qcom = np.array([0, 1])\n",
    "initial_state.vcom = np.array([-2, 0.])\n",
    "initial_state.qlimb = map(np.array, [[0.75, 1], [0.25, 0], [-0.25, 0], [-0.75, 1]])\n",
    "\n",
    "solnData = solveContactStabilization(initial_state=initial_state)\n",
    "# visualizeContactStabilizationPlan(solnData)\n",
    "box.planPlayback(vis, solnData, slider=True)\n",
    "plotContactIndicator(solnData)"
   ]
  },
  {
   "cell_type": "code",
   "execution_count": 61,
   "metadata": {
    "collapsed": false
   },
   "outputs": [
    {
     "name": "stdout",
     "output_type": "stream",
     "text": [
      "SolutionResult.kSolutionFound\n",
      "SolutionResult.kSolutionFound\n",
      "SolutionResult.kSolutionFound\n",
      "SolutionResult.kSolutionFound\n",
      "SolutionResult.kSolutionFound\n",
      "SolutionResult.kSolutionFound\n",
      "SolutionResult.kSolutionFound\n",
      "SolutionResult.kSolutionFound\n",
      "SolutionResult.kSolutionFound\n",
      "SolutionResult.kSolutionFound\n",
      "SolutionResult.kSolutionFound\n",
      "SolutionResult.kSolutionFound\n"
     ]
    }
   ],
   "source": [
    "# Solve a sequence of problems for different initial velocities\n",
    "vcom_x_list = np.arange(-1.0,-4, -0.25)\n",
    "solnDataList = []\n",
    "for vcom_x in vcom_x_list:\n",
    "    initial_state = makeDefaultInitialState()\n",
    "    initial_state.vcom = np.array([vcom_x, 0])\n",
    "    \n",
    "    opt = BoxAtlasContactStabilization(initial_state, env, params=params)\n",
    "    add_feet_always_in_contact_constraints(opt)\n",
    "    solnDataList.append(solveContactStabilization(opt=opt))"
   ]
  },
  {
   "cell_type": "code",
   "execution_count": 62,
   "metadata": {
    "collapsed": false
   },
   "outputs": [
    {
     "data": {
      "image/png": "[encoded data removed]",
      "text/plain": [
       "<matplotlib.figure.Figure at 0x7f0d55b59610>"
      ]
     },
     "metadata": {},
     "output_type": "display_data"
    },
    {
     "data": {
      "text/plain": [
       "None"
      ]
     },
     "metadata": {},
     "output_type": "display_data"
    }
   ],
   "source": [
    "def plotContactIndicatorWidget(idx, solnDataList=solnDataList):\n",
    "    plotContactIndicator(solnDataList[idx])\n",
    "    \n",
    "slider = widgets.IntSlider(min=0,max=len(solnDataList)-1,step=1,value=0)\n",
    "interact(plotContactIndicatorWidget, idx=slider, solnDataList=fixed(solnDataList))"
   ]
  },
  {
   "cell_type": "code",
   "execution_count": 64,
   "metadata": {
    "collapsed": false
   },
   "outputs": [
    {
     "data": {
      "text/plain": [
       "None"
      ]
     },
     "metadata": {},
     "output_type": "display_data"
    }
   ],
   "source": [
    "solnData = solnDataList[6]\n",
    "vcom_x = solnData.states(0).vcom[0]\n",
    "box.planPlayback(vis, solnData, slider=True)\n",
    "print(\"com initial x velocity = \", vcom_x)"
   ]
  },
  {
   "cell_type": "code",
   "execution_count": 57,
   "metadata": {
    "collapsed": false
   },
   "outputs": [
    {
     "data": {
      "text/plain": [
       "None"
      ]
     },
     "metadata": {},
     "output_type": "display_data"
    }
   ],
   "source": [
    "initial_state.vcom = np.array([-3.0, 0.])\n",
    "opt = BoxAtlasContactStabilization(initial_state, env, params=params)\n",
    "add_feet_always_in_contact_constraints(opt)\n",
    "solnData = solveContactStabilization(opt=opt)\n",
    "box.planPlayback(vis, solnData, slider=True)"
   ]
  },
  {
   "cell_type": "code",
   "execution_count": 39,
   "metadata": {
    "collapsed": false
   },
   "outputs": [
    {
     "data": {
      "text/plain": [
       "array([ 1.])"
      ]
     },
     "execution_count": 39,
     "metadata": {},
     "output_type": "execute_result"
    }
   ],
   "source": [
    "solnData.contact_indicator[1](0.1)"
   ]
  },
  {
   "cell_type": "code",
   "execution_count": null,
   "metadata": {
    "collapsed": false
   },
   "outputs": [],
   "source": [
    "initial_state.qlimb[0]"
   ]
  },
  {
   "cell_type": "code",
   "execution_count": null,
   "metadata": {
    "collapsed": true
   },
   "outputs": [],
   "source": []
  }
 ],
 "metadata": {
  "kernelspec": {
   "display_name": "Python 2",
   "language": "python",
   "name": "python2"
  },
  "language_info": {
   "codemirror_mode": {
    "name": "ipython",
    "version": 2
   },
   "file_extension": ".py",
   "mimetype": "text/x-python",
   "name": "python",
   "nbconvert_exporter": "python",
   "pygments_lexer": "ipython2",
   "version": "2.7.6"
  }
 },
 "nbformat": 4,
 "nbformat_minor": 1
}
