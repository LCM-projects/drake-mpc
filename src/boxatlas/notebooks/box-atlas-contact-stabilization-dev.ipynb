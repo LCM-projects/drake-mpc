{
 "cells": [
  {
   "cell_type": "code",
   "execution_count": 1,
   "metadata": {
    "collapsed": false
   },
   "outputs": [
    {
     "name": "stdout",
     "output_type": "stream",
     "text": [
      "Populating the interactive namespace from numpy and matplotlib\n"
     ]
    }
   ],
   "source": [
    "from __future__ import division, print_function\n",
    "%load_ext autoreload\n",
    "%autoreload 2\n",
    "%pylab inline\n",
    "# %pylab notebook\n",
    "# %load_ext wurlitzer\n",
    "# standard imports\n",
    "\n",
    "import time\n",
    "import numpy as np\n",
    "from collections import namedtuple\n",
    "from ipywidgets import interact, interactive, fixed, interact_manual\n",
    "import ipywidgets as widgets\n",
    "\n",
    "# drake + externals imports\n",
    "from director import viewerclient as vc\n",
    "from irispy import Polyhedron\n",
    "import pydrake.solvers.mathematicalprogram as mathematicalprogram\n",
    "\n",
    "# boxatlas\n",
    "import boxatlas.boxatlas as box\n",
    "from boxatlas.contactstabilization import BoxAtlasContactStabilization\n",
    "from boxatlas.contactstabilizationutils import ContactStabilizationUtils as CSU\n",
    "from utils.polynomial import Polynomial\n",
    "from utils.piecewise import Piecewise\n",
    "from boxatlas.boxatlascontroller import BoxAtlasController\n",
    "from boxatlas.contactstabilizationutils import BoxAtlasDefaults"
   ]
  },
  {
   "cell_type": "code",
   "execution_count": 3,
   "metadata": {
    "collapsed": false
   },
   "outputs": [],
   "source": [
    "# construct a visualizer object\n",
    "vis = vc.Visualizer()\n",
    "vis.delete()"
   ]
  },
  {
   "cell_type": "code",
   "execution_count": 4,
   "metadata": {
    "collapsed": false
   },
   "outputs": [
    {
     "data": {
      "text/plain": [
       "None"
      ]
     },
     "metadata": {},
     "output_type": "display_data"
    },
    {
     "name": "stdout",
     "output_type": "stream",
     "text": [
      "solution took =  1.46789312363\n"
     ]
    },
    {
     "data": {
      "image/png": "[encoded data removed]",
      "text/plain": [
       "<matplotlib.figure.Figure at 0x7f64b1009b50>"
      ]
     },
     "metadata": {},
     "output_type": "display_data"
    }
   ],
   "source": [
    "controller = BoxAtlasController()\n",
    "robot = controller.robot\n",
    "initial_state = CSU.make_default_initial_state(robot)\n",
    "initial_state.vcom[0] = -1.75 # set initial velocity of com\n",
    "# initial_state.contact_indicator = np.array([0,1,1,0], dtype=int)\n",
    "\n",
    "opt = controller.construct_contact_stabilization_optimization(initial_state)\n",
    "\n",
    "solnData = opt.solve()\n",
    "vis.delete()\n",
    "box.planPlayback(vis, solnData, slider=True)\n",
    "print(\"solution took = \", solnData.solve_time)\n",
    "CSU.plot_contact_indicator(solnData)\n",
    "control_input = controller.extract_control_input_from_soln(solnData)"
   ]
  },
  {
   "cell_type": "code",
   "execution_count": 5,
   "metadata": {
    "collapsed": false
   },
   "outputs": [
    {
     "name": "stdout",
     "output_type": "stream",
     "text": [
      "contact assigments passed in\n",
      "typeof(c) =  <class 'pydrake.symbolic.Variable'>\n",
      "typeof(c) =  <class 'pydrake.symbolic.Variable'>\n",
      "typeof(c) =  <class 'pydrake.symbolic.Variable'>\n",
      "solution took =  0.0107100009918\n"
     ]
    }
   ],
   "source": [
    "# Test whether adding constraints on binary variables leads to gurobi pruning them out\n",
    "# during the pre-solve\n",
    "initial_state = CSU.make_default_initial_state(robot)\n",
    "num_time_steps = 3\n",
    "left_arm_idx = robot.limb_idx_map[\"left_arm\"]\n",
    "contact_assignments = dict()\n",
    "contact_assignments[left_arm_idx] = [0]*num_time_steps\n",
    "opt = controller.construct_contact_stabilization_optimization(initial_state,\n",
    "                                                              contact_assignments=contact_assignments,\n",
    "                                                              num_time_steps=num_time_steps)\n",
    "\n",
    "\n",
    "solnData = opt.solve()\n",
    "# box.planPlayback(vis, solnData, slider=True)\n",
    "print(\"solution took = \", solnData.solve_time)\n",
    "# CSU.plot_contact_indicator(solnData)"
   ]
  }
 ],
 "metadata": {
  "kernelspec": {
   "display_name": "Python 2",
   "language": "python",
   "name": "python2"
  },
  "language_info": {
   "codemirror_mode": {
    "name": "ipython",
    "version": 2
   },
   "file_extension": ".py",
   "mimetype": "text/x-python",
   "name": "python",
   "nbconvert_exporter": "python",
   "pygments_lexer": "ipython2",
   "version": "2.7.6"
  }
 },
 "nbformat": 4,
 "nbformat_minor": 0
}
