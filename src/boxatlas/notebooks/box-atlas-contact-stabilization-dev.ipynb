{
 "cells": [
  {
   "cell_type": "code",
   "execution_count": 1,
   "metadata": {
    "collapsed": false
   },
   "outputs": [
    {
     "name": "stdout",
     "output_type": "stream",
     "text": [
      "Populating the interactive namespace from numpy and matplotlib\n"
     ]
    }
   ],
   "source": [
    "from __future__ import division, print_function\n",
    "%load_ext autoreload\n",
    "%autoreload 2\n",
    "%pylab inline\n",
    "# %pylab notebook\n",
    "# %load_ext wurlitzer\n",
    "# standard imports\n",
    "\n",
    "import time\n",
    "import numpy as np\n",
    "from collections import namedtuple\n",
    "from ipywidgets import interact, interactive, fixed, interact_manual\n",
    "import ipywidgets as widgets\n",
    "\n",
    "# drake + externals imports\n",
    "from director import viewerclient as vc\n",
    "from irispy import Polyhedron\n",
    "import pydrake.solvers.mathematicalprogram as mathematicalprogram\n",
    "\n",
    "# boxatlas\n",
    "import boxatlas.boxatlas as box\n",
    "from boxatlas.contactstabilization import BoxAtlasContactStabilization\n",
    "from boxatlas.contactstabilizationutils import ContactStabilizationUtils as CSU\n",
    "from utils.polynomial import Polynomial\n",
    "from utils.piecewise import Piecewise\n",
    "from boxatlas.boxatlascontroller import BoxAtlasController"
   ]
  },
  {
   "cell_type": "code",
   "execution_count": 2,
   "metadata": {
    "collapsed": true
   },
   "outputs": [],
   "source": [
    "# construct a visualizer object\n",
    "vis = vc.Visualizer()"
   ]
  },
  {
   "cell_type": "code",
   "execution_count": 3,
   "metadata": {
    "collapsed": false
   },
   "outputs": [
    {
     "data": {
      "text/plain": [
       "None"
      ]
     },
     "metadata": {},
     "output_type": "display_data"
    }
   ],
   "source": [
    "controller = BoxAtlasController()\n",
    "robot = controller.defaults.robot\n",
    "initial_state = CSU.make_default_initial_state(robot)\n",
    "initial_state.vcom[0] = -1.75 # set initial velocity of com\n",
    "# initial_state.contact_indicator = np.array([0,1,1,0], dtype=int)\n",
    "\n",
    "opt = controller.construct_contact_stabilization_optimization(initial_state)\n",
    "\n",
    "solnData = opt.solve()\n",
    "box.planPlayback(vis, solnData, slider=True)\n",
    "print(\"solution took = \", solnData.solve_time)\n",
    "CSU.plot_contact_indicator(solnData)"
   ]
  },
  {
   "cell_type": "code",
   "execution_count": null,
   "metadata": {
    "collapsed": true
   },
   "outputs": [],
   "source": []
  }
 ],
 "metadata": {
  "kernelspec": {
   "display_name": "Python 2",
   "language": "python",
   "name": "python2"
  },
  "language_info": {
   "codemirror_mode": {
    "name": "ipython",
    "version": 2
   },
   "file_extension": ".py",
   "mimetype": "text/x-python",
   "name": "python",
   "nbconvert_exporter": "python",
   "pygments_lexer": "ipython2",
   "version": "2.7.6"
  }
 },
 "nbformat": 4,
 "nbformat_minor": 0
}
