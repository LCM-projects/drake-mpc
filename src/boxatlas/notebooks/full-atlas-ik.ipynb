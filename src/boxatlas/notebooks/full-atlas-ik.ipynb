{
 "cells": [
  {
   "cell_type": "code",
   "execution_count": 1,
   "metadata": {
    "collapsed": true
   },
   "outputs": [],
   "source": [
    "from __future__ import division, print_function\n",
    "%load_ext autoreload\n",
    "%autoreload 2"
   ]
  },
  {
   "cell_type": "code",
   "execution_count": 2,
   "metadata": {
    "collapsed": true
   },
   "outputs": [],
   "source": [
    "import os.path\n",
    "\n",
    "import numpy as np\n",
    "import scipy.io\n",
    "\n",
    "from irispy import Polyhedron\n",
    "\n",
    "from director import viewerclient as vc\n",
    "\n",
    "from pydrake.parsers import PackageMap\n",
    "from pydrake import getDrakePath\n",
    "from pydrake import rbtree\n",
    "from pydrake.solvers import ik\n",
    "from pydrake.trajectories import PiecewisePolynomial\n",
    "from pydrake.lcm import DrakeLcm\n",
    "from pydrake.systems import DrakeVisualizer\n",
    "\n",
    "import mpc_tools.mpcqp as mqp\n",
    "from boxatlas import boxatlas as box\n",
    "from boxatlas.contactstabilization import BoxAtlasContactStabilization"
   ]
  },
  {
   "cell_type": "code",
   "execution_count": 153,
   "metadata": {
    "collapsed": false
   },
   "outputs": [],
   "source": [
    "def posture_constraints(robot, state, **kwargs):\n",
    "    constraints = []\n",
    "    frame_ids = [\n",
    "        robot.findFrame(\"r_hand_mount\").get_frame_index(),\n",
    "        robot.findFrame(\"r_foot_sole\").get_frame_index(),\n",
    "        robot.findFrame(\"l_foot_sole\").get_frame_index(),\n",
    "        robot.findFrame(\"l_hand_mount\").get_frame_index()\n",
    "    ]\n",
    "    for (i, frame_id) in enumerate(frame_ids):\n",
    "        constraints.append(\n",
    "            ik.WorldPositionConstraint(robot, frame_id, np.array([0., 0, 0]),\n",
    "                                       np.array([state.qlimb[i][0], np.nan, state.qlimb[i][1]]),\n",
    "                                       np.array([state.qlimb[i][0], np.nan, state.qlimb[i][1]]),\n",
    "                                       **kwargs))\n",
    "    for frame_id in [robot.findFrame(\"r_foot_sole\").get_frame_index(), robot.findFrame(\"l_foot_sole\").get_frame_index()]:\n",
    "        constraints.append(\n",
    "            ik.WorldEulerConstraint(robot, frame_id, np.array([0., 0, np.pi/2]), np.array([0., 0, np.pi/2]), **kwargs))\n",
    "    constraints.append(\n",
    "        ik.WorldCoMConstraint(robot,\n",
    "                              np.array([state.qcom[0], 0, state.qcom[1]]),\n",
    "                              np.array([state.qcom[0], 0, state.qcom[1]]),\n",
    "                              **kwargs))\n",
    "    return constraints"
   ]
  },
  {
   "cell_type": "code",
   "execution_count": 154,
   "metadata": {
    "collapsed": true
   },
   "outputs": [],
   "source": [
    "pm = PackageMap()\n",
    "model = os.path.join(getDrakePath(), \"examples\", \"Atlas\", \"urdf\", \"atlas_minimal_contact.urdf\")\n",
    "pm.PopulateUpstreamToDrake(model)\n",
    "fp = scipy.io.loadmat(os.path.join(getDrakePath(), \"examples\", \"Atlas\", \"data\", \"atlas_fp.mat\"))\n",
    "robot = rbtree.RigidBodyTree(model, package_map=pm, floating_base_type=rbtree.FloatingBaseType.kRollPitchYaw)"
   ]
  },
  {
   "cell_type": "code",
   "execution_count": 155,
   "metadata": {
    "collapsed": true
   },
   "outputs": [],
   "source": [
    "treevis = vc.Visualizer()\n",
    "lcm = DrakeLcm()"
   ]
  },
  {
   "cell_type": "code",
   "execution_count": 170,
   "metadata": {
    "collapsed": false
   },
   "outputs": [],
   "source": [
    "xstar = fp[\"xstar\"][:]\n",
    "xstar[5] = np.pi / 2\n",
    "xstar[1] = -0.2\n",
    "qstar = xstar[:robot.number_of_positions()]\n",
    "vstar = xstar[robot.number_of_positions():]\n",
    "kincache = robot.doKinematics(qstar)\n",
    "foot_height = robot.transformPoints(kincache, np.zeros((3, 1)), robot.findFrame(\"r_foot_sole\").get_frame_index(), 0)[2, 0]\n",
    "xstar[2] -= foot_height\n",
    "\n",
    "pp = PiecewisePolynomial.ZeroOrderHold([0, 0.001], [xstar, xstar])\n",
    "drakevis = DrakeVisualizer(robot, lcm)\n",
    "drakevis.PublishLoadRobot()\n",
    "drakevis.PlaybackTrajectory(pp)"
   ]
  },
  {
   "cell_type": "code",
   "execution_count": 158,
   "metadata": {
    "collapsed": false
   },
   "outputs": [],
   "source": [
    "qstar = xstar[:robot.number_of_positions()]\n",
    "vstar = xstar[robot.number_of_positions():]\n",
    "kincache = robot.doKinematics(qstar)\n",
    "\n",
    "atlas = box.BoxAtlas()\n",
    "initial_state = box.BoxAtlasState(atlas)\n",
    "initial_state.qcom = robot.centerOfMass(kincache)[[0, 2]]\n",
    "initial_state.vcom = np.array([-2, 0])\n",
    "initial_state.qlimb = [\n",
    "robot.transformPoints(kincache, np.zeros((3, 1)), robot.findFrame(\"r_hand_mount\").get_frame_index(), 0)[[0, 2], 0],\n",
    "robot.transformPoints(kincache, np.zeros((3, 1)), robot.findFrame(\"r_foot_sole\").get_frame_index(), 0)[[0, 2], 0],\n",
    "robot.transformPoints(kincache, np.zeros((3, 1)), robot.findFrame(\"l_foot_sole\").get_frame_index(), 0)[[0, 2], 0],\n",
    "robot.transformPoints(kincache, np.zeros((3, 1)), robot.findFrame(\"l_hand_mount\").get_frame_index(), 0)[[0, 2], 0]\n",
    "]"
   ]
  },
  {
   "cell_type": "code",
   "execution_count": 164,
   "metadata": {
    "collapsed": false
   },
   "outputs": [
    {
     "name": "stdout",
     "output_type": "stream",
     "text": [
      "SolutionResult.kSolutionFound\n"
     ]
    }
   ],
   "source": [
    "dist_to_wall = 0.7\n",
    "surfaces = [\n",
    "    box.Surface(Polyhedron.fromBounds([dist_to_wall, 0], [dist_to_wall, 2]),\n",
    "            Polyhedron(np.array([[1, -1], [1, 1]]), np.array([0, 0]))),\n",
    "    box.Surface(Polyhedron.fromBounds([-2 * dist_to_wall, 0], [2 * dist_to_wall, 0]), \n",
    "            Polyhedron(np.array([[-2, -1], [2, -1]]), np.array([0, 0]))),\n",
    "    box.Surface(Polyhedron.fromBounds([-2 * dist_to_wall, 0], [2 * dist_to_wall, 0]), \n",
    "            Polyhedron(np.array([[-2, -1], [2, -1]]), np.array([0, 0]))),\n",
    "    box.Surface(Polyhedron.fromBounds([-dist_to_wall, 0], [-dist_to_wall, 2]),\n",
    "            Polyhedron(np.array([[-1, -1], [-1, 1]]), np.array([0, 0]))),\n",
    "]\n",
    "\n",
    "env = box.Environment(surfaces, Polyhedron.fromBounds([-1.2, 0], [1.2, 2]))\n",
    "opt = BoxAtlasContactStabilization(initial_state, env, num_time_steps=10,\n",
    "                                  )\n",
    "solnData = opt.solve()\n",
    "ts = solnData.states.components[0].breaks"
   ]
  },
  {
   "cell_type": "code",
   "execution_count": 165,
   "metadata": {
    "collapsed": false
   },
   "outputs": [],
   "source": [
    "box.planPlayback(treevis, solnData)"
   ]
  },
  {
   "cell_type": "code",
   "execution_count": 171,
   "metadata": {
    "collapsed": false
   },
   "outputs": [],
   "source": [
    "constraints = []\n",
    "for j in range(len(ts) - 1):\n",
    "    tspan = [ts[j], ts[j] + 0.5 * (ts[j + 1] - ts[j])]\n",
    "    constraints.extend(posture_constraints(robot, solnData.states(ts[j]), tspan=tspan))\n",
    "    \n",
    "q_seed = xstar[:robot.number_of_positions()]\n",
    "options = ik.IKoptions(robot)\n",
    "\n",
    "q_costs = np.ones(robot.number_of_positions())\n",
    "q_costs[:3] = 0\n",
    "q_costs[4:5] = 10\n",
    "q_costs[5] = 0\n",
    "options.setQ(np.diag(q_costs))\n",
    "results = ik.InverseKinPointwise(robot, ts[:-1], \n",
    "                                 np.repeat(q_seed, len(ts) - 1, axis=1), \n",
    "                                 np.repeat(q_seed, len(ts) - 1, axis=1), \n",
    "                                 constraints, options)\n",
    "x_sol = [np.pad(q, (0, robot.number_of_velocities()), \"constant\") for q in results.q_sol]\n",
    "pp = PiecewisePolynomial.FirstOrderHold([t * 5 for t in ts[:-1]], x_sol)"
   ]
  },
  {
   "cell_type": "code",
   "execution_count": 179,
   "metadata": {
    "collapsed": true
   },
   "outputs": [],
   "source": [
    "pp_0 = PiecewisePolynomial.ZeroOrderHold([0, 0.001], [x_sol[0], x_sol[0]])\n",
    "drakevis.PlaybackTrajectory(pp_0)"
   ]
  },
  {
   "cell_type": "code",
   "execution_count": 180,
   "metadata": {
    "collapsed": false
   },
   "outputs": [],
   "source": [
    "drakevis.PlaybackTrajectory(pp)"
   ]
  },
  {
   "cell_type": "code",
   "execution_count": null,
   "metadata": {
    "collapsed": true
   },
   "outputs": [],
   "source": []
  }
 ],
 "metadata": {
  "kernelspec": {
   "display_name": "Python 2",
   "language": "python",
   "name": "python2"
  },
  "language_info": {
   "codemirror_mode": {
    "name": "ipython",
    "version": 2
   },
   "file_extension": ".py",
   "mimetype": "text/x-python",
   "name": "python",
   "nbconvert_exporter": "python",
   "pygments_lexer": "ipython2",
   "version": "2.7.6"
  }
 },
 "nbformat": 4,
 "nbformat_minor": 1
}
