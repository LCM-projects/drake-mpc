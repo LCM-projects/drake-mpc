{
 "cells": [
  {
   "cell_type": "code",
   "execution_count": 1,
   "metadata": {
    "collapsed": false
   },
   "outputs": [],
   "source": [
    "from __future__ import division, print_function\n",
    "%load_ext autoreload\n",
    "%autoreload 2"
   ]
  },
  {
   "cell_type": "code",
   "execution_count": 2,
   "metadata": {
    "collapsed": false
   },
   "outputs": [],
   "source": [
    "import os.path\n",
    "\n",
    "import numpy as np\n",
    "import scipy.io\n",
    "\n",
    "from irispy import Polyhedron\n",
    "\n",
    "from director import viewerclient as vc\n",
    "\n",
    "from pydrake.parsers import PackageMap\n",
    "from pydrake import getDrakePath\n",
    "from pydrake import rbtree\n",
    "from pydrake.solvers import ik\n",
    "from pydrake.trajectories import PiecewisePolynomial\n",
    "from pydrake.lcm import DrakeLcm\n",
    "from pydrake.systems import DrakeVisualizer\n",
    "\n",
    "import mpc_tools.mpcqp as mqp\n",
    "from boxatlas import boxatlas as box\n",
    "from boxatlas.contactstabilization import BoxAtlasContactStabilization"
   ]
  },
  {
   "cell_type": "code",
   "execution_count": 73,
   "metadata": {
    "collapsed": false
   },
   "outputs": [],
   "source": [
    "def posture_constraints(robot, state, **kwargs):\n",
    "    constraints = []\n",
    "    frame_ids = [\n",
    "        robot.findFrame(\"r_hand_mount\").get_frame_index(),\n",
    "        robot.findFrame(\"r_foot_sole\").get_frame_index(),\n",
    "        robot.findFrame(\"l_foot_sole\").get_frame_index(),\n",
    "        robot.findFrame(\"l_hand_mount\").get_frame_index()\n",
    "    ]\n",
    "    for (i, frame_id) in enumerate(frame_ids):\n",
    "        if i in [1, 2]:\n",
    "            y = 0\n",
    "        else:\n",
    "            y = np.nan    \n",
    "        constraints.append(\n",
    "            ik.WorldPositionConstraint(robot, frame_id, np.array([0., 0, 0]),\n",
    "                                       np.array([state.qlimb[i][0], y, state.qlimb[i][1]]),\n",
    "                                       np.array([state.qlimb[i][0], y, state.qlimb[i][1]]),\n",
    "                                       **kwargs))\n",
    "    for frame_id in [robot.findFrame(\"r_foot_sole\").get_frame_index(), robot.findFrame(\"l_foot_sole\").get_frame_index()]:\n",
    "        constraints.append(\n",
    "            ik.WorldEulerConstraint(robot, frame_id, np.array([0., 0, np.pi/2]), np.array([0., 0, np.pi/2]), **kwargs))\n",
    "    constraints.append(\n",
    "        ik.WorldCoMConstraint(robot,\n",
    "                              np.array([state.qcom[0], 0, state.qcom[1]]),\n",
    "                              np.array([state.qcom[0], 0, state.qcom[1]]),\n",
    "                              **kwargs))\n",
    "    return constraints"
   ]
  },
  {
   "cell_type": "code",
   "execution_count": 74,
   "metadata": {
    "collapsed": true
   },
   "outputs": [],
   "source": [
    "pm = PackageMap()\n",
    "model = os.path.join(getDrakePath(), \"examples\", \"Atlas\", \"urdf\", \"atlas_minimal_contact.urdf\")\n",
    "pm.PopulateUpstreamToDrake(model)\n",
    "fp = scipy.io.loadmat(os.path.join(getDrakePath(), \"examples\", \"Atlas\", \"data\", \"atlas_fp.mat\"))\n",
    "robot = rbtree.RigidBodyTree(model, package_map=pm, floating_base_type=rbtree.FloatingBaseType.kRollPitchYaw)"
   ]
  },
  {
   "cell_type": "code",
   "execution_count": 270,
   "metadata": {
    "collapsed": true
   },
   "outputs": [],
   "source": [
    "treevis = vc.Visualizer()\n",
    "lcm = DrakeLcm()"
   ]
  },
  {
   "cell_type": "code",
   "execution_count": 271,
   "metadata": {
    "collapsed": false
   },
   "outputs": [],
   "source": [
    "xstar = fp[\"xstar\"][:]\n",
    "xstar[5] = np.pi / 2\n",
    "xstar[1] = -0.2\n",
    "qstar = xstar[:robot.number_of_positions()]\n",
    "vstar = xstar[robot.number_of_positions():]\n",
    "kincache = robot.doKinematics(qstar)\n",
    "foot_height = robot.transformPoints(kincache, np.zeros((3, 1)), robot.findFrame(\"r_foot_sole\").get_frame_index(), 0)[2, 0]\n",
    "xstar[2] -= foot_height\n",
    "\n",
    "pp = PiecewisePolynomial.ZeroOrderHold([0, 0.001], [xstar, xstar])\n",
    "drakevis = DrakeVisualizer(robot, lcm)\n",
    "drakevis.PublishLoadRobot()\n",
    "drakevis.PlaybackTrajectory(pp)"
   ]
  },
  {
   "cell_type": "code",
   "execution_count": 272,
   "metadata": {
    "collapsed": false
   },
   "outputs": [
    {
     "ename": "RuntimeError",
     "evalue": "RigidBodyTree::findFrame: ERROR: could not find frame named \"r_hand_mount\", model instance id = -1.",
     "output_type": "error",
     "traceback": [
      "\u001b[0;31m---------------------------------------------------------------------------\u001b[0m",
      "\u001b[0;31mRuntimeError\u001b[0m                              Traceback (most recent call last)",
      "\u001b[0;32m<ipython-input-272-64da7075f15b>\u001b[0m in \u001b[0;36m<module>\u001b[0;34m()\u001b[0m\n\u001b[1;32m      8\u001b[0m \u001b[0minitial_state\u001b[0m\u001b[0;34m.\u001b[0m\u001b[0mvcom\u001b[0m \u001b[0;34m=\u001b[0m \u001b[0mnp\u001b[0m\u001b[0;34m.\u001b[0m\u001b[0marray\u001b[0m\u001b[0;34m(\u001b[0m\u001b[0;34m[\u001b[0m\u001b[0;34m-\u001b[0m\u001b[0;36m2.5\u001b[0m\u001b[0;34m,\u001b[0m \u001b[0;34m-\u001b[0m\u001b[0;36m0.5\u001b[0m\u001b[0;34m]\u001b[0m\u001b[0;34m)\u001b[0m\u001b[0;34m\u001b[0m\u001b[0m\n\u001b[1;32m      9\u001b[0m initial_state.qlimb = [\n\u001b[0;32m---> 10\u001b[0;31m \u001b[0mrobot\u001b[0m\u001b[0;34m.\u001b[0m\u001b[0mtransformPoints\u001b[0m\u001b[0;34m(\u001b[0m\u001b[0mkincache\u001b[0m\u001b[0;34m,\u001b[0m \u001b[0mnp\u001b[0m\u001b[0;34m.\u001b[0m\u001b[0mzeros\u001b[0m\u001b[0;34m(\u001b[0m\u001b[0;34m(\u001b[0m\u001b[0;36m3\u001b[0m\u001b[0;34m,\u001b[0m \u001b[0;36m1\u001b[0m\u001b[0;34m)\u001b[0m\u001b[0;34m)\u001b[0m\u001b[0;34m,\u001b[0m \u001b[0mrobot\u001b[0m\u001b[0;34m.\u001b[0m\u001b[0mfindFrame\u001b[0m\u001b[0;34m(\u001b[0m\u001b[0;34m\"r_hand_mount\"\u001b[0m\u001b[0;34m)\u001b[0m\u001b[0;34m.\u001b[0m\u001b[0mget_frame_index\u001b[0m\u001b[0;34m(\u001b[0m\u001b[0;34m)\u001b[0m\u001b[0;34m,\u001b[0m \u001b[0;36m0\u001b[0m\u001b[0;34m)\u001b[0m\u001b[0;34m[\u001b[0m\u001b[0;34m[\u001b[0m\u001b[0;36m0\u001b[0m\u001b[0;34m,\u001b[0m \u001b[0;36m2\u001b[0m\u001b[0;34m]\u001b[0m\u001b[0;34m,\u001b[0m \u001b[0;36m0\u001b[0m\u001b[0;34m]\u001b[0m\u001b[0;34m,\u001b[0m\u001b[0;34m\u001b[0m\u001b[0m\n\u001b[0m\u001b[1;32m     11\u001b[0m \u001b[0mrobot\u001b[0m\u001b[0;34m.\u001b[0m\u001b[0mtransformPoints\u001b[0m\u001b[0;34m(\u001b[0m\u001b[0mkincache\u001b[0m\u001b[0;34m,\u001b[0m \u001b[0mnp\u001b[0m\u001b[0;34m.\u001b[0m\u001b[0mzeros\u001b[0m\u001b[0;34m(\u001b[0m\u001b[0;34m(\u001b[0m\u001b[0;36m3\u001b[0m\u001b[0;34m,\u001b[0m \u001b[0;36m1\u001b[0m\u001b[0;34m)\u001b[0m\u001b[0;34m)\u001b[0m\u001b[0;34m,\u001b[0m \u001b[0mrobot\u001b[0m\u001b[0;34m.\u001b[0m\u001b[0mfindFrame\u001b[0m\u001b[0;34m(\u001b[0m\u001b[0;34m\"r_foot_sole\"\u001b[0m\u001b[0;34m)\u001b[0m\u001b[0;34m.\u001b[0m\u001b[0mget_frame_index\u001b[0m\u001b[0;34m(\u001b[0m\u001b[0;34m)\u001b[0m\u001b[0;34m,\u001b[0m \u001b[0;36m0\u001b[0m\u001b[0;34m)\u001b[0m\u001b[0;34m[\u001b[0m\u001b[0;34m[\u001b[0m\u001b[0;36m0\u001b[0m\u001b[0;34m,\u001b[0m \u001b[0;36m2\u001b[0m\u001b[0;34m]\u001b[0m\u001b[0;34m,\u001b[0m \u001b[0;36m0\u001b[0m\u001b[0;34m]\u001b[0m\u001b[0;34m,\u001b[0m\u001b[0;34m\u001b[0m\u001b[0m\n\u001b[1;32m     12\u001b[0m \u001b[0mrobot\u001b[0m\u001b[0;34m.\u001b[0m\u001b[0mtransformPoints\u001b[0m\u001b[0;34m(\u001b[0m\u001b[0mkincache\u001b[0m\u001b[0;34m,\u001b[0m \u001b[0mnp\u001b[0m\u001b[0;34m.\u001b[0m\u001b[0mzeros\u001b[0m\u001b[0;34m(\u001b[0m\u001b[0;34m(\u001b[0m\u001b[0;36m3\u001b[0m\u001b[0;34m,\u001b[0m \u001b[0;36m1\u001b[0m\u001b[0;34m)\u001b[0m\u001b[0;34m)\u001b[0m\u001b[0;34m,\u001b[0m \u001b[0mrobot\u001b[0m\u001b[0;34m.\u001b[0m\u001b[0mfindFrame\u001b[0m\u001b[0;34m(\u001b[0m\u001b[0;34m\"l_foot_sole\"\u001b[0m\u001b[0;34m)\u001b[0m\u001b[0;34m.\u001b[0m\u001b[0mget_frame_index\u001b[0m\u001b[0;34m(\u001b[0m\u001b[0;34m)\u001b[0m\u001b[0;34m,\u001b[0m \u001b[0;36m0\u001b[0m\u001b[0;34m)\u001b[0m\u001b[0;34m[\u001b[0m\u001b[0;34m[\u001b[0m\u001b[0;36m0\u001b[0m\u001b[0;34m,\u001b[0m \u001b[0;36m2\u001b[0m\u001b[0;34m]\u001b[0m\u001b[0;34m,\u001b[0m \u001b[0;36m0\u001b[0m\u001b[0;34m]\u001b[0m\u001b[0;34m,\u001b[0m\u001b[0;34m\u001b[0m\u001b[0m\n",
      "\u001b[0;31mRuntimeError\u001b[0m: RigidBodyTree::findFrame: ERROR: could not find frame named \"r_hand_mount\", model instance id = -1."
     ]
    }
   ],
   "source": [
    "qstar = xstar[:robot.number_of_positions()]\n",
    "vstar = xstar[robot.number_of_positions():]\n",
    "kincache = robot.doKinematics(qstar)\n",
    "\n",
    "atlas = box.BoxAtlas()\n",
    "initial_state = box.BoxAtlasState(atlas)\n",
    "initial_state.qcom = robot.centerOfMass(kincache)[[0, 2]]\n",
    "initial_state.vcom = np.array([-2.5, -0.5])\n",
    "initial_state.qlimb = [\n",
    "robot.transformPoints(kincache, np.zeros((3, 1)), robot.findFrame(\"r_hand_mount\").get_frame_index(), 0)[[0, 2], 0],\n",
    "robot.transformPoints(kincache, np.zeros((3, 1)), robot.findFrame(\"r_foot_sole\").get_frame_index(), 0)[[0, 2], 0],\n",
    "robot.transformPoints(kincache, np.zeros((3, 1)), robot.findFrame(\"l_foot_sole\").get_frame_index(), 0)[[0, 2], 0],\n",
    "robot.transformPoints(kincache, np.zeros((3, 1)), robot.findFrame(\"l_hand_mount\").get_frame_index(), 0)[[0, 2], 0]\n",
    "]\n",
    "\n",
    "desired_state = initial_state.copy()\n",
    "desired_state.vcom = np.zeros(2)\n",
    "desired_state.qcom[1] -= 0.1"
   ]
  },
  {
   "cell_type": "code",
   "execution_count": 259,
   "metadata": {
    "collapsed": false
   },
   "outputs": [
    {
     "name": "stdout",
     "output_type": "stream",
     "text": [
      "SolutionResult.kSolutionFound\n"
     ]
    }
   ],
   "source": [
    "dist_to_wall = 0.7\n",
    "surfaces = [\n",
    "    box.Surface(Polyhedron.fromBounds([dist_to_wall, 0], [dist_to_wall, 2]),\n",
    "            Polyhedron(np.array([[1, -1], [1, 1]]), np.array([0, 0]))),\n",
    "    box.Surface(Polyhedron.fromBounds([-2 * dist_to_wall, 0], [2 * dist_to_wall, 0]), \n",
    "            Polyhedron(np.array([[-2, -1], [2, -1]]), np.array([0, 0]))),\n",
    "    box.Surface(Polyhedron.fromBounds([-2 * dist_to_wall, 0], [2 * dist_to_wall, 0]), \n",
    "            Polyhedron(np.array([[-2, -1], [2, -1]]), np.array([0, 0]))),\n",
    "    box.Surface(Polyhedron.fromBounds([-dist_to_wall, 0], [-dist_to_wall, 2]),\n",
    "            Polyhedron(np.array([[-1, -1], [-1, 1]]), np.array([0, 0]))),\n",
    "]\n",
    "\n",
    "env = box.Environment(surfaces, Polyhedron.fromBounds([-dist_to_wall, 0], [dist_to_wall, 2]))\n",
    "opt = BoxAtlasContactStabilization(initial_state, env, desired_state,\n",
    "                                   num_time_steps=10,\n",
    "                                  )\n",
    "solnData = opt.solve()\n",
    "ts = solnData.states.components[0].breaks"
   ]
  },
  {
   "cell_type": "code",
   "execution_count": 267,
   "metadata": {
    "collapsed": false
   },
   "outputs": [],
   "source": [
    "box.planPlayback(treevis, solnData)"
   ]
  },
  {
   "cell_type": "code",
   "execution_count": 261,
   "metadata": {
    "collapsed": false
   },
   "outputs": [],
   "source": [
    "constraints = []\n",
    "for j in range(len(ts) - 1):\n",
    "    tspan = [ts[j], ts[j] + 0.5 * (ts[j + 1] - ts[j])]\n",
    "    constraints.extend(posture_constraints(robot, solnData.states(ts[j]), tspan=tspan))\n",
    "tspan = [ts[-1], ts[-1] + 0.5 * (ts[-1] - ts[-2])]\n",
    "constraints.extend(posture_constraints(robot, solnData.states(ts[-1] - 0.0001), tspan=tspan))\n",
    "    \n",
    "q_seed = xstar[:robot.number_of_positions()]\n",
    "options = ik.IKoptions(robot)\n",
    "\n",
    "q_costs = np.ones(robot.number_of_positions())\n",
    "q_costs[:3] = 0\n",
    "q_costs[4:5] = 10\n",
    "q_costs[5] = 0\n",
    "options.setQ(np.diag(q_costs))\n",
    "results = ik.InverseKinPointwise(robot, ts, \n",
    "                                 np.repeat(q_seed, len(ts), axis=1), \n",
    "                                 np.repeat(q_seed, len(ts), axis=1), \n",
    "                                 constraints, options)\n",
    "x_sol = [np.pad(q, (0, robot.number_of_velocities()), \"constant\") for q in results.q_sol]\n",
    "pp = PiecewisePolynomial.FirstOrderHold([t * 5 for t in ts[:]], x_sol)"
   ]
  },
  {
   "cell_type": "code",
   "execution_count": 265,
   "metadata": {
    "collapsed": true
   },
   "outputs": [],
   "source": [
    "pp_0 = PiecewisePolynomial.ZeroOrderHold([0, 0.001], [x_sol[0], x_sol[0]])\n",
    "drakevis.PlaybackTrajectory(pp_0)"
   ]
  },
  {
   "cell_type": "code",
   "execution_count": 266,
   "metadata": {
    "collapsed": false
   },
   "outputs": [],
   "source": [
    "drakevis.PlaybackTrajectory(pp)"
   ]
  },
  {
   "cell_type": "code",
   "execution_count": null,
   "metadata": {
    "collapsed": true
   },
   "outputs": [],
   "source": []
  }
 ],
 "metadata": {
  "kernelspec": {
   "display_name": "Python 2",
   "language": "python",
   "name": "python2"
  },
  "language_info": {
   "codemirror_mode": {
    "name": "ipython",
    "version": 2
   },
   "file_extension": ".py",
   "mimetype": "text/x-python",
   "name": "python",
   "nbconvert_exporter": "python",
   "pygments_lexer": "ipython2",
   "version": "2.7.11"
  }
 },
 "nbformat": 4,
 "nbformat_minor": 1
}
