{
 "cells": [
  {
   "cell_type": "code",
   "execution_count": 24,
   "metadata": {
    "collapsed": false
   },
   "outputs": [],
   "source": [
    "from pydrake.parsers import PackageMap\n",
    "from pydrake import getDrakePath\n",
    "import os.path\n",
    "import scipy.io\n",
    "import numpy as np\n",
    "import pydrake.rbtree as rbt\n",
    "import pydrake.solvers.ik as ik\n",
    "from pydrake.trajectories import PiecewisePolynomial\n",
    "from pydrake.lcm import DrakeLcm\n",
    "from pydrake.systems import DrakeVisualizer"
   ]
  },
  {
   "cell_type": "code",
   "execution_count": 25,
   "metadata": {
    "collapsed": true
   },
   "outputs": [],
   "source": [
    "fp = scipy.io.loadmat(os.path.join(getDrakePath(), \"examples\", \"Atlas\", \"data\", \"atlas_fp.mat\"))"
   ]
  },
  {
   "cell_type": "code",
   "execution_count": 28,
   "metadata": {
    "collapsed": false
   },
   "outputs": [],
   "source": [
    "xstar = fp[\"xstar\"]"
   ]
  },
  {
   "cell_type": "code",
   "execution_count": 2,
   "metadata": {
    "collapsed": false
   },
   "outputs": [],
   "source": [
    "pm = PackageMap()\n",
    "model = os.path.join(getDrakePath(), \"examples\", \"Atlas\", \"urdf\", \"atlas_minimal_contact.urdf\")\n",
    "pm.PopulateUpstreamToDrake(model)\n",
    "robot = rbt.RigidBodyTree(model, package_map=pm, floating_base_type=rbt.FloatingBaseType.kRollPitchYaw)"
   ]
  },
  {
   "cell_type": "code",
   "execution_count": 29,
   "metadata": {
    "collapsed": false
   },
   "outputs": [],
   "source": [
    "constraints = [\n",
    "    ik.WorldPositionConstraint(robot,\n",
    "                               robot.findFrame(\"r_foot_sole\").get_frame_index(),\n",
    "                               np.array([0., 0, 0]),\n",
    "                               np.array([0, -0.5, 0]),\n",
    "                               np.array([0, -0.5, 0])\n",
    "                              ),\n",
    "    ik.WorldPositionConstraint(robot,\n",
    "                               robot.findFrame(\"l_foot_sole\").get_frame_index(),\n",
    "                               np.array([0., 0, 0]),\n",
    "                               np.array([0., 0, 0]),\n",
    "                               np.array([0., 0, 0])\n",
    "                              ),\n",
    "    ik.WorldCoMConstraint(robot,\n",
    "                          np.array([0, -0.25, 1]),\n",
    "                          np.array([0, -0.25, 1])\n",
    "                         )\n",
    "]\n",
    "q_seed = xstar[:robot.number_of_positions()]\n",
    "options = ik.IKoptions(robot)\n",
    "results = ik.InverseKin(robot, q_seed, q_seed, constraints, options)\n",
    "\n",
    "x = np.pad(results.q_sol[0], (0, robot.number_of_velocities()), \"constant\")\n",
    "\n",
    "pp = PiecewisePolynomial.ZeroOrderHold([0., 0.001], [x, x])\n",
    "\n",
    "lcm = DrakeLcm()\n",
    "\n",
    "vis = DrakeVisualizer(robot, lcm)\n",
    "\n",
    "vis.PlaybackTrajectory(pp)"
   ]
  },
  {
   "cell_type": "code",
   "execution_count": null,
   "metadata": {
    "collapsed": true
   },
   "outputs": [],
   "source": []
  }
 ],
 "metadata": {
  "kernelspec": {
   "display_name": "Python 2",
   "language": "python",
   "name": "python2"
  },
  "language_info": {
   "codemirror_mode": {
    "name": "ipython",
    "version": 2
   },
   "file_extension": ".py",
   "mimetype": "text/x-python",
   "name": "python",
   "nbconvert_exporter": "python",
   "pygments_lexer": "ipython2",
   "version": "2.7.6"
  }
 },
 "nbformat": 4,
 "nbformat_minor": 1
}
