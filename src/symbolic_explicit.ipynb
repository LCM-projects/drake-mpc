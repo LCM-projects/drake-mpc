{
 "cells": [
  {
   "cell_type": "code",
   "execution_count": 1,
   "metadata": {
    "collapsed": false
   },
   "outputs": [
    {
     "name": "stdout",
     "output_type": "stream",
     "text": [
      "Populating the interactive namespace from numpy and matplotlib\n"
     ]
    }
   ],
   "source": [
    "%load_ext autoreload\n",
    "%autoreload 2\n",
    "%pylab inline"
   ]
  },
  {
   "cell_type": "code",
   "execution_count": 99,
   "metadata": {
    "collapsed": false
   },
   "outputs": [],
   "source": [
    "import pydrake.solvers.mathematicalprogram as mp\n",
    "from boxatlas.contactstabilization import MixedIntegerTrajectoryOptimization\n",
    "import numpy as np\n",
    "import mpc_tools.mpcqp as mqp\n",
    "import mpc_tools as mpc"
   ]
  },
  {
   "cell_type": "code",
   "execution_count": 100,
   "metadata": {
    "collapsed": false
   },
   "outputs": [],
   "source": [
    "N = 2\n",
    "dt = 0.05\n",
    "ts = np.linspace(0, N * dt, N + 1)\n",
    "mass = 1\n",
    "dim = 2\n",
    "q_max = np.ones(dim)\n",
    "q_min = -q_max\n",
    "v_max = 10 * np.ones(dim)\n",
    "v_min = -v_max\n",
    "a_max = 10 * np.ones(dim)\n",
    "a_min = -a_max\n",
    "f_max = 10 * np.ones(dim)\n",
    "f_min = -f_max\n",
    "\n",
    "prog = MixedIntegerTrajectoryOptimization()\n",
    "qcom = prog.new_piecewise_polynomial_variable(ts, dimension=dim, degree=2)\n",
    "prog.add_continuity_constraints(qcom)\n",
    "vcom = qcom.derivative()\n",
    "prog.add_continuity_constraints(vcom)\n",
    "acom = vcom.derivative()\n",
    "\n",
    "force = prog.new_piecewise_polynomial_variable(ts, dimension=dim, degree=0)\n",
    "\n",
    "for j in range(len(ts) - 1):\n",
    "    for i in range(dim):\n",
    "#         qcom.functions[j].coeffs[-1][i] = 1.0 / mass * force(ts[j])[i]\n",
    "        prog.AddLinearConstraint(mass * acom(ts[j])[i] == force(ts[j])[i])\n",
    "    \n",
    "for j in range(len(ts) - 1):\n",
    "    q = qcom.from_below(ts[j + 1])\n",
    "    v = vcom.from_below(ts[j + 1])\n",
    "#     q = qcom(ts[j])\n",
    "#     v = vcom(ts[j])\n",
    "    for i in range(dim):\n",
    "        prog.AddLinearConstraint(q[i] <= q_max[i])\n",
    "        prog.AddLinearConstraint(q[i] >= q_min[i])\n",
    "        prog.AddLinearConstraint(v[i] <= v_max[i])\n",
    "        prog.AddLinearConstraint(v[i] >= v_min[i])\n",
    "\n",
    "        prog.AddLinearConstraint(acom(ts[j])[i] <= a_max[i])\n",
    "        prog.AddLinearConstraint(acom(ts[j])[i] >= a_min[i])\n",
    "        prog.AddLinearConstraint(force(ts[j])[i] <= f_max[i])\n",
    "        prog.AddLinearConstraint(force(ts[j])[i] >= f_min[i])\n",
    "    \n",
    "    prog.AddQuadraticCost(10 * np.sum(np.power(q, 2)))\n",
    "    prog.AddQuadraticCost(0.01 * np.sum(np.power(v, 2)))\n",
    "    prog.AddQuadraticCost(0.001 * np.sum(np.power(acom(ts[j]), 2)))\n",
    "\n",
    "    \n",
    "x = []\n",
    "for j in range(len(ts) - 1):\n",
    "    x.append(np.hstack([np.hstack(qcom.functions[j].coeffs[:-1])]))\n",
    "x = np.vstack(x).T\n",
    "\n",
    "u = []\n",
    "for j in range(len(ts) - 1):\n",
    "    u.append(np.hstack([np.hstack(qcom.functions[j].coeffs[-1:])] +\n",
    "                       [np.hstack(force.functions[j].coeffs)]))\n",
    "u = np.vstack(u).T"
   ]
  },
  {
   "cell_type": "code",
   "execution_count": 101,
   "metadata": {
    "collapsed": false
   },
   "outputs": [],
   "source": [
    "qp = mqp.CanonicalMPCQP.from_mathematicalprogram(prog, u, x)"
   ]
  },
  {
   "cell_type": "code",
   "execution_count": 102,
   "metadata": {
    "collapsed": true
   },
   "outputs": [],
   "source": [
    "controller = mpc.MPCController(qp, 2)"
   ]
  },
  {
   "cell_type": "code",
   "execution_count": 103,
   "metadata": {
    "collapsed": false
   },
   "outputs": [
    {
     "name": "stdout",
     "output_type": "stream",
     "text": [
      "Computing critical region for the active set []\n"
     ]
    },
    {
     "ename": "AttributeError",
     "evalue": "Polytope instance has no attribute 'minimal_facets'",
     "output_type": "error",
     "traceback": [
      "\u001b[0;31m---------------------------------------------------------------------------\u001b[0m",
      "\u001b[0;31mAttributeError\u001b[0m                            Traceback (most recent call last)",
      "\u001b[0;32m<ipython-input-103-3b8e9f58ed5d>\u001b[0m in \u001b[0;36m<module>\u001b[0;34m()\u001b[0m\n\u001b[0;32m----> 1\u001b[0;31m \u001b[0mcontroller\u001b[0m\u001b[0;34m.\u001b[0m\u001b[0mcompute_explicit_solution\u001b[0m\u001b[0;34m(\u001b[0m\u001b[0;34m)\u001b[0m\u001b[0;34m\u001b[0m\u001b[0m\n\u001b[0m",
      "\u001b[0;32m/Users/rdeits/locomotion/explorations/drake-mpc/src/mpc_tools/mpc_tools.pyc\u001b[0m in \u001b[0;36mcompute_explicit_solution\u001b[0;34m(self)\u001b[0m\n\u001b[1;32m    449\u001b[0m         \u001b[0;31m# initialize the search with the origin (to which the empty AS is associated)\u001b[0m\u001b[0;34m\u001b[0m\u001b[0;34m\u001b[0m\u001b[0m\n\u001b[1;32m    450\u001b[0m         \u001b[0mactive_set\u001b[0m \u001b[0;34m=\u001b[0m \u001b[0;34m[\u001b[0m\u001b[0;34m]\u001b[0m\u001b[0;34m\u001b[0m\u001b[0m\n\u001b[0;32m--> 451\u001b[0;31m         \u001b[0mcr0\u001b[0m \u001b[0;34m=\u001b[0m \u001b[0mCriticalRegion\u001b[0m\u001b[0;34m(\u001b[0m\u001b[0mactive_set\u001b[0m\u001b[0;34m,\u001b[0m \u001b[0mself\u001b[0m\u001b[0;34m.\u001b[0m\u001b[0mqp\u001b[0m\u001b[0;34m.\u001b[0m\u001b[0mH\u001b[0m\u001b[0;34m,\u001b[0m \u001b[0mself\u001b[0m\u001b[0;34m.\u001b[0m\u001b[0mqp\u001b[0m\u001b[0;34m.\u001b[0m\u001b[0mG\u001b[0m\u001b[0;34m,\u001b[0m \u001b[0mself\u001b[0m\u001b[0;34m.\u001b[0m\u001b[0mqp\u001b[0m\u001b[0;34m.\u001b[0m\u001b[0mW\u001b[0m\u001b[0;34m,\u001b[0m \u001b[0mself\u001b[0m\u001b[0;34m.\u001b[0m\u001b[0mS\u001b[0m\u001b[0;34m)\u001b[0m\u001b[0;34m\u001b[0m\u001b[0m\n\u001b[0m\u001b[1;32m    452\u001b[0m         \u001b[0mcr_to_be_explored\u001b[0m \u001b[0;34m=\u001b[0m \u001b[0;34m[\u001b[0m\u001b[0mcr0\u001b[0m\u001b[0;34m]\u001b[0m\u001b[0;34m\u001b[0m\u001b[0m\n\u001b[1;32m    453\u001b[0m         \u001b[0mexplored_cr\u001b[0m \u001b[0;34m=\u001b[0m \u001b[0;34m[\u001b[0m\u001b[0;34m]\u001b[0m\u001b[0;34m\u001b[0m\u001b[0m\n",
      "\u001b[0;32m/Users/rdeits/locomotion/explorations/drake-mpc/src/mpc_tools/mpc_tools.pyc\u001b[0m in \u001b[0;36m__init__\u001b[0;34m(self, active_set, H, G, W, S)\u001b[0m\n\u001b[1;32m    687\u001b[0m \u001b[0;34m\u001b[0m\u001b[0m\n\u001b[1;32m    688\u001b[0m         \u001b[0;31m# find candidate active sets for the neighboiring regions\u001b[0m\u001b[0;34m\u001b[0m\u001b[0;34m\u001b[0m\u001b[0m\n\u001b[0;32m--> 689\u001b[0;31m         \u001b[0mminimal_coincident_facets\u001b[0m \u001b[0;34m=\u001b[0m \u001b[0;34m[\u001b[0m\u001b[0mself\u001b[0m\u001b[0;34m.\u001b[0m\u001b[0mpolytope\u001b[0m\u001b[0;34m.\u001b[0m\u001b[0mcoincident_facets\u001b[0m\u001b[0;34m[\u001b[0m\u001b[0mi\u001b[0m\u001b[0;34m]\u001b[0m \u001b[0;32mfor\u001b[0m \u001b[0mi\u001b[0m \u001b[0;32min\u001b[0m \u001b[0mself\u001b[0m\u001b[0;34m.\u001b[0m\u001b[0mpolytope\u001b[0m\u001b[0;34m.\u001b[0m\u001b[0mminimal_facets\u001b[0m\u001b[0;34m]\u001b[0m\u001b[0;34m\u001b[0m\u001b[0m\n\u001b[0m\u001b[1;32m    690\u001b[0m         \u001b[0mself\u001b[0m\u001b[0;34m.\u001b[0m\u001b[0mcandidate_active_sets\u001b[0m \u001b[0;34m=\u001b[0m \u001b[0mself\u001b[0m\u001b[0;34m.\u001b[0m\u001b[0mcandidate_active_sets\u001b[0m\u001b[0;34m(\u001b[0m\u001b[0mactive_set\u001b[0m\u001b[0;34m,\u001b[0m \u001b[0mminimal_coincident_facets\u001b[0m\u001b[0;34m)\u001b[0m\u001b[0;34m\u001b[0m\u001b[0m\n\u001b[1;32m    691\u001b[0m \u001b[0;34m\u001b[0m\u001b[0m\n",
      "\u001b[0;31mAttributeError\u001b[0m: Polytope instance has no attribute 'minimal_facets'"
     ]
    }
   ],
   "source": [
    "controller.compute_explicit_solution()"
   ]
  },
  {
   "cell_type": "code",
   "execution_count": null,
   "metadata": {
    "collapsed": false
   },
   "outputs": [],
   "source": [
    "   \n",
    "q0 = [0.5, 0.5]\n",
    "v0 = [0, -1]\n",
    "for i in range(dim):\n",
    "    prog.AddLinearConstraint(qcom(0)[i] == q0[i])\n",
    "    prog.AddLinearConstraint(vcom(0)[i] == v0[i])\n",
    "\n",
    "prog.Solve()"
   ]
  },
  {
   "cell_type": "code",
   "execution_count": 39,
   "metadata": {
    "collapsed": true
   },
   "outputs": [],
   "source": [
    "qcom = prog.get_piecewise_solution(qcom)\n",
    "vcom = qcom.derivative()\n",
    "acom = vcom.derivative()\n",
    "force = prog.get_piecewise_solution(force)"
   ]
  },
  {
   "cell_type": "code",
   "execution_count": 40,
   "metadata": {
    "collapsed": false
   },
   "outputs": [
    {
     "data": {
      "text/plain": [
       "[<matplotlib.lines.Line2D at 0x112530d50>]"
      ]
     },
     "execution_count": 40,
     "metadata": {},
     "output_type": "execute_result"
    },
    {
     "data": {
      "image/png": "[encoded data removed]",
      "text/plain": [
       "<matplotlib.figure.Figure at 0x111b13450>"
      ]
     },
     "metadata": {},
     "output_type": "display_data"
    }
   ],
   "source": [
    "tsample = np.linspace(ts[0], ts[-1] - 0.001, 100)\n",
    "plot([qcom(t)[0] for t in tsample], [qcom(t)[1] for t in tsample], \"b.-\")"
   ]
  },
  {
   "cell_type": "code",
   "execution_count": 41,
   "metadata": {
    "collapsed": false
   },
   "outputs": [
    {
     "data": {
      "text/plain": [
       "[<matplotlib.lines.Line2D at 0x1126ab0d0>]"
      ]
     },
     "execution_count": 41,
     "metadata": {},
     "output_type": "execute_result"
    },
    {
     "data": {
      "image/png": "[encoded data removed]",
      "text/plain": [
       "<matplotlib.figure.Figure at 0x1123eb850>"
      ]
     },
     "metadata": {},
     "output_type": "display_data"
    }
   ],
   "source": [
    "plot([vcom(t)[0] for t in tsample], [vcom(t)[1] for t in tsample], \"b.-\")"
   ]
  },
  {
   "cell_type": "code",
   "execution_count": 42,
   "metadata": {
    "collapsed": false
   },
   "outputs": [
    {
     "data": {
      "text/plain": [
       "[<matplotlib.lines.Line2D at 0x112802dd0>]"
      ]
     },
     "execution_count": 42,
     "metadata": {},
     "output_type": "execute_result"
    },
    {
     "data": {
      "image/png": "[encoded data removed]",
      "text/plain": [
       "<matplotlib.figure.Figure at 0x1123cf490>"
      ]
     },
     "metadata": {},
     "output_type": "display_data"
    }
   ],
   "source": [
    "plot([acom(t)[0] for t in tsample], [acom(t)[1] for t in tsample], \"b.-\")"
   ]
  },
  {
   "cell_type": "code",
   "execution_count": null,
   "metadata": {
    "collapsed": true
   },
   "outputs": [],
   "source": []
  },
  {
   "cell_type": "code",
   "execution_count": null,
   "metadata": {
    "collapsed": true
   },
   "outputs": [],
   "source": []
  }
 ],
 "metadata": {
  "kernelspec": {
   "display_name": "Python 2",
   "language": "python",
   "name": "python2"
  },
  "language_info": {
   "codemirror_mode": {
    "name": "ipython",
    "version": 2
   },
   "file_extension": ".py",
   "mimetype": "text/x-python",
   "name": "python",
   "nbconvert_exporter": "python",
   "pygments_lexer": "ipython2",
   "version": "2.7.11"
  }
 },
 "nbformat": 4,
 "nbformat_minor": 1
}
