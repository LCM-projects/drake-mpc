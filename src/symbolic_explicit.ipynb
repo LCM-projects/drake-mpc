{
 "cells": [
  {
   "cell_type": "code",
   "execution_count": 1,
   "metadata": {
    "collapsed": false
   },
   "outputs": [
    {
     "name": "stdout",
     "output_type": "stream",
     "text": [
      "Populating the interactive namespace from numpy and matplotlib\n"
     ]
    }
   ],
   "source": [
    "%load_ext autoreload\n",
    "%autoreload 2\n",
    "%pylab inline"
   ]
  },
  {
   "cell_type": "code",
   "execution_count": 2,
   "metadata": {
    "collapsed": false
   },
   "outputs": [],
   "source": [
    "import pydrake.solvers.mathematicalprogram as mp\n",
    "from boxatlas.contactstabilization import MixedIntegerTrajectoryOptimization\n",
    "import numpy as np\n",
    "import mpc_tools.mpcqp as mqp"
   ]
  },
  {
   "cell_type": "code",
   "execution_count": 4,
   "metadata": {
    "collapsed": false
   },
   "outputs": [],
   "source": [
    "N = 1\n",
    "dt = 0.05\n",
    "ts = np.linspace(0, N * dt, N + 1)\n",
    "mass = 1\n",
    "dim = 2\n",
    "q_max = np.ones(dim)\n",
    "q_min = -q_max\n",
    "v_max = 10 * np.ones(dim)\n",
    "v_min = -v_max\n",
    "a_max = 10 * np.ones(dim)\n",
    "a_min = -a_max\n",
    "f_max = 10 * np.ones(dim)\n",
    "f_min = -f_max\n",
    "\n",
    "prog = MixedIntegerTrajectoryOptimization()\n",
    "qcom = prog.new_piecewise_polynomial_variable(ts, dimension=dim, degree=2)\n",
    "prog.add_continuity_constraints(qcom)\n",
    "vcom = qcom.derivative()\n",
    "prog.add_continuity_constraints(vcom)\n",
    "acom = vcom.derivative()\n",
    "\n",
    "force = prog.new_piecewise_polynomial_variable(ts, dimension=dim, degree=0)\n",
    "\n",
    "for j in range(len(ts) - 1):\n",
    "    for i in range(dim):\n",
    "#         qcom.functions[j].coeffs[-1][i] = 1.0 / mass * force(ts[j])[i]\n",
    "        prog.AddLinearConstraint(mass * acom(ts[j])[i] == force(ts[j])[i])\n",
    "    \n",
    "for j in range(len(ts) - 1):\n",
    "#     q = qcom.from_below(ts[j + 1])\n",
    "#     v = vcom.from_below(ts[j + 1])\n",
    "    q = qcom(ts[j])\n",
    "    v = vcom(ts[j])\n",
    "    for i in range(dim):\n",
    "        prog.AddLinearConstraint(q[i] <= q_max[i])\n",
    "        prog.AddLinearConstraint(q[i] >= q_min[i])\n",
    "        prog.AddLinearConstraint(v[i] <= v_max[i])\n",
    "        prog.AddLinearConstraint(v[i] >= v_min[i])\n",
    "\n",
    "        prog.AddLinearConstraint(acom(ts[j])[i] <= a_max[i])\n",
    "        prog.AddLinearConstraint(acom(ts[j])[i] >= a_min[i])\n",
    "        prog.AddLinearConstraint(force(ts[j])[i] <= f_max[i])\n",
    "        prog.AddLinearConstraint(force(ts[j])[i] >= f_min[i])\n",
    "    \n",
    "    prog.AddQuadraticCost(10 * np.sum(np.power(q, 2)))\n",
    "    prog.AddQuadraticCost(0.01 * np.sum(np.power(v, 2)))\n",
    "    prog.AddQuadraticCost(0.001 * np.sum(np.power(acom(ts[j]), 2)))\n",
    "\n",
    "    \n",
    "x = []\n",
    "for j in range(len(ts) - 1):\n",
    "    x.append(np.hstack([np.hstack(qcom.functions[j].coeffs[:-1])]))\n",
    "x = np.vstack(x).T\n",
    "\n",
    "u = []\n",
    "for j in range(len(ts) - 1):\n",
    "    u.append(np.hstack([np.hstack(qcom.functions[j].coeffs[-1:])] +\n",
    "                       [np.hstack(force.functions[j].coeffs)]))\n",
    "u = np.vstack(u).T"
   ]
  },
  {
   "cell_type": "code",
   "execution_count": 9,
   "metadata": {
    "collapsed": false
   },
   "outputs": [
    {
     "name": "stdout",
     "output_type": "stream",
     "text": [
      "[ 0.  0.  0.  0.  0.  0.  0.  0.]\n",
      "[[ 2.  0. -1.  0.  0.  0.  0.  0.]\n",
      " [ 0.  2.  0. -1.  0.  0.  0.  0.]]\n"
     ]
    },
    {
     "ename": "ValueError",
     "evalue": "C must be triangular (up to permutation). Try permuting the problem to mpc_order()",
     "output_type": "error",
     "traceback": [
      "\u001b[0;31m---------------------------------------------------------------------------\u001b[0m",
      "\u001b[0;31mValueError\u001b[0m                                Traceback (most recent call last)",
      "\u001b[0;32m<ipython-input-9-bdb2fb69a34f>\u001b[0m in \u001b[0;36m<module>\u001b[0;34m()\u001b[0m\n\u001b[0;32m----> 1\u001b[0;31m \u001b[0mqp\u001b[0m \u001b[0;34m=\u001b[0m \u001b[0mmqp\u001b[0m\u001b[0;34m.\u001b[0m\u001b[0mCanonicalMPCQP\u001b[0m\u001b[0;34m.\u001b[0m\u001b[0mfrom_mathematicalprogram\u001b[0m\u001b[0;34m(\u001b[0m\u001b[0mprog\u001b[0m\u001b[0;34m,\u001b[0m \u001b[0mu\u001b[0m\u001b[0;34m,\u001b[0m \u001b[0mx\u001b[0m\u001b[0;34m)\u001b[0m\u001b[0;34m\u001b[0m\u001b[0m\n\u001b[0m",
      "\u001b[0;32m/home/rdeits/locomotion/explorations/drake-mpc/src/mpc_tools/mpcqp.py\u001b[0m in \u001b[0;36mfrom_mathematicalprogram\u001b[0;34m(prog, u, x)\u001b[0m\n\u001b[1;32m    395\u001b[0m         \u001b[0;32mprint\u001b[0m \u001b[0mqp\u001b[0m\u001b[0;34m.\u001b[0m\u001b[0mf\u001b[0m\u001b[0;34m\u001b[0m\u001b[0m\n\u001b[1;32m    396\u001b[0m         \u001b[0;32mprint\u001b[0m \u001b[0mqp\u001b[0m\u001b[0;34m.\u001b[0m\u001b[0mC\u001b[0m\u001b[0;34m\u001b[0m\u001b[0m\n\u001b[0;32m--> 397\u001b[0;31m         \u001b[0mqp\u001b[0m \u001b[0;34m=\u001b[0m \u001b[0mqp\u001b[0m\u001b[0;34m.\u001b[0m\u001b[0meliminate_equality_constrained_variables\u001b[0m\u001b[0;34m(\u001b[0m\u001b[0mpreserve\u001b[0m\u001b[0;34m)\u001b[0m\u001b[0;34m\u001b[0m\u001b[0m\n\u001b[0m\u001b[1;32m    398\u001b[0m         \u001b[0mqp\u001b[0m \u001b[0;34m=\u001b[0m \u001b[0mqp\u001b[0m\u001b[0;34m.\u001b[0m\u001b[0mtransform_goal_to_origin\u001b[0m\u001b[0;34m(\u001b[0m\u001b[0;34m)\u001b[0m\u001b[0;34m\u001b[0m\u001b[0m\n\u001b[1;32m    399\u001b[0m         \u001b[0mqp\u001b[0m \u001b[0;34m=\u001b[0m \u001b[0mqp\u001b[0m\u001b[0;34m.\u001b[0m\u001b[0meliminate_redundant_inequalities\u001b[0m\u001b[0;34m(\u001b[0m\u001b[0;34m)\u001b[0m\u001b[0;34m\u001b[0m\u001b[0m\n",
      "\u001b[0;32m/home/rdeits/locomotion/explorations/drake-mpc/src/mpc_tools/mpcqp.py\u001b[0m in \u001b[0;36meliminate_equality_constrained_variables\u001b[0;34m(self, preserve)\u001b[0m\n\u001b[1;32m    309\u001b[0m         \"\"\"\n\u001b[1;32m    310\u001b[0m \u001b[0;34m\u001b[0m\u001b[0m\n\u001b[0;32m--> 311\u001b[0;31m         \u001b[0mW\u001b[0m \u001b[0;34m=\u001b[0m \u001b[0meliminate_equality_constrained_variables\u001b[0m\u001b[0;34m(\u001b[0m\u001b[0mself\u001b[0m\u001b[0;34m.\u001b[0m\u001b[0mC\u001b[0m\u001b[0;34m,\u001b[0m \u001b[0mself\u001b[0m\u001b[0;34m.\u001b[0m\u001b[0md\u001b[0m\u001b[0;34m,\u001b[0m \u001b[0mpreserve\u001b[0m\u001b[0;34m)\u001b[0m\u001b[0;34m\u001b[0m\u001b[0m\n\u001b[0m\u001b[1;32m    312\u001b[0m         \u001b[0;31m# x = W z\u001b[0m\u001b[0;34m\u001b[0m\u001b[0;34m\u001b[0m\u001b[0m\n\u001b[1;32m    313\u001b[0m         \u001b[0mnew_program\u001b[0m \u001b[0;34m=\u001b[0m \u001b[0mself\u001b[0m\u001b[0;34m.\u001b[0m\u001b[0maffine_variable_substitution\u001b[0m\u001b[0;34m(\u001b[0m\u001b[0mW\u001b[0m\u001b[0;34m,\u001b[0m \u001b[0mnp\u001b[0m\u001b[0;34m.\u001b[0m\u001b[0mzeros\u001b[0m\u001b[0;34m(\u001b[0m\u001b[0mself\u001b[0m\u001b[0;34m.\u001b[0m\u001b[0mnum_vars\u001b[0m\u001b[0;34m)\u001b[0m\u001b[0;34m)\u001b[0m\u001b[0;34m\u001b[0m\u001b[0m\n",
      "\u001b[0;32m/home/rdeits/locomotion/explorations/drake-mpc/src/mpc_tools/mpcqp.py\u001b[0m in \u001b[0;36meliminate_equality_constrained_variables\u001b[0;34m(C, d, preserve)\u001b[0m\n\u001b[1;32m     78\u001b[0m         \u001b[0mnonzeros\u001b[0m \u001b[0;34m=\u001b[0m \u001b[0mnp\u001b[0m\u001b[0;34m.\u001b[0m\u001b[0mnonzero\u001b[0m\u001b[0;34m(\u001b[0m\u001b[0mC\u001b[0m\u001b[0;34m[\u001b[0m\u001b[0;34m:\u001b[0m\u001b[0;34m,\u001b[0m \u001b[0mj\u001b[0m\u001b[0;34m]\u001b[0m\u001b[0;34m)\u001b[0m\u001b[0;34m[\u001b[0m\u001b[0;36m0\u001b[0m\u001b[0;34m]\u001b[0m\u001b[0;34m\u001b[0m\u001b[0m\n\u001b[1;32m     79\u001b[0m         \u001b[0;32mif\u001b[0m \u001b[0mlen\u001b[0m\u001b[0;34m(\u001b[0m\u001b[0mnonzeros\u001b[0m\u001b[0;34m)\u001b[0m \u001b[0;34m!=\u001b[0m \u001b[0;36m1\u001b[0m\u001b[0;34m:\u001b[0m\u001b[0;34m\u001b[0m\u001b[0m\n\u001b[0;32m---> 80\u001b[0;31m             \u001b[0;32mraise\u001b[0m \u001b[0mValueError\u001b[0m\u001b[0;34m(\u001b[0m\u001b[0;34m\"C must be triangular (up to permutation). Try permuting the problem to mpc_order()\"\u001b[0m\u001b[0;34m)\u001b[0m\u001b[0;34m\u001b[0m\u001b[0m\n\u001b[0m\u001b[1;32m     81\u001b[0m         \u001b[0mi\u001b[0m \u001b[0;34m=\u001b[0m \u001b[0mnonzeros\u001b[0m\u001b[0;34m[\u001b[0m\u001b[0;36m0\u001b[0m\u001b[0;34m]\u001b[0m\u001b[0;34m\u001b[0m\u001b[0m\n\u001b[1;32m     82\u001b[0m         \u001b[0;32massert\u001b[0m \u001b[0md\u001b[0m\u001b[0;34m[\u001b[0m\u001b[0mi\u001b[0m\u001b[0;34m]\u001b[0m \u001b[0;34m==\u001b[0m \u001b[0;36m0\u001b[0m\u001b[0;34m,\u001b[0m \u001b[0;34m\"Right-hand side of the equality constraints must be zero\"\u001b[0m\u001b[0;34m\u001b[0m\u001b[0m\n",
      "\u001b[0;31mValueError\u001b[0m: C must be triangular (up to permutation). Try permuting the problem to mpc_order()"
     ]
    }
   ],
   "source": [
    "qp = mqp.CanonicalMPCQP.from_mathematicalprogram(prog, u, x)"
   ]
  },
  {
   "cell_type": "code",
   "execution_count": 41,
   "metadata": {
    "collapsed": false
   },
   "outputs": [
    {
     "data": {
      "text/plain": [
       "SolutionResult.kSolutionFound"
      ]
     },
     "execution_count": 41,
     "metadata": {},
     "output_type": "execute_result"
    }
   ],
   "source": [
    "    \n",
    "q0 = [0.5, 0.5]\n",
    "v0 = [0, -1]\n",
    "for i in range(dim):\n",
    "    prog.AddLinearConstraint(qcom(0)[i] == q0[i])\n",
    "    prog.AddLinearConstraint(vcom(0)[i] == v0[i])\n",
    "\n",
    "prog.Solve()"
   ]
  },
  {
   "cell_type": "code",
   "execution_count": 42,
   "metadata": {
    "collapsed": true
   },
   "outputs": [],
   "source": [
    "qcom = prog.get_piecewise_solution(qcom)\n",
    "vcom = qcom.derivative()\n",
    "acom = vcom.derivative()\n",
    "force = prog.get_piecewise_solution(force)"
   ]
  },
  {
   "cell_type": "code",
   "execution_count": 43,
   "metadata": {
    "collapsed": false
   },
   "outputs": [
    {
     "data": {
      "text/plain": [
       "[<matplotlib.lines.Line2D at 0x7fda438224d0>]"
      ]
     },
     "execution_count": 43,
     "metadata": {},
     "output_type": "execute_result"
    },
    {
     "data": {
      "image/png": "[encoded data removed]",
      "text/plain": [
       "<matplotlib.figure.Figure at 0x7fda046c5b10>"
      ]
     },
     "metadata": {},
     "output_type": "display_data"
    }
   ],
   "source": [
    "tsample = np.linspace(ts[0], ts[-1] - 0.001, 100)\n",
    "plot([qcom(t)[0] for t in tsample], [qcom(t)[1] for t in tsample], \"b.-\")"
   ]
  },
  {
   "cell_type": "code",
   "execution_count": 44,
   "metadata": {
    "collapsed": false
   },
   "outputs": [
    {
     "data": {
      "text/plain": [
       "[<matplotlib.lines.Line2D at 0x7fda3e0ae790>]"
      ]
     },
     "execution_count": 44,
     "metadata": {},
     "output_type": "execute_result"
    },
    {
     "data": {
      "image/png": "[encoded data removed]",
      "text/plain": [
       "<matplotlib.figure.Figure at 0x7fda3e04ec50>"
      ]
     },
     "metadata": {},
     "output_type": "display_data"
    }
   ],
   "source": [
    "plot([vcom(t)[0] for t in tsample], [vcom(t)[1] for t in tsample], \"b.-\")"
   ]
  },
  {
   "cell_type": "code",
   "execution_count": 45,
   "metadata": {
    "collapsed": false
   },
   "outputs": [
    {
     "data": {
      "text/plain": [
       "[<matplotlib.lines.Line2D at 0x7fda0451ec90>]"
      ]
     },
     "execution_count": 45,
     "metadata": {},
     "output_type": "execute_result"
    },
    {
     "data": {
      "image/png": "[encoded data removed]",
      "text/plain": [
       "<matplotlib.figure.Figure at 0x7fda37325d50>"
      ]
     },
     "metadata": {},
     "output_type": "display_data"
    }
   ],
   "source": [
    "plot([acom(t)[0] for t in tsample], [acom(t)[1] for t in tsample], \"b.-\")"
   ]
  },
  {
   "cell_type": "code",
   "execution_count": null,
   "metadata": {
    "collapsed": true
   },
   "outputs": [],
   "source": []
  },
  {
   "cell_type": "code",
   "execution_count": null,
   "metadata": {
    "collapsed": true
   },
   "outputs": [],
   "source": []
  }
 ],
 "metadata": {
  "kernelspec": {
   "display_name": "Python 2",
   "language": "python",
   "name": "python2"
  },
  "language_info": {
   "codemirror_mode": {
    "name": "ipython",
    "version": 2
   },
   "file_extension": ".py",
   "mimetype": "text/x-python",
   "name": "python",
   "nbconvert_exporter": "python",
   "pygments_lexer": "ipython2",
   "version": "2.7.6"
  }
 },
 "nbformat": 4,
 "nbformat_minor": 1
}
