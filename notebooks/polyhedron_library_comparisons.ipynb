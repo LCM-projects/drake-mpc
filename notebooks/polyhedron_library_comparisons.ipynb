{
 "cells": [
  {
   "cell_type": "markdown",
   "metadata": {},
   "source": [
    "# Polyhedron Library Comparisons\n",
    "\n",
    "Let's compare a few different polyhedron libraries and their python and Julia implementations. Specifically, we'd like to see if they all agree about the vertices of a particular polyhedron. "
   ]
  },
  {
   "cell_type": "code",
   "execution_count": 1,
   "metadata": {
    "collapsed": false
   },
   "outputs": [],
   "source": [
    "# Pkg.add(\"CDDLib\")\n",
    "# Pkg.add(\"ConvexHull\")\n",
    "# Pkg.add(\"QHull\")\n",
    "# Pkg.add(\"PyCall\")\n",
    "# run(`pip install pycddlib`)\n",
    "# run(`pip install pyhull`)"
   ]
  },
  {
   "cell_type": "code",
   "execution_count": 2,
   "metadata": {
    "collapsed": false
   },
   "outputs": [],
   "source": [
    "using Polyhedra\n",
    "using PyCall\n",
    "import CDDLib\n",
    "import ConvexHull\n",
    "import QHull"
   ]
  },
  {
   "cell_type": "markdown",
   "metadata": {},
   "source": [
    "Here is the description of our polyhedron, described as:\n",
    "\n",
    "$$\n",
    "\\{ x \\mid A x \\leq b \\}\n",
    "$$"
   ]
  },
  {
   "cell_type": "code",
   "execution_count": 3,
   "metadata": {
    "collapsed": false
   },
   "outputs": [],
   "source": [
    "A = [\n",
    "   9.55116190e-01 2.60905924e-01 1.22949243e-01 6.75621594e-02;\n",
    "   1.99840144e-15 4.26325641e-14 2.46469511e-14 3.19744231e-14;\n",
    "  -9.59651490e-01 2.05071779e-01  -1.91930298e-01 1.33170253e-02;\n",
    "   9.59651490e-01  -2.05071779e-01 1.91930298e-01  -1.33170253e-02;\n",
    "   9.88052600e-01  -5.06184465e-02 1.45490937e-01 4.71367055e-03;\n",
    "  -9.88052600e-01 5.06184465e-02  -1.45490937e-01  -4.71367055e-03;\n",
    "  -2.31041437e-01  -9.53299309e-01 5.12455741e-02  -1.87654399e-01;\n",
    "   2.31041437e-01 9.53299309e-01  -5.12455741e-02 1.87654399e-01;\n",
    "   9.93765086e-01  -5.05219325e-02 9.93765086e-02  -1.67291698e-03;\n",
    "  -9.10739437e-18 9.95627124e-01  -1.12758216e-16 9.34164361e-02;\n",
    "  -1.39101357e-16  -7.18266149e-01 6.94871051e-01  -3.53264860e-02;\n",
    "  -8.68205735e-17 8.82512712e-01  -1.09046640e-15 4.70288543e-01;\n",
    "  -9.93765086e-01 5.05219325e-02  -9.93765086e-02 1.67291698e-03;\n",
    "   9.10739437e-18  -9.95627124e-01 1.12758216e-16  -9.34164361e-02;\n",
    "   1.39101357e-16 7.18266149e-01  -6.94871051e-01 3.53264860e-02;\n",
    "   8.68205735e-17  -8.82512712e-01 1.09046640e-15  -4.70288543e-01;\n",
    "  -1.11022302e-16 0.00000000e+00  -3.33066907e-16  -3.05311332e-16;\n",
    "  -5.21702259e-01 8.37724120e-01  -1.04340452e-01 1.23118321e-01;\n",
    "  -9.84302468e-01 9.72873856e-02  -1.47222630e-01 3.05179109e-03;\n",
    "   9.51781915e-01 2.75237706e-01 1.16680774e-01 6.88548412e-02;\n",
    "   5.21702259e-01  -8.37724120e-01 1.04340452e-01  -1.23118321e-01;\n",
    "   9.84302468e-01  -9.72873856e-02 1.47222630e-01  -3.05179109e-03;\n",
    "  -1.88737914e-15 4.44089210e-16  -4.44089210e-16  -2.77555756e-16;\n",
    "  -4.43489353e-01 8.75100775e-01  -1.22613792e-01 1.49938937e-01;\n",
    "   9.83362018e-01  -1.05147557e-01 1.48055100e-01  -4.77709484e-03;\n",
    "  -7.20891513e-01  -6.77108732e-01  -4.32955241e-02  -1.41296458e-01;\n",
    "   4.43489353e-01  -8.75100775e-01 1.22613792e-01  -1.49938937e-01;\n",
    "  -9.83362018e-01 1.05147557e-01  -1.48055100e-01 4.77709484e-03;\n",
    "   7.36381565e-01  -6.47640205e-01 1.59986136e-01  -1.12733273e-01;\n",
    "  -9.34440936e-02 9.75368984e-01  -8.82928243e-02 1.79242640e-01;\n",
    "   4.50927337e-01  -8.67189950e-01 1.38700060e-01  -1.59400192e-01;\n",
    "   7.31068112e-01  -6.58536853e-01 1.44970655e-01  -1.04173600e-01;\n",
    "  -7.36381565e-01 6.47640205e-01  -1.59986136e-01 1.12733273e-01;\n",
    "   9.34440936e-02  -9.75368984e-01 8.82928243e-02  -1.79242640e-01;\n",
    "  -4.50927337e-01 8.67189950e-01  -1.38700060e-01 1.59400192e-01;\n",
    "  -7.31068112e-01 6.58536853e-01  -1.44970655e-01 1.04173600e-01;\n",
    "  ];\n",
    "\n",
    "b = [ -9.8327944,\n",
    "  40.,\n",
    "   9.96723402,\n",
    "  -9.77691384,\n",
    " -10.03184225,\n",
    "  10.13520694,\n",
    "   2.58153898,\n",
    "  -2.42013871,\n",
    "   9.83910803,\n",
    "   0.38130563,\n",
    "   5.58236351,\n",
    "   1.911436  ,\n",
    "  10.03619369,\n",
    "   0.56508566,\n",
    "   8.31505752,\n",
    "   3.67646142,\n",
    "  19.19099116,\n",
    "   5.46751028,\n",
    "  10.53487023,\n",
    "  -9.77601526,\n",
    "  -4.93470758,\n",
    "  -9.54211296,\n",
    "  17.11656705,\n",
    "   4.58420794,\n",
    "  -9.53345218,\n",
    "   7.47289366,\n",
    "  -4.23783232,\n",
    "  10.52264718,\n",
    "   0.99834034,\n",
    "   1.01444088,\n",
    "  -4.17636956,\n",
    "  -6.65146053,\n",
    "   7.42622548,\n",
    "  -0.66005808,\n",
    "   4.78145376,\n",
    "   7.97833638];"
   ]
  },
  {
   "cell_type": "markdown",
   "metadata": {},
   "source": [
    "## Python Libraries\n",
    "\n",
    "Let's set up python functions to retrieve the vertices using cddlib and qhull, provided by the `pycddlib` and `pyhull` packages:"
   ]
  },
  {
   "cell_type": "code",
   "execution_count": 4,
   "metadata": {
    "collapsed": false
   },
   "outputs": [],
   "source": [
    "py\"\"\"\n",
    "import numpy as np\n",
    "import cdd\n",
    "from pyhull.halfspace import Halfspace\n",
    "from pyhull.halfspace import HalfspaceIntersection\n",
    "\n",
    "def cdd_vertices(A, b, number_type=\"float\"):\n",
    "    b = b.reshape((-1, 1))\n",
    "    inequality_list = np.hstack((b, -A)).tolist()\n",
    "    inequality_matrix = cdd.Matrix(inequality_list, number_type=number_type)\n",
    "    inequality_matrix.rep_type = cdd.RepType.INEQUALITY\n",
    "    polyhedron = cdd.Polyhedron(inequality_matrix)\n",
    "    generator_matrix = polyhedron.get_generators()\n",
    "    generator_list = generator_matrix.__getitem__(slice(0, generator_matrix.row_size))\n",
    "    vertices = np.vstack([np.array(map(float, generator_list[i][1:])) for i in range(0, len(generator_list)) if generator_list[i][0] == 1])\n",
    "    return vertices\n",
    "\n",
    "def qhull_vertices(A, b):\n",
    "    b = b.reshape((-1, 1))\n",
    "    interior_point = np.array([[-9.50611132], [-0.53511235], [-4.93859559], [-0.24137556]])\n",
    "    halfspaces = []\n",
    "    for i in range(0, A.shape[0]):\n",
    "        halfspace = Halfspace(A[i,:].tolist(), (-b[i,0]).tolist())\n",
    "        halfspaces.append(halfspace)\n",
    "    polyhedron_qhull = HalfspaceIntersection(halfspaces, interior_point.flatten().tolist())\n",
    "    vertices = np.vstack(polyhedron_qhull.vertices)\n",
    "    return vertices\n",
    "\"\"\""
   ]
  },
  {
   "cell_type": "markdown",
   "metadata": {},
   "source": [
    "# Comparing Python Results\n",
    "\n",
    "cddlib in floating point mode finds only 15 vertices, while qhull finds 19. Fortunately, setting cddlib to use fractions instead of floats lets it find all 19 vertices as well. \n",
    "\n",
    "Note: we sort the rows of all of the results in order to get a consistent order for comparison later. "
   ]
  },
  {
   "cell_type": "code",
   "execution_count": 17,
   "metadata": {
    "collapsed": false
   },
   "outputs": [
    {
     "data": {
      "text/plain": [
       "15×4 Array{Float64,2}:\n",
       " -9.92349   1.01009   -1.35573  -6.68365 \n",
       " -9.92257   1.00949   -1.36506  -6.67727 \n",
       " -9.91315   0.788092  -1.55392  -5.61185 \n",
       " -9.79254  -0.698839  -3.18811   1.39908 \n",
       " -9.65913   1.12537   -2.9788   -7.91233 \n",
       " -9.65658   1.12659   -2.99479  -7.9254  \n",
       " -9.63279   1.17765   -2.98819  -8.46959 \n",
       " -9.61456   0.781321  -3.46326  -6.3322  \n",
       " -9.53791   1.23063   -3.55394  -9.03416 \n",
       " -9.45377  -0.549825  -5.26325  -0.189102\n",
       " -9.43923  -0.538001  -5.33209  -0.315119\n",
       " -9.40882  -0.477651  -5.34292  -0.958323\n",
       " -9.32823  -0.43266   -5.82344  -1.43784 \n",
       " -9.31228  -0.42672   -5.9302   -1.50115 \n",
       " -9.30588  -0.398094  -5.94406  -1.68055 "
      ]
     },
     "execution_count": 17,
     "metadata": {},
     "output_type": "execute_result"
    }
   ],
   "source": [
    "cdd_verts_float = sortrows(py\"cdd_vertices($A, $b)\")"
   ]
  },
  {
   "cell_type": "code",
   "execution_count": 6,
   "metadata": {
    "collapsed": false
   },
   "outputs": [
    {
     "data": {
      "text/plain": [
       "19×4 Array{Float64,2}:\n",
       " -9.92349   1.01009   -1.35573  -6.68365 \n",
       " -9.92257   1.00949   -1.36506  -6.67727 \n",
       " -9.92171   1.01071   -1.37327  -6.69034 \n",
       " -9.91315   0.788092  -1.55392  -5.61185 \n",
       " -9.79254  -0.698839  -3.18811   1.39908 \n",
       " -9.71596   1.12037   -2.69997  -7.85909 \n",
       " -9.65913   1.12537   -2.9788   -7.91233 \n",
       " -9.65658   1.12659   -2.99479  -7.9254  \n",
       " -9.63279   1.17765   -2.98819  -8.46959 \n",
       " -9.61456   0.781321  -3.46326  -6.3322  \n",
       " -9.53791   1.23063   -3.55394  -9.03416 \n",
       " -9.52742  -0.557541  -4.89756  -0.106859\n",
       " -9.45377  -0.549825  -5.26325  -0.189102\n",
       " -9.43923  -0.538001  -5.33209  -0.315119\n",
       " -9.40882  -0.477651  -5.34292  -0.958323\n",
       " -9.32823  -0.43266   -5.82344  -1.43784 \n",
       " -9.31616  -0.42672   -5.91084  -1.50115 \n",
       " -9.31228  -0.42672   -5.9302   -1.50115 \n",
       " -9.30588  -0.398094  -5.94406  -1.68055 "
      ]
     },
     "execution_count": 6,
     "metadata": {},
     "output_type": "execute_result"
    }
   ],
   "source": [
    "cdd_verts_exact = sortrows(py\"cdd_vertices($A, $b, 'fraction')\")"
   ]
  },
  {
   "cell_type": "code",
   "execution_count": 7,
   "metadata": {
    "collapsed": false
   },
   "outputs": [
    {
     "data": {
      "text/plain": [
       "19×4 Array{Float64,2}:\n",
       " -9.92349   1.01009   -1.35573  -6.68365 \n",
       " -9.92257   1.00949   -1.36506  -6.67727 \n",
       " -9.92171   1.01071   -1.37327  -6.69034 \n",
       " -9.91315   0.788092  -1.55392  -5.61185 \n",
       " -9.79254  -0.698839  -3.18811   1.39908 \n",
       " -9.71596   1.12037   -2.69997  -7.85909 \n",
       " -9.65913   1.12537   -2.9788   -7.91233 \n",
       " -9.65658   1.12659   -2.99479  -7.9254  \n",
       " -9.63279   1.17765   -2.98819  -8.46959 \n",
       " -9.61456   0.781321  -3.46326  -6.3322  \n",
       " -9.53791   1.23063   -3.55394  -9.03416 \n",
       " -9.52742  -0.557541  -4.89756  -0.106859\n",
       " -9.45377  -0.549825  -5.26325  -0.189102\n",
       " -9.43923  -0.538001  -5.33209  -0.315119\n",
       " -9.40882  -0.477651  -5.34292  -0.958323\n",
       " -9.32823  -0.43266   -5.82344  -1.43784 \n",
       " -9.31616  -0.42672   -5.91084  -1.50115 \n",
       " -9.31228  -0.42672   -5.9302   -1.50115 \n",
       " -9.30588  -0.398094  -5.94406  -1.68055 "
      ]
     },
     "execution_count": 7,
     "metadata": {},
     "output_type": "execute_result"
    }
   ],
   "source": [
    "qhull_verts = sortrows(py\"qhull_vertices($A, $b)\")"
   ]
  },
  {
   "cell_type": "markdown",
   "metadata": {},
   "source": [
    "The cddlib+exact results agree with the qhull results:"
   ]
  },
  {
   "cell_type": "code",
   "execution_count": 8,
   "metadata": {
    "collapsed": false
   },
   "outputs": [
    {
     "data": {
      "text/html": [
       "true"
      ],
      "text/plain": [
       "true"
      ]
     },
     "execution_count": 8,
     "metadata": {},
     "output_type": "execute_result"
    }
   ],
   "source": [
    "all(isapprox.(cdd_verts_exact, qhull_verts))"
   ]
  },
  {
   "cell_type": "markdown",
   "metadata": {},
   "source": [
    "We can also run the same computations in Julia, adding the ConvexHull.jl library as an additional choice:"
   ]
  },
  {
   "cell_type": "code",
   "execution_count": 9,
   "metadata": {
    "collapsed": false
   },
   "outputs": [
    {
     "data": {
      "text/plain": [
       "qhull_vertices (generic function with 1 method)"
      ]
     },
     "execution_count": 9,
     "metadata": {},
     "output_type": "execute_result"
    }
   ],
   "source": [
    "function cdd_vertices(A, b, number_type=:float)\n",
    "    h = SimpleHRepresentation(A, b)\n",
    "    poly = polyhedron(h, CDDLib.CDDLibrary(number_type))\n",
    "    Float64.(SimpleVRepresentation(vrep(poly)).V) \n",
    "end\n",
    "\n",
    "function convex_hull_vertices(A, b, number_type=:float)\n",
    "    h = SimpleHRepresentation(A, b)\n",
    "    poly = polyhedron(h, ConvexHull.ConvexHullLib(number_type))\n",
    "    Float64.(SimpleVRepresentation(vrep(poly)).V)\n",
    "end\n",
    "\n",
    "function qhull_vertices(A, b)\n",
    "    h = SimpleHRepresentation(A, b)\n",
    "    poly = polyhedron(h, QHull.QHullLib())\n",
    "    Float64.(SimpleVRepresentation(vrep(poly)).V)\n",
    "end"
   ]
  },
  {
   "cell_type": "markdown",
   "metadata": {},
   "source": [
    "As expected, cddlib again only finds 15 vertices in floating point mode, but recovers all 19 in exact mode:"
   ]
  },
  {
   "cell_type": "code",
   "execution_count": 10,
   "metadata": {
    "collapsed": false
   },
   "outputs": [
    {
     "data": {
      "text/plain": [
       "15×4 Array{Float64,2}:\n",
       " -9.92349   1.01009   -1.35573  -6.68365 \n",
       " -9.92257   1.00949   -1.36506  -6.67727 \n",
       " -9.91315   0.788092  -1.55392  -5.61185 \n",
       " -9.79254  -0.698839  -3.18811   1.39908 \n",
       " -9.65913   1.12537   -2.9788   -7.91233 \n",
       " -9.65658   1.12659   -2.99479  -7.9254  \n",
       " -9.63279   1.17765   -2.98819  -8.46959 \n",
       " -9.61456   0.781321  -3.46326  -6.3322  \n",
       " -9.53791   1.23063   -3.55394  -9.03416 \n",
       " -9.45377  -0.549825  -5.26325  -0.189102\n",
       " -9.43923  -0.538001  -5.33209  -0.315119\n",
       " -9.40882  -0.477651  -5.34292  -0.958323\n",
       " -9.32823  -0.43266   -5.82344  -1.43784 \n",
       " -9.31228  -0.42672   -5.9302   -1.50115 \n",
       " -9.30588  -0.398094  -5.94406  -1.68055 "
      ]
     },
     "execution_count": 10,
     "metadata": {},
     "output_type": "execute_result"
    }
   ],
   "source": [
    "cdd_verts_julia_float = sortrows(cdd_vertices(A, b, :float))"
   ]
  },
  {
   "cell_type": "code",
   "execution_count": 11,
   "metadata": {
    "collapsed": false
   },
   "outputs": [
    {
     "data": {
      "text/plain": [
       "19×4 Array{Float64,2}:\n",
       " -9.92349   1.01009   -1.35573  -6.68365 \n",
       " -9.92257   1.00949   -1.36506  -6.67727 \n",
       " -9.92171   1.01071   -1.37327  -6.69034 \n",
       " -9.91315   0.788092  -1.55392  -5.61185 \n",
       " -9.79254  -0.698839  -3.18811   1.39908 \n",
       " -9.71596   1.12037   -2.69997  -7.85909 \n",
       " -9.65913   1.12537   -2.9788   -7.91233 \n",
       " -9.65658   1.12659   -2.99479  -7.9254  \n",
       " -9.63279   1.17765   -2.98819  -8.46959 \n",
       " -9.61456   0.781321  -3.46326  -6.3322  \n",
       " -9.53791   1.23063   -3.55394  -9.03416 \n",
       " -9.52742  -0.557541  -4.89756  -0.106859\n",
       " -9.45377  -0.549825  -5.26325  -0.189102\n",
       " -9.43923  -0.538001  -5.33209  -0.315119\n",
       " -9.40882  -0.477651  -5.34292  -0.958323\n",
       " -9.32823  -0.43266   -5.82344  -1.43784 \n",
       " -9.31616  -0.42672   -5.91084  -1.50115 \n",
       " -9.31228  -0.42672   -5.9302   -1.50115 \n",
       " -9.30588  -0.398094  -5.94406  -1.68055 "
      ]
     },
     "execution_count": 11,
     "metadata": {},
     "output_type": "execute_result"
    }
   ],
   "source": [
    "cdd_verts_julia_exact = sortrows(cdd_vertices(A, b, :exact))"
   ]
  },
  {
   "cell_type": "code",
   "execution_count": 12,
   "metadata": {
    "collapsed": false
   },
   "outputs": [
    {
     "data": {
      "text/html": [
       "true"
      ],
      "text/plain": [
       "true"
      ]
     },
     "execution_count": 12,
     "metadata": {},
     "output_type": "execute_result"
    }
   ],
   "source": [
    "all(isapprox.(cdd_verts_julia_exact, qhull_verts))"
   ]
  },
  {
   "cell_type": "markdown",
   "metadata": {},
   "source": [
    "The pure-Julia ConvexHull.jl library is slower, but also finds all 19 vertices in exact mode:"
   ]
  },
  {
   "cell_type": "code",
   "execution_count": 13,
   "metadata": {
    "collapsed": false
   },
   "outputs": [
    {
     "data": {
      "text/plain": [
       "19×4 Array{Float64,2}:\n",
       " -9.92349   1.01009   -1.35573  -6.68365 \n",
       " -9.92257   1.00949   -1.36506  -6.67727 \n",
       " -9.92171   1.01071   -1.37327  -6.69034 \n",
       " -9.91315   0.788092  -1.55392  -5.61185 \n",
       " -9.79254  -0.698839  -3.18811   1.39908 \n",
       " -9.71596   1.12037   -2.69997  -7.85909 \n",
       " -9.65913   1.12537   -2.9788   -7.91233 \n",
       " -9.65658   1.12659   -2.99479  -7.9254  \n",
       " -9.63279   1.17765   -2.98819  -8.46959 \n",
       " -9.61456   0.781321  -3.46326  -6.3322  \n",
       " -9.53791   1.23063   -3.55394  -9.03416 \n",
       " -9.52742  -0.557541  -4.89756  -0.106859\n",
       " -9.45377  -0.549825  -5.26325  -0.189102\n",
       " -9.43923  -0.538001  -5.33209  -0.315119\n",
       " -9.40882  -0.477651  -5.34292  -0.958323\n",
       " -9.32823  -0.43266   -5.82344  -1.43784 \n",
       " -9.31616  -0.42672   -5.91084  -1.50115 \n",
       " -9.31228  -0.42672   -5.9302   -1.50115 \n",
       " -9.30588  -0.398094  -5.94406  -1.68055 "
      ]
     },
     "execution_count": 13,
     "metadata": {},
     "output_type": "execute_result"
    }
   ],
   "source": [
    "convex_hull_verts_julia_exact = sortrows(convex_hull_vertices(A, b, :exact))"
   ]
  },
  {
   "cell_type": "code",
   "execution_count": 14,
   "metadata": {
    "collapsed": false
   },
   "outputs": [
    {
     "data": {
      "text/html": [
       "true"
      ],
      "text/plain": [
       "true"
      ]
     },
     "execution_count": 14,
     "metadata": {},
     "output_type": "execute_result"
    }
   ],
   "source": [
    "all(isapprox.(convex_hull_verts_julia_exact, qhull_verts))"
   ]
  },
  {
   "cell_type": "markdown",
   "metadata": {},
   "source": [
    "...although it seems to have issues in floating point mode:"
   ]
  },
  {
   "cell_type": "code",
   "execution_count": 15,
   "metadata": {
    "collapsed": false
   },
   "outputs": [
    {
     "data": {
      "text/plain": [
       "0×4 Array{Float64,2}"
      ]
     },
     "execution_count": 15,
     "metadata": {},
     "output_type": "execute_result"
    }
   ],
   "source": [
    "convex_hull_verts_julia_exact = sortrows(convex_hull_vertices(A, b, :float))"
   ]
  },
  {
   "cell_type": "markdown",
   "metadata": {},
   "source": [
    "There are also issues with this particular interface to qhull. It appears to expect that the polyhedra contains the origin (which makes some sense, since we have to provide an interior point to qhull anyway):"
   ]
  },
  {
   "cell_type": "code",
   "execution_count": 16,
   "metadata": {
    "collapsed": false
   },
   "outputs": [
    {
     "ename": "LoadError",
     "evalue": "The origin should be in the interior of the polytope but the 1th inequality is not safisfied at the origin.",
     "output_type": "error",
     "traceback": [
      "The origin should be in the interior of the polytope but the 1th inequality is not safisfied at the origin.",
      "",
      " in qhull(::Polyhedra.SimpleHRepresentation{4,Float64}) at /home/rdeits/.julia/v0.5/QHull/src/polyhedron.jl:93",
      " in qhull(::QHull.QHullPolyhedron{4}, ::Symbol) at /home/rdeits/.julia/v0.5/QHull/src/polyhedron.jl:53",
      " in getext(::QHull.QHullPolyhedron{4}) at /home/rdeits/.julia/v0.5/QHull/src/polyhedron.jl:153",
      " in qhull_vertices(::Array{Float64,2}, ::Array{Float64,1}) at ./In[9]:16"
     ]
    }
   ],
   "source": [
    "qhull_verts_julia = sortrows(qhull_vertices(A, b))"
   ]
  }
 ],
 "metadata": {
  "kernelspec": {
   "display_name": "Julia 0.5.1",
   "language": "julia",
   "name": "julia-0.5"
  },
  "language_info": {
   "file_extension": ".jl",
   "mimetype": "application/julia",
   "name": "julia",
   "version": "0.5.1"
  }
 },
 "nbformat": 4,
 "nbformat_minor": 1
}
