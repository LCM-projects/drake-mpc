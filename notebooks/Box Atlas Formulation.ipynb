{
 "cells": [
  {
   "cell_type": "markdown",
   "metadata": {},
   "source": [
    "# Box Atlas Formulation\n",
    "\n",
    "The box atlas cosists of a point mass body and four massless limbs. All motion is restricted to the frontal plane, and rotation is constrained to be zero. Angular momentum and torque are neglected. \n",
    "\n",
    "We control the robot by solving an MPC problem over N time steps. \n",
    "\n",
    "The states of the system consist of the position and velocity of the center of mass and the position of each limb, at each time step:\n",
    "\n",
    "\\begin{align}\n",
    "q^0_i \\in \\mathcal{R}^2 \\quad \\forall &i \\in [1, \\dots, N]\\\\\n",
    "v^0_i \\in \\mathcal{R}^2 \\quad \\forall &i \\in [1, \\dots, N]\\\\\n",
    "q^j_i \\in \\mathcal{R}^2 \\quad \\forall &i \\in [1, \\dots, N],\\  j \\in [1, \\dots, 4]\n",
    "\\end{align}\n",
    "\n",
    "The inputs to the system are the velocity of each limb and the contact force exerted by each limb:\n",
    "\n",
    "\\begin{align}\n",
    "v^j_i \\in \\mathcal{R}^2 \\quad \\forall &i \\in [1, \\dots, N],\\ j \\in [1, \\dots, 4]\\\\\n",
    "f^j_i \\in \\mathcal{R}^2 \\quad \\forall &i \\in [1, \\dots, N],\\ j \\in [1, \\dots, 4]\n",
    "\\end{align}\n",
    "\n",
    "Internally, rather than storing $q$ and $v$ as decision variables, we instead represent the trajectory of the center of mass as a piecewise quadratic polynomial:\n",
    "\n",
    "\\begin{align}\n",
    "q^0(t) = c_{i, 0}^0 + c_{i, 1}^0 t + c_{i, 2}^0 t^2 \\quad t \\in [t_i, t_{i + 1}]\n",
    "\\end{align}\n",
    "\n",
    "where $c_k \\in \\mathcal{R}^2$ are the new decision variables corresponding to the coefficients of that polynomial. Likewise, we replace the position and velocity of the limbs with piecewise degree-1 polynomials:\n",
    "\n",
    "\\begin{align}\n",
    "q^j(t) = c_{i, 0}^j + c_{i, 1}^j t \\quad t \\in [t_i, t_{i + 1}]\n",
    "\\end{align}\n",
    "\n",
    "The box Atlas lives in a box world with a floor and two walls. Each limb has a pre-determined surface with which it may make contact (the feet contact the floor, and each hand contacts its respective wall). We add one additional binary variable per limb per time step to indicate whether the assigned contact is active:\n",
    "\n",
    "\\begin{align}\n",
    "z^j_i \\in \\{0, 1\\} \\quad \\forall &i \\in [1, \\dots, N],\\ j \\in [1, \\dots, 4]\n",
    "\\end{align}"
   ]
  }
 ],
 "metadata": {
  "kernelspec": {
   "display_name": "Python 2",
   "language": "python",
   "name": "python2"
  },
  "language_info": {
   "codemirror_mode": {
    "name": "ipython",
    "version": 2
   },
   "file_extension": ".py",
   "mimetype": "text/x-python",
   "name": "python",
   "nbconvert_exporter": "python",
   "pygments_lexer": "ipython2",
   "version": "2.7.11"
  }
 },
 "nbformat": 4,
 "nbformat_minor": 2
}
