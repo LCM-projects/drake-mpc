{
 "cells": [
  {
   "cell_type": "code",
   "execution_count": 1,
   "metadata": {
    "collapsed": true
   },
   "outputs": [],
   "source": [
    "from __future__ import absolute_import, division, print_function"
   ]
  },
  {
   "cell_type": "code",
   "execution_count": 10,
   "metadata": {
    "collapsed": false
   },
   "outputs": [
    {
     "name": "stdout",
     "output_type": "stream",
     "text": [
      "Populating the interactive namespace from numpy and matplotlib\n"
     ]
    }
   ],
   "source": [
    "%pylab inline"
   ]
  },
  {
   "cell_type": "code",
   "execution_count": 11,
   "metadata": {
    "collapsed": true
   },
   "outputs": [],
   "source": [
    "import pydrake.solvers.mathematicalprogram as mp\n",
    "from irispy import Polyhedron\n",
    "import numpy as np\n",
    "from collections import namedtuple\n",
    "# from ipywidgets import interact, interactive, fixed\n",
    "# import ipywidgets as widgets\n",
    "import time"
   ]
  },
  {
   "cell_type": "code",
   "execution_count": 12,
   "metadata": {
    "collapsed": false
   },
   "outputs": [],
   "source": [
    "class BoxAtlas(object):\n",
    "    dim = 2\n",
    "    g = 9.81\n",
    "    mass = 10\n",
    "    \n",
    "    limb_bounds = [\n",
    "        Polyhedron.fromBounds([0.5, -0.5], [1.0, 0.5]),    # right arm\n",
    "        Polyhedron.fromBounds([0.0, -1.0], [0.5, -0.5]),   # right leg\n",
    "        Polyhedron.fromBounds([-0.5, -1.0], [0.0, -0.5]),  # left leg\n",
    "        Polyhedron.fromBounds([-1.0, -0.5], [-0.5, 0.5])  # left arm\n",
    "    ]\n",
    "    \n",
    "    def __init__(self):\n",
    "        pass\n",
    "\n",
    "    \n",
    "class BoxAtlasState(object):\n",
    "    def __init__(self, robot, qcom=None, vcom=None, qlimb=None, vlimb=None):\n",
    "        self.robot = robot\n",
    "        if qcom is None:\n",
    "            qcom = np.zeros(robot.dim)\n",
    "        if vcom is None:\n",
    "            vcom = np.zeros(robot.dim)\n",
    "        if qlimb is None:\n",
    "            qlimb = [np.zeros(robot.dim) for _ in robot.limb_bounds]\n",
    "        if vlimb is None:\n",
    "            vlimb = [np.zeros(robot.dim) for _ in robot.limb_bounds]\n",
    "        \n",
    "        self.qcom = qcom\n",
    "        self.vcom = vcom\n",
    "        self.qlimb = qlimb\n",
    "        self.vlimb = vlimb\n",
    "        \n",
    "    def plot(self, ax):\n",
    "        ax.plot(self.qcom[0], self.qcom[1], \"bo\")\n",
    "        ax.quiver(self.qcom[0], self.qcom[1], self.vcom[0], self.vcom[1], scale=100)\n",
    "        for k in range(len(self.qlimb)):\n",
    "            ax.plot([self.qcom[0], self.qlimb[k][0]], [self.qcom[1], self.qlimb[k][1]], 'r-')\n",
    "\n",
    "        \n",
    "class BoxAtlasInput(object):\n",
    "    def __init__(self, robot, flimb=None):\n",
    "        self.robot = robot\n",
    "        if flimb is None:\n",
    "            flimb = [np.zeros(robot.dim) for _ in robot.limb_bounds]\n",
    "        self.flimb = flimb\n",
    "\n",
    "        \n",
    "Surface = namedtuple(\"Surface\", [\"pose_constraints\", \"force_constraints\"])\n",
    "        \n",
    "        \n",
    "class Environment(object):\n",
    "    def __init__(self, surfaces):\n",
    "        self.surfaces = surfaces\n",
    "        \n"
   ]
  },
  {
   "cell_type": "code",
   "execution_count": 42,
   "metadata": {
    "collapsed": true
   },
   "outputs": [],
   "source": [
    "def contact_stabilize(initial_state, env):\n",
    "    robot = initial_state.robot\n",
    "    prog = mp.MathematicalProgram()\n",
    "    dt = 0.01\n",
    "    horizon = 10\n",
    "    dim = robot.dim\n",
    "    fgravity = np.zeros(dim)\n",
    "    fgravity[-1] = -robot.mass * robot.g\n",
    "    num_limbs = len(robot.limb_bounds)\n",
    "    num_surfaces = len(env.surfaces)\n",
    "    Mf = 1000\n",
    "    Mq = 10\n",
    "\n",
    "\n",
    "    qcom = prog.NewContinuousVariables(dim, horizon)\n",
    "    vcom = prog.NewContinuousVariables(dim, horizon)\n",
    "\n",
    "    qlimb = [prog.NewContinuousVariables(dim, horizon) for i in range(num_limbs)]\n",
    "    vlimb = [prog.NewContinuousVariables(dim, horizon) for i in range(num_limbs)]\n",
    "    flimb = [prog.NewContinuousVariables(dim, horizon) for i in range(num_limbs)]\n",
    "    zlimb = [prog.NewBinaryVariables(num_surfaces, horizon) for i in range(num_limbs)]\n",
    "\n",
    "    # Midpoint integration\n",
    "    for j in range(horizon - 1):\n",
    "        for i in range(dim):\n",
    "            prog.AddLinearConstraint(qcom[i, j + 1] == qcom[i, j] + 0.5 * vcom[i, j] * dt + 0.5 * vcom[i, j + 1] * dt)\n",
    "            for k in range(num_limbs):\n",
    "                prog.AddLinearConstraint(qlimb[k][i, j + 1] == qlimb[k][i, j] + 0.5 * vlimb[k][i, j] * dt + 0.5 * vlimb[k][i, j + 1] * dt)\n",
    "\n",
    "\n",
    "    # Dynamics\n",
    "    for j in range(horizon - 1):\n",
    "        # pre-multiply each element by 0.5 to work around \n",
    "        # https://github.com/RobotLocomotion/drake/issues/5086\n",
    "        f0 = sum(0.5 * f[:, j] for f in flimb)\n",
    "        f1 = sum(0.5 * f[:, j + 1] for f in flimb)\n",
    "        for i in range(dim):\n",
    "            prog.AddLinearConstraint(vcom[i, j + 1] == vcom[i, j] + f0[i] + f1[i] + fgravity[i])\n",
    "\n",
    "    # Contact constraints\n",
    "    for k in range(num_limbs):\n",
    "        for j in range(horizon):\n",
    "            prog.AddLinearConstraint(np.sum(zlimb[k][:, j]) == 1)\n",
    "            for s in range(num_surfaces):\n",
    "                indicator = zlimb[k][s, j]\n",
    "                A = surfaces[s].pose_constraints.getA()\n",
    "                b = surfaces[s].pose_constraints.getB()\n",
    "                for i in range(A.shape[0]):\n",
    "                    prog.AddLinearConstraint(A[i, :].dot(qlimb[k][:, j]) <= b[i] + Mq - Mq * indicator)\n",
    "\n",
    "                Af = surfaces[s].force_constraints.getA()\n",
    "                bf = surfaces[s].force_constraints.getB()\n",
    "                for i in range(Af.shape[0]):\n",
    "                    prog.AddLinearConstraint(Af[i, :].dot(flimb[k][:, j]) <= bf[i] + Mf - Mf * indicator)\n",
    "                    \n",
    "    # Kinematics\n",
    "    for k in range(num_limbs):\n",
    "        A = robot.limb_bounds[k].getA()\n",
    "        b = robot.limb_bounds[k].getB()\n",
    "        for j in range(horizon):\n",
    "            for i in range(A.shape[0]):\n",
    "                prog.AddLinearConstraint(A[i, :].dot(qlimb[k][:, j]) - A[i, :].dot(qcom[:, j]) <= b[i])\n",
    "            \n",
    "\n",
    "    # Initial conditions\n",
    "    for i in range(dim):\n",
    "        prog.AddLinearConstraint(qcom[i, 0] == initial_state.qcom[i])\n",
    "        prog.AddLinearConstraint(vcom[i, 0] == initial_state.vcom[i])\n",
    "        for k in range(num_limbs):\n",
    "            prog.AddLinearConstraint(qlimb[k][i, 0] == initial_state.qlimb[k][i])\n",
    "            prog.AddLinearConstraint(vlimb[k][i, 0] == initial_state.vlimb[k][i])\n",
    "\n",
    "\n",
    "    # Objectives\n",
    "    all_force_vars = np.hstack([f.flatten() for f in flimb])\n",
    "    Qf = 0.001\n",
    "    prog.AddQuadraticCost(Qf * np.eye(len(all_force_vars)), np.zeros(len(all_force_vars)), all_force_vars)\n",
    "\n",
    "    Qq = 10\n",
    "    prog.AddQuadraticCost(Qq * np.eye(dim), np.zeros(dim), qcom[:,-1].flatten())\n",
    "\n",
    "    Qv = 1\n",
    "    prog.AddQuadraticCost(Qv * np.eye(dim), np.zeros(dim), vcom[:,-1].flatten())\n",
    "    \n",
    "    status = prog.Solve()\n",
    "    print(status)\n",
    "    \n",
    "    qcom = prog.GetSolution(qcom)\n",
    "    vcom = prog.GetSolution(vcom)\n",
    "    qlimb = [prog.GetSolution(qlimb[k]) for k in range(num_limbs)]\n",
    "    vlimb = [prog.GetSolution(vlimb[k]) for k in range(num_limbs)]\n",
    "    flimb = [prog.GetSolution(flimb[k]) for k in range(num_limbs)]\n",
    "    zlimb = [prog.GetSolution(zlimb[k]) for k in range(num_limbs)]\n",
    "    \n",
    "    states = [\n",
    "        BoxAtlasState(robot, \n",
    "                      qcom=qcom[:, j],\n",
    "                      vcom=vcom[:, j],\n",
    "                      qlimb=[qlimb[k][:, j] for k in range(num_limbs)],\n",
    "                      vlimb=[vlimb[k][:, j] for k in range(num_limbs)]) for j in range(horizon)\n",
    "    ]\n",
    "    inputs = [\n",
    "        BoxAtlasInput(robot,\n",
    "                      flimb=[flimb[k][:, j] for k in range(num_limbs)]) for j in range(horizon)\n",
    "    ]\n",
    "    return states, inputs, zlimb\n"
   ]
  },
  {
   "cell_type": "code",
   "execution_count": 43,
   "metadata": {
    "collapsed": false
   },
   "outputs": [
    {
     "name": "stdout",
     "output_type": "stream",
     "text": [
      "SolutionResult.kSolutionFound\n"
     ]
    }
   ],
   "source": [
    "surfaces = [\n",
    "    Surface(Polyhedron.fromBounds([-1, -1], [1, -1]), \n",
    "            Polyhedron(np.array([[-1, -1], [1, -1]]), np.array([0, 0]))),\n",
    "    Surface(Polyhedron.fromBounds([1, -1], [1, 1]),\n",
    "            Polyhedron(np.array([[1, -1], [1, 1]]), np.array([0, 0]))),\n",
    "    Surface(Polyhedron.fromBounds([-1, -1], [1, 1]),\n",
    "            Polyhedron.fromBounds([0, 0], [0, 0]))\n",
    "]\n",
    "\n",
    "env = Environment(surfaces)\n",
    "atlas = BoxAtlas()\n",
    "initial_state = BoxAtlasState(atlas)\n",
    "initial_state.qcom = np.array([0, 0])\n",
    "initial_state.vcom = np.array([10.0, 0])\n",
    "initial_state.qlimb = map(np.array, [[0.75, 0], [0.25, -0.75], [-0.25, -0.75], [-0.75, 0]])\n",
    "initial_state.vlimb = map(np.array, [[0, 0], [0, 0], [0, 0], [0, 0]])\n",
    "\n",
    "states, inputs, zlimb = contact_stabilize(initial_state, env)"
   ]
  },
  {
   "cell_type": "code",
   "execution_count": 44,
   "metadata": {
    "collapsed": false
   },
   "outputs": [
    {
     "data": {
      "text/plain": [
       "[None, None, None, None, None, None, None, None, None, None]"
      ]
     },
     "execution_count": 44,
     "metadata": {},
     "output_type": "execute_result"
    },
    {
     "data": {
      "image/png": "[encoded data removed]",
      "text/plain": [
       "<matplotlib.figure.Figure at 0x7f42281c5550>"
      ]
     },
     "metadata": {},
     "output_type": "display_data"
    }
   ],
   "source": [
    "fig = figure()\n",
    "ax = fig.add_subplot(1,1,1)\n",
    "\n",
    "        \n",
    "def drawstate(i):\n",
    "    states[i].plot(ax)\n",
    "\n",
    "[drawstate(i) for i in range(len(states))]"
   ]
  },
  {
   "cell_type": "code",
   "execution_count": null,
   "metadata": {
    "collapsed": true
   },
   "outputs": [],
   "source": []
  },
  {
   "cell_type": "code",
   "execution_count": null,
   "metadata": {
    "collapsed": true
   },
   "outputs": [],
   "source": []
  }
 ],
 "metadata": {
  "kernelspec": {
   "display_name": "Python 2",
   "language": "python",
   "name": "python2"
  },
  "language_info": {
   "codemirror_mode": {
    "name": "ipython",
    "version": 2
   },
   "file_extension": ".py",
   "mimetype": "text/x-python",
   "name": "python",
   "nbconvert_exporter": "python",
   "pygments_lexer": "ipython2",
   "version": "2.7.6"
  }
 },
 "nbformat": 4,
 "nbformat_minor": 1
}
